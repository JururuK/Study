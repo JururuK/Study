{
 "cells": [
  {
   "cell_type": "code",
   "execution_count": 45,
   "id": "6354fb18-07ec-41a5-a4f5-bb7fe2e89050",
   "metadata": {},
   "outputs": [
    {
     "name": "stdout",
     "output_type": "stream",
     "text": [
      "[19]\n"
     ]
    }
   ],
   "source": [
    "N = 19\n",
    "prime = []\n",
    "count = 0\n",
    "for i in range(2,(N//2)+1) :\n",
    "    if N % i == 0 :\n",
    "        count += 1\n",
    "\n",
    "if count == 0 :\n",
    "    prime.append(N)\n",
    "    \n",
    "\n",
    "        \n",
    "print(prime)"
   ]
  },
  {
   "cell_type": "code",
   "execution_count": 119,
   "id": "01e8c23d-86bd-4d58-b5e7-6ff46c030b72",
   "metadata": {},
   "outputs": [
    {
     "name": "stdin",
     "output_type": "stream",
     "text": [
      " 3 16\n"
     ]
    },
    {
     "name": "stdout",
     "output_type": "stream",
     "text": [
      "3\n",
      "5\n",
      "7\n",
      "11\n",
      "13\n"
     ]
    }
   ],
   "source": [
    "def prime(num) :\n",
    "    if num == 1 :\n",
    "        return False\n",
    "    else :\n",
    "        for i in range(2, int(num**(1/2))+1) :\n",
    "            if num % i == 0 :\n",
    "                return False\n",
    "        return True\n",
    "\n",
    "M,N = map(int,input().split())\n",
    "\n",
    "for i in range(M,N+1):\n",
    "    if prime(i) == True :\n",
    "        print(i)"
   ]
  },
  {
   "cell_type": "code",
   "execution_count": null,
   "id": "3bc5f6db-b41e-4078-b85f-fd4d97a70240",
   "metadata": {},
   "outputs": [],
   "source": [
    "def isPrime(num):\n",
    "    if num==1:\n",
    "        return False\n",
    "    else:\n",
    "        for i in range(2, int(num**0.5)+1):\n",
    "            if num%i == 0:\n",
    "                return False\n",
    "        return True\n",
    "\n",
    "M, N = map(int, input().split())\n",
    "\n",
    "for i in range(M, N+1):\n",
    "    if isPrime(i):\n",
    "        print(i)"
   ]
  },
  {
   "cell_type": "code",
   "execution_count": 12,
   "id": "98ad7c06-01d3-47b2-9f80-4018b5e404d1",
   "metadata": {},
   "outputs": [
    {
     "data": {
      "text/plain": [
       "6"
      ]
     },
     "execution_count": 12,
     "metadata": {},
     "output_type": "execute_result"
    }
   ],
   "source": [
    "a = [1,2,3]\n",
    "sum(a)"
   ]
  },
  {
   "cell_type": "code",
   "execution_count": 6,
   "id": "8d26d3ea-2c70-4793-978f-e6ac94d12af3",
   "metadata": {},
   "outputs": [
    {
     "name": "stdout",
     "output_type": "stream",
     "text": [
      "3\n"
     ]
    }
   ],
   "source": [
    "count = 0\n",
    "for i in range(2,6):\n",
    "    if 20 % i == 0 :\n",
    "        count += 1\n",
    "print(count)"
   ]
  },
  {
   "cell_type": "code",
   "execution_count": 68,
   "id": "030c15eb-1bd5-40bd-a3bd-973743ee0ebf",
   "metadata": {},
   "outputs": [
    {
     "name": "stdin",
     "output_type": "stream",
     "text": [
      " 2\n"
     ]
    },
    {
     "name": "stdout",
     "output_type": "stream",
     "text": [
      "2\n"
     ]
    }
   ],
   "source": [
    "N = int(input())\n",
    "prime = []\n",
    "no = 0\n",
    "x = 2\n",
    "\n",
    "while x < (N//2)+1 :\n",
    "    for i in range(2,(x//2)+1):\n",
    "        if x % i == 0 :\n",
    "            no += 1\n",
    "    if no == 0 :\n",
    "        prime.append(x)\n",
    "    no = 0    \n",
    "    x += 1\n",
    "if len(prime) == 0 :\n",
    "    prime.append(N)\n",
    "p_list = []\n",
    "for i in prime :\n",
    "    while True :\n",
    "        y = N % i\n",
    "        if y == 0 :\n",
    "            p_list.append(i)\n",
    "            N = N // i\n",
    "        else :\n",
    "            break\n",
    "            \n",
    "\n",
    "else :\n",
    "    for num in p_list :\n",
    "        print(num)"
   ]
  },
  {
   "cell_type": "code",
   "execution_count": null,
   "id": "e8136ed8-c13b-43b9-a3d6-0370689fedba",
   "metadata": {},
   "outputs": [],
   "source": [
    "N = int(input())\n",
    "prime = []\n",
    "no = 0\n",
    "x = 2\n",
    "\n",
    "while x < (N//2)+1 :\n",
    "    for i in range(2,(x//2)+1):\n",
    "        if x % i == 0 :\n",
    "            no += 1\n",
    "    if no == 0 :\n",
    "        prime.append(x)\n",
    "    no = 0    \n",
    "    x += 1\n",
    "if len(prime) == 0 :\n",
    "    prime.append(N)\n",
    "p_list = []\n",
    "for i in prime :\n",
    "    if N ** (1/n) :\n",
    "            p_list.append(i)\n",
    "            N = N // i\n",
    "    else :\n",
    "            break\n",
    "            \n",
    "\n",
    "else :\n",
    "    for num in p_list :\n",
    "        print(num)"
   ]
  },
  {
   "cell_type": "code",
   "execution_count": 84,
   "id": "25d53526-eb0a-4b14-8269-a88a4fbdb942",
   "metadata": {},
   "outputs": [
    {
     "name": "stdin",
     "output_type": "stream",
     "text": [
      " 10\n"
     ]
    },
    {
     "name": "stdout",
     "output_type": "stream",
     "text": [
      "2\n",
      "5\n"
     ]
    }
   ],
   "source": [
    "x = int(input())\n",
    "a = 2\n",
    "while a < x+1:\n",
    "    if x % a == 0:\n",
    "        print(a)\n",
    "        x = x//a\n",
    "        continue\n",
    "    if x % a != 0:\n",
    "        a += 1\n",
    "    if x == 1:\n",
    "        break"
   ]
  },
  {
   "cell_type": "code",
   "execution_count": 99,
   "id": "527c81e6-b4cc-43ff-9bd3-c2c14022acd0",
   "metadata": {},
   "outputs": [
    {
     "name": "stdin",
     "output_type": "stream",
     "text": [
      " 3\n",
      " 16\n"
     ]
    },
    {
     "name": "stdout",
     "output_type": "stream",
     "text": [
      "[3, 4, 5, 6, 7, 8, 9, 10, 11, 12, 13, 14, 15, 16]\n",
      "3\n",
      "5\n",
      "7\n",
      "11\n",
      "13\n"
     ]
    }
   ],
   "source": [
    "M = int(input())\n",
    "N = int(input())\n",
    "prime = []\n",
    "no = 0\n",
    "num_list = [i for i in range(M,N+1)]\n",
    "print(num_list)\n",
    "while M <= N :\n",
    "    for i in range(2,(M//2)+1):\n",
    "        if M % i == 0 :\n",
    "            no += 1\n",
    "    if no == 0 :\n",
    "        prime.append(M)\n",
    "    no = 0    \n",
    "    M += 1\n",
    "if len(prime) == 0 :\n",
    "    prime.append(N)\n",
    "for num in prime :\n",
    "    print(num)"
   ]
  },
  {
   "cell_type": "code",
   "execution_count": null,
   "id": "f37522e1-de83-4b9c-9062-16764000f21b",
   "metadata": {},
   "outputs": [],
   "source": []
  }
 ],
 "metadata": {
  "kernelspec": {
   "display_name": "Python 3",
   "language": "python",
   "name": "python3"
  },
  "language_info": {
   "codemirror_mode": {
    "name": "ipython",
    "version": 3
   },
   "file_extension": ".py",
   "mimetype": "text/x-python",
   "name": "python",
   "nbconvert_exporter": "python",
   "pygments_lexer": "ipython3",
   "version": "3.8.8"
  }
 },
 "nbformat": 4,
 "nbformat_minor": 5
}
