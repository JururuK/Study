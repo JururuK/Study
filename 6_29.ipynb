{
 "cells": [
  {
   "cell_type": "code",
   "execution_count": 5,
   "id": "0c1c7b12-3c17-42d1-b90a-a1e2f6ee833a",
   "metadata": {},
   "outputs": [
    {
     "name": "stdout",
     "output_type": "stream",
     "text": [
      "김준형님 직업은 AI입니다.\n",
      "{'optional': '???', 'na': 'Bi'}\n",
      "<class 'dict'>\n"
     ]
    }
   ],
   "source": [
    "def my(name,job,**kwargs):\n",
    "    print(\"{}님 직업은 {}입니다.\".format(name,job))\n",
    "    print(kwargs)\n",
    "    print(type(kwargs))\n",
    "my(name=\"김준형\",job='AI',optional = \"???\",na=\"Bi\")"
   ]
  },
  {
   "cell_type": "code",
   "execution_count": 8,
   "id": "aaddc0de-060c-43ed-ac20-157bf0c6d9af",
   "metadata": {},
   "outputs": [
    {
     "name": "stdin",
     "output_type": "stream",
     "text": [
      "n으로 나누었을때 나머지와 몫이 같은 수의 합 :  3\n"
     ]
    },
    {
     "name": "stdout",
     "output_type": "stream",
     "text": [
      "12\n"
     ]
    }
   ],
   "source": [
    "n = int(input(\"n으로 나누었을때 나머지와 몫이 같은 수의 합 : \"))\n",
    "N = int((1/2)*n*(n-1)*(n+1))\n",
    "print(N)"
   ]
  },
  {
   "cell_type": "code",
   "execution_count": 1,
   "id": "c10fd0fa-6959-460a-8669-312663bc13ec",
   "metadata": {},
   "outputs": [
    {
     "name": "stdin",
     "output_type": "stream",
     "text": [
      " 3\n"
     ]
    },
    {
     "name": "stdout",
     "output_type": "stream",
     "text": [
      "3 * 1 = 3\n",
      "3 * 2 = 6\n",
      "3 * 3 = 9\n",
      "3 * 4 = 12\n",
      "3 * 5 = 15\n",
      "3 * 6 = 18\n",
      "3 * 7 = 21\n",
      "3 * 8 = 24\n",
      "3 * 9 = 27\n"
     ]
    }
   ],
   "source": [
    "N = int(input())\n",
    "\n",
    "for i in range(1,10):\n",
    "    print(\"{0} * {1} =\".format(N,i),N*i)"
   ]
  },
  {
   "cell_type": "code",
   "execution_count": 2,
   "id": "3e8874aa-acb8-4701-85d3-871f1c5304b4",
   "metadata": {},
   "outputs": [
    {
     "name": "stdin",
     "output_type": "stream",
     "text": [
      " 3\n",
      " 1 2 \n"
     ]
    },
    {
     "name": "stdout",
     "output_type": "stream",
     "text": [
      "3\n"
     ]
    },
    {
     "name": "stdin",
     "output_type": "stream",
     "text": [
      " 3 3\n"
     ]
    },
    {
     "name": "stdout",
     "output_type": "stream",
     "text": [
      "6\n"
     ]
    },
    {
     "name": "stdin",
     "output_type": "stream",
     "text": [
      " 4 5\n"
     ]
    },
    {
     "name": "stdout",
     "output_type": "stream",
     "text": [
      "9\n"
     ]
    }
   ],
   "source": [
    "N = int(input())\n",
    "\n",
    "for i in range(N):\n",
    "    x,y = map(int,input().split())\n",
    "    print(x+y)\n"
   ]
  },
  {
   "cell_type": "code",
   "execution_count": 11,
   "id": "1194270b-321b-46fa-94d5-c7f9a1d74869",
   "metadata": {},
   "outputs": [
    {
     "name": "stdin",
     "output_type": "stream",
     "text": [
      " 5\n"
     ]
    },
    {
     "name": "stdout",
     "output_type": "stream",
     "text": [
      "15\n"
     ]
    }
   ],
   "source": [
    "n = int(input())\n",
    "sum = 0\n",
    "for i in range(n+1):\n",
    "    sum += i\n",
    "    \n",
    "print(sum)"
   ]
  },
  {
   "cell_type": "code",
   "execution_count": 15,
   "id": "3d6e358d-6d0e-469b-a4f0-69bbf0ad8d1c",
   "metadata": {},
   "outputs": [
    {
     "name": "stdin",
     "output_type": "stream",
     "text": [
      " 5\n"
     ]
    },
    {
     "name": "stdout",
     "output_type": "stream",
     "text": [
      "5\n",
      "4\n",
      "3\n",
      "2\n",
      "1\n"
     ]
    }
   ],
   "source": [
    "n = int(input())\n",
    "for i in range(n,0,-1):\n",
    "    print(i)"
   ]
  },
  {
   "cell_type": "code",
   "execution_count": 1,
   "id": "fbf4b8f9-38c6-41e6-a3a4-57389f8912c4",
   "metadata": {},
   "outputs": [],
   "source": [
    "import csv"
   ]
  },
  {
   "cell_type": "code",
   "execution_count": 2,
   "id": "66cea04a-b52d-4b03-901b-f57a9a1af573",
   "metadata": {},
   "outputs": [],
   "source": [
    "import pandas as pd"
   ]
  },
  {
   "cell_type": "code",
   "execution_count": 49,
   "id": "dbf3e471-3bd0-48cc-969a-dcb8deb5b2fc",
   "metadata": {},
   "outputs": [],
   "source": [
    "with open('dataset/oneday.csv') as csvfile :\n",
    "    csvreader = csv.reader(csvfile)\n",
    "    rows = []\n",
    "    for row in csvreader :\n",
    "        rows.append(row)"
   ]
  },
  {
   "cell_type": "code",
   "execution_count": null,
   "id": "0b121126-c7e2-45a9-b333-b114e72270a6",
   "metadata": {},
   "outputs": [],
   "source": []
  },
  {
   "cell_type": "code",
   "execution_count": 65,
   "id": "6e38fee4-e809-478f-938f-344a762c24ed",
   "metadata": {},
   "outputs": [],
   "source": [
    "df = pd.read_csv('dataset/oneday.csv',encoding='euc-kr',sep=(','))\n"
   ]
  },
  {
   "cell_type": "code",
   "execution_count": 57,
   "id": "ad6cf306-95d3-47ea-a4f0-775f172e8515",
   "metadata": {
    "collapsed": true,
    "jupyter": {
     "outputs_hidden": true
    },
    "tags": []
   },
   "outputs": [
    {
     "name": "stdout",
     "output_type": "stream",
     "text": [
      "                      타임스탬프  first  second\n",
      "0    2021. 6. 25 오전 9:49:34  백짓장조     운동하조\n",
      "1    2021. 6. 25 오전 9:49:35   친해져조      없음\n",
      "2    2021. 6. 25 오전 9:49:52  백짓장조     운동하조\n",
      "3   2021. 6. 25 오전 10:13:05  백짓장조     풍요롭조\n",
      "4   2021. 6. 25 오전 10:17:52  친해져죠     백짓장조\n",
      "5   2021. 6. 25 오전 10:19:08  백짓장조     욜로하조\n",
      "6   2021. 6. 25 오전 10:19:37  백짓장조    친해져조 \n",
      "7   2021. 6. 25 오전 10:19:55  친해져조     풍요롭조\n",
      "8   2021. 6. 25 오전 10:22:32  운동하죠     친해져조\n",
      "9   2021. 6. 25 오전 10:26:17  풍요롭조     욜로하조\n",
      "10  2021. 6. 25 오전 10:26:22  욜로하조     운동하조\n",
      "11  2021. 6. 25 오전 10:26:58  친해져조     욜로하조\n",
      "12  2021. 6. 25 오전 10:27:26  욜로하조     백짓장조\n",
      "13  2021. 6. 25 오전 10:27:32  친해져조     운동하조\n",
      "14  2021. 6. 25 오전 10:27:36  운동하조     욜로하조\n",
      "15  2021. 6. 25 오전 10:27:36  운동하조     친해져조\n",
      "16  2021. 6. 25 오전 10:27:50  운동하조     풍요롭조\n",
      "17  2021. 6. 25 오전 10:27:54  백짓장조     운동하조\n",
      "18  2021. 6. 25 오전 10:27:57  친해져조     욜로하조\n",
      "19  2021. 6. 25 오전 10:28:22  친해져조     욜로하조\n",
      "20  2021. 6. 25 오전 10:28:26  운동하조     친해져조\n",
      "21  2021. 6. 25 오전 10:28:31  친해져조     욜로하조\n",
      "22  2021. 6. 25 오전 10:28:40  욜로하조     친해져조\n",
      "23  2021. 6. 25 오전 10:28:56  풍요롭조     친해져조\n",
      "24  2021. 6. 25 오전 10:29:12   욜로하조      없음\n",
      "25  2021. 6. 25 오전 10:30:13  운동하조     풍요롭조\n",
      "26  2021. 6. 25 오전 10:30:59  욜로하조     풍요롭조\n",
      "27  2021. 6. 25 오전 10:33:51  풍요롭조     욜로하조\n"
     ]
    }
   ],
   "source": [
    "df=pd.DataFrame(df)\n",
    "\n",
    "df['first']=df.group.str.split('/').str[0]\n",
    "df['second']=df.group.str.split('/').str[1]\n",
    "df = df.drop(['group'],axis=1)\n",
    "df = df.fillna(\"없음\")\n",
    "print(df)"
   ]
  },
  {
   "cell_type": "code",
   "execution_count": 62,
   "id": "cc523857-b468-48e9-b05e-f634e041f471",
   "metadata": {
    "jupyter": {
     "source_hidden": true
    },
    "tags": []
   },
   "outputs": [],
   "source": [
    "a = 0\n",
    "b = 0\n",
    "c = 0\n",
    "d = 0\n",
    "e = 0\n",
    "f = 0"
   ]
  },
  {
   "cell_type": "code",
   "execution_count": 63,
   "id": "f1ab8477-61bb-4df0-bd77-21784462dccc",
   "metadata": {
    "collapsed": true,
    "jupyter": {
     "outputs_hidden": true
    },
    "tags": []
   },
   "outputs": [
    {
     "name": "stdout",
     "output_type": "stream",
     "text": [
      "백짓장조 :  8\n",
      "풍요롭조 :  8\n",
      "친해지조 :  14\n",
      "운동하조 :  11\n",
      "욜로하조 :  13\n",
      "기권or무효 :  2\n",
      "Total :  56\n"
     ]
    }
   ],
   "source": [
    "for i in range(len(df['first'])) :\n",
    "    if '백짓' in df['first'][i] :\n",
    "        a += 1\n",
    "    elif '풍요' in df['first'][i] :\n",
    "        b += 1\n",
    "    elif '친해' in df['first'][i] :\n",
    "        c += 1\n",
    "    elif '운동' in df['first'][i] :\n",
    "        d += 1\n",
    "    elif '욜로' in df['first'][i] :\n",
    "        e += 1\n",
    "    elif '없음' in df['first'][i] :\n",
    "        f += 1\n",
    "\n",
    "for i in range(len(df['second'])) :\n",
    "    if '백짓' in df['second'][i] :\n",
    "        a += 1\n",
    "    elif '풍요' in df['second'][i] :\n",
    "        b += 1\n",
    "    elif '친해' in df['second'][i] :\n",
    "        c += 1\n",
    "    elif '운동' in df['second'][i] :\n",
    "        d += 1\n",
    "    elif '욜로' in df['second'][i] :\n",
    "        e += 1\n",
    "    elif '없음' in df['second'][i] :\n",
    "        f += 1\n",
    "print(\"백짓장조 : \",a)\n",
    "print(\"풍요롭조 : \",b)\n",
    "print(\"친해지조 : \",c)\n",
    "print(\"운동하조 : \",d)\n",
    "print(\"욜로하조 : \",e)\n",
    "print(\"기권or무효 : \",f)\n",
    "\n",
    "print(\"Total : \",a+b+c+d+e+f)\n"
   ]
  },
  {
   "cell_type": "code",
   "execution_count": 64,
   "id": "58e8e84b-f45d-4ad6-938f-f3c3f866f877",
   "metadata": {
    "jupyter": {
     "source_hidden": true
    },
    "tags": []
   },
   "outputs": [],
   "source": [
    "import numpy as np"
   ]
  },
  {
   "cell_type": "code",
   "execution_count": 43,
   "id": "4f380a13-daf3-4db5-855d-ffca91565878",
   "metadata": {},
   "outputs": [
    {
     "data": {
      "text/plain": [
       "0.06708203932499365"
      ]
     },
     "execution_count": 43,
     "metadata": {},
     "output_type": "execute_result"
    }
   ],
   "source": [
    "AB = np.array([200, 50, 0, 0])\n",
    "OPS = np.array([0.9, 0.4, 0, 0])\n",
    "Pred = np.array([0.95, 0.35, 0.5, 0.3])\n",
    "\n",
    "WRMSE = (((OPS-Pred)**2)*AB / np.sum(AB))**(1/2)\n",
    "Tot_WRM = np.sum(WRMSE)\n",
    "Tot_WRM"
   ]
  },
  {
   "cell_type": "code",
   "execution_count": 68,
   "id": "64c780a1-0d50-42fe-bd57-4cadb71b7793",
   "metadata": {},
   "outputs": [],
   "source": [
    "class Metrics():\n",
    "    def __init__(self,ops,pred,ab):\n",
    "        self.ops = ops\n",
    "        self.pred = pred\n",
    "        self.ab = ab\n",
    "\n",
    "def out_wrmse(self):\n",
    "    wrmse_value = \\\n",
    "    np.sqrt(((self.ops-self.pred)**2)*self.ab/np.sum(self.ab))\n",
    "    print(\"wrmse_value_i : \",np.round(wrmse_value,4))\n",
    "    wrmse_total = np.sum(wrmse_value)\n",
    "    return wrmse_total\n",
    "\n",
    "Metrics.wrmse = out_wrmse"
   ]
  },
  {
   "cell_type": "code",
   "execution_count": 69,
   "id": "cc18cf30-c4f0-452f-8268-f17114cdc267",
   "metadata": {},
   "outputs": [],
   "source": [
    "C_wrmse = Metrics(OPS,Pred,AB)"
   ]
  },
  {
   "cell_type": "code",
   "execution_count": 71,
   "id": "9dbe6573-6183-430f-8609-427f1f641dd8",
   "metadata": {},
   "outputs": [
    {
     "name": "stdout",
     "output_type": "stream",
     "text": [
      "wrmse_value_i :  [0.0447 0.0224 0.     0.    ]\n",
      "Total value of WRMSE :  0.0671\n"
     ]
    }
   ],
   "source": [
    "print(\"Total value of WRMSE : \",np.round(C_wrmse.wrmse(),4))"
   ]
  },
  {
   "cell_type": "code",
   "execution_count": 113,
   "id": "40db3910-4436-4fcc-a45f-c6554324ae77",
   "metadata": {},
   "outputs": [],
   "source": [
    "import matplotlib\n",
    "import matplotlib.pyplot as plt\n",
    "import seaborn as sns\n",
    "import pandas as pd\n",
    "import numpy as np\n",
    "import platform\n",
    "import warnings\n",
    "warnings.filterwarnings('ignore')"
   ]
  },
  {
   "cell_type": "code",
   "execution_count": 116,
   "id": "dbcacc17-8a12-4245-98ef-41a024a3cd69",
   "metadata": {},
   "outputs": [
    {
     "name": "stdout",
     "output_type": "stream",
     "text": [
      "(1393, 29)\n",
      "(2454, 29)\n"
     ]
    }
   ],
   "source": [
    "pre_df = pd.read_csv(\"dataset/kbo/Pre_season_batter.csv\")\n",
    "reg_df = pd.read_csv(\"dataset/kbo/regular_season_batter.csv\")\n",
    "\n",
    "print(pre_df.shape)\n",
    "print(reg_df.shape)"
   ]
  },
  {
   "cell_type": "code",
   "execution_count": 117,
   "id": "89032ad3-6f48-4432-8984-a43865ebfc11",
   "metadata": {},
   "outputs": [
    {
     "data": {
      "text/html": [
       "<div>\n",
       "<style scoped>\n",
       "    .dataframe tbody tr th:only-of-type {\n",
       "        vertical-align: middle;\n",
       "    }\n",
       "\n",
       "    .dataframe tbody tr th {\n",
       "        vertical-align: top;\n",
       "    }\n",
       "\n",
       "    .dataframe thead th {\n",
       "        text-align: right;\n",
       "    }\n",
       "</style>\n",
       "<table border=\"1\" class=\"dataframe\">\n",
       "  <thead>\n",
       "    <tr style=\"text-align: right;\">\n",
       "      <th></th>\n",
       "      <th>batter_id</th>\n",
       "      <th>batter_name</th>\n",
       "      <th>year</th>\n",
       "      <th>team</th>\n",
       "      <th>avg</th>\n",
       "      <th>G</th>\n",
       "      <th>AB</th>\n",
       "      <th>R</th>\n",
       "      <th>H</th>\n",
       "      <th>2B</th>\n",
       "      <th>...</th>\n",
       "      <th>GDP</th>\n",
       "      <th>SLG</th>\n",
       "      <th>OBP</th>\n",
       "      <th>E</th>\n",
       "      <th>height/weight</th>\n",
       "      <th>year_born</th>\n",
       "      <th>position</th>\n",
       "      <th>career</th>\n",
       "      <th>starting_salary</th>\n",
       "      <th>OPS</th>\n",
       "    </tr>\n",
       "  </thead>\n",
       "  <tbody>\n",
       "    <tr>\n",
       "      <th>0</th>\n",
       "      <td>0</td>\n",
       "      <td>가르시아</td>\n",
       "      <td>2018</td>\n",
       "      <td>LG</td>\n",
       "      <td>0.350</td>\n",
       "      <td>7</td>\n",
       "      <td>20</td>\n",
       "      <td>1</td>\n",
       "      <td>7</td>\n",
       "      <td>1</td>\n",
       "      <td>...</td>\n",
       "      <td>1</td>\n",
       "      <td>0.550</td>\n",
       "      <td>0.409</td>\n",
       "      <td>1</td>\n",
       "      <td>177cm/93kg</td>\n",
       "      <td>1985년 04월 12일</td>\n",
       "      <td>내야수(우투우타)</td>\n",
       "      <td>쿠바 Ciego de Avila Maximo Gomez Baez(대)</td>\n",
       "      <td>NaN</td>\n",
       "      <td>0.959</td>\n",
       "    </tr>\n",
       "    <tr>\n",
       "      <th>1</th>\n",
       "      <td>1</td>\n",
       "      <td>강경학</td>\n",
       "      <td>2011</td>\n",
       "      <td>한화</td>\n",
       "      <td>0.000</td>\n",
       "      <td>4</td>\n",
       "      <td>2</td>\n",
       "      <td>2</td>\n",
       "      <td>0</td>\n",
       "      <td>0</td>\n",
       "      <td>...</td>\n",
       "      <td>0</td>\n",
       "      <td>0.000</td>\n",
       "      <td>0.500</td>\n",
       "      <td>0</td>\n",
       "      <td>180cm/72kg</td>\n",
       "      <td>1992년 08월 11일</td>\n",
       "      <td>내야수(우투좌타)</td>\n",
       "      <td>광주대성초-광주동성중-광주동성고</td>\n",
       "      <td>10000만원</td>\n",
       "      <td>0.500</td>\n",
       "    </tr>\n",
       "    <tr>\n",
       "      <th>2</th>\n",
       "      <td>1</td>\n",
       "      <td>강경학</td>\n",
       "      <td>2014</td>\n",
       "      <td>한화</td>\n",
       "      <td>-</td>\n",
       "      <td>4</td>\n",
       "      <td>0</td>\n",
       "      <td>2</td>\n",
       "      <td>0</td>\n",
       "      <td>0</td>\n",
       "      <td>...</td>\n",
       "      <td>0</td>\n",
       "      <td>NaN</td>\n",
       "      <td>NaN</td>\n",
       "      <td>0</td>\n",
       "      <td>180cm/72kg</td>\n",
       "      <td>1992년 08월 11일</td>\n",
       "      <td>내야수(우투좌타)</td>\n",
       "      <td>광주대성초-광주동성중-광주동성고</td>\n",
       "      <td>10000만원</td>\n",
       "      <td>NaN</td>\n",
       "    </tr>\n",
       "    <tr>\n",
       "      <th>3</th>\n",
       "      <td>1</td>\n",
       "      <td>강경학</td>\n",
       "      <td>2015</td>\n",
       "      <td>한화</td>\n",
       "      <td>0.130</td>\n",
       "      <td>10</td>\n",
       "      <td>23</td>\n",
       "      <td>3</td>\n",
       "      <td>3</td>\n",
       "      <td>0</td>\n",
       "      <td>...</td>\n",
       "      <td>0</td>\n",
       "      <td>0.130</td>\n",
       "      <td>0.286</td>\n",
       "      <td>2</td>\n",
       "      <td>180cm/72kg</td>\n",
       "      <td>1992년 08월 11일</td>\n",
       "      <td>내야수(우투좌타)</td>\n",
       "      <td>광주대성초-광주동성중-광주동성고</td>\n",
       "      <td>10000만원</td>\n",
       "      <td>0.416</td>\n",
       "    </tr>\n",
       "    <tr>\n",
       "      <th>4</th>\n",
       "      <td>1</td>\n",
       "      <td>강경학</td>\n",
       "      <td>2016</td>\n",
       "      <td>한화</td>\n",
       "      <td>0.188</td>\n",
       "      <td>14</td>\n",
       "      <td>32</td>\n",
       "      <td>4</td>\n",
       "      <td>6</td>\n",
       "      <td>1</td>\n",
       "      <td>...</td>\n",
       "      <td>0</td>\n",
       "      <td>0.281</td>\n",
       "      <td>0.212</td>\n",
       "      <td>0</td>\n",
       "      <td>180cm/72kg</td>\n",
       "      <td>1992년 08월 11일</td>\n",
       "      <td>내야수(우투좌타)</td>\n",
       "      <td>광주대성초-광주동성중-광주동성고</td>\n",
       "      <td>10000만원</td>\n",
       "      <td>0.493</td>\n",
       "    </tr>\n",
       "  </tbody>\n",
       "</table>\n",
       "<p>5 rows × 29 columns</p>\n",
       "</div>"
      ],
      "text/plain": [
       "   batter_id batter_name  year team    avg   G  AB  R  H  2B  ...  GDP    SLG  \\\n",
       "0          0        가르시아  2018   LG  0.350   7  20  1  7   1  ...    1  0.550   \n",
       "1          1         강경학  2011   한화  0.000   4   2  2  0   0  ...    0  0.000   \n",
       "2          1         강경학  2014   한화      -   4   0  2  0   0  ...    0    NaN   \n",
       "3          1         강경학  2015   한화  0.130  10  23  3  3   0  ...    0  0.130   \n",
       "4          1         강경학  2016   한화  0.188  14  32  4  6   1  ...    0  0.281   \n",
       "\n",
       "     OBP  E  height/weight      year_born   position  \\\n",
       "0  0.409  1     177cm/93kg  1985년 04월 12일  내야수(우투우타)   \n",
       "1  0.500  0     180cm/72kg  1992년 08월 11일  내야수(우투좌타)   \n",
       "2    NaN  0     180cm/72kg  1992년 08월 11일  내야수(우투좌타)   \n",
       "3  0.286  2     180cm/72kg  1992년 08월 11일  내야수(우투좌타)   \n",
       "4  0.212  0     180cm/72kg  1992년 08월 11일  내야수(우투좌타)   \n",
       "\n",
       "                                   career  starting_salary    OPS  \n",
       "0  쿠바 Ciego de Avila Maximo Gomez Baez(대)              NaN  0.959  \n",
       "1                       광주대성초-광주동성중-광주동성고          10000만원  0.500  \n",
       "2                       광주대성초-광주동성중-광주동성고          10000만원    NaN  \n",
       "3                       광주대성초-광주동성중-광주동성고          10000만원  0.416  \n",
       "4                       광주대성초-광주동성중-광주동성고          10000만원  0.493  \n",
       "\n",
       "[5 rows x 29 columns]"
      ]
     },
     "metadata": {},
     "output_type": "display_data"
    }
   ],
   "source": [
    "display(pre_df.head())"
   ]
  },
  {
   "cell_type": "code",
   "execution_count": 118,
   "id": "ba139923-1648-428d-beca-3a357d50714a",
   "metadata": {},
   "outputs": [
    {
     "data": {
      "text/html": [
       "<div>\n",
       "<style scoped>\n",
       "    .dataframe tbody tr th:only-of-type {\n",
       "        vertical-align: middle;\n",
       "    }\n",
       "\n",
       "    .dataframe tbody tr th {\n",
       "        vertical-align: top;\n",
       "    }\n",
       "\n",
       "    .dataframe thead th {\n",
       "        text-align: right;\n",
       "    }\n",
       "</style>\n",
       "<table border=\"1\" class=\"dataframe\">\n",
       "  <thead>\n",
       "    <tr style=\"text-align: right;\">\n",
       "      <th></th>\n",
       "      <th>batter_id</th>\n",
       "      <th>year</th>\n",
       "      <th>G</th>\n",
       "      <th>AB</th>\n",
       "      <th>R</th>\n",
       "      <th>H</th>\n",
       "      <th>2B</th>\n",
       "      <th>3B</th>\n",
       "      <th>HR</th>\n",
       "      <th>TB</th>\n",
       "      <th>...</th>\n",
       "      <th>SB</th>\n",
       "      <th>CS</th>\n",
       "      <th>BB</th>\n",
       "      <th>HBP</th>\n",
       "      <th>SO</th>\n",
       "      <th>GDP</th>\n",
       "      <th>SLG</th>\n",
       "      <th>OBP</th>\n",
       "      <th>E</th>\n",
       "      <th>OPS</th>\n",
       "    </tr>\n",
       "  </thead>\n",
       "  <tbody>\n",
       "    <tr>\n",
       "      <th>count</th>\n",
       "      <td>1393.000000</td>\n",
       "      <td>1393.000000</td>\n",
       "      <td>1393.000000</td>\n",
       "      <td>1393.000000</td>\n",
       "      <td>1393.000000</td>\n",
       "      <td>1393.000000</td>\n",
       "      <td>1393.000000</td>\n",
       "      <td>1393.000000</td>\n",
       "      <td>1393.000000</td>\n",
       "      <td>1393.000000</td>\n",
       "      <td>...</td>\n",
       "      <td>1393.000000</td>\n",
       "      <td>1393.000000</td>\n",
       "      <td>1393.000000</td>\n",
       "      <td>1393.000000</td>\n",
       "      <td>1393.000000</td>\n",
       "      <td>1393.000000</td>\n",
       "      <td>1364.000000</td>\n",
       "      <td>1368.000000</td>\n",
       "      <td>1393.000000</td>\n",
       "      <td>1364.000000</td>\n",
       "    </tr>\n",
       "    <tr>\n",
       "      <th>mean</th>\n",
       "      <td>173.434314</td>\n",
       "      <td>2013.014358</td>\n",
       "      <td>8.705671</td>\n",
       "      <td>19.201723</td>\n",
       "      <td>2.679828</td>\n",
       "      <td>5.021536</td>\n",
       "      <td>0.954774</td>\n",
       "      <td>0.119885</td>\n",
       "      <td>0.391960</td>\n",
       "      <td>7.391960</td>\n",
       "      <td>...</td>\n",
       "      <td>0.629576</td>\n",
       "      <td>0.291457</td>\n",
       "      <td>1.877961</td>\n",
       "      <td>0.330223</td>\n",
       "      <td>3.714286</td>\n",
       "      <td>0.447236</td>\n",
       "      <td>0.361012</td>\n",
       "      <td>0.317912</td>\n",
       "      <td>0.381910</td>\n",
       "      <td>0.676924</td>\n",
       "    </tr>\n",
       "    <tr>\n",
       "      <th>std</th>\n",
       "      <td>94.716851</td>\n",
       "      <td>4.166757</td>\n",
       "      <td>5.562686</td>\n",
       "      <td>13.395946</td>\n",
       "      <td>2.637212</td>\n",
       "      <td>4.232584</td>\n",
       "      <td>1.196904</td>\n",
       "      <td>0.379976</td>\n",
       "      <td>0.748557</td>\n",
       "      <td>6.538787</td>\n",
       "      <td>...</td>\n",
       "      <td>1.146854</td>\n",
       "      <td>0.595522</td>\n",
       "      <td>2.053392</td>\n",
       "      <td>0.642204</td>\n",
       "      <td>3.180884</td>\n",
       "      <td>0.723364</td>\n",
       "      <td>0.269892</td>\n",
       "      <td>0.151489</td>\n",
       "      <td>0.729521</td>\n",
       "      <td>0.386933</td>\n",
       "    </tr>\n",
       "    <tr>\n",
       "      <th>min</th>\n",
       "      <td>0.000000</td>\n",
       "      <td>2002.000000</td>\n",
       "      <td>1.000000</td>\n",
       "      <td>0.000000</td>\n",
       "      <td>0.000000</td>\n",
       "      <td>0.000000</td>\n",
       "      <td>0.000000</td>\n",
       "      <td>0.000000</td>\n",
       "      <td>0.000000</td>\n",
       "      <td>0.000000</td>\n",
       "      <td>...</td>\n",
       "      <td>0.000000</td>\n",
       "      <td>0.000000</td>\n",
       "      <td>0.000000</td>\n",
       "      <td>0.000000</td>\n",
       "      <td>0.000000</td>\n",
       "      <td>0.000000</td>\n",
       "      <td>0.000000</td>\n",
       "      <td>0.000000</td>\n",
       "      <td>0.000000</td>\n",
       "      <td>0.000000</td>\n",
       "    </tr>\n",
       "    <tr>\n",
       "      <th>25%</th>\n",
       "      <td>99.000000</td>\n",
       "      <td>2010.000000</td>\n",
       "      <td>6.000000</td>\n",
       "      <td>9.000000</td>\n",
       "      <td>1.000000</td>\n",
       "      <td>2.000000</td>\n",
       "      <td>0.000000</td>\n",
       "      <td>0.000000</td>\n",
       "      <td>0.000000</td>\n",
       "      <td>2.000000</td>\n",
       "      <td>...</td>\n",
       "      <td>0.000000</td>\n",
       "      <td>0.000000</td>\n",
       "      <td>0.000000</td>\n",
       "      <td>0.000000</td>\n",
       "      <td>1.000000</td>\n",
       "      <td>0.000000</td>\n",
       "      <td>0.217000</td>\n",
       "      <td>0.250000</td>\n",
       "      <td>0.000000</td>\n",
       "      <td>0.472000</td>\n",
       "    </tr>\n",
       "    <tr>\n",
       "      <th>50%</th>\n",
       "      <td>178.000000</td>\n",
       "      <td>2014.000000</td>\n",
       "      <td>9.000000</td>\n",
       "      <td>18.000000</td>\n",
       "      <td>2.000000</td>\n",
       "      <td>4.000000</td>\n",
       "      <td>1.000000</td>\n",
       "      <td>0.000000</td>\n",
       "      <td>0.000000</td>\n",
       "      <td>6.000000</td>\n",
       "      <td>...</td>\n",
       "      <td>0.000000</td>\n",
       "      <td>0.000000</td>\n",
       "      <td>1.000000</td>\n",
       "      <td>0.000000</td>\n",
       "      <td>3.000000</td>\n",
       "      <td>0.000000</td>\n",
       "      <td>0.344500</td>\n",
       "      <td>0.333000</td>\n",
       "      <td>0.000000</td>\n",
       "      <td>0.675000</td>\n",
       "    </tr>\n",
       "    <tr>\n",
       "      <th>75%</th>\n",
       "      <td>254.000000</td>\n",
       "      <td>2017.000000</td>\n",
       "      <td>11.000000</td>\n",
       "      <td>28.000000</td>\n",
       "      <td>4.000000</td>\n",
       "      <td>8.000000</td>\n",
       "      <td>2.000000</td>\n",
       "      <td>0.000000</td>\n",
       "      <td>1.000000</td>\n",
       "      <td>11.000000</td>\n",
       "      <td>...</td>\n",
       "      <td>1.000000</td>\n",
       "      <td>0.000000</td>\n",
       "      <td>3.000000</td>\n",
       "      <td>1.000000</td>\n",
       "      <td>5.000000</td>\n",
       "      <td>1.000000</td>\n",
       "      <td>0.478000</td>\n",
       "      <td>0.400000</td>\n",
       "      <td>1.000000</td>\n",
       "      <td>0.867000</td>\n",
       "    </tr>\n",
       "    <tr>\n",
       "      <th>max</th>\n",
       "      <td>344.000000</td>\n",
       "      <td>2018.000000</td>\n",
       "      <td>119.000000</td>\n",
       "      <td>183.000000</td>\n",
       "      <td>35.000000</td>\n",
       "      <td>51.000000</td>\n",
       "      <td>11.000000</td>\n",
       "      <td>4.000000</td>\n",
       "      <td>5.000000</td>\n",
       "      <td>68.000000</td>\n",
       "      <td>...</td>\n",
       "      <td>9.000000</td>\n",
       "      <td>4.000000</td>\n",
       "      <td>21.000000</td>\n",
       "      <td>4.000000</td>\n",
       "      <td>36.000000</td>\n",
       "      <td>5.000000</td>\n",
       "      <td>4.000000</td>\n",
       "      <td>1.000000</td>\n",
       "      <td>5.000000</td>\n",
       "      <td>5.000000</td>\n",
       "    </tr>\n",
       "  </tbody>\n",
       "</table>\n",
       "<p>8 rows × 21 columns</p>\n",
       "</div>"
      ],
      "text/plain": [
       "         batter_id         year            G           AB            R  \\\n",
       "count  1393.000000  1393.000000  1393.000000  1393.000000  1393.000000   \n",
       "mean    173.434314  2013.014358     8.705671    19.201723     2.679828   \n",
       "std      94.716851     4.166757     5.562686    13.395946     2.637212   \n",
       "min       0.000000  2002.000000     1.000000     0.000000     0.000000   \n",
       "25%      99.000000  2010.000000     6.000000     9.000000     1.000000   \n",
       "50%     178.000000  2014.000000     9.000000    18.000000     2.000000   \n",
       "75%     254.000000  2017.000000    11.000000    28.000000     4.000000   \n",
       "max     344.000000  2018.000000   119.000000   183.000000    35.000000   \n",
       "\n",
       "                 H           2B           3B           HR           TB  ...  \\\n",
       "count  1393.000000  1393.000000  1393.000000  1393.000000  1393.000000  ...   \n",
       "mean      5.021536     0.954774     0.119885     0.391960     7.391960  ...   \n",
       "std       4.232584     1.196904     0.379976     0.748557     6.538787  ...   \n",
       "min       0.000000     0.000000     0.000000     0.000000     0.000000  ...   \n",
       "25%       2.000000     0.000000     0.000000     0.000000     2.000000  ...   \n",
       "50%       4.000000     1.000000     0.000000     0.000000     6.000000  ...   \n",
       "75%       8.000000     2.000000     0.000000     1.000000    11.000000  ...   \n",
       "max      51.000000    11.000000     4.000000     5.000000    68.000000  ...   \n",
       "\n",
       "                SB           CS           BB          HBP           SO  \\\n",
       "count  1393.000000  1393.000000  1393.000000  1393.000000  1393.000000   \n",
       "mean      0.629576     0.291457     1.877961     0.330223     3.714286   \n",
       "std       1.146854     0.595522     2.053392     0.642204     3.180884   \n",
       "min       0.000000     0.000000     0.000000     0.000000     0.000000   \n",
       "25%       0.000000     0.000000     0.000000     0.000000     1.000000   \n",
       "50%       0.000000     0.000000     1.000000     0.000000     3.000000   \n",
       "75%       1.000000     0.000000     3.000000     1.000000     5.000000   \n",
       "max       9.000000     4.000000    21.000000     4.000000    36.000000   \n",
       "\n",
       "               GDP          SLG          OBP            E          OPS  \n",
       "count  1393.000000  1364.000000  1368.000000  1393.000000  1364.000000  \n",
       "mean      0.447236     0.361012     0.317912     0.381910     0.676924  \n",
       "std       0.723364     0.269892     0.151489     0.729521     0.386933  \n",
       "min       0.000000     0.000000     0.000000     0.000000     0.000000  \n",
       "25%       0.000000     0.217000     0.250000     0.000000     0.472000  \n",
       "50%       0.000000     0.344500     0.333000     0.000000     0.675000  \n",
       "75%       1.000000     0.478000     0.400000     1.000000     0.867000  \n",
       "max       5.000000     4.000000     1.000000     5.000000     5.000000  \n",
       "\n",
       "[8 rows x 21 columns]"
      ]
     },
     "metadata": {},
     "output_type": "display_data"
    }
   ],
   "source": [
    "display(pre_df.describe())"
   ]
  },
  {
   "cell_type": "code",
   "execution_count": 119,
   "id": "7439988c-76d3-460f-9088-1102cd7d443d",
   "metadata": {},
   "outputs": [
    {
     "data": {
      "image/png": "[encoded data removed]",
      "text/plain": [
       "<Figure size 1440x1080 with 25 Axes>"
      ]
     },
     "metadata": {
      "needs_background": "light"
     },
     "output_type": "display_data"
    }
   ],
   "source": [
    "pre_df.hist(figsize=(20,15))\n",
    "plt.tight_layout()\n",
    "plt.show()"
   ]
  },
  {
   "cell_type": "code",
   "execution_count": 121,
   "id": "c62910d2-ef15-49a9-81ab-76c0fb765f92",
   "metadata": {
    "collapsed": true,
    "jupyter": {
     "outputs_hidden": true
    },
    "tags": []
   },
   "outputs": [
    {
     "data": {
      "image/png": "[encoded data removed]",
      "text/plain": [
       "<Figure size 360x216 with 1 Axes>"
      ]
     },
     "metadata": {
      "needs_background": "light"
     },
     "output_type": "display_data"
    }
   ],
   "source": [
    "pre_df['year'].hist(figsize = (5,3))\n",
    "plt.tight_layout\n",
    "plt.show()"
   ]
  },
  {
   "cell_type": "code",
   "execution_count": 126,
   "id": "a41e1d93-00f3-4ff1-968a-0bcc1e2235b8",
   "metadata": {},
   "outputs": [],
   "source": [
    "reg_count = reg_df.groupby('year')['batter_id'].count().rename('regular')\n",
    "pre_count = pre_df.groupby('year')['batter_id'].count().rename('pre')"
   ]
  },
  {
   "cell_type": "code",
   "execution_count": 129,
   "id": "163314a8-f94a-4c8c-9722-1976f440e08c",
   "metadata": {},
   "outputs": [
    {
     "data": {
      "text/html": [
       "<div>\n",
       "<style scoped>\n",
       "    .dataframe tbody tr th:only-of-type {\n",
       "        vertical-align: middle;\n",
       "    }\n",
       "\n",
       "    .dataframe tbody tr th {\n",
       "        vertical-align: top;\n",
       "    }\n",
       "\n",
       "    .dataframe thead th {\n",
       "        text-align: right;\n",
       "    }\n",
       "</style>\n",
       "<table border=\"1\" class=\"dataframe\">\n",
       "  <thead>\n",
       "    <tr style=\"text-align: right;\">\n",
       "      <th>year</th>\n",
       "      <th>2000</th>\n",
       "      <th>2001</th>\n",
       "      <th>2002</th>\n",
       "      <th>2003</th>\n",
       "      <th>2004</th>\n",
       "      <th>2005</th>\n",
       "      <th>2006</th>\n",
       "      <th>2007</th>\n",
       "      <th>2008</th>\n",
       "      <th>2009</th>\n",
       "      <th>2010</th>\n",
       "      <th>2011</th>\n",
       "      <th>2012</th>\n",
       "      <th>2013</th>\n",
       "      <th>2014</th>\n",
       "      <th>2015</th>\n",
       "      <th>2016</th>\n",
       "      <th>2017</th>\n",
       "      <th>2018</th>\n",
       "    </tr>\n",
       "  </thead>\n",
       "  <tbody>\n",
       "    <tr>\n",
       "      <th>regular</th>\n",
       "      <td>20.0</td>\n",
       "      <td>32.0</td>\n",
       "      <td>43.0</td>\n",
       "      <td>54.0</td>\n",
       "      <td>68.0</td>\n",
       "      <td>73.0</td>\n",
       "      <td>85.0</td>\n",
       "      <td>98.0</td>\n",
       "      <td>115.0</td>\n",
       "      <td>124.0</td>\n",
       "      <td>130.0</td>\n",
       "      <td>151.0</td>\n",
       "      <td>174.0</td>\n",
       "      <td>194.0</td>\n",
       "      <td>186.0</td>\n",
       "      <td>207.0</td>\n",
       "      <td>213.0</td>\n",
       "      <td>217.0</td>\n",
       "      <td>227.0</td>\n",
       "    </tr>\n",
       "    <tr>\n",
       "      <th>pre</th>\n",
       "      <td>NaN</td>\n",
       "      <td>NaN</td>\n",
       "      <td>12.0</td>\n",
       "      <td>19.0</td>\n",
       "      <td>28.0</td>\n",
       "      <td>37.0</td>\n",
       "      <td>36.0</td>\n",
       "      <td>43.0</td>\n",
       "      <td>61.0</td>\n",
       "      <td>66.0</td>\n",
       "      <td>72.0</td>\n",
       "      <td>75.0</td>\n",
       "      <td>87.0</td>\n",
       "      <td>104.0</td>\n",
       "      <td>117.0</td>\n",
       "      <td>134.0</td>\n",
       "      <td>153.0</td>\n",
       "      <td>167.0</td>\n",
       "      <td>182.0</td>\n",
       "    </tr>\n",
       "  </tbody>\n",
       "</table>\n",
       "</div>"
      ],
      "text/plain": [
       "year     2000  2001  2002  2003  2004  2005  2006  2007   2008   2009   2010  \\\n",
       "regular  20.0  32.0  43.0  54.0  68.0  73.0  85.0  98.0  115.0  124.0  130.0   \n",
       "pre       NaN   NaN  12.0  19.0  28.0  37.0  36.0  43.0   61.0   66.0   72.0   \n",
       "\n",
       "year      2011   2012   2013   2014   2015   2016   2017   2018  \n",
       "regular  151.0  174.0  194.0  186.0  207.0  213.0  217.0  227.0  \n",
       "pre       75.0   87.0  104.0  117.0  134.0  153.0  167.0  182.0  "
      ]
     },
     "execution_count": 129,
     "metadata": {},
     "output_type": "execute_result"
    }
   ],
   "source": [
    "#데이터를 묶어줌\n",
    "pd.concat([reg_count,pre_count],axis=1).transpose().loc[:,2000:]"
   ]
  },
  {
   "cell_type": "code",
   "execution_count": null,
   "id": "2031e3bd-a707-43ff-89d6-f6a123c84773",
   "metadata": {},
   "outputs": [],
   "source": []
  },
  {
   "cell_type": "code",
   "execution_count": 130,
   "id": "4223ae9d-d79c-4f02-8abc-d1b790573f44",
   "metadata": {},
   "outputs": [],
   "source": [
    "df_abalone = pd.read_csv('dataset/abalone.csv')"
   ]
  },
  {
   "cell_type": "code",
   "execution_count": 131,
   "id": "cbc6e35b-00f9-4039-863d-bc474c15fbd0",
   "metadata": {},
   "outputs": [
    {
     "data": {
      "text/plain": [
       "0       15\n",
       "1        7\n",
       "2        9\n",
       "3       10\n",
       "4        7\n",
       "        ..\n",
       "4172    11\n",
       "4173    10\n",
       "4174     9\n",
       "4175    10\n",
       "4176    12\n",
       "Name: Rings, Length: 4177, dtype: int64"
      ]
     },
     "execution_count": 131,
     "metadata": {},
     "output_type": "execute_result"
    }
   ],
   "source": [
    "df_abalone['Rings']"
   ]
  },
  {
   "cell_type": "code",
   "execution_count": 136,
   "id": "993e4303-bc3e-4fe8-bc4c-77e0accdd16a",
   "metadata": {},
   "outputs": [
    {
     "name": "stdout",
     "output_type": "stream",
     "text": [
      "Rings and Height - corr : 0.5575\n"
     ]
    }
   ],
   "source": [
    "# 데이터간 연관을 보는 상관계수 구하기\n",
    "\n",
    "correlation = df_abalone['Rings'].corr(df_abalone['Height'])\n",
    "print(\"{} and {} - corr : {}\".format('Rings',\"Height\",round(correlation,4)))"
   ]
  },
  {
   "cell_type": "code",
   "execution_count": 139,
   "id": "88622223-ffa7-4317-932c-d1433acc6bc5",
   "metadata": {},
   "outputs": [
    {
     "data": {
      "text/plain": [
       "Text(0.5, 1.0, 'Rings and height - corr')"
      ]
     },
     "execution_count": 139,
     "metadata": {},
     "output_type": "execute_result"
    },
    {
     "data": {
      "image/png": "[encoded data removed]",
      "text/plain": [
       "<Figure size 432x288 with 1 Axes>"
      ]
     },
     "metadata": {
      "needs_background": "light"
     },
     "output_type": "display_data"
    }
   ],
   "source": [
    "sns.regplot(x = df_abalone['Rings'],\n",
    "            y = df_abalone['Height'],\n",
    "            color = 'orange')\n",
    "plt.title(\"{} and {} - corr\".format('Rings',\"height\",round(correlation,3)),\n",
    "         fontsize=20)"
   ]
  },
  {
   "cell_type": "code",
   "execution_count": 148,
   "id": "af45c26c-f4d3-466e-bf02-7fffb03a0b71",
   "metadata": {},
   "outputs": [],
   "source": [
    "def corr_abalone(var_name1,var_name2) :\n",
    "    corr = df_abalone[var_name1].corr(df_abalone[var_name2])\n",
    "    \n",
    "    print(\"{} and {} - corr {}\".format(var_name1,var_name2,round(corr,3)))\n",
    "    \n",
    "    return corr"
   ]
  },
  {
   "cell_type": "code",
   "execution_count": 149,
   "id": "944b208e-99d7-4a70-b32d-64c5b554275d",
   "metadata": {},
   "outputs": [
    {
     "name": "stdout",
     "output_type": "stream",
     "text": [
      "<class 'pandas.core.frame.DataFrame'>\n",
      "RangeIndex: 4177 entries, 0 to 4176\n",
      "Data columns (total 9 columns):\n",
      " #   Column          Non-Null Count  Dtype  \n",
      "---  ------          --------------  -----  \n",
      " 0   Sex             4177 non-null   object \n",
      " 1   Length          4177 non-null   float64\n",
      " 2   Diameter        4177 non-null   float64\n",
      " 3   Height          4177 non-null   float64\n",
      " 4   Whole weight    4177 non-null   float64\n",
      " 5   Shucked weight  4177 non-null   float64\n",
      " 6   Viscera weight  4177 non-null   float64\n",
      " 7   Shell weight    4177 non-null   float64\n",
      " 8   Rings           4177 non-null   int64  \n",
      "dtypes: float64(7), int64(1), object(1)\n",
      "memory usage: 293.8+ KB\n"
     ]
    }
   ],
   "source": [
    "df_abalone.info()"
   ]
  },
  {
   "cell_type": "code",
   "execution_count": 150,
   "id": "1ce47e70-c04e-4694-bc32-be98d8979311",
   "metadata": {},
   "outputs": [
    {
     "data": {
      "text/plain": [
       "Index(['Sex', 'Length', 'Diameter', 'Height', 'Whole weight', 'Shucked weight',\n",
       "       'Viscera weight', 'Shell weight', 'Rings'],\n",
       "      dtype='object')"
      ]
     },
     "execution_count": 150,
     "metadata": {},
     "output_type": "execute_result"
    }
   ],
   "source": [
    "df_abalone.columns"
   ]
  },
  {
   "cell_type": "code",
   "execution_count": 151,
   "id": "4aa696eb-169d-48ef-ae01-496bc6103bb7",
   "metadata": {},
   "outputs": [
    {
     "name": "stdout",
     "output_type": "stream",
     "text": [
      "Rings and Length - corr 0.557\n",
      "Rings and Diameter - corr 0.575\n",
      "Rings and Height - corr 0.557\n",
      "Rings and Whole weight - corr 0.54\n",
      "Rings and Shucked weight - corr 0.421\n",
      "Rings and Viscera weight - corr 0.504\n",
      "Rings and Shell weight - corr 0.628\n"
     ]
    }
   ],
   "source": [
    "for i in range(1,len(df_abalone.columns)-1):\n",
    "    corr_data = corr_abalone(df_abalone.columns[8],df_abalone.columns[i])\n"
   ]
  },
  {
   "cell_type": "code",
   "execution_count": 154,
   "id": "17e08ca9-6523-4a9f-919b-5770f1ed6215",
   "metadata": {},
   "outputs": [
    {
     "name": "stdout",
     "output_type": "stream",
     "text": [
      "Rings and Shell weight - corr 0.628\n"
     ]
    },
    {
     "data": {
      "image/png": "[encoded data removed]",
      "text/plain": [
       "<Figure size 432x288 with 1 Axes>"
      ]
     },
     "metadata": {
      "needs_background": "light"
     },
     "output_type": "display_data"
    }
   ],
   "source": [
    "corr_var = corr_abalone(df_abalone.columns[8],df_abalone.columns[7])\n",
    "sns.regplot(x=df_abalone['Rings'],\n",
    "            y=df_abalone['Shell weight'],\n",
    "            color = 'brown')\n",
    "plt.title(\"{}and{} - corr{}\".format('Rings','Shell weight',np.round(corr_var,3)),fontsize=20)\n",
    "plt.grid()\n",
    "plt.show()"
   ]
  },
  {
   "cell_type": "code",
   "execution_count": null,
   "id": "f666842c-a9fe-48d5-af23-af0d8dedc468",
   "metadata": {},
   "outputs": [],
   "source": []
  }
 ],
 "metadata": {
  "kernelspec": {
   "display_name": "Python 3",
   "language": "python",
   "name": "python3"
  },
  "language_info": {
   "codemirror_mode": {
    "name": "ipython",
    "version": 3
   },
   "file_extension": ".py",
   "mimetype": "text/x-python",
   "name": "python",
   "nbconvert_exporter": "python",
   "pygments_lexer": "ipython3",
   "version": "3.8.10"
  }
 },
 "nbformat": 4,
 "nbformat_minor": 5
}
