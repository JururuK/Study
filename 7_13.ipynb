{
 "cells": [
  {
   "cell_type": "code",
   "execution_count": 2,
   "id": "1874283e-6f63-4f70-8498-f1103340326a",
   "metadata": {},
   "outputs": [
    {
     "name": "stdin",
     "output_type": "stream",
     "text": [
      " 29292 39393\n"
     ]
    },
    {
     "name": "stdout",
     "output_type": "stream",
     "text": [
      "68685\n"
     ]
    }
   ],
   "source": [
    "A,B=map(int,input().split())\n",
    "print(A+B)"
   ]
  },
  {
   "cell_type": "code",
   "execution_count": 23,
   "id": "bb7bb514-25c0-4757-8ecb-eafda0e1134f",
   "metadata": {},
   "outputs": [
    {
     "name": "stdout",
     "output_type": "stream",
     "text": [
      "이동거리 :  1\n",
      "남은거리 :  8\n",
      "이동거리 :  2\n",
      "남은거리 :  6\n",
      "이동거리 :  3\n",
      "남은거리 :  3\n",
      "이동거리 :  2\n",
      "남은거리 :  1\n",
      "이동거리 :  1\n",
      "남은거리 :  0\n",
      "0\n",
      "0\n",
      "5\n"
     ]
    }
   ],
   "source": [
    "dis = 9\n",
    "\n",
    "i = 1\n",
    "total = 1\n",
    "cnt = 0\n",
    "while True :\n",
    "    dis -= i\n",
    "    print(\"이동거리 : \",i)\n",
    "    print(\"남은거리 : \",dis)\n",
    "    cnt += 1\n",
    "    if ((i+2)*(i+1))/2 <= dis : \n",
    "        i += 1\n",
    "\n",
    "    elif (i*(i+1))/2 <= dis and dis > ((i+2)*(i+1))/2 :\n",
    "        i = i\n",
    "    elif (i*(i+1))/2 > dis :\n",
    "        i -= 1\n",
    "\n",
    "    if dis < 1 :\n",
    "        break\n",
    "        \n",
    "print(i)\n",
    "print(dis)\n",
    "print(cnt)"
   ]
  },
  {
   "cell_type": "code",
   "execution_count": 26,
   "id": "4959c296-e016-4d9b-a31c-66348ecaa968",
   "metadata": {},
   "outputs": [
    {
     "name": "stdin",
     "output_type": "stream",
     "text": [
      " 3\n",
      " 0 3\n"
     ]
    },
    {
     "name": "stdout",
     "output_type": "stream",
     "text": [
      "3\n"
     ]
    },
    {
     "name": "stdin",
     "output_type": "stream",
     "text": [
      " 1 5\n"
     ]
    },
    {
     "name": "stdout",
     "output_type": "stream",
     "text": [
      "3\n"
     ]
    },
    {
     "name": "stdin",
     "output_type": "stream",
     "text": [
      " 45 50\n"
     ]
    },
    {
     "name": "stdout",
     "output_type": "stream",
     "text": [
      "4\n"
     ]
    }
   ],
   "source": [
    "T = int(input())\n",
    "for _ in range(T):\n",
    "    x,y = map(int,input().split())\n",
    "    dis = y - x    \n",
    "    step = 1\n",
    "    cnt = 0\n",
    "    while True :\n",
    "        dis -= step\n",
    "        cnt += 1\n",
    "        if ((step+2)*(step+1))/2 <= dis : \n",
    "            step += 1\n",
    "        elif (step*(step+1))/2 <= dis :\n",
    "            step = step\n",
    "        elif (step*(step+1))/2 > dis :\n",
    "            step -= 1\n",
    "        if dis < 1 :\n",
    "            break\n",
    "\n",
    "    print(cnt)"
   ]
  },
  {
   "cell_type": "code",
   "execution_count": null,
   "id": "dc21b3a6-f676-4de1-91c3-ff402345bb88",
   "metadata": {},
   "outputs": [],
   "source": []
  }
 ],
 "metadata": {
  "kernelspec": {
   "display_name": "Python 3",
   "language": "python",
   "name": "python3"
  },
  "language_info": {
   "codemirror_mode": {
    "name": "ipython",
    "version": 3
   },
   "file_extension": ".py",
   "mimetype": "text/x-python",
   "name": "python",
   "nbconvert_exporter": "python",
   "pygments_lexer": "ipython3",
   "version": "3.8.10"
  }
 },
 "nbformat": 4,
 "nbformat_minor": 5
}
