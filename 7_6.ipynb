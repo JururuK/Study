{
 "cells": [
  {
   "cell_type": "code",
   "execution_count": null,
   "id": "e1ab3bdd-6378-44bf-8a58-da4a78d5b760",
   "metadata": {},
   "outputs": [],
   "source": [
    "def check(a,b,r,x,y):\n",
    "    if (x-a)**2 + (y-b)**2 >= r**2 :\n",
    "        return \"silent\"  ## 굳이 else 넣지 않아도 silent 리턴하면 함수가 끝남\n",
    "    return \"noisy\"\n",
    "\n",
    "a,b,r = map(int,input().split()) #한번에 int로 입력받음\n",
    "n = int(input())\n",
    "\n",
    "for _ in range(n):\n",
    "    x,y = map(int, input().split())\n",
    "    print(check(a,b,r,x,y))"
   ]
  },
  {
   "cell_type": "code",
   "execution_count": null,
   "id": "e8df369f-ceb7-4caf-b218-ec7d506418b0",
   "metadata": {},
   "outputs": [],
   "source": [
    "n_list = list(map(int,input().split()))\n",
    "count_max = 0\n",
    "count_min = 0\n",
    "for a in n_list:\n",
    "    for b in n_list:\n",
    "        if a != b and a > b :\n",
    "            count_max += 1\n",
    "    if count_max == (len(n_list)-1) :\n",
    "        max_num = a\n",
    "    else :\n",
    "        count_max = 0\n",
    "for a in n_list:\n",
    "    for b in n_list:\n",
    "        if a != b and a < b :\n",
    "            count_min += 1\n",
    "    if count_min == (len(n_list)-1) :\n",
    "        min_num = a\n",
    "    else :\n",
    "        count_min = 0\n",
    "print(max_num)\n",
    "print(min_num)"
   ]
  },
  {
   "cell_type": "code",
   "execution_count": null,
   "id": "781cfeb3-4336-41a1-ad75-93fe1f828a40",
   "metadata": {},
   "outputs": [],
   "source": [
    "N = int(input())\n",
    "\n",
    "div_num = 1\n",
    "div = (N / div_num)\n",
    "div_list = []\n",
    "while True :\n",
    "    if N % div_num == 0 :\n",
    "        div_list.append(int(div_num))\n",
    "        div_list.append(int(div))\n",
    "\n",
    "    elif div_num > div :\n",
    "        break\n",
    "    \n",
    "    div_num += 1\n",
    "final_list = list(set(div_list)).sort()\n",
    "\n",
    "print(final_list)"
   ]
  },
  {
   "cell_type": "code",
   "execution_count": null,
   "id": "18d5335d-f7ee-4f4d-9e2f-3d2142013e34",
   "metadata": {},
   "outputs": [],
   "source": [
    "def solve(a) :\n",
    "    total = sum(a)\n",
    "    return total\n",
    "\n",
    "solve(a)"
   ]
  },
  {
   "cell_type": "code",
   "execution_count": null,
   "id": "437a3d9e-3756-43c7-a14c-efcd3e55bcb5",
   "metadata": {},
   "outputs": [],
   "source": [
    "i = 133\n",
    "\n",
    "num = str(i)\n",
    "kap = i + int(num[0])+int(num[1])+int(num[2])\n",
    "print(kap)"
   ]
  },
  {
   "cell_type": "code",
   "execution_count": null,
   "id": "64e41ec4-5efd-455f-81d0-ab5a8fa970dd",
   "metadata": {},
   "outputs": [],
   "source": []
  },
  {
   "cell_type": "code",
   "execution_count": null,
   "id": "bceeb77a-83e7-45fa-b10f-7e666e9eaf96",
   "metadata": {},
   "outputs": [],
   "source": [
    "i = 0\n",
    "Kap_list = []\n",
    "while i < 10000 :\n",
    "    num = str(i)\n",
    "    tot = i\n",
    "    for j in range(len(num)) :\n",
    "        tot += int(num[j])\n",
    "    Kap_list.append(tot)\n",
    "    i = i + 1\n",
    "\n",
    "set_10000 = set(range(1,10001))\n",
    "Kap_set = set(Kap_list)\n",
    "self_num = set_10000 - Kap_set\n",
    "list_self = list(self_num)\n",
    "list_self.sort()\n",
    "\n",
    "for i in list_self :\n",
    "    print(i)"
   ]
  },
  {
   "cell_type": "code",
   "execution_count": 9,
   "id": "07531dd5-eed5-49bf-a095-4ba1b34d03e4",
   "metadata": {},
   "outputs": [
    {
     "name": "stdin",
     "output_type": "stream",
     "text": [
      " 110\n"
     ]
    },
    {
     "name": "stdout",
     "output_type": "stream",
     "text": [
      "99\n"
     ]
    }
   ],
   "source": [
    "N = int(input())\n",
    "i = 1\n",
    "count = 0\n",
    "while i <= N :\n",
    "    num = str(i)\n",
    "    if i >= 100 :\n",
    "        if int(num[1])-int(num[0]) == int(num[2])-int(num[1]) :\n",
    "            count += 1\n",
    "            i += 1\n",
    "        else :\n",
    "            i += 1\n",
    "            \n",
    "    elif i < 100 :\n",
    "        count += 1\n",
    "        i += 1\n",
    "print(count)"
   ]
  },
  {
   "cell_type": "code",
   "execution_count": null,
   "id": "95773a1e-8f64-4279-8c9b-e026bed2dd38",
   "metadata": {},
   "outputs": [],
   "source": [
    "i = 11\n",
    "str[i]\n"
   ]
  },
  {
   "cell_type": "code",
   "execution_count": 12,
   "id": "c72ccb3e-3d47-4d18-a654-c58a2735d80a",
   "metadata": {},
   "outputs": [
    {
     "name": "stdin",
     "output_type": "stream",
     "text": [
      " A\n"
     ]
    },
    {
     "name": "stdout",
     "output_type": "stream",
     "text": [
      "65\n"
     ]
    }
   ],
   "source": [
    "N = input()\n",
    "\n",
    "if N == int :\n",
    "    print(chr(N))\n",
    "else :\n",
    "    print(ord(N))"
   ]
  },
  {
   "cell_type": "code",
   "execution_count": 17,
   "id": "644955f5-c128-4bc4-83ec-d748a551c4f0",
   "metadata": {},
   "outputs": [
    {
     "name": "stdin",
     "output_type": "stream",
     "text": [
      " 5\n",
      " 54321\n"
     ]
    },
    {
     "name": "stdout",
     "output_type": "stream",
     "text": [
      "15\n"
     ]
    }
   ],
   "source": [
    "N = int(input())\n",
    "num = str(input())\n",
    "tot = 0\n",
    "for i in range(len(num)) :\n",
    "    tot += int(num[i])\n",
    "    \n",
    "print(tot)"
   ]
  },
  {
   "cell_type": "code",
   "execution_count": 15,
   "id": "88b793c3-5247-45a4-98bd-edbd35601196",
   "metadata": {},
   "outputs": [
    {
     "name": "stdin",
     "output_type": "stream",
     "text": [
      " 4321\n"
     ]
    },
    {
     "data": {
      "text/plain": [
       "'4'"
      ]
     },
     "execution_count": 15,
     "metadata": {},
     "output_type": "execute_result"
    }
   ],
   "source": [
    "num = str(input())\n",
    "num[0]"
   ]
  },
  {
   "cell_type": "code",
   "execution_count": 20,
   "id": "4f2db1be-3e0c-478b-87a9-076599887662",
   "metadata": {},
   "outputs": [
    {
     "data": {
      "text/plain": [
       "-1"
      ]
     },
     "execution_count": 20,
     "metadata": {},
     "output_type": "execute_result"
    }
   ],
   "source": [
    "word = 'jujn'\n",
    "word.find('x')"
   ]
  },
  {
   "cell_type": "code",
   "execution_count": 23,
   "id": "49365b16-6edd-46ee-bb8d-2715c8257cf8",
   "metadata": {},
   "outputs": [
    {
     "name": "stdin",
     "output_type": "stream",
     "text": [
      " baekjoon\n"
     ]
    },
    {
     "name": "stdout",
     "output_type": "stream",
     "text": [
      "1 0 -1 -1 2 -1 -1 -1 -1 4 3 -1 -1 7 5 -1 -1 -1 -1 -1 -1 -1 -1 -1 -1 -1 "
     ]
    }
   ],
   "source": [
    "S = input()\n",
    "eng = \"abcdefghijklmnopqrstuvwxyz\"\n",
    "for i in range(len(eng)) :\n",
    "    print(S.find(eng[i]),end=' ')\n",
    "\n"
   ]
  },
  {
   "cell_type": "code",
   "execution_count": 4,
   "id": "1302ceb7-817e-41d8-b88c-182f8b4743d3",
   "metadata": {},
   "outputs": [
    {
     "data": {
      "text/plain": [
       "[1, 2, 3]"
      ]
     },
     "execution_count": 4,
     "metadata": {},
     "output_type": "execute_result"
    }
   ],
   "source": [
    "num = [1,2,3]\n",
    "num.insert(2,6)\n",
    "del num[2]\n",
    "num"
   ]
  },
  {
   "cell_type": "code",
   "execution_count": 5,
   "id": "385dde5b-13d3-4c29-ba4c-4d7542944733",
   "metadata": {},
   "outputs": [
    {
     "data": {
      "text/plain": [
       "1.5"
      ]
     },
     "execution_count": 5,
     "metadata": {},
     "output_type": "execute_result"
    }
   ],
   "source": [
    "1/2*3"
   ]
  },
  {
   "cell_type": "code",
   "execution_count": 57,
   "id": "63146a37-ef98-4927-bb14-0e70a3e403c3",
   "metadata": {},
   "outputs": [
    {
     "name": "stdin",
     "output_type": "stream",
     "text": [
      " 14\n"
     ]
    },
    {
     "name": "stdout",
     "output_type": "stream",
     "text": [
      "2/4\n"
     ]
    }
   ],
   "source": [
    "X = int(input())\n",
    "i=1\n",
    "while True :\n",
    "    tot = i*(i+1)/2\n",
    "    if X > tot :\n",
    "        i += 1\n",
    "    else :\n",
    "        div = (tot-X)+1\n",
    "        down = int(div)\n",
    "        up = i + 1 - down\n",
    "        break\n",
    "if i % 2 == 0 :\n",
    "    print(\"{}/{}\".format(up,down))\n",
    "else :\n",
    "    print(\"{}/{}\".format(down,up))"
   ]
  },
  {
   "cell_type": "code",
   "execution_count": 72,
   "id": "b8e7c9f2-bdd5-4c99-b55f-9fc13e4857d0",
   "metadata": {},
   "outputs": [
    {
     "name": "stdin",
     "output_type": "stream",
     "text": [
      " 100 99 1000000000\n"
     ]
    },
    {
     "name": "stdout",
     "output_type": "stream",
     "text": [
      "999999901\n"
     ]
    }
   ],
   "source": [
    "import math\n",
    "A,B,V = map(int,input().split())\n",
    "\n",
    "day = math.ceil((V-A)/(A-B))+1\n",
    "\n",
    "print(day)"
   ]
  },
  {
   "cell_type": "code",
   "execution_count": null,
   "id": "ba3b13fd-d5d5-4d04-99d4-7eaaa6d3a5c0",
   "metadata": {},
   "outputs": [],
   "source": []
  }
 ],
 "metadata": {
  "kernelspec": {
   "display_name": "Python 3",
   "language": "python",
   "name": "python3"
  },
  "language_info": {
   "codemirror_mode": {
    "name": "ipython",
    "version": 3
   },
   "file_extension": ".py",
   "mimetype": "text/x-python",
   "name": "python",
   "nbconvert_exporter": "python",
   "pygments_lexer": "ipython3",
   "version": "3.8.10"
  }
 },
 "nbformat": 4,
 "nbformat_minor": 5
}
