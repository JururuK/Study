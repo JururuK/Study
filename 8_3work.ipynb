{
 "cells": [
  {
   "cell_type": "code",
   "execution_count": 15,
   "id": "70b3e4df-f475-418c-a018-9d8adb659f12",
   "metadata": {},
   "outputs": [
    {
     "name": "stdin",
     "output_type": "stream",
     "text": [
      " 6\n"
     ]
    },
    {
     "name": "stdout",
     "output_type": "stream",
     "text": [
      "[4]\n"
     ]
    }
   ],
   "source": [
    "N = int(input())\n",
    "\n",
    "card_list = [x+1 for x in range(N)]\n",
    "\n",
    "for i in range(2*N-3):\n",
    "    if i % 2 == 0 :\n",
    "        card_list.pop(0)\n",
    "    if i % 2 == 1 :\n",
    "        a = card_list.pop(0)\n",
    "        card_list.append(a)\n",
    "        \n",
    "print(card_list)"
   ]
  },
  {
   "cell_type": "code",
   "execution_count": 57,
   "id": "338daaae-bbc5-4360-9644-a4dfa8d9b6b9",
   "metadata": {},
   "outputs": [
    {
     "name": "stdin",
     "output_type": "stream",
     "text": [
      " 10 3\n",
      " 2 9 5\n"
     ]
    },
    {
     "name": "stdout",
     "output_type": "stream",
     "text": [
      "1\n",
      "[3, 4, 5, 6, 7, 8, 9, 10, 1]\n",
      "4\n",
      "7\n",
      "10\n",
      "[10, 1, 3, 4, 5, 6, 7, 8]\n",
      "14\n",
      "18\n",
      "22\n",
      "26\n",
      "[6, 7, 8, 10, 1, 3, 4]\n",
      "26\n"
     ]
    }
   ],
   "source": [
    "M,X = map(int,input().split())\n",
    "queue = [x+1 for x in range(M)]\n",
    "num = input().split()\n",
    "num_list = list(map(int,num))\n",
    "cnt = 0\n",
    "def left():\n",
    "    a = queue.pop(0)\n",
    "    queue.append(a)\n",
    "    return queue\n",
    "def right():\n",
    "    a = queue.pop()\n",
    "    queue.insert(0,a)\n",
    "    return queue\n",
    "\n",
    "def move(num):\n",
    "    global cnt\n",
    "    for x in range(len(queue)):\n",
    "        if queue[x] == num :\n",
    "            if x <= len(queue) - x :\n",
    "                for _ in range(x):\n",
    "                    left()\n",
    "                    cnt+=x\n",
    "                    print(cnt)\n",
    "            if x > len(queue) - x :\n",
    "                for _ in range(len(queue)-x):\n",
    "                    right()\n",
    "                    cnt+=len(queue)-x\n",
    "                    print(cnt)\n",
    "    return cnt\n",
    "def run(queue) :\n",
    "    for i in range(len(num_list)) :\n",
    "\n",
    "        if num_list[i] == queue[0]:\n",
    "            queue.pop(0)\n",
    "                \n",
    "        else :           \n",
    "            move(num_list[i])\n",
    "            queue.pop(0)\n",
    "            print(queue)\n",
    "    print(cnt)\n",
    "\n",
    "run(queue)"
   ]
  },
  {
   "cell_type": "markdown",
   "id": "750076c9-e6d6-46cf-bec8-595484eba755",
   "metadata": {},
   "source": [
    "# def left():\n",
    "    a = queue.pop(0)\n",
    "    queue.append(a)\n",
    "    return queue\n",
    "\n",
    "def right():\n",
    "    a = queue.pop()\n",
    "    queue.insert(0,a)\n",
    "    return queue\n",
    "queue = [1,2,3,4]\n",
    "for _ in range(3) :\n",
    "    right()\n",
    "\n",
    "queue"
   ]
  },
  {
   "cell_type": "code",
   "execution_count": 19,
   "id": "95359738-fa88-4b19-99d4-07bde8bc83d1",
   "metadata": {},
   "outputs": [
    {
     "name": "stdout",
     "output_type": "stream",
     "text": [
      "0\n",
      "2\n",
      "4\n",
      "8\n",
      "1\n",
      "2\n",
      "4\n",
      "8\n"
     ]
    },
    {
     "data": {
      "text/plain": [
       "29"
      ]
     },
     "execution_count": 19,
     "metadata": {},
     "output_type": "execute_result"
    }
   ],
   "source": [
    "M=10\n",
    "queue = [x+1 for x in range(M)]\n",
    "num = [1,3,8]\n",
    "cnt = 0\n",
    "for n in num :\n",
    "    for j in range(M):\n",
    "        if queue[j] == n :\n",
    "            for _ in range(j) :\n",
    "                right()\n",
    "            print(j)\n",
    "            cnt += j\n",
    "cnt\n"
   ]
  },
  {
   "cell_type": "code",
   "execution_count": null,
   "id": "b00546ab-3125-4ae4-8e87-bf023ec02328",
   "metadata": {},
   "outputs": [],
   "source": []
  },
  {
   "cell_type": "code",
   "execution_count": null,
   "id": "9bb4c796-d156-4e94-8907-403d2aca26f2",
   "metadata": {},
   "outputs": [],
   "source": []
  }
 ],
 "metadata": {
  "kernelspec": {
   "display_name": "Python 3",
   "language": "python",
   "name": "python3"
  },
  "language_info": {
   "codemirror_mode": {
    "name": "ipython",
    "version": 3
   },
   "file_extension": ".py",
   "mimetype": "text/x-python",
   "name": "python",
   "nbconvert_exporter": "python",
   "pygments_lexer": "ipython3",
   "version": "3.8.10"
  }
 },
 "nbformat": 4,
 "nbformat_minor": 5
}
