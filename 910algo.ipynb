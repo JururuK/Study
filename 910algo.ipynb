{
 "cells": [
  {
   "cell_type": "code",
   "execution_count": 4,
   "id": "697de218-fd56-49e0-ad44-e763373c6f2f",
   "metadata": {},
   "outputs": [
    {
     "name": "stdin",
     "output_type": "stream",
     "text": [
      " 5\n",
      " 4\n",
      " 2\n",
      " 3\n",
      " 1\n",
      " 6\n"
     ]
    },
    {
     "name": "stdout",
     "output_type": "stream",
     "text": [
      "[2, 3, 1],[4],[6]\n",
      "[1],[2],[3]\n"
     ]
    },
    {
     "data": {
      "text/plain": [
       "[1, 2, 3, 4, 6]"
      ]
     },
     "execution_count": 4,
     "metadata": {},
     "output_type": "execute_result"
    }
   ],
   "source": [
    "def quicksort(num_list) :\n",
    "    if len(num_list) <= 1:\n",
    "        return num_list\n",
    "    pivot_idx = 0\n",
    "    #num_list[pivot_idx]\n",
    "    less_list = []\n",
    "    more_list = []\n",
    "    \n",
    "    for num in num_list[(pivot_idx)+1:] :\n",
    "        if num < num_list[pivot_idx]:\n",
    "            less_list.append(num)\n",
    "        else :\n",
    "            more_list.append(num)\n",
    "    print(f\"{less_list},{[num_list[pivot_idx]]},{more_list}\")        \n",
    "    return quicksort(less_list) + [num_list[pivot_idx]]+ quicksort(more_list)        \n",
    "\n",
    "\n",
    "\n",
    "n = int(input())\n",
    "\n",
    "num_list = []\n",
    "\n",
    "for _ in range(n):\n",
    "    num_list.append(int(input()))\n",
    "    \n",
    "\n",
    "quicksort(num_list)"
   ]
  },
  {
   "cell_type": "code",
   "execution_count": null,
   "id": "f8039488-d559-41bb-a101-4be21cd5ac1a",
   "metadata": {},
   "outputs": [],
   "source": []
  }
 ],
 "metadata": {
  "kernelspec": {
   "display_name": "Python 3",
   "language": "python",
   "name": "python3"
  },
  "language_info": {
   "codemirror_mode": {
    "name": "ipython",
    "version": 3
   },
   "file_extension": ".py",
   "mimetype": "text/x-python",
   "name": "python",
   "nbconvert_exporter": "python",
   "pygments_lexer": "ipython3",
   "version": "3.8.10"
  }
 },
 "nbformat": 4,
 "nbformat_minor": 5
}
