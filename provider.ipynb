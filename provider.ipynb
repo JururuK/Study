{
 "cells": [
  {
   "cell_type": "code",
   "execution_count": 2,
   "id": "97556cd5",
   "metadata": {},
   "outputs": [
    {
     "name": "stdout",
     "output_type": "stream",
     "text": [
      "Requirement already satisfied: BeautifulSoup4 in c:\\users\\jh\\anaconda3\\envs\\mxmx\\lib\\site-packages (4.6.0)\n"
     ]
    }
   ],
   "source": [
    "import os\n",
    "os.chdir(\"C:\\\\Users\\\\JH\\\\GJ_AI\\\\news\\\\rank\")\n",
    "%run lib.ipynb"
   ]
  },
  {
   "cell_type": "code",
   "execution_count": 8,
   "id": "4cdcbc53",
   "metadata": {},
   "outputs": [
    {
     "name": "stdout",
     "output_type": "stream",
     "text": [
      "20190305\n",
      "2019-03-05에 중앙일보이(가) 35.6% 비율로 가장 많이 인용 기사를 보도했습니다.\n",
      "2019-03-05에 동아일보이(가) 30.0% 비율로 두번째로 인용 기사를 보도했습니다.\n",
      "2019-03-05에 서울신문이(가) 27.8% 비율로 세번째로 인용 기사를 보도했습니다.\n"
     ]
    }
   ],
   "source": [
    "date = input()\n",
    "today = date[:4]+'-'+date[4:6]+'-'+date[6:]\n",
    "date1 = str(int(date)+1)\n",
    "tomorrow = date1[:4]+'-'+date1[4:6]+'-'+date1[6:]\n",
    "provider = [\"경향신문\",\"국민일보\",\"내일신문\",\"동아일보\",\"문화일보\",\"서울신문\",\"세계일보\",\"조선일보\",\"중앙일보\",\"한겨레\",\"경기일보\",\"경인일보\",\"강원도민일보\",\"강원일보\",\"대전일보\",\"중도일보\",\"중부매일\",\"중부일보\",\"충북일보\",\"충청일보\",\"충청투데이\",\"경남신문\",\"경남도민일보\",\"경상일보\",\"국제신문\",\"대구일보\",\"매일신문\",\"부산일보\",\"영남일보\",\"울산매일\",\"광주매일신문\",\"광주일보\",\"무등일보\",\"전남일보\",\"전북도민일보\",\"전북일보\",\"제민일보\",\"한라일보\",\"머니투데이\",\"서울경제\",\"파이낸셜뉴스\",\"한국경제\",\"헤럴드경제\",\"아시아경제\",\"아주경제\",\"전자신문\"]\n",
    "\n",
    "my_key = \"a19a4199-9fe3-4dff-90ed-6512bb359f2b\"\n",
    "\n",
    "result_url = 'http://tools.kinds.or.kr:8888/search/news'\n",
    "per_list = []\n",
    "for i in range(len(provider)):\n",
    "    data = {\n",
    "        \"access_key\": f\"{my_key}\",\n",
    "        \"argument\": {\n",
    "            \"query\":\"\",\n",
    "            \"published_at\": {\n",
    "                \"from\": today, \n",
    "                \"until\": tomorrow\n",
    "            },\n",
    "            \"provider\": [provider[i]],\n",
    "            \"category\": [\"\"],\n",
    "#            \"category_incident\": [\"\"],\n",
    "#            \"byline\": \"\",\n",
    "            \"provider_subject\": [\"\"],\n",
    "            \"subject_info\": [\"\"],\n",
    "#             \"subject_info1\": [\"\"],\n",
    "#             \"subject_info2\": [\"\"],\n",
    "#             \"subject_info3\": [\"\"],\n",
    "#             \"subject_info4\": [\"\"],\n",
    "            \"sort\": {\"date\": \"desc\"},\n",
    "            \"hilight\": 200,\n",
    "            \"return_from\": 0,\n",
    "            \"return_size\": 20000, \n",
    "            \"fields\": [\n",
    "                \"hilight\",\n",
    "                \"byline\",\n",
    "                \"category\",\n",
    "                \"category_incident\",\n",
    "                \"images\",\n",
    "                \"provider_subject\",\n",
    "                \"subject_info\",\n",
    "                \"provider_news_id\",\n",
    "                \"publisher_code\"\n",
    "            ]\n",
    "        }\n",
    "    }\n",
    "\n",
    "    response = requests.post(result_url, data=json.dumps(data))\n",
    "    res_json = response.json()\n",
    "    res_doc = res_json['return_object']['documents']\n",
    "    res_title = [x['title'] for x in res_doc]\n",
    "    if len(res_title) == 0 :\n",
    "        print(\"{} {} 뉴스에는 따옴표가 없습니다.\".format(today,provider[i],np.round(per*100,2)))\n",
    "\n",
    "    else :\n",
    "        sen_res=[]\n",
    "        for sen in res_title :\n",
    "            if '“' in sen :\n",
    "                sen = sen.replace('“','\"')\n",
    "                if '”' in sen :\n",
    "                    sen = sen.replace('”','\"')\n",
    "                sen_res.append(sen)\n",
    "            elif '”' in sen :\n",
    "                sen = sen.replace('”','\"')\n",
    "                sen_res.append(sen)\n",
    "            elif '\"' in sen :\n",
    "                sen_res.append(sen)\n",
    "        per = np.round((len(sen_res)/len(res_title)),4)\n",
    "        per_list.append([per,provider[i]])\n",
    "        \n",
    "per_list.sort(reverse=True)\n",
    "print(\"{}에 {}이(가) {}% 비율로 가장 많이 인용 기사를 보도했습니다.\".format(today,per_list[0][1],np.round(per_list[0][0]*100,1)))\n",
    "print(\"{}에 {}이(가) {}% 비율로 두번째로 인용 기사를 보도했습니다.\".format(today,per_list[1][1],np.round(per_list[1][0]*100,1)))\n",
    "print(\"{}에 {}이(가) {}% 비율로 세번째로 인용 기사를 보도했습니다.\".format(today,per_list[2][1],np.round(per_list[2][0]*100,1)))"
   ]
  },
  {
   "cell_type": "code",
   "execution_count": null,
   "id": "2262e7ac",
   "metadata": {},
   "outputs": [],
   "source": []
  }
 ],
 "metadata": {
  "kernelspec": {
   "display_name": "Python 3",
   "language": "python",
   "name": "python3"
  },
  "language_info": {
   "codemirror_mode": {
    "name": "ipython",
    "version": 3
   },
   "file_extension": ".py",
   "mimetype": "text/x-python",
   "name": "python",
   "nbconvert_exporter": "python",
   "pygments_lexer": "ipython3",
   "version": "3.6.13"
  }
 },
 "nbformat": 4,
 "nbformat_minor": 5
}
