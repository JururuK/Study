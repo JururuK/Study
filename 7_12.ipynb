{
 "cells": [
  {
   "cell_type": "code",
   "execution_count": null,
   "id": "32699eb2-30d8-4020-9644-00c69c435957",
   "metadata": {},
   "outputs": [],
   "source": [
    "N,M=map(int,input().split())\n",
    "BUS = input().split(' ')\n",
    "num = []\n",
    "total = 0\n",
    "for _ in range(N) :\n",
    "    num.append(input().split(' '))\n",
    "\n",
    "for i in range(len(BUS)-1):\n",
    "    total += int(num[(int(BUS[i]))-1][(int(BUS[i+1])-1)])\n",
    "\n",
    "print(total)"
   ]
  },
  {
   "cell_type": "code",
   "execution_count": null,
   "id": "131fc82f-2045-4f1f-96a0-2bd894a351e7",
   "metadata": {},
   "outputs": [],
   "source": [
    "num[(int(BUS[i]))-1][(int(BUS[i+1])-1)]"
   ]
  },
  {
   "cell_type": "code",
   "execution_count": null,
   "id": "ab7d564d-c074-4439-a40f-5402af78dab9",
   "metadata": {},
   "outputs": [],
   "source": [
    "import pandas as pd\n",
    "df = pd.Series([1,'a'])\n",
    "df.values"
   ]
  },
  {
   "cell_type": "code",
   "execution_count": null,
   "id": "e0672447-d789-41a7-8735-4f8bf805a564",
   "metadata": {},
   "outputs": [],
   "source": [
    "a = [1,2,3]\n",
    "max(a)"
   ]
  },
  {
   "cell_type": "code",
   "execution_count": null,
   "id": "5460a151-51f4-485b-b683-c59da5ff8208",
   "metadata": {},
   "outputs": [],
   "source": [
    "kg = int(input())\n",
    "cnt = []\n",
    "k_5 = kg//5\n",
    "\n",
    "for i in range(k_5+1):\n",
    "    if (kg-(5*i)) % 3 == 0 :\n",
    "        k_3 = (kg-(5*i)) // 3\n",
    "        cnt.append(i+(k_3))\n",
    "\n",
    "if len(cnt) == 0 :\n",
    "    print(-1)\n",
    "else :\n",
    "    print(min(cnt))"
   ]
  },
  {
   "cell_type": "code",
   "execution_count": null,
   "id": "7017a1ac-3d91-42ba-9b42-de394ce572de",
   "metadata": {},
   "outputs": [],
   "source": [
    "import tensorflow as tf\n",
    "import pandas as pd\n",
    "mlb = pd.read_csv('dataset/major_full.csv')"
   ]
  },
  {
   "cell_type": "code",
   "execution_count": null,
   "id": "65bcef9d-41c0-4856-b570-0c1879a88c10",
   "metadata": {},
   "outputs": [],
   "source": [
    "mlb"
   ]
  },
  {
   "cell_type": "code",
   "execution_count": null,
   "id": "f65382c0-ad76-4bf0-a1c8-be959f4c29c2",
   "metadata": {},
   "outputs": [],
   "source": [
    "for i in range(len(mlb)):\n",
    "    mlb['2020PAYROLL'][i].replace(',',\"\")"
   ]
  },
  {
   "cell_type": "code",
   "execution_count": null,
   "id": "355a4327-a4d1-434d-a860-3d865b445bdf",
   "metadata": {},
   "outputs": [],
   "source": [
    "mlb"
   ]
  },
  {
   "cell_type": "code",
   "execution_count": null,
   "id": "e43e1462-9be7-4bd4-b51d-7f7d0397e565",
   "metadata": {},
   "outputs": [],
   "source": [
    "mlb['2020PAYROLL']=pd.to_numeric(mlb['2020PAYROLL'])"
   ]
  },
  {
   "cell_type": "code",
   "execution_count": null,
   "id": "be23dcaf-6f47-4d50-ae0d-a4279576234a",
   "metadata": {},
   "outputs": [],
   "source": [
    "mlb['2020PAYROLL']"
   ]
  },
  {
   "cell_type": "code",
   "execution_count": null,
   "id": "ba743893-57ea-4d86-a1a5-454f69110fb2",
   "metadata": {},
   "outputs": [],
   "source": [
    "display(mlb.describe())"
   ]
  },
  {
   "cell_type": "code",
   "execution_count": null,
   "id": "85592c7a-6d13-47f3-bc08-85c0ef185b14",
   "metadata": {},
   "outputs": [],
   "source": [
    "mlb"
   ]
  },
  {
   "cell_type": "code",
   "execution_count": null,
   "id": "19c0eb93-6eb8-4952-90fc-c0433a50efe2",
   "metadata": {},
   "outputs": [],
   "source": [
    "import numpy as np"
   ]
  },
  {
   "cell_type": "code",
   "execution_count": null,
   "id": "64c00916-e837-4970-b0fd-98594895ce63",
   "metadata": {},
   "outputs": [],
   "source": [
    "mlb_data=mlb.drop('TEAM',axis=1)"
   ]
  },
  {
   "cell_type": "code",
   "execution_count": null,
   "id": "903e14ea-1f45-4447-b430-4ea7eb24ceb5",
   "metadata": {},
   "outputs": [],
   "source": [
    "mlb_data"
   ]
  },
  {
   "cell_type": "code",
   "execution_count": null,
   "id": "379b39b6-09a9-416e-8274-1859449f15e7",
   "metadata": {},
   "outputs": [],
   "source": [
    "mlb_norm = (mlb_data-mlb_data.min())/(mlb_data.max()-mlb_data.min())"
   ]
  },
  {
   "cell_type": "code",
   "execution_count": null,
   "id": "950b1a29-741b-47c5-b3c8-460527ba914c",
   "metadata": {},
   "outputs": [],
   "source": [
    "mlb_norm"
   ]
  },
  {
   "cell_type": "code",
   "execution_count": null,
   "id": "b5155a39-d028-4114-a9a4-2cddfcf352c7",
   "metadata": {},
   "outputs": [],
   "source": [
    "mlb_shuffle = mlb_norm.sample(frac = 1)"
   ]
  },
  {
   "cell_type": "code",
   "execution_count": null,
   "id": "36365d30-02c9-4e8d-ba57-cf2424ec3e28",
   "metadata": {},
   "outputs": [],
   "source": [
    "mlb_shuffle.head()"
   ]
  },
  {
   "cell_type": "code",
   "execution_count": null,
   "id": "a3bd30c6-2804-466f-9b01-3dc73139ae20",
   "metadata": {},
   "outputs": [],
   "source": [
    "mlb_np = mlb_shuffle.to_numpy()"
   ]
  },
  {
   "cell_type": "code",
   "execution_count": null,
   "id": "b687013c-929c-4ede-b2ec-0a6d30b38aba",
   "metadata": {},
   "outputs": [],
   "source": [
    "print(mlb_np[:,:4])"
   ]
  },
  {
   "cell_type": "code",
   "execution_count": null,
   "id": "87d00fd1-5009-469f-867a-3e59c8900d3c",
   "metadata": {
    "tags": []
   },
   "outputs": [],
   "source": [
    "train_ratio = 0.8\n",
    "input_cnt = 4\n",
    "output_cnt = 1\n",
    "\n",
    "train_idx = int(len(mlb_np)*train_ratio)\n",
    "print(\"train_idx : \",train_idx)\n",
    "print(\"test_idx : \", len(mlb_np)-train_idx)"
   ]
  },
  {
   "cell_type": "code",
   "execution_count": null,
   "id": "e5a82a65-a33e-49f5-a3ce-83eabf420490",
   "metadata": {},
   "outputs": [],
   "source": [
    "train_X, train_Y = mlb_np[:train_idx,:-output_cnt],mlb_np[:train_idx,-output_cnt]\n",
    "test_X, test_Y = mlb_np[train_idx:,:-output_cnt],mlb_np[train_idx:,-output_cnt:]"
   ]
  },
  {
   "cell_type": "code",
   "execution_count": null,
   "id": "9322b1ad-836b-4050-9690-484f262142b7",
   "metadata": {},
   "outputs": [],
   "source": [
    "print(train_X)\n",
    "print(train_Y)\n",
    "print(test_X)\n",
    "print(test_Y)"
   ]
  },
  {
   "cell_type": "code",
   "execution_count": null,
   "id": "41f78cb2-ab86-4119-92e8-794c508dd858",
   "metadata": {},
   "outputs": [],
   "source": [
    "import matplotlib.pyplot as plt\n",
    "import seaborn as sns\n",
    "import warnings\n",
    "warnings.filterwarnings('ignore')\n",
    "import tensorflow as tf"
   ]
  },
  {
   "cell_type": "code",
   "execution_count": null,
   "id": "f2f8208a-1816-4222-8d60-54b1f81fb8fa",
   "metadata": {},
   "outputs": [],
   "source": [
    "simple_layer_model = tf.keras.Sequential([\n",
    "    tf.keras.layers.Dense(units=1,activation='softmax',input_shape=(4,))\n",
    "])"
   ]
  },
  {
   "cell_type": "code",
   "execution_count": null,
   "id": "404daaef-0ba8-442f-92ed-007aef4ec7b7",
   "metadata": {},
   "outputs": [],
   "source": [
    "simple_layer_model.summary()"
   ]
  },
  {
   "cell_type": "code",
   "execution_count": null,
   "id": "b27e51f6-658a-43f3-9738-2cc5f5e0c0ff",
   "metadata": {},
   "outputs": [],
   "source": [
    "simple_layer_model.compile(optimizer=tf.keras.optimizers.Adam(learning_rate=0.1),\n",
    "                          loss = 'categorical_crossentropy',\n",
    "                          metrics = ['accuracy'])"
   ]
  },
  {
   "cell_type": "code",
   "execution_count": null,
   "id": "6f403185-04ec-4e89-9521-501d57ac39d4",
   "metadata": {},
   "outputs": [],
   "source": [
    "history_1 = simple_layer_model.fit(train_X,train_Y,epochs=30,batch_size=5)"
   ]
  },
  {
   "cell_type": "code",
   "execution_count": null,
   "id": "87ee5983-1253-49a7-9d0e-a33ee99c916f",
   "metadata": {},
   "outputs": [],
   "source": [
    "plt.figure(figsize=(15,5))\n",
    "plt.plot(history_1.history['loss'],'b--o',label='loss')\n",
    "plt.xlabel('Epoch')\n",
    "plt.ylabel('Loss')\n",
    "plt.grid()\n",
    "plt.show()"
   ]
  },
  {
   "cell_type": "code",
   "execution_count": null,
   "id": "9715feb4-6a61-4e30-891d-875c23be28ff",
   "metadata": {},
   "outputs": [],
   "source": [
    "import matplotlib.pyplot as plt\n",
    "import matplotlib.font_manager as fm"
   ]
  },
  {
   "cell_type": "code",
   "execution_count": 92,
   "id": "c55af4ff-9e9f-4fde-a57c-c959f5438c10",
   "metadata": {},
   "outputs": [],
   "source": [
    "from sklearn.neighbors import KNeighborsClassifier"
   ]
  },
  {
   "cell_type": "code",
   "execution_count": 93,
   "id": "7272360f-d6e5-4c42-b719-7d36ecea1a96",
   "metadata": {},
   "outputs": [],
   "source": [
    "from sklearn import metrics"
   ]
  },
  {
   "cell_type": "code",
   "execution_count": 100,
   "id": "10e562e6-7e43-4a21-b916-01befd20531a",
   "metadata": {},
   "outputs": [],
   "source": [
    "mlb_norm = mlb_norm.astype('int')"
   ]
  },
  {
   "cell_type": "code",
   "execution_count": 101,
   "id": "fea3892b-da43-49a7-ab07-7d4636fd8ca7",
   "metadata": {},
   "outputs": [
    {
     "name": "stdout",
     "output_type": "stream",
     "text": [
      "<class 'pandas.core.frame.DataFrame'>\n",
      "RangeIndex: 30 entries, 0 to 29\n",
      "Data columns (total 5 columns):\n",
      " #   Column       Non-Null Count  Dtype\n",
      "---  ------       --------------  -----\n",
      " 0   2020PAYROLL  30 non-null     int32\n",
      " 1   2020AVG      30 non-null     int32\n",
      " 2   2020ERA      30 non-null     int32\n",
      " 3   2020OPS      30 non-null     int32\n",
      " 4   RANK         30 non-null     int32\n",
      "dtypes: int32(5)\n",
      "memory usage: 728.0 bytes\n"
     ]
    }
   ],
   "source": [
    "mlb_norm.info()"
   ]
  },
  {
   "cell_type": "code",
   "execution_count": 103,
   "id": "5275fd40-8a38-4aa9-9582-2e007f0dca5a",
   "metadata": {},
   "outputs": [],
   "source": [
    "mlb_np = mlb_shuffle.to_numpy()"
   ]
  },
  {
   "cell_type": "code",
   "execution_count": 104,
   "id": "f9c9e67f-d633-45a8-aec5-6d0b80b10658",
   "metadata": {},
   "outputs": [
    {
     "name": "stdout",
     "output_type": "stream",
     "text": [
      "[[0.56443511 0.85714286 0.60714286 0.7539267 ]\n",
      " [0.71351139 0.14285714 0.3452381  0.33507853]\n",
      " [0.17884233 0.31746032 0.17063492 0.2513089 ]\n",
      " [0.56259843 0.41269841 0.35714286 0.27748691]\n",
      " [0.02101733 0.17460317 0.61904762 0.        ]\n",
      " [0.96018917 0.74603175 0.         0.94240838]\n",
      " [0.12812008 0.55555556 0.47222222 0.36649215]\n",
      " [0.47614633 0.50793651 0.69444444 0.32984293]\n",
      " [0.46049397 0.12698413 0.75793651 0.03664921]\n",
      " [0.56595817 0.76190476 0.80555556 0.73298429]\n",
      " [0.14968886 0.28571429 0.34920635 0.40314136]\n",
      " [0.58318797 0.87301587 0.79365079 0.67015707]\n",
      " [0.48114451 0.61904762 0.78571429 0.63874346]\n",
      " [0.66761506 0.57142857 0.41666667 0.41361257]\n",
      " [0.50112677 0.76190476 0.98412698 0.39267016]\n",
      " [0.20297717 0.20634921 0.41269841 0.31937173]\n",
      " [0.66093905 1.         0.74206349 0.86910995]\n",
      " [0.09130587 0.49206349 0.65873016 0.32460733]\n",
      " [0.34124422 0.82539683 0.26587302 0.72251309]\n",
      " [0.35629964 0.6984127  0.58730159 0.65445026]\n",
      " [0.56092097 0.73015873 0.38888889 0.82198953]\n",
      " [0.36355288 0.         0.29761905 0.38743455]\n",
      " [0.22254291 0.57142857 1.         0.30890052]\n",
      " [1.         0.63492063 0.51587302 0.77486911]\n",
      " [0.36401641 0.46031746 0.16269841 0.53403141]\n",
      " [0.68654136 0.88888889 0.98015873 0.70157068]\n",
      " [0.         0.79365079 0.56349206 0.57068063]\n",
      " [0.30471465 0.26984127 0.76984127 0.19371728]\n",
      " [0.45312112 0.85714286 0.45634921 1.        ]\n",
      " [0.0543978  0.34920635 0.22222222 0.58638743]]\n"
     ]
    }
   ],
   "source": [
    "print(mlb_np[:,:4])"
   ]
  },
  {
   "cell_type": "code",
   "execution_count": 105,
   "id": "8a421833-5f97-4711-8f71-c61b5a0aaf03",
   "metadata": {
    "tags": []
   },
   "outputs": [
    {
     "name": "stdout",
     "output_type": "stream",
     "text": [
      "train_idx :  24\n",
      "test_idx :  6\n"
     ]
    }
   ],
   "source": [
    "train_ratio = 0.8\n",
    "input_cnt = 4\n",
    "output_cnt = 1\n",
    "\n",
    "train_idx = int(len(mlb_np)*train_ratio)\n",
    "print(\"train_idx : \",train_idx)\n",
    "print(\"test_idx : \", len(mlb_np)-train_idx)"
   ]
  },
  {
   "cell_type": "code",
   "execution_count": 106,
   "id": "b2701a09-8da6-4b6c-af02-1a9bf9e12827",
   "metadata": {},
   "outputs": [],
   "source": [
    "train_X, train_Y = mlb_np[:train_idx,:-output_cnt],mlb_np[:train_idx,-output_cnt]\n",
    "test_X, test_Y = mlb_np[train_idx:,:-output_cnt],mlb_np[train_idx:,-output_cnt:]"
   ]
  },
  {
   "cell_type": "code",
   "execution_count": 110,
   "id": "380f1080-83d8-43c3-a894-0488dfe17fad",
   "metadata": {},
   "outputs": [
    {
     "name": "stdout",
     "output_type": "stream",
     "text": [
      "(24, 4)\n"
     ]
    }
   ],
   "source": [
    "print(train_X.shape)"
   ]
  },
  {
   "cell_type": "code",
   "execution_count": 114,
   "id": "d72f3506-a571-48ea-bf75-62c55cb88439",
   "metadata": {},
   "outputs": [
    {
     "data": {
      "text/html": [
       "<div>\n",
       "<style scoped>\n",
       "    .dataframe tbody tr th:only-of-type {\n",
       "        vertical-align: middle;\n",
       "    }\n",
       "\n",
       "    .dataframe tbody tr th {\n",
       "        vertical-align: top;\n",
       "    }\n",
       "\n",
       "    .dataframe thead th {\n",
       "        text-align: right;\n",
       "    }\n",
       "</style>\n",
       "<table border=\"1\" class=\"dataframe\">\n",
       "  <thead>\n",
       "    <tr style=\"text-align: right;\">\n",
       "      <th></th>\n",
       "      <th>0</th>\n",
       "      <th>1</th>\n",
       "      <th>2</th>\n",
       "      <th>3</th>\n",
       "    </tr>\n",
       "  </thead>\n",
       "  <tbody>\n",
       "    <tr>\n",
       "      <th>0</th>\n",
       "      <td>0.564435</td>\n",
       "      <td>0.857143</td>\n",
       "      <td>0.607143</td>\n",
       "      <td>0.753927</td>\n",
       "    </tr>\n",
       "    <tr>\n",
       "      <th>1</th>\n",
       "      <td>0.713511</td>\n",
       "      <td>0.142857</td>\n",
       "      <td>0.345238</td>\n",
       "      <td>0.335079</td>\n",
       "    </tr>\n",
       "    <tr>\n",
       "      <th>2</th>\n",
       "      <td>0.178842</td>\n",
       "      <td>0.317460</td>\n",
       "      <td>0.170635</td>\n",
       "      <td>0.251309</td>\n",
       "    </tr>\n",
       "    <tr>\n",
       "      <th>3</th>\n",
       "      <td>0.562598</td>\n",
       "      <td>0.412698</td>\n",
       "      <td>0.357143</td>\n",
       "      <td>0.277487</td>\n",
       "    </tr>\n",
       "    <tr>\n",
       "      <th>4</th>\n",
       "      <td>0.021017</td>\n",
       "      <td>0.174603</td>\n",
       "      <td>0.619048</td>\n",
       "      <td>0.000000</td>\n",
       "    </tr>\n",
       "  </tbody>\n",
       "</table>\n",
       "</div>"
      ],
      "text/plain": [
       "          0         1         2         3\n",
       "0  0.564435  0.857143  0.607143  0.753927\n",
       "1  0.713511  0.142857  0.345238  0.335079\n",
       "2  0.178842  0.317460  0.170635  0.251309\n",
       "3  0.562598  0.412698  0.357143  0.277487\n",
       "4  0.021017  0.174603  0.619048  0.000000"
      ]
     },
     "execution_count": 114,
     "metadata": {},
     "output_type": "execute_result"
    }
   ],
   "source": [
    "mlb_df = pd.DataFrame(train_X)\n",
    "mlb_df.head()"
   ]
  },
  {
   "cell_type": "code",
   "execution_count": 115,
   "id": "95252de6-cd53-491e-83c4-fcf7c2be3718",
   "metadata": {},
   "outputs": [
    {
     "data": {
      "text/plain": [
       "array([[<AxesSubplot:xlabel='0', ylabel='0'>,\n",
       "        <AxesSubplot:xlabel='1', ylabel='0'>,\n",
       "        <AxesSubplot:xlabel='2', ylabel='0'>,\n",
       "        <AxesSubplot:xlabel='3', ylabel='0'>],\n",
       "       [<AxesSubplot:xlabel='0', ylabel='1'>,\n",
       "        <AxesSubplot:xlabel='1', ylabel='1'>,\n",
       "        <AxesSubplot:xlabel='2', ylabel='1'>,\n",
       "        <AxesSubplot:xlabel='3', ylabel='1'>],\n",
       "       [<AxesSubplot:xlabel='0', ylabel='2'>,\n",
       "        <AxesSubplot:xlabel='1', ylabel='2'>,\n",
       "        <AxesSubplot:xlabel='2', ylabel='2'>,\n",
       "        <AxesSubplot:xlabel='3', ylabel='2'>],\n",
       "       [<AxesSubplot:xlabel='0', ylabel='3'>,\n",
       "        <AxesSubplot:xlabel='1', ylabel='3'>,\n",
       "        <AxesSubplot:xlabel='2', ylabel='3'>,\n",
       "        <AxesSubplot:xlabel='3', ylabel='3'>]], dtype=object)"
      ]
     },
     "execution_count": 115,
     "metadata": {},
     "output_type": "execute_result"
    },
    {
     "data": {
      "image/png": "[encoded data removed]",
      "text/plain": [
       "<Figure size 360x360 with 16 Axes>"
      ]
     },
     "metadata": {
      "needs_background": "light"
     },
     "output_type": "display_data"
    }
   ],
   "source": [
    "pd.plotting.scatter_matrix(mlb_df,c=train_Y,figsize=(5,5))"
   ]
  },
  {
   "cell_type": "code",
   "execution_count": 95,
   "id": "5f1cebdb-1085-47bd-8fad-b9f8762d3a95",
   "metadata": {},
   "outputs": [],
   "source": [
    "mlb_norm = mlb_norm.astype('float')"
   ]
  },
  {
   "cell_type": "code",
   "execution_count": 117,
   "id": "969be953-07ca-4de5-8725-8c6b8a0a0cb9",
   "metadata": {},
   "outputs": [
    {
     "data": {
      "text/plain": [
       "<seaborn.axisgrid.PairGrid at 0x227ca9cbd00>"
      ]
     },
     "execution_count": 117,
     "metadata": {},
     "output_type": "execute_result"
    },
    {
     "data": {
      "image/png": "[encoded data removed]",
      "text/plain": [
       "<Figure size 768.75x720 with 20 Axes>"
      ]
     },
     "metadata": {
      "needs_background": "light"
     },
     "output_type": "display_data"
    }
   ],
   "source": [
    "sns.pairplot(mlb,hue='RANK')"
   ]
  },
  {
   "cell_type": "code",
   "execution_count": 120,
   "id": "a44baed1-1e84-4af3-b9e2-4725d30ed6c2",
   "metadata": {},
   "outputs": [
    {
     "data": {
      "text/html": [
       "<div>\n",
       "<style scoped>\n",
       "    .dataframe tbody tr th:only-of-type {\n",
       "        vertical-align: middle;\n",
       "    }\n",
       "\n",
       "    .dataframe tbody tr th {\n",
       "        vertical-align: top;\n",
       "    }\n",
       "\n",
       "    .dataframe thead th {\n",
       "        text-align: right;\n",
       "    }\n",
       "</style>\n",
       "<table border=\"1\" class=\"dataframe\">\n",
       "  <thead>\n",
       "    <tr style=\"text-align: right;\">\n",
       "      <th></th>\n",
       "      <th>2020PAYROLL</th>\n",
       "      <th>2020AVG</th>\n",
       "      <th>2020ERA</th>\n",
       "      <th>2020OPS</th>\n",
       "      <th>RANK</th>\n",
       "    </tr>\n",
       "  </thead>\n",
       "  <tbody>\n",
       "    <tr>\n",
       "      <th>0</th>\n",
       "      <td>108417397</td>\n",
       "      <td>0.256</td>\n",
       "      <td>3.11</td>\n",
       "      <td>0.821</td>\n",
       "      <td>1</td>\n",
       "    </tr>\n",
       "    <tr>\n",
       "      <th>1</th>\n",
       "      <td>28290689</td>\n",
       "      <td>0.231</td>\n",
       "      <td>3.67</td>\n",
       "      <td>0.753</td>\n",
       "      <td>2</td>\n",
       "    </tr>\n",
       "    <tr>\n",
       "      <th>2</th>\n",
       "      <td>73097954</td>\n",
       "      <td>0.255</td>\n",
       "      <td>4.09</td>\n",
       "      <td>0.798</td>\n",
       "      <td>3</td>\n",
       "    </tr>\n",
       "    <tr>\n",
       "      <th>3</th>\n",
       "      <td>55679689</td>\n",
       "      <td>0.238</td>\n",
       "      <td>3.52</td>\n",
       "      <td>0.743</td>\n",
       "      <td>4</td>\n",
       "    </tr>\n",
       "    <tr>\n",
       "      <th>4</th>\n",
       "      <td>36720178</td>\n",
       "      <td>0.227</td>\n",
       "      <td>3.99</td>\n",
       "      <td>0.718</td>\n",
       "      <td>5</td>\n",
       "    </tr>\n",
       "    <tr>\n",
       "      <th>5</th>\n",
       "      <td>63561931</td>\n",
       "      <td>0.263</td>\n",
       "      <td>4.26</td>\n",
       "      <td>0.832</td>\n",
       "      <td>6</td>\n",
       "    </tr>\n",
       "    <tr>\n",
       "      <th>6</th>\n",
       "      <td>53665251</td>\n",
       "      <td>0.261</td>\n",
       "      <td>3.78</td>\n",
       "      <td>0.779</td>\n",
       "      <td>7</td>\n",
       "    </tr>\n",
       "    <tr>\n",
       "      <th>7</th>\n",
       "      <td>39299107</td>\n",
       "      <td>0.229</td>\n",
       "      <td>3.54</td>\n",
       "      <td>0.689</td>\n",
       "      <td>8</td>\n",
       "    </tr>\n",
       "    <tr>\n",
       "      <th>8</th>\n",
       "      <td>86596171</td>\n",
       "      <td>0.218</td>\n",
       "      <td>3.98</td>\n",
       "      <td>0.705</td>\n",
       "      <td>9</td>\n",
       "    </tr>\n",
       "    <tr>\n",
       "      <th>9</th>\n",
       "      <td>111939081</td>\n",
       "      <td>0.249</td>\n",
       "      <td>4.41</td>\n",
       "      <td>0.789</td>\n",
       "      <td>10</td>\n",
       "    </tr>\n",
       "    <tr>\n",
       "      <th>10</th>\n",
       "      <td>54997060</td>\n",
       "      <td>0.253</td>\n",
       "      <td>4.59</td>\n",
       "      <td>0.766</td>\n",
       "      <td>11</td>\n",
       "    </tr>\n",
       "    <tr>\n",
       "      <th>11</th>\n",
       "      <td>73246343</td>\n",
       "      <td>0.235</td>\n",
       "      <td>4.01</td>\n",
       "      <td>0.694</td>\n",
       "      <td>12</td>\n",
       "    </tr>\n",
       "    <tr>\n",
       "      <th>12</th>\n",
       "      <td>55638685</td>\n",
       "      <td>0.209</td>\n",
       "      <td>3.86</td>\n",
       "      <td>0.715</td>\n",
       "      <td>13</td>\n",
       "    </tr>\n",
       "    <tr>\n",
       "      <th>13</th>\n",
       "      <td>31555593</td>\n",
       "      <td>0.240</td>\n",
       "      <td>4.77</td>\n",
       "      <td>0.703</td>\n",
       "      <td>14</td>\n",
       "    </tr>\n",
       "    <tr>\n",
       "      <th>14</th>\n",
       "      <td>82536161</td>\n",
       "      <td>0.245</td>\n",
       "      <td>4.16</td>\n",
       "      <td>0.720</td>\n",
       "      <td>15</td>\n",
       "    </tr>\n",
       "    <tr>\n",
       "      <th>15</th>\n",
       "      <td>73408817</td>\n",
       "      <td>0.263</td>\n",
       "      <td>4.64</td>\n",
       "      <td>0.785</td>\n",
       "      <td>16</td>\n",
       "    </tr>\n",
       "    <tr>\n",
       "      <th>16</th>\n",
       "      <td>41434086</td>\n",
       "      <td>0.222</td>\n",
       "      <td>4.15</td>\n",
       "      <td>0.702</td>\n",
       "      <td>17</td>\n",
       "    </tr>\n",
       "    <tr>\n",
       "      <th>17</th>\n",
       "      <td>73543547</td>\n",
       "      <td>0.257</td>\n",
       "      <td>5.14</td>\n",
       "      <td>0.781</td>\n",
       "      <td>18</td>\n",
       "    </tr>\n",
       "    <tr>\n",
       "      <th>18</th>\n",
       "      <td>50433829</td>\n",
       "      <td>0.226</td>\n",
       "      <td>5.05</td>\n",
       "      <td>0.678</td>\n",
       "      <td>19</td>\n",
       "    </tr>\n",
       "    <tr>\n",
       "      <th>19</th>\n",
       "      <td>81945598</td>\n",
       "      <td>0.272</td>\n",
       "      <td>4.98</td>\n",
       "      <td>0.807</td>\n",
       "      <td>20</td>\n",
       "    </tr>\n",
       "    <tr>\n",
       "      <th>20</th>\n",
       "      <td>75067703</td>\n",
       "      <td>0.264</td>\n",
       "      <td>5.11</td>\n",
       "      <td>0.769</td>\n",
       "      <td>21</td>\n",
       "    </tr>\n",
       "    <tr>\n",
       "      <th>21</th>\n",
       "      <td>67808533</td>\n",
       "      <td>0.257</td>\n",
       "      <td>5.59</td>\n",
       "      <td>0.716</td>\n",
       "      <td>22</td>\n",
       "    </tr>\n",
       "    <tr>\n",
       "      <th>22</th>\n",
       "      <td>66040893</td>\n",
       "      <td>0.248</td>\n",
       "      <td>5.09</td>\n",
       "      <td>0.763</td>\n",
       "      <td>23</td>\n",
       "    </tr>\n",
       "    <tr>\n",
       "      <th>23</th>\n",
       "      <td>34812194</td>\n",
       "      <td>0.244</td>\n",
       "      <td>4.30</td>\n",
       "      <td>0.711</td>\n",
       "      <td>24</td>\n",
       "    </tr>\n",
       "    <tr>\n",
       "      <th>24</th>\n",
       "      <td>65598752</td>\n",
       "      <td>0.241</td>\n",
       "      <td>4.86</td>\n",
       "      <td>0.704</td>\n",
       "      <td>25</td>\n",
       "    </tr>\n",
       "    <tr>\n",
       "      <th>25</th>\n",
       "      <td>23478635</td>\n",
       "      <td>0.259</td>\n",
       "      <td>4.53</td>\n",
       "      <td>0.750</td>\n",
       "      <td>26</td>\n",
       "    </tr>\n",
       "    <tr>\n",
       "      <th>26</th>\n",
       "      <td>84210390</td>\n",
       "      <td>0.265</td>\n",
       "      <td>5.58</td>\n",
       "      <td>0.775</td>\n",
       "      <td>27</td>\n",
       "    </tr>\n",
       "    <tr>\n",
       "      <th>27</th>\n",
       "      <td>43164880</td>\n",
       "      <td>0.245</td>\n",
       "      <td>5.63</td>\n",
       "      <td>0.700</td>\n",
       "      <td>28</td>\n",
       "    </tr>\n",
       "    <tr>\n",
       "      <th>28</th>\n",
       "      <td>64214137</td>\n",
       "      <td>0.217</td>\n",
       "      <td>5.02</td>\n",
       "      <td>0.648</td>\n",
       "      <td>29</td>\n",
       "    </tr>\n",
       "    <tr>\n",
       "      <th>29</th>\n",
       "      <td>25337837</td>\n",
       "      <td>0.220</td>\n",
       "      <td>4.67</td>\n",
       "      <td>0.641</td>\n",
       "      <td>30</td>\n",
       "    </tr>\n",
       "  </tbody>\n",
       "</table>\n",
       "</div>"
      ],
      "text/plain": [
       "    2020PAYROLL  2020AVG  2020ERA  2020OPS  RANK\n",
       "0     108417397    0.256     3.11    0.821     1\n",
       "1      28290689    0.231     3.67    0.753     2\n",
       "2      73097954    0.255     4.09    0.798     3\n",
       "3      55679689    0.238     3.52    0.743     4\n",
       "4      36720178    0.227     3.99    0.718     5\n",
       "5      63561931    0.263     4.26    0.832     6\n",
       "6      53665251    0.261     3.78    0.779     7\n",
       "7      39299107    0.229     3.54    0.689     8\n",
       "8      86596171    0.218     3.98    0.705     9\n",
       "9     111939081    0.249     4.41    0.789    10\n",
       "10     54997060    0.253     4.59    0.766    11\n",
       "11     73246343    0.235     4.01    0.694    12\n",
       "12     55638685    0.209     3.86    0.715    13\n",
       "13     31555593    0.240     4.77    0.703    14\n",
       "14     82536161    0.245     4.16    0.720    15\n",
       "15     73408817    0.263     4.64    0.785    16\n",
       "16     41434086    0.222     4.15    0.702    17\n",
       "17     73543547    0.257     5.14    0.781    18\n",
       "18     50433829    0.226     5.05    0.678    19\n",
       "19     81945598    0.272     4.98    0.807    20\n",
       "20     75067703    0.264     5.11    0.769    21\n",
       "21     67808533    0.257     5.59    0.716    22\n",
       "22     66040893    0.248     5.09    0.763    23\n",
       "23     34812194    0.244     4.30    0.711    24\n",
       "24     65598752    0.241     4.86    0.704    25\n",
       "25     23478635    0.259     4.53    0.750    26\n",
       "26     84210390    0.265     5.58    0.775    27\n",
       "27     43164880    0.245     5.63    0.700    28\n",
       "28     64214137    0.217     5.02    0.648    29\n",
       "29     25337837    0.220     4.67    0.641    30"
      ]
     },
     "execution_count": 120,
     "metadata": {},
     "output_type": "execute_result"
    }
   ],
   "source": [
    "mlb_data"
   ]
  },
  {
   "cell_type": "code",
   "execution_count": 153,
   "id": "cf2d86d2-6e41-4e38-9502-d5630fa7e840",
   "metadata": {},
   "outputs": [],
   "source": [
    "X = mlb_data.iloc[:,:3]\n",
    "Y = mlb_data.iloc[:,-1:]"
   ]
  },
  {
   "cell_type": "code",
   "execution_count": 154,
   "id": "feb4f9f0-92eb-4cf3-a744-99f68b6e9e51",
   "metadata": {},
   "outputs": [
    {
     "data": {
      "text/html": [
       "<div>\n",
       "<style scoped>\n",
       "    .dataframe tbody tr th:only-of-type {\n",
       "        vertical-align: middle;\n",
       "    }\n",
       "\n",
       "    .dataframe tbody tr th {\n",
       "        vertical-align: top;\n",
       "    }\n",
       "\n",
       "    .dataframe thead th {\n",
       "        text-align: right;\n",
       "    }\n",
       "</style>\n",
       "<table border=\"1\" class=\"dataframe\">\n",
       "  <thead>\n",
       "    <tr style=\"text-align: right;\">\n",
       "      <th></th>\n",
       "      <th>2020PAYROLL</th>\n",
       "      <th>2020AVG</th>\n",
       "      <th>2020ERA</th>\n",
       "    </tr>\n",
       "  </thead>\n",
       "  <tbody>\n",
       "    <tr>\n",
       "      <th>0</th>\n",
       "      <td>108417397</td>\n",
       "      <td>0.256</td>\n",
       "      <td>3.11</td>\n",
       "    </tr>\n",
       "    <tr>\n",
       "      <th>1</th>\n",
       "      <td>28290689</td>\n",
       "      <td>0.231</td>\n",
       "      <td>3.67</td>\n",
       "    </tr>\n",
       "    <tr>\n",
       "      <th>2</th>\n",
       "      <td>73097954</td>\n",
       "      <td>0.255</td>\n",
       "      <td>4.09</td>\n",
       "    </tr>\n",
       "    <tr>\n",
       "      <th>3</th>\n",
       "      <td>55679689</td>\n",
       "      <td>0.238</td>\n",
       "      <td>3.52</td>\n",
       "    </tr>\n",
       "    <tr>\n",
       "      <th>4</th>\n",
       "      <td>36720178</td>\n",
       "      <td>0.227</td>\n",
       "      <td>3.99</td>\n",
       "    </tr>\n",
       "    <tr>\n",
       "      <th>5</th>\n",
       "      <td>63561931</td>\n",
       "      <td>0.263</td>\n",
       "      <td>4.26</td>\n",
       "    </tr>\n",
       "    <tr>\n",
       "      <th>6</th>\n",
       "      <td>53665251</td>\n",
       "      <td>0.261</td>\n",
       "      <td>3.78</td>\n",
       "    </tr>\n",
       "    <tr>\n",
       "      <th>7</th>\n",
       "      <td>39299107</td>\n",
       "      <td>0.229</td>\n",
       "      <td>3.54</td>\n",
       "    </tr>\n",
       "    <tr>\n",
       "      <th>8</th>\n",
       "      <td>86596171</td>\n",
       "      <td>0.218</td>\n",
       "      <td>3.98</td>\n",
       "    </tr>\n",
       "    <tr>\n",
       "      <th>9</th>\n",
       "      <td>111939081</td>\n",
       "      <td>0.249</td>\n",
       "      <td>4.41</td>\n",
       "    </tr>\n",
       "    <tr>\n",
       "      <th>10</th>\n",
       "      <td>54997060</td>\n",
       "      <td>0.253</td>\n",
       "      <td>4.59</td>\n",
       "    </tr>\n",
       "    <tr>\n",
       "      <th>11</th>\n",
       "      <td>73246343</td>\n",
       "      <td>0.235</td>\n",
       "      <td>4.01</td>\n",
       "    </tr>\n",
       "    <tr>\n",
       "      <th>12</th>\n",
       "      <td>55638685</td>\n",
       "      <td>0.209</td>\n",
       "      <td>3.86</td>\n",
       "    </tr>\n",
       "    <tr>\n",
       "      <th>13</th>\n",
       "      <td>31555593</td>\n",
       "      <td>0.240</td>\n",
       "      <td>4.77</td>\n",
       "    </tr>\n",
       "    <tr>\n",
       "      <th>14</th>\n",
       "      <td>82536161</td>\n",
       "      <td>0.245</td>\n",
       "      <td>4.16</td>\n",
       "    </tr>\n",
       "    <tr>\n",
       "      <th>15</th>\n",
       "      <td>73408817</td>\n",
       "      <td>0.263</td>\n",
       "      <td>4.64</td>\n",
       "    </tr>\n",
       "    <tr>\n",
       "      <th>16</th>\n",
       "      <td>41434086</td>\n",
       "      <td>0.222</td>\n",
       "      <td>4.15</td>\n",
       "    </tr>\n",
       "    <tr>\n",
       "      <th>17</th>\n",
       "      <td>73543547</td>\n",
       "      <td>0.257</td>\n",
       "      <td>5.14</td>\n",
       "    </tr>\n",
       "    <tr>\n",
       "      <th>18</th>\n",
       "      <td>50433829</td>\n",
       "      <td>0.226</td>\n",
       "      <td>5.05</td>\n",
       "    </tr>\n",
       "    <tr>\n",
       "      <th>19</th>\n",
       "      <td>81945598</td>\n",
       "      <td>0.272</td>\n",
       "      <td>4.98</td>\n",
       "    </tr>\n",
       "    <tr>\n",
       "      <th>20</th>\n",
       "      <td>75067703</td>\n",
       "      <td>0.264</td>\n",
       "      <td>5.11</td>\n",
       "    </tr>\n",
       "    <tr>\n",
       "      <th>21</th>\n",
       "      <td>67808533</td>\n",
       "      <td>0.257</td>\n",
       "      <td>5.59</td>\n",
       "    </tr>\n",
       "    <tr>\n",
       "      <th>22</th>\n",
       "      <td>66040893</td>\n",
       "      <td>0.248</td>\n",
       "      <td>5.09</td>\n",
       "    </tr>\n",
       "    <tr>\n",
       "      <th>23</th>\n",
       "      <td>34812194</td>\n",
       "      <td>0.244</td>\n",
       "      <td>4.30</td>\n",
       "    </tr>\n",
       "    <tr>\n",
       "      <th>24</th>\n",
       "      <td>65598752</td>\n",
       "      <td>0.241</td>\n",
       "      <td>4.86</td>\n",
       "    </tr>\n",
       "    <tr>\n",
       "      <th>25</th>\n",
       "      <td>23478635</td>\n",
       "      <td>0.259</td>\n",
       "      <td>4.53</td>\n",
       "    </tr>\n",
       "    <tr>\n",
       "      <th>26</th>\n",
       "      <td>84210390</td>\n",
       "      <td>0.265</td>\n",
       "      <td>5.58</td>\n",
       "    </tr>\n",
       "    <tr>\n",
       "      <th>27</th>\n",
       "      <td>43164880</td>\n",
       "      <td>0.245</td>\n",
       "      <td>5.63</td>\n",
       "    </tr>\n",
       "    <tr>\n",
       "      <th>28</th>\n",
       "      <td>64214137</td>\n",
       "      <td>0.217</td>\n",
       "      <td>5.02</td>\n",
       "    </tr>\n",
       "    <tr>\n",
       "      <th>29</th>\n",
       "      <td>25337837</td>\n",
       "      <td>0.220</td>\n",
       "      <td>4.67</td>\n",
       "    </tr>\n",
       "  </tbody>\n",
       "</table>\n",
       "</div>"
      ],
      "text/plain": [
       "    2020PAYROLL  2020AVG  2020ERA\n",
       "0     108417397    0.256     3.11\n",
       "1      28290689    0.231     3.67\n",
       "2      73097954    0.255     4.09\n",
       "3      55679689    0.238     3.52\n",
       "4      36720178    0.227     3.99\n",
       "5      63561931    0.263     4.26\n",
       "6      53665251    0.261     3.78\n",
       "7      39299107    0.229     3.54\n",
       "8      86596171    0.218     3.98\n",
       "9     111939081    0.249     4.41\n",
       "10     54997060    0.253     4.59\n",
       "11     73246343    0.235     4.01\n",
       "12     55638685    0.209     3.86\n",
       "13     31555593    0.240     4.77\n",
       "14     82536161    0.245     4.16\n",
       "15     73408817    0.263     4.64\n",
       "16     41434086    0.222     4.15\n",
       "17     73543547    0.257     5.14\n",
       "18     50433829    0.226     5.05\n",
       "19     81945598    0.272     4.98\n",
       "20     75067703    0.264     5.11\n",
       "21     67808533    0.257     5.59\n",
       "22     66040893    0.248     5.09\n",
       "23     34812194    0.244     4.30\n",
       "24     65598752    0.241     4.86\n",
       "25     23478635    0.259     4.53\n",
       "26     84210390    0.265     5.58\n",
       "27     43164880    0.245     5.63\n",
       "28     64214137    0.217     5.02\n",
       "29     25337837    0.220     4.67"
      ]
     },
     "execution_count": 154,
     "metadata": {},
     "output_type": "execute_result"
    }
   ],
   "source": [
    "X"
   ]
  },
  {
   "cell_type": "code",
   "execution_count": 155,
   "id": "a1b3ac3e-56df-44f9-8fea-be8b8bea99ee",
   "metadata": {},
   "outputs": [
    {
     "data": {
      "text/html": [
       "<div>\n",
       "<style scoped>\n",
       "    .dataframe tbody tr th:only-of-type {\n",
       "        vertical-align: middle;\n",
       "    }\n",
       "\n",
       "    .dataframe tbody tr th {\n",
       "        vertical-align: top;\n",
       "    }\n",
       "\n",
       "    .dataframe thead th {\n",
       "        text-align: right;\n",
       "    }\n",
       "</style>\n",
       "<table border=\"1\" class=\"dataframe\">\n",
       "  <thead>\n",
       "    <tr style=\"text-align: right;\">\n",
       "      <th></th>\n",
       "      <th>RANK</th>\n",
       "    </tr>\n",
       "  </thead>\n",
       "  <tbody>\n",
       "    <tr>\n",
       "      <th>0</th>\n",
       "      <td>1</td>\n",
       "    </tr>\n",
       "    <tr>\n",
       "      <th>1</th>\n",
       "      <td>2</td>\n",
       "    </tr>\n",
       "    <tr>\n",
       "      <th>2</th>\n",
       "      <td>3</td>\n",
       "    </tr>\n",
       "    <tr>\n",
       "      <th>3</th>\n",
       "      <td>4</td>\n",
       "    </tr>\n",
       "    <tr>\n",
       "      <th>4</th>\n",
       "      <td>5</td>\n",
       "    </tr>\n",
       "    <tr>\n",
       "      <th>5</th>\n",
       "      <td>6</td>\n",
       "    </tr>\n",
       "    <tr>\n",
       "      <th>6</th>\n",
       "      <td>7</td>\n",
       "    </tr>\n",
       "    <tr>\n",
       "      <th>7</th>\n",
       "      <td>8</td>\n",
       "    </tr>\n",
       "    <tr>\n",
       "      <th>8</th>\n",
       "      <td>9</td>\n",
       "    </tr>\n",
       "    <tr>\n",
       "      <th>9</th>\n",
       "      <td>10</td>\n",
       "    </tr>\n",
       "    <tr>\n",
       "      <th>10</th>\n",
       "      <td>11</td>\n",
       "    </tr>\n",
       "    <tr>\n",
       "      <th>11</th>\n",
       "      <td>12</td>\n",
       "    </tr>\n",
       "    <tr>\n",
       "      <th>12</th>\n",
       "      <td>13</td>\n",
       "    </tr>\n",
       "    <tr>\n",
       "      <th>13</th>\n",
       "      <td>14</td>\n",
       "    </tr>\n",
       "    <tr>\n",
       "      <th>14</th>\n",
       "      <td>15</td>\n",
       "    </tr>\n",
       "    <tr>\n",
       "      <th>15</th>\n",
       "      <td>16</td>\n",
       "    </tr>\n",
       "    <tr>\n",
       "      <th>16</th>\n",
       "      <td>17</td>\n",
       "    </tr>\n",
       "    <tr>\n",
       "      <th>17</th>\n",
       "      <td>18</td>\n",
       "    </tr>\n",
       "    <tr>\n",
       "      <th>18</th>\n",
       "      <td>19</td>\n",
       "    </tr>\n",
       "    <tr>\n",
       "      <th>19</th>\n",
       "      <td>20</td>\n",
       "    </tr>\n",
       "    <tr>\n",
       "      <th>20</th>\n",
       "      <td>21</td>\n",
       "    </tr>\n",
       "    <tr>\n",
       "      <th>21</th>\n",
       "      <td>22</td>\n",
       "    </tr>\n",
       "    <tr>\n",
       "      <th>22</th>\n",
       "      <td>23</td>\n",
       "    </tr>\n",
       "    <tr>\n",
       "      <th>23</th>\n",
       "      <td>24</td>\n",
       "    </tr>\n",
       "    <tr>\n",
       "      <th>24</th>\n",
       "      <td>25</td>\n",
       "    </tr>\n",
       "    <tr>\n",
       "      <th>25</th>\n",
       "      <td>26</td>\n",
       "    </tr>\n",
       "    <tr>\n",
       "      <th>26</th>\n",
       "      <td>27</td>\n",
       "    </tr>\n",
       "    <tr>\n",
       "      <th>27</th>\n",
       "      <td>28</td>\n",
       "    </tr>\n",
       "    <tr>\n",
       "      <th>28</th>\n",
       "      <td>29</td>\n",
       "    </tr>\n",
       "    <tr>\n",
       "      <th>29</th>\n",
       "      <td>30</td>\n",
       "    </tr>\n",
       "  </tbody>\n",
       "</table>\n",
       "</div>"
      ],
      "text/plain": [
       "    RANK\n",
       "0      1\n",
       "1      2\n",
       "2      3\n",
       "3      4\n",
       "4      5\n",
       "5      6\n",
       "6      7\n",
       "7      8\n",
       "8      9\n",
       "9     10\n",
       "10    11\n",
       "11    12\n",
       "12    13\n",
       "13    14\n",
       "14    15\n",
       "15    16\n",
       "16    17\n",
       "17    18\n",
       "18    19\n",
       "19    20\n",
       "20    21\n",
       "21    22\n",
       "22    23\n",
       "23    24\n",
       "24    25\n",
       "25    26\n",
       "26    27\n",
       "27    28\n",
       "28    29\n",
       "29    30"
      ]
     },
     "execution_count": 155,
     "metadata": {},
     "output_type": "execute_result"
    }
   ],
   "source": [
    "Y"
   ]
  },
  {
   "cell_type": "code",
   "execution_count": 156,
   "id": "2dcf8fc1-1df9-4707-b428-c161f68425a0",
   "metadata": {},
   "outputs": [],
   "source": [
    "from sklearn.model_selection import train_test_split\n",
    "X_train,X_test,Y_train,Y_test = train_test_split(X,Y,random_state=0)"
   ]
  },
  {
   "cell_type": "code",
   "execution_count": 157,
   "id": "a4f21410-962b-417e-a768-a7c5d7028cd8",
   "metadata": {},
   "outputs": [
    {
     "data": {
      "text/plain": [
       "((22, 3), (8, 3), (22, 1), (8, 1))"
      ]
     },
     "execution_count": 157,
     "metadata": {},
     "output_type": "execute_result"
    }
   ],
   "source": [
    "X_train.shape, X_test.shape, Y_train.shape, Y_test.shape"
   ]
  },
  {
   "cell_type": "code",
   "execution_count": 158,
   "id": "51884758-faa8-4495-9a5f-17608b8fb8b0",
   "metadata": {},
   "outputs": [
    {
     "name": "stdout",
     "output_type": "stream",
     "text": [
      "정답률 :  0.0\n"
     ]
    }
   ],
   "source": [
    "model = KNeighborsClassifier(n_neighbors=1)\n",
    "model.fit(X_train,Y_train)\n",
    "pred=model.predict(X_test)\n",
    "ac_score=metrics.accuracy_score(Y_test,pred)\n",
    "print(\"정답률 : \",ac_score)"
   ]
  },
  {
   "cell_type": "code",
   "execution_count": null,
   "id": "98da27c8-f1a0-4f3b-a803-236007d0fe22",
   "metadata": {},
   "outputs": [],
   "source": []
  },
  {
   "cell_type": "code",
   "execution_count": null,
   "id": "fa7b1c1e-b0d6-4ae1-8dd1-413ee4af3eaf",
   "metadata": {},
   "outputs": [],
   "source": []
  }
 ],
 "metadata": {
  "kernelspec": {
   "display_name": "Python 3",
   "language": "python",
   "name": "python3"
  },
  "language_info": {
   "codemirror_mode": {
    "name": "ipython",
    "version": 3
   },
   "file_extension": ".py",
   "mimetype": "text/x-python",
   "name": "python",
   "nbconvert_exporter": "python",
   "pygments_lexer": "ipython3",
   "version": "3.8.10"
  }
 },
 "nbformat": 4,
 "nbformat_minor": 5
}
