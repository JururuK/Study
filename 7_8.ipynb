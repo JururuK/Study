{
 "cells": [
  {
   "cell_type": "code",
   "execution_count": null,
   "id": "5d82ba9e-300e-47de-9476-32c9470f5082",
   "metadata": {},
   "outputs": [],
   "source": [
    "a = [1,2,3,4,5]\n",
    "sum = 0\n",
    "new = []\n",
    "k = 0\n",
    "c = 5\n",
    "for c in range(2) :\n",
    "    new = []\n",
    "    for i in range(len(a)) :\n",
    "        j=0\n",
    "        while i >= j :\n",
    "            sum += a[j]\n",
    "            new.append(sum)\n",
    "            j += 1\n",
    "        sum = 0\n",
    "    new = set(new)\n",
    "    new = list(new)\n",
    "    new.sort()\n",
    "    a = new\n",
    "\n",
    "print(a)\n",
    "\n",
    "print(new)"
   ]
  },
  {
   "cell_type": "code",
   "execution_count": null,
   "id": "5d446737-aad6-4e39-8dd1-7325ccdbdc14",
   "metadata": {},
   "outputs": [],
   "source": [
    "T = int(input())\n",
    "num = []\n",
    "sum = 0\n",
    "for _ in range(T) :\n",
    "    num = []\n",
    "    k = int(input())\n",
    "    n = int(input())\n",
    "    li = list(range(n))\n",
    "    for i in li :\n",
    "        num.append(li[i]+1)\n",
    "    for a in range(k):\n",
    "        room = []\n",
    "        for b in range(len(num)):\n",
    "            c = 0\n",
    "            while b >= c :\n",
    "                sum += num[c]\n",
    "                room.append(sum)\n",
    "                c += 1\n",
    "            sum = 0\n",
    "        room = list(set(room))\n",
    "        room.sort()\n",
    "        num = room\n",
    "    print(num[n-1])\n",
    "\n"
   ]
  },
  {
   "cell_type": "code",
   "execution_count": null,
   "id": "4b046577-1680-4f0d-a8b5-75c51c01693a",
   "metadata": {},
   "outputs": [],
   "source": []
  }
 ],
 "metadata": {
  "kernelspec": {
   "display_name": "Python 3",
   "language": "python",
   "name": "python3"
  },
  "language_info": {
   "codemirror_mode": {
    "name": "ipython",
    "version": 3
   },
   "file_extension": ".py",
   "mimetype": "text/x-python",
   "name": "python",
   "nbconvert_exporter": "python",
   "pygments_lexer": "ipython3",
   "version": "3.8.10"
  }
 },
 "nbformat": 4,
 "nbformat_minor": 5
}
