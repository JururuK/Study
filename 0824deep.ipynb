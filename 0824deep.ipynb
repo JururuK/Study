{
 "cells": [
  {
   "cell_type": "code",
   "execution_count": 7,
   "id": "748247ff-df94-467d-a161-f1cfd8bb0a89",
   "metadata": {},
   "outputs": [],
   "source": [
    "#2시간 10개 1시간 40분정도?\n",
    "import numpy as np\n",
    "Country = {'KOR' : 2.0,'CHN' : 1.0,'JPN' : 1.2,'USA' : 0.7}\n",
    "\n",
    "def func_exp(n):\n",
    "    return np.round(np.exp(n),3)"
   ]
  },
  {
   "cell_type": "code",
   "execution_count": 8,
   "id": "82850b60-4d55-4a8d-9111-0d19fb458c5e",
   "metadata": {},
   "outputs": [
    {
     "name": "stdout",
     "output_type": "stream",
     "text": [
      "[7.389, 2.718, 3.32, 2.014]\n"
     ]
    }
   ],
   "source": [
    "e_row = []\n",
    "for i in Country.values():\n",
    "    e = func_exp(i)\n",
    "    e_row.append(e)\n",
    "    \n",
    "print(e_row)"
   ]
  },
  {
   "cell_type": "code",
   "execution_count": 9,
   "id": "ed92b2e5-642d-4f72-933d-1b6ff4fe43e6",
   "metadata": {},
   "outputs": [],
   "source": [
    "k = 1/np.sum(e_row)"
   ]
  },
  {
   "cell_type": "code",
   "execution_count": 12,
   "id": "42a177ef-e7de-4d15-a4d8-be1e54bda2ff",
   "metadata": {},
   "outputs": [
    {
     "data": {
      "text/plain": [
       "0.47853118321352245"
      ]
     },
     "execution_count": 12,
     "metadata": {},
     "output_type": "execute_result"
    }
   ],
   "source": [
    "e_row[0]*k"
   ]
  },
  {
   "cell_type": "code",
   "execution_count": 15,
   "id": "7b0f19f2-7301-4acc-8295-406a220e7c24",
   "metadata": {},
   "outputs": [
    {
     "name": "stdout",
     "output_type": "stream",
     "text": [
      "KOR(2.0) >> 47.853%\n",
      "CHN(1.0) >> 17.602%\n",
      "JPN(1.2) >> 21.501%\n",
      "USA(0.7) >> 13.043%\n"
     ]
    }
   ],
   "source": [
    "for i, e in enumerate(e_row):\n",
    "    Win_rate = k * e\n",
    "    \n",
    "    print(\"{}({}) >> {:.3f}%\".format(list(Country.keys())[i],list(Country.values())[i],Win_rate*100))"
   ]
  },
  {
   "cell_type": "code",
   "execution_count": 18,
   "id": "36224ae6-dbe7-433c-a13f-2a32547591d0",
   "metadata": {},
   "outputs": [
    {
     "name": "stdout",
     "output_type": "stream",
     "text": [
      "1.0 0.36787944117144233 0.44932896411722156 0.2725317930340126\n"
     ]
    }
   ],
   "source": [
    "case_1 = np.exp(2.0-2.0)\n",
    "case_2 = np.exp(1.0-2.0)\n",
    "case_3 = np.exp(1.2-2.0)\n",
    "case_4 = np.exp(0.7-2.0)\n",
    "print(case_1,case_2,case_3,case_4)"
   ]
  },
  {
   "cell_type": "code",
   "execution_count": 19,
   "id": "16ccf70e-57a3-426e-809e-bdd29f7d999e",
   "metadata": {},
   "outputs": [
    {
     "name": "stdout",
     "output_type": "stream",
     "text": [
      "47.85283839601912\n",
      "17.604075447594855\n",
      "21.50166630655208\n",
      "13.041419849833936\n"
     ]
    }
   ],
   "source": [
    "case_1_rate = case_1/(case_1+case_2+case_3+case_4)\n",
    "case_2_rate = case_2/(case_1+case_2+case_3+case_4)\n",
    "case_3_rate = case_3/(case_1+case_2+case_3+case_4)\n",
    "case_4_rate = case_4/(case_1+case_2+case_3+case_4)\n",
    "\n",
    "print(case_1_rate*100)\n",
    "print(case_2_rate*100)\n",
    "print(case_3_rate*100)\n",
    "print(case_4_rate*100)"
   ]
  },
  {
   "cell_type": "code",
   "execution_count": null,
   "id": "fa9a60df-3721-458a-9aa9-9d9c9dc2998a",
   "metadata": {},
   "outputs": [],
   "source": []
  }
 ],
 "metadata": {
  "kernelspec": {
   "display_name": "Python 3",
   "language": "python",
   "name": "python3"
  },
  "language_info": {
   "codemirror_mode": {
    "name": "ipython",
    "version": 3
   },
   "file_extension": ".py",
   "mimetype": "text/x-python",
   "name": "python",
   "nbconvert_exporter": "python",
   "pygments_lexer": "ipython3",
   "version": "3.8.10"
  }
 },
 "nbformat": 4,
 "nbformat_minor": 5
}
