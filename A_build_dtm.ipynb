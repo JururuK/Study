{
 "cells": [
  {
   "cell_type": "markdown",
   "metadata": {
    "id": "DUMLRJgd4oNk"
   },
   "source": [
    "# Building a Document-Term Matrix from scratch\n"
   ]
  },
  {
   "cell_type": "code",
   "execution_count": 6,
   "metadata": {
    "colab": {
     "base_uri": "https://localhost:8080/"
    },
    "executionInfo": {
     "elapsed": 6206,
     "status": "ok",
     "timestamp": 1627857812472,
     "user": {
      "displayName": "김유빈",
      "photoUrl": "",
      "userId": "11244659521636006499"
     },
     "user_tz": -540
    },
    "id": "8psD-b0p4pAw",
    "outputId": "d02740d5-9ebd-41c8-a96c-94a66f48b079"
   },
   "outputs": [
    {
     "name": "stdout",
     "output_type": "stream",
     "text": [
      "Requirement already satisfied: pandas in c:\\users\\jh\\anaconda3\\envs\\gj_ai\\lib\\site-packages (1.2.4)\n",
      "Requirement already satisfied: pytz>=2017.3 in c:\\users\\jh\\anaconda3\\envs\\gj_ai\\lib\\site-packages (from pandas) (2021.1)\n",
      "Requirement already satisfied: python-dateutil>=2.7.3 in c:\\users\\jh\\anaconda3\\envs\\gj_ai\\lib\\site-packages (from pandas) (2.8.1)\n",
      "Requirement already satisfied: numpy>=1.16.5 in c:\\users\\jh\\anaconda3\\envs\\gj_ai\\lib\\site-packages (from pandas) (1.20.2)\n",
      "Requirement already satisfied: six>=1.5 in c:\\users\\jh\\anaconda3\\envs\\gj_ai\\lib\\site-packages (from python-dateutil>=2.7.3->pandas) (1.15.0)\n",
      "Requirement already satisfied: scikit-learn in c:\\users\\jh\\anaconda3\\envs\\gj_ai\\lib\\site-packages (0.24.2)\n",
      "Requirement already satisfied: numpy>=1.13.3 in c:\\users\\jh\\anaconda3\\envs\\gj_ai\\lib\\site-packages (from scikit-learn) (1.20.2)\n",
      "Requirement already satisfied: joblib>=0.11 in c:\\users\\jh\\anaconda3\\envs\\gj_ai\\lib\\site-packages (from scikit-learn) (1.0.1)\n",
      "Requirement already satisfied: threadpoolctl>=2.0.0 in c:\\users\\jh\\anaconda3\\envs\\gj_ai\\lib\\site-packages (from scikit-learn) (2.1.0)\n",
      "Requirement already satisfied: scipy>=0.19.1 in c:\\users\\jh\\anaconda3\\envs\\gj_ai\\lib\\site-packages (from scikit-learn) (1.6.2)\n"
     ]
    }
   ],
   "source": [
    "# install & import the libraries needed\n",
    "!pip3 install pandas\n",
    "!pip3 install scikit-learn\n",
    "from typing import List\n",
    "import pandas as pd\n",
    "from sklearn.metrics.pairwise import cosine_similarity"
   ]
  },
  {
   "cell_type": "code",
   "execution_count": 191,
   "metadata": {
    "id": "GAlToICi4uFl"
   },
   "outputs": [],
   "source": [
    "# A mini corpus to play with\n",
    "CORPUS = [\n",
    "    'this is the first document',\n",
    "    'this is the second document',\n",
    "    'and this is the third document',\n",
    "    'is this the first document ?'\n",
    "]"
   ]
  },
  {
   "cell_type": "code",
   "execution_count": 192,
   "metadata": {
    "id": "WnFHsQCu4wD5"
   },
   "outputs": [],
   "source": [
    "def tf(term: str, doc: str) -> int:\n",
    "    ### TODO 1 ### \n",
    "    # count the frequency of term in doc. hint: str.count()\n",
    "    tf = doc.count(term)\n",
    "    ##############\n",
    "    return tf"
   ]
  },
  {
   "cell_type": "code",
   "execution_count": 193,
   "metadata": {
    "id": "jlijDYUF4x8T"
   },
   "outputs": [],
   "source": [
    "def build_dtm(corpus: List[str]) -> pd.DataFrame:\n",
    "    ### TODO 2 ###\n",
    "    # build a vocabulary of the given corpus - use nested list comprehension, str.split(\" \"),  set,  and list\n",
    "    word = []\n",
    "    for i in range(len(CORPUS)) :\n",
    "        CORPUS[i].split(\" \")\n",
    "        for j in range(len(CORPUS[i].split(\" \"))) :\n",
    "            word.append(CORPUS[i].split(\" \")[j])\n",
    "    vocab: List[str] = [\n",
    "        term\n",
    "        for term in list(set(word))\n",
    "    ]\n",
    "    ##############\n",
    "\n",
    "    ### TODO 3 ###\n",
    "    # populate a dtm - get use of the tf function\n",
    "\n",
    "    dtm: List[List[int]] = [\n",
    "            [tf(voca,CORPUS[0])\n",
    "            for voca in vocab],\n",
    "            [tf(voca,CORPUS[1])\n",
    "            for voca in vocab],\n",
    "            [tf(voca,CORPUS[2])\n",
    "            for voca in vocab],\n",
    "            [tf(voca,CORPUS[3])\n",
    "            for voca in vocab]\n",
    "    ]\n",
    "\n",
    "    ##############\n",
    "    # return dtm as a pandas dataframe (for better visualization of the columns)\n",
    "    dtm = pd.DataFrame(data=dtm, columns=vocab)\n",
    "    return dtm"
   ]
  },
  {
   "cell_type": "code",
   "execution_count": 195,
   "metadata": {
    "id": "jm8iVvKu40KT"
   },
   "outputs": [
    {
     "name": "stdout",
     "output_type": "stream",
     "text": [
      "   this  second  ?  first  and  the  document  is  third\n",
      "0     1       0  0      1    0    1         1   2      0\n",
      "1     1       1  0      0    0    1         1   2      0\n",
      "2     1       0  0      0    1    1         1   2      1\n",
      "3     1       0  1      1    0    1         1   2      0\n"
     ]
    }
   ],
   "source": [
    " # build a dtm from the corpus, and have a look at it\n",
    "dtm = build_dtm(CORPUS)\n",
    "print(dtm)"
   ]
  },
  {
   "cell_type": "markdown",
   "metadata": {
    "id": "6c5HsuPK44TJ"
   },
   "source": [
    "다음과 같은 결과가 나와야 합니다 (단어의 순서는 달라도 괜찮습니다):\n",
    "```\n",
    "   is  ?  first  and  document  this  the  second  third\n",
    "0   2  0      1    0         1     1    1       0      0\n",
    "1   2  0      0    0         1     1    1       1      0\n",
    "2   2  0      0    1         1     1    1       0      1\n",
    "3   2  1      1    0         1     1    1       0      0\n",
    "```\n",
    "(슬라이드에는 0또는 1로 카운트를 했지만, 튜토리얼에서는 그냥 카운트를 하겠습니다! (e.g. is가 두 개 포함되어 있다면 그냥 2로)"
   ]
  },
  {
   "cell_type": "code",
   "execution_count": 196,
   "metadata": {
    "id": "k8W1mGQO454u"
   },
   "outputs": [
    {
     "name": "stdout",
     "output_type": "stream",
     "text": [
      "[[1.         0.875      0.82495791 0.94280904]\n",
      " [0.875      1.         0.82495791 0.82495791]\n",
      " [0.82495791 0.82495791 1.         0.77777778]\n",
      " [0.94280904 0.82495791 0.77777778 1.        ]]\n"
     ]
    }
   ],
   "source": [
    "# this will print out the similarities of the documents to each other\n",
    "sim_matrix = cosine_similarity(dtm.to_numpy(), dtm.to_numpy())\n",
    "print(sim_matrix)"
   ]
  },
  {
   "cell_type": "markdown",
   "metadata": {
    "id": "v5ox3YaN489-"
   },
   "source": [
    "다음과 같은 결과가 나와야 합니다:\n",
    "```\n",
    "[[1.         0.875      0.82495791 0.94280904]\n",
    " [0.875      1.         0.82495791 0.82495791]\n",
    " [0.82495791 0.82495791 1.         0.77777778]\n",
    " [0.94280904 0.82495791 0.77777778 1.        ]]\n",
    "```\n",
    "\n",
    "## **TODO 4**: 마지막으로, 다음의 질문에 답해주세요.\n",
    "> 위 `sim_matrix`를 보고 `dtm`의 어떤 문제를 발견할 수 있나요? (힌트: `CORPUS`에 있는 문장의 의미는 모두 동일한가요?)"
   ]
  },
  {
   "cell_type": "code",
   "execution_count": null,
   "metadata": {
    "id": "35LpccZV49Qj"
   },
   "outputs": [],
   "source": [
    "#1,4 는 거의 일치하지만 한가지로 완전 다른의미."
   ]
  }
 ],
 "metadata": {
  "colab": {
   "authorship_tag": "ABX9TyP9wUOMfTC9lCWRpzLRIOfA",
   "collapsed_sections": [],
   "name": "A_build_dtm.ipynb",
   "provenance": []
  },
  "kernelspec": {
   "display_name": "Python 3",
   "language": "python",
   "name": "python3"
  },
  "language_info": {
   "codemirror_mode": {
    "name": "ipython",
    "version": 3
   },
   "file_extension": ".py",
   "mimetype": "text/x-python",
   "name": "python",
   "nbconvert_exporter": "python",
   "pygments_lexer": "ipython3",
   "version": "3.8.10"
  }
 },
 "nbformat": 4,
 "nbformat_minor": 4
}
