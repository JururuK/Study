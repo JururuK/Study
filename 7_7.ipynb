{
 "cells": [
  {
   "cell_type": "code",
   "execution_count": 63,
   "id": "931183af-d0a5-41d4-bec0-752def0b3838",
   "metadata": {},
   "outputs": [
    {
     "name": "stdin",
     "output_type": "stream",
     "text": [
      " 14\n",
      " push 1\n",
      " push 2\n",
      " top\n"
     ]
    },
    {
     "name": "stdout",
     "output_type": "stream",
     "text": [
      "2\n"
     ]
    },
    {
     "name": "stdin",
     "output_type": "stream",
     "text": [
      " size\n"
     ]
    },
    {
     "name": "stdout",
     "output_type": "stream",
     "text": [
      "2\n"
     ]
    },
    {
     "name": "stdin",
     "output_type": "stream",
     "text": [
      " empty\n"
     ]
    },
    {
     "name": "stdout",
     "output_type": "stream",
     "text": [
      "0\n"
     ]
    },
    {
     "name": "stdin",
     "output_type": "stream",
     "text": [
      " pop\n"
     ]
    },
    {
     "name": "stdout",
     "output_type": "stream",
     "text": [
      "2\n"
     ]
    },
    {
     "name": "stdin",
     "output_type": "stream",
     "text": [
      " pop\n"
     ]
    },
    {
     "name": "stdout",
     "output_type": "stream",
     "text": [
      "1\n"
     ]
    },
    {
     "name": "stdin",
     "output_type": "stream",
     "text": [
      " pop\n"
     ]
    },
    {
     "name": "stdout",
     "output_type": "stream",
     "text": [
      "-1\n"
     ]
    },
    {
     "name": "stdin",
     "output_type": "stream",
     "text": [
      " size\n"
     ]
    },
    {
     "name": "stdout",
     "output_type": "stream",
     "text": [
      "0\n"
     ]
    },
    {
     "name": "stdin",
     "output_type": "stream",
     "text": [
      " empy\n",
      " pop\n"
     ]
    },
    {
     "name": "stdout",
     "output_type": "stream",
     "text": [
      "-1\n"
     ]
    },
    {
     "name": "stdin",
     "output_type": "stream",
     "text": [
      " push 3\n",
      " empty\n"
     ]
    },
    {
     "name": "stdout",
     "output_type": "stream",
     "text": [
      "0\n"
     ]
    },
    {
     "name": "stdin",
     "output_type": "stream",
     "text": [
      " top\n"
     ]
    },
    {
     "name": "stdout",
     "output_type": "stream",
     "text": [
      "3\n"
     ]
    }
   ],
   "source": [
    "stack = []\n",
    "N = int(input())\n",
    "def push(x) :\n",
    "    stack.append(x)    \n",
    "def ppop() :\n",
    "    if len(stack) == 0 :\n",
    "        print('-1')\n",
    "    else :\n",
    "        print(stack.pop())\n",
    "def top() :\n",
    "    if len(stack) == 0 :\n",
    "        print('-1')\n",
    "    else :\n",
    "        print(stack[-1])\n",
    "def empty() :\n",
    "    if len(stack) == 0 :\n",
    "        print(1)\n",
    "    else :\n",
    "        print(0)\n",
    "def size() :\n",
    "    print(len(stack))\n",
    "def process(a):\n",
    "    if a[0] == 'push' :\n",
    "        push(a[1])\n",
    "    if a[0] == 'pop' :\n",
    "        ppop()\n",
    "    if a[0] == 'top' :\n",
    "        top()\n",
    "    if a[0] == 'empty' :\n",
    "        empty()\n",
    "    if a[0] == 'size' :\n",
    "        size()\n",
    "for i in range(N) :\n",
    "    command = input().split(' ')\n",
    "    process(command)"
   ]
  },
  {
   "cell_type": "code",
   "execution_count": 84,
   "id": "0d718e9b-a0af-4a59-8a8b-7c3c67f953bb",
   "metadata": {},
   "outputs": [
    {
     "name": "stdin",
     "output_type": "stream",
     "text": [
      " 14\n",
      " push 1\n",
      " push 2\n",
      " top\n"
     ]
    },
    {
     "name": "stdout",
     "output_type": "stream",
     "text": [
      "2\n"
     ]
    },
    {
     "name": "stdin",
     "output_type": "stream",
     "text": [
      " size\n"
     ]
    },
    {
     "name": "stdout",
     "output_type": "stream",
     "text": [
      "2\n"
     ]
    },
    {
     "name": "stdin",
     "output_type": "stream",
     "text": [
      " empty\n"
     ]
    },
    {
     "name": "stdout",
     "output_type": "stream",
     "text": [
      "0\n"
     ]
    },
    {
     "name": "stdin",
     "output_type": "stream",
     "text": [
      " pop\n"
     ]
    },
    {
     "name": "stdout",
     "output_type": "stream",
     "text": [
      "2\n"
     ]
    },
    {
     "name": "stdin",
     "output_type": "stream",
     "text": [
      " pop\n"
     ]
    },
    {
     "name": "stdout",
     "output_type": "stream",
     "text": [
      "1\n"
     ]
    },
    {
     "name": "stdin",
     "output_type": "stream",
     "text": [
      " pop\n"
     ]
    },
    {
     "name": "stdout",
     "output_type": "stream",
     "text": [
      "-1\n"
     ]
    },
    {
     "name": "stdin",
     "output_type": "stream",
     "text": [
      " size\n"
     ]
    },
    {
     "name": "stdout",
     "output_type": "stream",
     "text": [
      "0\n"
     ]
    },
    {
     "name": "stdin",
     "output_type": "stream",
     "text": [
      " empty\n"
     ]
    },
    {
     "name": "stdout",
     "output_type": "stream",
     "text": [
      "1\n"
     ]
    },
    {
     "name": "stdin",
     "output_type": "stream",
     "text": [
      " pop\n"
     ]
    },
    {
     "name": "stdout",
     "output_type": "stream",
     "text": [
      "-1\n"
     ]
    },
    {
     "name": "stdin",
     "output_type": "stream",
     "text": [
      " push 3\n",
      " empty\n"
     ]
    },
    {
     "name": "stdout",
     "output_type": "stream",
     "text": [
      "0\n"
     ]
    },
    {
     "name": "stdin",
     "output_type": "stream",
     "text": [
      " top\n"
     ]
    },
    {
     "name": "stdout",
     "output_type": "stream",
     "text": [
      "3\n"
     ]
    }
   ],
   "source": [
    "stack = []\n",
    "num = 0\n",
    "N = int(input())\n",
    "def process(a):\n",
    "    global num\n",
    "    if a[0] == 'push' :\n",
    "        push(a[1])\n",
    "    if a[0] == 'pop' :\n",
    "        ppop() \n",
    "    if a[0] == 'top' :\n",
    "        top()\n",
    "    if a[0] == 'empty' :\n",
    "        empty()\n",
    "    if a[0] == 'size' :\n",
    "        size()\n",
    "def push(x) :\n",
    "    global num\n",
    "    stack.append(x)\n",
    "    num += 1\n",
    "def ppop() :\n",
    "    global num\n",
    "    if num == 0 :\n",
    "        print('-1')\n",
    "    else :\n",
    "        print(stack.pop())\n",
    "        num = num - 1\n",
    "    return num\n",
    "def top() :\n",
    "    if len(stack) == 0 :\n",
    "        print('-1')\n",
    "    else :\n",
    "        print(stack[-1])\n",
    "def empty() :\n",
    "    global num\n",
    "    if num == 0 :\n",
    "        print(1)\n",
    "    else :\n",
    "        print(0)\n",
    "    return num\n",
    "def size() :\n",
    "    global num\n",
    "    print(num)\n",
    "\n",
    "for i in range(N) :\n",
    "    command = input().split(' ')\n",
    "    process(command)"
   ]
  },
  {
   "cell_type": "code",
   "execution_count": 62,
   "id": "bd9cce38-f350-4650-8dab-92edcf90ee4b",
   "metadata": {},
   "outputs": [
    {
     "ename": "TypeError",
     "evalue": "start() missing 1 required positional argument: 'self'",
     "output_type": "error",
     "traceback": [
      "\u001b[1;31m---------------------------------------------------------------------------\u001b[0m",
      "\u001b[1;31mTypeError\u001b[0m                                 Traceback (most recent call last)",
      "\u001b[1;32m<ipython-input-62-b2c0aed3e8e0>\u001b[0m in \u001b[0;36m<module>\u001b[1;34m\u001b[0m\n\u001b[0;32m     40\u001b[0m             \u001b[0mCommand\u001b[0m\u001b[1;33m.\u001b[0m\u001b[0mprocess\u001b[0m\u001b[1;33m(\u001b[0m\u001b[0mgo\u001b[0m\u001b[1;33m)\u001b[0m\u001b[1;33m\u001b[0m\u001b[1;33m\u001b[0m\u001b[0m\n\u001b[0;32m     41\u001b[0m \u001b[1;33m\u001b[0m\u001b[0m\n\u001b[1;32m---> 42\u001b[1;33m \u001b[0mCommand\u001b[0m\u001b[1;33m.\u001b[0m\u001b[0mstart\u001b[0m\u001b[1;33m(\u001b[0m\u001b[1;33m)\u001b[0m\u001b[1;33m\u001b[0m\u001b[1;33m\u001b[0m\u001b[0m\n\u001b[0m",
      "\u001b[1;31mTypeError\u001b[0m: start() missing 1 required positional argument: 'self'"
     ]
    }
   ],
   "source": [
    "class Command() :\n",
    "    def __init__(self) :\n",
    "        self.stack = []\n",
    "        self.N = N\n",
    "\n",
    "    def process(self,a) :\n",
    "        if a[0] == 'push' :\n",
    "            push(a[1])\n",
    "        if a[0] == 'pop' :\n",
    "            ppop()\n",
    "        if a[0] == 'top' :\n",
    "            top()\n",
    "        if a[0] == 'empty' :\n",
    "            empty()\n",
    "        if a[0] == 'size' :\n",
    "            size()\n",
    "    def push(self,x) :\n",
    "        self.stack.append(x)    \n",
    "    def ppop(self) :\n",
    "        if len(self.stack) == 0 :\n",
    "            print('-1')\n",
    "        else :\n",
    "            print(self.stack.pop())\n",
    "    def top(self) :\n",
    "        if len(self.stack) == 0 :\n",
    "            print('-1')\n",
    "        else :\n",
    "            print(stack[-1])\n",
    "    def empty(self) :\n",
    "        if len(self.stack) == 0 :\n",
    "            print(1)\n",
    "        else :\n",
    "            print(0)\n",
    "    def size(self) :\n",
    "        print(len(self.stack))\n",
    "    def start(self) :\n",
    "        N = int(input())\n",
    "        for i in range(N) :\n",
    "            go = input().split(' ')\n",
    "            Command.process(go)\n",
    "\n",
    "Command.start()"
   ]
  },
  {
   "cell_type": "code",
   "execution_count": 23,
   "id": "e297b4aa-e92a-4490-8888-7565f5b791d5",
   "metadata": {},
   "outputs": [
    {
     "name": "stdin",
     "output_type": "stream",
     "text": [
      " 1\n",
      " 6 11 31\n"
     ]
    },
    {
     "name": "stdout",
     "output_type": "stream",
     "text": [
      "106\n"
     ]
    }
   ],
   "source": [
    "T = int(input())\n",
    "for _ in range(T):\n",
    "    H,W,N = map(int,input().split())\n",
    "    if H == 1 :\n",
    "        floor = H\n",
    "        num = N\n",
    "    else :\n",
    "        if N % H == 0 :\n",
    "            floor = H\n",
    "            num = 1\n",
    "        else :\n",
    "            floor = N % H\n",
    "            num = (N // H) + 1\n",
    "\n",
    "    room = floor*100 + num\n",
    "    print(room)"
   ]
  },
  {
   "cell_type": "code",
   "execution_count": null,
   "id": "de66cb45-7a80-4b93-bb9e-ac2c68cab464",
   "metadata": {},
   "outputs": [],
   "source": []
  }
 ],
 "metadata": {
  "kernelspec": {
   "display_name": "Python 3",
   "language": "python",
   "name": "python3"
  },
  "language_info": {
   "codemirror_mode": {
    "name": "ipython",
    "version": 3
   },
   "file_extension": ".py",
   "mimetype": "text/x-python",
   "name": "python",
   "nbconvert_exporter": "python",
   "pygments_lexer": "ipython3",
   "version": "3.8.10"
  }
 },
 "nbformat": 4,
 "nbformat_minor": 5
}
