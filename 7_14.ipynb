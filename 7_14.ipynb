{
 "cells": [
  {
   "cell_type": "code",
   "execution_count": null,
   "id": "318b7838-f9ee-41c1-a2d9-99f436dc5383",
   "metadata": {},
   "outputs": [],
   "source": [
    "n = 10\n",
    "a = [None]*n\n",
    "print(a)"
   ]
  },
  {
   "cell_type": "code",
   "execution_count": null,
   "id": "57d825d5-e979-4252-9032-04147429d372",
   "metadata": {},
   "outputs": [],
   "source": [
    "n = 10\n",
    "a = [None for _ in range(n)]\n",
    "print(a)\n",
    "\n"
   ]
  },
  {
   "cell_type": "code",
   "execution_count": null,
   "id": "0494f089-f060-41b8-ade4-9ef4770db6ab",
   "metadata": {},
   "outputs": [],
   "source": [
    "n = 10\n",
    "a = [i+1 for i in range(n)]\n",
    "print(a)"
   ]
  },
  {
   "cell_type": "code",
   "execution_count": 34,
   "id": "287a711e-c9fe-480f-a86b-5a5f0c56c317",
   "metadata": {},
   "outputs": [
    {
     "name": "stdin",
     "output_type": "stream",
     "text": [
      " 15\n",
      " push 1\n"
     ]
    },
    {
     "name": "stdout",
     "output_type": "stream",
     "text": [
      "[1]\n",
      "1\n"
     ]
    },
    {
     "ename": "KeyboardInterrupt",
     "evalue": "Interrupted by user",
     "output_type": "error",
     "traceback": [
      "\u001b[1;31m---------------------------------------------------------------------------\u001b[0m",
      "\u001b[1;31mKeyboardInterrupt\u001b[0m                         Traceback (most recent call last)",
      "\u001b[1;32m<ipython-input-34-fc2c14980e3c>\u001b[0m in \u001b[0;36m<module>\u001b[1;34m\u001b[0m\n\u001b[0;32m     55\u001b[0m \u001b[1;33m\u001b[0m\u001b[0m\n\u001b[0;32m     56\u001b[0m \u001b[1;32mfor\u001b[0m \u001b[0m_\u001b[0m \u001b[1;32min\u001b[0m \u001b[0mrange\u001b[0m\u001b[1;33m(\u001b[0m\u001b[0mn\u001b[0m\u001b[1;33m)\u001b[0m\u001b[1;33m:\u001b[0m\u001b[1;33m\u001b[0m\u001b[1;33m\u001b[0m\u001b[0m\n\u001b[1;32m---> 57\u001b[1;33m     \u001b[0mcommand\u001b[0m \u001b[1;33m=\u001b[0m \u001b[0minput\u001b[0m\u001b[1;33m(\u001b[0m\u001b[1;33m)\u001b[0m\u001b[1;33m.\u001b[0m\u001b[0msplit\u001b[0m\u001b[1;33m(\u001b[0m\u001b[1;33m)\u001b[0m\u001b[1;33m\u001b[0m\u001b[1;33m\u001b[0m\u001b[0m\n\u001b[0m\u001b[0;32m     58\u001b[0m     \u001b[0mstack_lst\u001b[0m \u001b[1;33m=\u001b[0m \u001b[0mrun_cmd_with_stack\u001b[0m\u001b[1;33m(\u001b[0m\u001b[0mcommand\u001b[0m\u001b[1;33m,\u001b[0m \u001b[0mstack_lst\u001b[0m\u001b[1;33m)\u001b[0m\u001b[1;33m\u001b[0m\u001b[1;33m\u001b[0m\u001b[0m\n\u001b[0;32m     59\u001b[0m \u001b[1;33m\u001b[0m\u001b[0m\n",
      "\u001b[1;32m~\\anaconda3\\envs\\GJ_AI\\lib\\site-packages\\ipykernel\\kernelbase.py\u001b[0m in \u001b[0;36mraw_input\u001b[1;34m(self, prompt)\u001b[0m\n\u001b[0;32m    858\u001b[0m                 \u001b[1;34m\"raw_input was called, but this frontend does not support input requests.\"\u001b[0m\u001b[1;33m\u001b[0m\u001b[1;33m\u001b[0m\u001b[0m\n\u001b[0;32m    859\u001b[0m             )\n\u001b[1;32m--> 860\u001b[1;33m         return self._input_request(str(prompt),\n\u001b[0m\u001b[0;32m    861\u001b[0m             \u001b[0mself\u001b[0m\u001b[1;33m.\u001b[0m\u001b[0m_parent_ident\u001b[0m\u001b[1;33m,\u001b[0m\u001b[1;33m\u001b[0m\u001b[1;33m\u001b[0m\u001b[0m\n\u001b[0;32m    862\u001b[0m             \u001b[0mself\u001b[0m\u001b[1;33m.\u001b[0m\u001b[0m_parent_header\u001b[0m\u001b[1;33m,\u001b[0m\u001b[1;33m\u001b[0m\u001b[1;33m\u001b[0m\u001b[0m\n",
      "\u001b[1;32m~\\anaconda3\\envs\\GJ_AI\\lib\\site-packages\\ipykernel\\kernelbase.py\u001b[0m in \u001b[0;36m_input_request\u001b[1;34m(self, prompt, ident, parent, password)\u001b[0m\n\u001b[0;32m    902\u001b[0m             \u001b[1;32mexcept\u001b[0m \u001b[0mKeyboardInterrupt\u001b[0m\u001b[1;33m:\u001b[0m\u001b[1;33m\u001b[0m\u001b[1;33m\u001b[0m\u001b[0m\n\u001b[0;32m    903\u001b[0m                 \u001b[1;31m# re-raise KeyboardInterrupt, to truncate traceback\u001b[0m\u001b[1;33m\u001b[0m\u001b[1;33m\u001b[0m\u001b[1;33m\u001b[0m\u001b[0m\n\u001b[1;32m--> 904\u001b[1;33m                 \u001b[1;32mraise\u001b[0m \u001b[0mKeyboardInterrupt\u001b[0m\u001b[1;33m(\u001b[0m\u001b[1;34m\"Interrupted by user\"\u001b[0m\u001b[1;33m)\u001b[0m \u001b[1;32mfrom\u001b[0m \u001b[1;32mNone\u001b[0m\u001b[1;33m\u001b[0m\u001b[1;33m\u001b[0m\u001b[0m\n\u001b[0m\u001b[0;32m    905\u001b[0m             \u001b[1;32mexcept\u001b[0m \u001b[0mException\u001b[0m \u001b[1;32mas\u001b[0m \u001b[0me\u001b[0m\u001b[1;33m:\u001b[0m\u001b[1;33m\u001b[0m\u001b[1;33m\u001b[0m\u001b[0m\n\u001b[0;32m    906\u001b[0m                 \u001b[0mself\u001b[0m\u001b[1;33m.\u001b[0m\u001b[0mlog\u001b[0m\u001b[1;33m.\u001b[0m\u001b[0mwarning\u001b[0m\u001b[1;33m(\u001b[0m\u001b[1;34m\"Invalid Message:\"\u001b[0m\u001b[1;33m,\u001b[0m \u001b[0mexc_info\u001b[0m\u001b[1;33m=\u001b[0m\u001b[1;32mTrue\u001b[0m\u001b[1;33m)\u001b[0m\u001b[1;33m\u001b[0m\u001b[1;33m\u001b[0m\u001b[0m\n",
      "\u001b[1;31mKeyboardInterrupt\u001b[0m: Interrupted by user"
     ]
    }
   ],
   "source": [
    "class Stack:\n",
    "    def __init__(self, n):\n",
    "        # self.stack = [None] * n\n",
    "        self.stack = [None for _ in range(n)]\n",
    "        # self.stack = [i+1 for i in range(n)]\n",
    "        self.stack_size = 0\n",
    "\n",
    "    def push(self, num):\n",
    "        self.stack[self.size()] = int(num)\n",
    "        self.stack_size += 1\n",
    "\n",
    "    def pop(self):\n",
    "        if self.size() > 0:\n",
    "            last_val = self.top()\n",
    "            self.stack_size -= 1\n",
    "            return last_val\n",
    "\n",
    "        return -1\n",
    "\n",
    "    def size(self):\n",
    "        return self.stack_size\n",
    "\n",
    "    def empty(self):\n",
    "        if self.size() > 0:\n",
    "            return 0\n",
    "        \n",
    "        return 1\n",
    "        \n",
    "    def top(self):\n",
    "        if self.size() > 0:\n",
    "            return self.stack[self.size()-1]\n",
    "        \n",
    "        return -1\n",
    "\n",
    "def run_cmd_with_stack(cmd, stack_lst):\n",
    "    cmd_type = cmd[0]\n",
    "\n",
    "    if cmd_type == \"push\":\n",
    "        _, num = cmd # num = cmd[1]\n",
    "        stack_lst.push(num)\n",
    "    elif cmd_type == \"pop\":\n",
    "        print(stack_lst.pop())\n",
    "    elif cmd_type == \"size\":\n",
    "        print(stack_lst.size())\n",
    "    elif cmd_type == \"empty\":\n",
    "        print(stack_lst.empty())\n",
    "    elif cmd_type == \"top\":\n",
    "        print(stack_lst.top())\n",
    "\n",
    "    return stack_lst\n",
    "\n",
    "n = int(input())\n",
    "stack_lst = Stack(n)\n",
    "# stack_lst.stack => []\n",
    "\n",
    "for _ in range(n):\n",
    "    command = input().split()\n",
    "    stack_lst = run_cmd_with_stack(command, stack_lst)\n",
    "\n",
    "    print(stack_lst.stack[:stack_lst.size()])\n",
    "    print(stack_lst.size())"
   ]
  },
  {
   "cell_type": "code",
   "execution_count": null,
   "id": "25981da1-453a-4abd-b91d-d3e744efadb4",
   "metadata": {},
   "outputs": [],
   "source": [
    "a = [1,2,3]\n",
    "a.pop(0)\n",
    "print(a)"
   ]
  },
  {
   "cell_type": "code",
   "execution_count": null,
   "id": "0b779d5a-e75e-4294-9ba9-910d6816685e",
   "metadata": {},
   "outputs": [],
   "source": [
    "def command(run) :\n",
    "    cmd = run[0]\n",
    "    if cmd == 'push' :\n",
    "        num = int(run[1])\n",
    "        push(num)\n",
    "    if cmd == 'pop' :\n",
    "        ppop()\n",
    "    if cmd == 'size' :\n",
    "        size()\n",
    "    if cmd == 'empty' :\n",
    "        empty()\n",
    "    if cmd == 'front' :\n",
    "        front()\n",
    "    if cmd == 'back' :\n",
    "        back()\n",
    "queue = []\n",
    "def push(num) :\n",
    "    queue.append(num)    \n",
    "def ppop() :\n",
    "    if len(queue) == 0 :\n",
    "        print(-1)\n",
    "    else : print(queue.pop(0))\n",
    "def size() :\n",
    "    print(len(queue))\n",
    "def empty() :\n",
    "    if len(queue) == 0 :\n",
    "        print(1)\n",
    "    else : print(0)\n",
    "def front() :\n",
    "    if len(queue) == 0 :\n",
    "        print(-1)\n",
    "    else : print(queue[0])\n",
    "def back() :\n",
    "    if len(queue) == 0 :\n",
    "        print(-1)\n",
    "    else : print(queue[-1])\n",
    "        \n",
    "def go_command() :\n",
    "    N = int(input())\n",
    "    for _ in range(N):\n",
    "        go = input().split(' ')\n",
    "        command(go)\n",
    "    \n",
    "go_command()"
   ]
  },
  {
   "cell_type": "code",
   "execution_count": null,
   "id": "2b2da4ab-b3e0-4318-ae20-41ebcdf75b2a",
   "metadata": {
    "jupyter": {
     "source_hidden": true
    },
    "tags": []
   },
   "outputs": [],
   "source": []
  },
  {
   "cell_type": "code",
   "execution_count": 41,
   "id": "25c38531-9716-4605-ad4a-a78ea88a2b6f",
   "metadata": {},
   "outputs": [
    {
     "name": "stdin",
     "output_type": "stream",
     "text": [
      " 3\n",
      " push 1\n"
     ]
    },
    {
     "name": "stdout",
     "output_type": "stream",
     "text": [
      "[1]\n"
     ]
    },
    {
     "name": "stdin",
     "output_type": "stream",
     "text": [
      " push 2\n"
     ]
    },
    {
     "name": "stdout",
     "output_type": "stream",
     "text": [
      "[1, 2]\n"
     ]
    },
    {
     "name": "stdin",
     "output_type": "stream",
     "text": [
      " pop\n"
     ]
    },
    {
     "name": "stdout",
     "output_type": "stream",
     "text": [
      "[2]\n"
     ]
    }
   ],
   "source": [
    "class Queue :\n",
    "    def __init__(self,n) :\n",
    "        self.queue = []\n",
    "    def push(self,num) :\n",
    "        self.queue.append(int(num))\n",
    "    def pop(self):\n",
    "        if len(self.queue)==0 :\n",
    "            return -1\n",
    "        else :\n",
    "            self.queue.pop(0)\n",
    "    def size(self):\n",
    "        if len(self.queue)==0 :\n",
    "            return -1\n",
    "        return len(self.queue)\n",
    "    def empty(self):\n",
    "        if len(self.queue)==0 :\n",
    "            return 1\n",
    "        return 0\n",
    "    def front(self):\n",
    "        if len(self.queue)==0 :\n",
    "            return -1\n",
    "        return self.queue[0]\n",
    "    def back(self):\n",
    "        if len(self.queue)==0 :\n",
    "            return -1\n",
    "        return self.queue[-1]\n",
    "\n",
    "def command(com,queue_list):\n",
    "    cmd = com[0]\n",
    "    \n",
    "    if cmd == \"push\" :\n",
    "        _,num = run\n",
    "        queue_list.push(num)\n",
    "    elif cmd == \"pop\" :\n",
    "        queue_list.pop()\n",
    "    elif cmd == \"size\" :\n",
    "        queue_list.size()\n",
    "    elif cmd == \"empty\" :\n",
    "        queue_list.empty()\n",
    "    elif cmd == \"front\" :\n",
    "        queue_list.front()\n",
    "    elif cmd == \"back\" :\n",
    "        queue_list.back()\n",
    "        \n",
    "    return queue_list\n",
    "\n",
    "n = int(input())\n",
    "queue_list = Queue(n)\n",
    "for _ in range(n):\n",
    "    run = input().split()\n",
    "    queue_list = command(run,queue_list)\n",
    "    \n",
    "    print(queue_list.queue)"
   ]
  },
  {
   "cell_type": "code",
   "execution_count": null,
   "id": "f5e4ec77-2b72-4449-a439-d84903d490a4",
   "metadata": {},
   "outputs": [],
   "source": []
  }
 ],
 "metadata": {
  "kernelspec": {
   "display_name": "Python 3",
   "language": "python",
   "name": "python3"
  },
  "language_info": {
   "codemirror_mode": {
    "name": "ipython",
    "version": 3
   },
   "file_extension": ".py",
   "mimetype": "text/x-python",
   "name": "python",
   "nbconvert_exporter": "python",
   "pygments_lexer": "ipython3",
   "version": "3.8.10"
  }
 },
 "nbformat": 4,
 "nbformat_minor": 5
}
