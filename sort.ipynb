{
 "cells": [
  {
   "cell_type": "code",
   "execution_count": 48,
   "id": "f60d1776-1c99-414a-8b90-849788a46e56",
   "metadata": {},
   "outputs": [
    {
     "name": "stdin",
     "output_type": "stream",
     "text": [
      " 9\n",
      " 7\n",
      " 6\n",
      " 5\n",
      " 4\n",
      " 2\n",
      " 1\n",
      " 3\n",
      " 8\n",
      " 9\n"
     ]
    },
    {
     "name": "stdout",
     "output_type": "stream",
     "text": [
      "1 2 3 4 5 6 7 8 9\n",
      "1 2 3 4 5 6 7 8 9\n",
      "1 2 3 4 5 6 7 8 9\n"
     ]
    }
   ],
   "source": [
    "def insertion_sort():\n",
    "    for i in range(len(num_list)):\n",
    "        for j in range(len(num_list)):\n",
    "            if j > i and num_list[j] < num_list[i] :\n",
    "                x = num_list[j]\n",
    "                y = num_list[i]\n",
    "                num_list[j] = y\n",
    "                num_list[i] = x\n",
    "                \n",
    "    return num_list\n",
    "\n",
    "def selection_sort():\n",
    "    new_list = num_list.copy()\n",
    "    fin_list = []\n",
    "    \n",
    "    for i in range(len(num_list)) :\n",
    "        fin_list.append(min(new_list))\n",
    "        new_list.remove(min(new_list))\n",
    "        \n",
    "    return fin_list\n",
    "\n",
    "def bubble_sort():\n",
    "    for _ in range(len(num_list)):\n",
    "        for i in range(len(num_list)-1) :\n",
    "            if num_list[i]>num_list[i+1] :\n",
    "                x = num_list[i]\n",
    "                y = num_list[i+1]\n",
    "                num_list[i] = y\n",
    "                num_list[i+1] = x\n",
    "\n",
    "    return num_list\n",
    "\n",
    "n = int(input())\n",
    "num_list = []\n",
    "\n",
    "for _ in range(n):\n",
    "    num = int(input())\n",
    "    num_list.append(num)\n",
    "\n",
    "\n",
    "insertion_sorted_list = insertion_sort()\n",
    "print(\" \".join(map(str, insertion_sorted_list)))\n",
    "\n",
    "selection_sorted_list = selection_sort()\n",
    "print(\" \".join(map(str, selection_sorted_list)))\n",
    "\n",
    "bubble_sorted_list = bubble_sort()\n",
    "print(\" \".join(map(str, bubble_sorted_list)))"
   ]
  },
  {
   "cell_type": "code",
   "execution_count": 23,
   "id": "eb0a7209-1511-48c8-9f45-4f7ca0ae4803",
   "metadata": {},
   "outputs": [
    {
     "name": "stdout",
     "output_type": "stream",
     "text": [
      "[1, 3, 4, 5, 7]\n"
     ]
    }
   ],
   "source": [
    "num_list = [5,4,3,7,1]\n",
    "for _ in range(len(num_list)):\n",
    "    for i in range(len(num_list)-1) :\n",
    "        if num_list[i]>num_list[i+1] :\n",
    "            x = num_list[i]\n",
    "            y = num_list[i+1]\n",
    "            num_list[i] = y\n",
    "            num_list[i+1] = x\n",
    "        \n",
    "print(num_list)"
   ]
  },
  {
   "cell_type": "code",
   "execution_count": 24,
   "id": "522e12e8-1aa5-4bd9-b409-3351bf9bae52",
   "metadata": {},
   "outputs": [
    {
     "name": "stdout",
     "output_type": "stream",
     "text": [
      "[]\n",
      "[1, 3, 5, 7, 9]\n"
     ]
    }
   ],
   "source": [
    "num_list = [5,3,7,9,1]\n",
    "new_list = []\n",
    "for i in range(len(num_list)) :\n",
    "    new_list.append(min(num_list))\n",
    "    num_list.remove(min(num_list))\n",
    "        \n",
    "print(num_list)\n",
    "print(new_list)"
   ]
  },
  {
   "cell_type": "code",
   "execution_count": 25,
   "id": "89ff0336-e916-42f4-82ad-38006fe32e38",
   "metadata": {},
   "outputs": [
    {
     "name": "stdout",
     "output_type": "stream",
     "text": [
      "[1, 2, 3, 4, 5, 7]\n"
     ]
    }
   ],
   "source": [
    "num_list = [5,3,1,4,7,2]\n",
    "for i in range(len(num_list)):\n",
    "    for j in range(len(num_list)):\n",
    "        if j > i and num_list[j] < num_list[i] :\n",
    "            x = num_list[j]\n",
    "            y = num_list[i]\n",
    "            num_list[j] = y\n",
    "            num_list[i] = x\n",
    "            \n",
    "print(num_list)"
   ]
  },
  {
   "cell_type": "code",
   "execution_count": 45,
   "id": "ecff5390-c40e-4f65-ae19-4c26b00108e3",
   "metadata": {},
   "outputs": [
    {
     "data": {
      "text/plain": [
       "[5, 3, 1, 4, 7, 2]"
      ]
     },
     "execution_count": 45,
     "metadata": {},
     "output_type": "execute_result"
    }
   ],
   "source": [
    "num_list = [5,3,1,4,7,2]\n",
    "new_list = num_list.copy()\n",
    "new_list"
   ]
  },
  {
   "cell_type": "code",
   "execution_count": null,
   "id": "c5605405-a04f-4f97-b9b2-3f09389f8690",
   "metadata": {},
   "outputs": [],
   "source": []
  }
 ],
 "metadata": {
  "kernelspec": {
   "display_name": "Python 3",
   "language": "python",
   "name": "python3"
  },
  "language_info": {
   "codemirror_mode": {
    "name": "ipython",
    "version": 3
   },
   "file_extension": ".py",
   "mimetype": "text/x-python",
   "name": "python",
   "nbconvert_exporter": "python",
   "pygments_lexer": "ipython3",
   "version": "3.8.10"
  }
 },
 "nbformat": 4,
 "nbformat_minor": 5
}
