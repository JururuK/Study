{
 "cells": [
  {
   "cell_type": "code",
   "execution_count": 1,
   "id": "1c8a6479-0610-481c-88dc-aca7a55da5b7",
   "metadata": {},
   "outputs": [],
   "source": [
    "import numpy as np\n",
    "import pandas as pd\n",
    "import csv\n",
    "import matplotlib.pyplot as plt\n",
    "\n",
    "RND_MEAN = 0\n",
    "RND_STD  = 0.03\n",
    "\n",
    "LEARNING_RATE = 0.07"
   ]
  },
  {
   "cell_type": "code",
   "execution_count": null,
   "id": "dbf75bba-7185-4806-bb9a-b16a2d08e450",
   "metadata": {},
   "outputs": [],
   "source": []
  }
 ],
 "metadata": {
  "kernelspec": {
   "display_name": "Python 3",
   "language": "python",
   "name": "python3"
  },
  "language_info": {
   "codemirror_mode": {
    "name": "ipython",
    "version": 3
   },
   "file_extension": ".py",
   "mimetype": "text/x-python",
   "name": "python",
   "nbconvert_exporter": "python",
   "pygments_lexer": "ipython3",
   "version": "3.8.10"
  }
 },
 "nbformat": 4,
 "nbformat_minor": 5
}
