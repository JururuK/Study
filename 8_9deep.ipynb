{
 "cells": [
  {
   "cell_type": "code",
   "execution_count": 1,
   "id": "2aaa5607-f689-4534-a8b5-910f94a6b68b",
   "metadata": {},
   "outputs": [],
   "source": [
    "import pandas as pd"
   ]
  },
  {
   "cell_type": "code",
   "execution_count": 3,
   "id": "e1846fb1-148f-4a0f-852b-8d70fdd9f338",
   "metadata": {},
   "outputs": [],
   "source": [
    "df=pd.read_csv('dataset/pulsar_stars_mini.csv')"
   ]
  },
  {
   "cell_type": "code",
   "execution_count": 5,
   "id": "44703c2c-030b-46d8-9197-ac3ed33cdc1f",
   "metadata": {},
   "outputs": [
    {
     "name": "stdout",
     "output_type": "stream",
     "text": [
      "<class 'pandas.core.frame.DataFrame'>\n",
      "RangeIndex: 10 entries, 0 to 9\n",
      "Data columns (total 9 columns):\n",
      " #   Column                                         Non-Null Count  Dtype  \n",
      "---  ------                                         --------------  -----  \n",
      " 0    Mean of the integrated profile                10 non-null     float64\n",
      " 1    Standard deviation of the integrated profile  10 non-null     float64\n",
      " 2    Excess kurtosis of the integrated profile     10 non-null     float64\n",
      " 3    Skewness of the integrated profile            10 non-null     float64\n",
      " 4    Mean of the DM-SNR curve                      10 non-null     float64\n",
      " 5    Standard deviation of the DM-SNR curve        10 non-null     float64\n",
      " 6    Excess kurtosis of the DM-SNR curve           10 non-null     float64\n",
      " 7    Skewness of the DM-SNR curve                  10 non-null     float64\n",
      " 8   target_class                                   10 non-null     int64  \n",
      "dtypes: float64(8), int64(1)\n",
      "memory usage: 848.0 bytes\n"
     ]
    }
   ],
   "source": [
    "df.info()"
   ]
  },
  {
   "cell_type": "code",
   "execution_count": 17,
   "id": "a0116dcf-6320-4218-8a22-caa9eaa6ae96",
   "metadata": {},
   "outputs": [],
   "source": [
    "%run MathUtils.ipynb"
   ]
  },
  {
   "cell_type": "code",
   "execution_count": 19,
   "id": "a5f5cb63-f998-461d-9485-1cd64ae8eccf",
   "metadata": {
    "tags": []
   },
   "outputs": [],
   "source": [
    "%run abalone_model.ipynb"
   ]
  },
  {
   "cell_type": "code",
   "execution_count": 20,
   "id": "b084e87f-a256-40ce-bcff-e197f16a9255",
   "metadata": {},
   "outputs": [],
   "source": [
    "def binary_classification_exec(epoch_count=10,mb_size=10,report=1,train_ratio=0.8):\n",
    "    binary_load_dataset()\n",
    "    init_param()\n",
    "    train_matrix_mean_row,val_matrics_row,test_metrics=train_and_test(epoch_couunt,mb_size,report,train_ratio)\n",
    "\n",
    "    return train_matrix_mean_row,val_matrics_row,test_metrics\n"
   ]
  },
  {
   "cell_type": "code",
   "execution_count": 52,
   "id": "22d98d88-76fd-4b74-902b-27a611edf977",
   "metadata": {},
   "outputs": [],
   "source": [
    "def binary_load_dataset():\n",
    "    #with open('/content/pulsar_stars.csv') as csvfile:\n",
    "    with open('dataset/pulsar_stars_mini.csv') as csvfile:\n",
    "        csvreader = csv.reader(csvfile)\n",
    "        next(csvreader)\n",
    "\n",
    "        rows = []\n",
    "        for row in csvreader:\n",
    "            rows.append(row)\n",
    "    \n",
    "    global data, input_cnt, output_cnt\n",
    "\n",
    "    input_cnt, output_cnt = 8, 1\n",
    "\n",
    "    data = np.asarray(rows, dtype='float32')"
   ]
  },
  {
   "cell_type": "code",
   "execution_count": 53,
   "id": "ba704c6c-ac0b-45b0-bae1-2fa75d9bcd68",
   "metadata": {},
   "outputs": [],
   "source": [
    "binary_load_dataset()"
   ]
  },
  {
   "cell_type": "code",
   "execution_count": 54,
   "id": "5554f34b-f419-466a-be18-3666cf62e41f",
   "metadata": {},
   "outputs": [
    {
     "data": {
      "text/plain": [
       "(10, 9)"
      ]
     },
     "execution_count": 54,
     "metadata": {},
     "output_type": "execute_result"
    }
   ],
   "source": [
    "data.shape"
   ]
  },
  {
   "cell_type": "code",
   "execution_count": 60,
   "id": "3addf2b0-fd07-46e6-b9ea-bc687c57df42",
   "metadata": {},
   "outputs": [],
   "source": [
    "def init_param():\n",
    "\n",
    "    weight = np.random.normal(RND_MEAN, RND_STD, size = [input_cnt, output_cnt])\n",
    "    bias   = np.zeros([output_cnt])\n",
    "\n",
    "    print(\"Initial weight value : \\n\", weight)\n",
    "    print(\"Initial bias value : \\n\", bias)"
   ]
  },
  {
   "cell_type": "code",
   "execution_count": 56,
   "id": "ab894aaf-3358-490b-8141-72a98b82f71a",
   "metadata": {},
   "outputs": [],
   "source": [
    "def arrange_data(mb_size, train_ratio, val_ratio):\n",
    "    global shuffle_map, test_begin_index, val_begin_index\n",
    "\n",
    "    shuffle_map = np.arange(data.shape[0])\n",
    "\n",
    "    np.random.shuffle(shuffle_map)\n",
    "\n",
    "    mini_batch_step_count = int(data.shape[0] * train_ratio) // mb_size \n",
    "\n",
    "    val_begin_index = mini_batch_step_count * mb_size\n",
    "    test_begin_index = int(val_begin_index + (val_ratio * data.shape[0]))\n",
    "\n",
    "    return mini_batch_step_count"
   ]
  },
  {
   "cell_type": "code",
   "execution_count": 61,
   "id": "f650d273-c39e-4ac1-9057-eabb90add140",
   "metadata": {},
   "outputs": [
    {
     "name": "stdout",
     "output_type": "stream",
     "text": [
      "mini batch step count : 6\n",
      "val begin index : 6\n",
      "test begin index : 8\n"
     ]
    }
   ],
   "source": [
    "mini_batch_step_count = arrange_data(mb_size=1,train_ratio=0.6,val_ratio=0.2)\n",
    "print(\"mini batch step count :\",mini_batch_step_count)\n",
    "print(\"val begin index :\",val_begin_index)\n",
    "print(\"test begin index :\",test_begin_index)"
   ]
  },
  {
   "cell_type": "code",
   "execution_count": 66,
   "id": "45749063-2230-4137-95f3-445cd52ceac9",
   "metadata": {},
   "outputs": [],
   "source": [
    "def get_test_data():\n",
    "    test_data=data[shuffle_map[test_begin_index:]]\n",
    "    return test_data[:,:-output_cnt],test_data[:,-output_cnt:]\n",
    "\n",
    "\n",
    "def get_val_data():\n",
    "    val_data = data[shuffle_map[val_begin_index:test_begin_index]]\n",
    "    return val_data[:,:-output_cnt],val_data[:,-output_cnt:]\n",
    "\n",
    "#학습데이터 생성(비니배치기능)\n",
    "def get_train_data(mb_size,n):\n",
    "    from_idx=n*mb_size\n",
    "    to_idx=(n+1)*mb_size\n",
    "    \n",
    "    train_data=data[shuffle_map[from_idx:to_idx]]\n",
    "    \n",
    "    return train_data[:,:output_cnt],train_data[:,-output_cnt:]\n",
    "\n"
   ]
  },
  {
   "cell_type": "code",
   "execution_count": 67,
   "id": "e0c232b6-debc-4218-8415-0f22216f8686",
   "metadata": {},
   "outputs": [],
   "source": [
    "test_X, test_Y   = get_test_data()\n",
    "val_X, val_Y     = get_val_data()\n",
    "train_X, train_Y = get_train_data(1,0)"
   ]
  },
  {
   "cell_type": "code",
   "execution_count": 68,
   "id": "e75e1c83-1b2f-4b20-a26b-03bb09834ba8",
   "metadata": {},
   "outputs": [
    {
     "name": "stdout",
     "output_type": "stream",
     "text": [
      "\n"
     ]
    }
   ],
   "source": [
    "print()"
   ]
  },
  {
   "cell_type": "code",
   "execution_count": 72,
   "id": "107f3102-c38c-4fa1-b50c-7850fb27e2d5",
   "metadata": {},
   "outputs": [],
   "source": [
    "def run_train(x,y):\n",
    "    loss = 0\n",
    "    accuracy = 100\n",
    "    return loss,accuracy"
   ]
  },
  {
   "cell_type": "code",
   "execution_count": 73,
   "id": "b6b09483-f0e2-4c12-be77-b678d8d26cd9",
   "metadata": {},
   "outputs": [
    {
     "name": "stdout",
     "output_type": "stream",
     "text": [
      "0 100\n"
     ]
    }
   ],
   "source": [
    "train_loss,train_acc=run_train(0,0)\n",
    "print(train_loss,train_acc)"
   ]
  },
  {
   "cell_type": "code",
   "execution_count": 75,
   "id": "104da70f-304c-416f-936c-c6ed98b54f02",
   "metadata": {},
   "outputs": [],
   "source": [
    "def run_test(x,y):\n",
    "    loss = 0\n",
    "    accuracy = 100\n",
    "    \n",
    "    return loss, accuracy"
   ]
  },
  {
   "cell_type": "code",
   "execution_count": 76,
   "id": "5905f616-1cbb-4076-8e72-088f65ba77d7",
   "metadata": {},
   "outputs": [
    {
     "name": "stdout",
     "output_type": "stream",
     "text": [
      "0 100\n"
     ]
    }
   ],
   "source": [
    "test_loss, test_acc = run_test(0,0)\n",
    "print(test_loss,test_acc)"
   ]
  },
  {
   "cell_type": "code",
   "execution_count": null,
   "id": "ec291afc-42d7-45c9-90bb-e586f04374ac",
   "metadata": {},
   "outputs": [],
   "source": [
    "def train_and_test(epoch_count,mb_size,report,train_ratio.val_ratio):\n",
    "    mini_batch_step_count=arrange_data(mb_size,train_ratio,val_ratio)\n",
    "    test_x,test_y=get_test_data()\n",
    "    #추가된 코드\n",
    "    val_x,val_y=get_val_data()\n",
    "    val_loss_row,val_acc_row\n",
    "    \n",
    "    for epoch in range(epoch_count):\n",
    "        losses=[]\n",
    "        accs=[]\n",
    "        for n in range(mini_batch_step_count):\n",
    "            train_x,train_y=get_train_data(mb_size,n)\n",
    "            \n",
    "            loss,acc = run_train(train_x,train_y)\n",
    "            \n",
    "            losses.append(loss)\n",
    "            accs.append(acc)\n",
    "        #추가 코드\n",
    "        val_loss,val_acc=run_test(val_x,val_y)\n",
    "        val_loss_row.append(val_loss)\n",
    "        val_acc_row.append(val_acc)"
   ]
  }
 ],
 "metadata": {
  "kernelspec": {
   "display_name": "Python 3",
   "language": "python",
   "name": "python3"
  },
  "language_info": {
   "codemirror_mode": {
    "name": "ipython",
    "version": 3
   },
   "file_extension": ".py",
   "mimetype": "text/x-python",
   "name": "python",
   "nbconvert_exporter": "python",
   "pygments_lexer": "ipython3",
   "version": "3.8.10"
  }
 },
 "nbformat": 4,
 "nbformat_minor": 5
}
