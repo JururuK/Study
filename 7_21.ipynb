{
 "cells": [
  {
   "cell_type": "code",
   "execution_count": null,
   "id": "0dc4a5c3-c7a3-43ab-be95-22e59b7db1ba",
   "metadata": {},
   "outputs": [],
   "source": [
    "def prime(num) :\n",
    "    if num == 1 :\n",
    "        return False\n",
    "    else :\n",
    "        for i in range(2, int(num**(1/2))+1) :\n",
    "            if num % i == 0 :\n",
    "                return False\n",
    "        return True\n",
    "T = int(input())\n",
    "for _ in range(T):\n",
    "    N = int(input())\n",
    "    prime_list = []\n",
    "    diff = []\n",
    "    num_diff = []\n",
    "    for i in range(2,N+1):\n",
    "        if prime(i) == True :\n",
    "            prime_list.append(i)\n",
    "\n",
    "    for num1 in prime_list :\n",
    "\n",
    "        for num2 in prime_list :\n",
    "            if num1 + num2 == N and num1 <= num2 :\n",
    "                diff.append([num1,num2])\n",
    "                num_diff.append(num2-num1)\n",
    "\n",
    "    for row in diff :\n",
    "        if row[1]-row[0] == min(num_diff) :\n",
    "            print(row[0],row[1])\n",
    "        \n",
    "    prime_list = []\n",
    "    diff_list = []"
   ]
  },
  {
   "cell_type": "code",
   "execution_count": null,
   "id": "64251856-8a76-44b4-bd78-94fce56d2f35",
   "metadata": {},
   "outputs": [],
   "source": [
    "prime = [False, False] + [True] * 10000\n",
    "    \n",
    "for i in range(2, 101):\n",
    "    if prime[i] == True:\n",
    "        for j in range(2*i, 10001, i):\n",
    "            prime[j] = False\n",
    "\n",
    "T = int(input())\n",
    "for _ in range(T):\n",
    "    N = int(input())\n",
    "    num = N // 2\n",
    "    for j in range(num, 1, -1):\n",
    "        if prime[N - j] and prime[j]:\n",
    "            print(j, N - j)\n",
    "            break"
   ]
  },
  {
   "cell_type": "code",
   "execution_count": 4,
   "id": "d6b25ca5-33ad-499e-8336-dd5d5fb29ae8",
   "metadata": {},
   "outputs": [
    {
     "name": "stdin",
     "output_type": "stream",
     "text": [
      " 6 2 10 3\n"
     ]
    },
    {
     "name": "stdout",
     "output_type": "stream",
     "text": [
      "1\n"
     ]
    }
   ],
   "source": [
    "x,y,w,h = map(int,input().split())\n",
    "print(min(x,y,(w-x),(h-y)))"
   ]
  },
  {
   "cell_type": "code",
   "execution_count": 7,
   "id": "0e01f96d-e6c4-4c07-8697-72f3f82c3de6",
   "metadata": {},
   "outputs": [
    {
     "name": "stdin",
     "output_type": "stream",
     "text": [
      " 30 20\n",
      " 10 10\n",
      " 10 20\n"
     ]
    },
    {
     "name": "stdout",
     "output_type": "stream",
     "text": [
      "30 10\n"
     ]
    }
   ],
   "source": [
    "point = []\n",
    "x_list = []\n",
    "x_count = []\n",
    "y_list = []\n",
    "y_count = []\n",
    "for _ in range(3):\n",
    "    a,b = map(int,input().split())\n",
    "    point.append([a,b])\n",
    "    x_list.append(a)\n",
    "    y_list.append(b)\n",
    "\n",
    "for i in range(3):\n",
    "    x_count.append(x_list.count(x_list[i]))\n",
    "    y_count.append(y_list.count(y_list[i]))\n",
    "\n",
    "for j in range(3):\n",
    "    if x_list.count(x_list[j]) == min(x_count):\n",
    "        x1=x_list[j]\n",
    "    if y_list.count(y_list[j]) == min(y_count):\n",
    "        y1=y_list[j]\n",
    "        \n",
    "print(x1,y1)"
   ]
  },
  {
   "cell_type": "code",
   "execution_count": 25,
   "id": "46afde27-f6f8-46cc-ba7a-dfa93ea70218",
   "metadata": {},
   "outputs": [
    {
     "name": "stdin",
     "output_type": "stream",
     "text": [
      " 42\n"
     ]
    },
    {
     "name": "stdout",
     "output_type": "stream",
     "text": [
      "3528\n",
      "5541.769441\n"
     ]
    }
   ],
   "source": [
    "import numpy as np\n",
    "\n",
    "def euc(n):\n",
    "    area = round((n**2)*np.pi,6)\n",
    "    print(area)\n",
    "def taxi(n):\n",
    "    area = (n**2)*2\n",
    "    print(area)\n",
    "def run() :\n",
    "    n = int(input())\n",
    "    taxi(n)\n",
    "    euc(n)\n",
    "run()"
   ]
  },
  {
   "cell_type": "code",
   "execution_count": 42,
   "id": "1d40898f-8a12-4a38-baa0-534c9c4dcfbe",
   "metadata": {},
   "outputs": [
    {
     "name": "stdin",
     "output_type": "stream",
     "text": [
      " 1\n"
     ]
    },
    {
     "name": "stdout",
     "output_type": "stream",
     "text": [
      "3.141593\n",
      "2.000000\n"
     ]
    }
   ],
   "source": [
    "pi = 3.14159265359\n",
    "R = int(input())\n",
    "print(\"{:.6f}\".format((R**2)*pi))\n",
    "print(\"{:.6f}\".format((R**2)*2))"
   ]
  },
  {
   "cell_type": "code",
   "execution_count": 18,
   "id": "a1d3b5a8-35cd-4daa-af2a-5c5844a8ab67",
   "metadata": {},
   "outputs": [
    {
     "name": "stdin",
     "output_type": "stream",
     "text": [
      " 5 4 3\n"
     ]
    },
    {
     "name": "stdout",
     "output_type": "stream",
     "text": [
      "right\n"
     ]
    },
    {
     "name": "stdin",
     "output_type": "stream",
     "text": [
      " 0 0 0\n"
     ]
    }
   ],
   "source": [
    "while True :\n",
    "    a,b,c = map(int,input().split())\n",
    "    side = [a,b,c]\n",
    "    side.sort()\n",
    "    if side[0] == 0 and side[1] == 0 and side[2] == 0 :\n",
    "        break\n",
    "        \n",
    "    elif side[0]**2 + side[1]**2 != side[2]**2 :\n",
    "        print('wrong')\n",
    "    \n",
    "    else : print('right')"
   ]
  },
  {
   "cell_type": "code",
   "execution_count": null,
   "id": "8d1d4d18-5136-467d-a11b-df767281b70c",
   "metadata": {},
   "outputs": [],
   "source": [
    "from collections import deque\n",
    "\n",
    "class StackAndQueue :\n",
    "    def __init(self, data_type):\n",
    "        self.array = deque()\n",
    "        self.data_type = data_type\n",
    "        \n",
    "    def is_stack(self):\n",
    "        return self.data_type == 'stack'\n",
    "    \n",
    "    def is_empty(self):\n",
    "        return self.size() == 0:        \n",
    "        \n",
    "    def push(self,num):\n",
    "        self.array.append(num)\n",
    "    \n",
    "    def pop(self):\n",
    "        if self.is_empty()\n",
    "            return -1\n",
    "        if self.is_stack():\n",
    "            return self.array.pop()\n",
    "        return self.array.popleft()\n",
    "    \n",
    "    def size(self):\n",
    "        return len(self.array)\n",
    "    \n",
    "    def front(self):\n",
    "        if self.is_empty() or self.is_stack():\n",
    "            return -1\n",
    "        return self.array[0]\n",
    "    \n",
    "    def back(self):\n",
    "        if self.is_empty() or self.is_stack():\n",
    "            return -1\n",
    "        return self.array[-1]\n",
    "    \n",
    "def run_cmd(command, data_obj):\n",
    "    cmd_type = command[0]\n",
    "\n",
    "    if cmd_type == \"push\":\n",
    "        _, num = command\n",
    "        data_obj.push(num)\n",
    "\n",
    "    elif cmd_type == \"pop\":\n",
    "        print(data_obj.pop())\n",
    "\n",
    "    elif cmd_type == \"size\":\n",
    "        print(data_obj.size())\n",
    "\n",
    "    elif cmd_type == \"empty\":\n",
    "        print(data_obj.empty())\n",
    "\n",
    "    elif cmd_type == \"top\":\n",
    "        print(data_obj.top())\n",
    "\n",
    "    elif cmd_type == \"front\":\n",
    "        print(data_obj.front())\n",
    "\n",
    "    elif cmd_type == \"back\":\n",
    "        print(data_obj.back())\n",
    "\n",
    "data_type = input() # \"stack\" / \"queue\"\n",
    "n = int(input())\n",
    "data_obj = StackAndQueue(data_type)\n",
    "\n",
    "for _ in range(n):\n",
    "    run_cmd(input().split(), data_obj)"
   ]
  },
  {
   "cell_type": "code",
   "execution_count": 66,
   "id": "6d037f0a-c136-48b1-952c-9484a69a2ebd",
   "metadata": {},
   "outputs": [
    {
     "name": "stdin",
     "output_type": "stream",
     "text": [
      " 1\n",
      " 0 0 4 3 0 1\n"
     ]
    },
    {
     "name": "stdout",
     "output_type": "stream",
     "text": [
      "2\n"
     ]
    }
   ],
   "source": [
    "T = int(input())\n",
    "for _ in range(T):\n",
    "    x1,y1,r1,x2,y2,r2 = map(int,input().split())\n",
    "    dis = (x2-x1)**2 + (y2-y1)**2\n",
    "    if dis == 0 and r1==r2:\n",
    "        print(-1)\n",
    "    else :    \n",
    "        if dis**0.5 < abs(r1-r2) or dis**0.5 > r1+r2 :\n",
    "            print(0)\n",
    "\n",
    "        if r1+r2 == dis**0.5 or abs(r1-r2) == dis**0.5 :\n",
    "            print(1)\n",
    "\n",
    "        if dis**0.5 < r1+r2 and dis**0.5 > abs(r1-r2) :\n",
    "            print(2)\n"
   ]
  }
 ],
 "metadata": {
  "kernelspec": {
   "display_name": "Python 3",
   "language": "python",
   "name": "python3"
  },
  "language_info": {
   "codemirror_mode": {
    "name": "ipython",
    "version": 3
   },
   "file_extension": ".py",
   "mimetype": "text/x-python",
   "name": "python",
   "nbconvert_exporter": "python",
   "pygments_lexer": "ipython3",
   "version": "3.8.10"
  }
 },
 "nbformat": 4,
 "nbformat_minor": 5
}
