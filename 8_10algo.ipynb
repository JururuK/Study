{
 "cells": [
  {
   "cell_type": "code",
   "execution_count": 2,
   "id": "c6bdc555-24c0-43e0-831d-d6960615c948",
   "metadata": {},
   "outputs": [
    {
     "name": "stdin",
     "output_type": "stream",
     "text": [
      " 10 3\n",
      " 2 9 5\n"
     ]
    },
    {
     "name": "stdout",
     "output_type": "stream",
     "text": [
      "11\n"
     ]
    }
   ],
   "source": [
    "from collections import deque\n",
    "n,m=map(int,input().split())\n",
    "target_list=map(int,input().split())\n",
    "num_list=deque([i for i in range(1,n+1)])\n",
    "\n",
    "min_total_move_cnt=0\n",
    "\n",
    "for find_num in target_list :\n",
    "    move_cnt = -(num_list.index(find_num))\n",
    "    \n",
    "    if move_cnt > len(num_list) + move_cnt:\n",
    "        move_cnt += len(num_list)\n",
    "        \n",
    "    min_total_move_cnt += abs(move_cnt)\n",
    "    num_list.rotate(move_cnt)\n",
    "    num_list.popleft()\n",
    "    #num_list.append(num_list.popleft())\n",
    "    #num_list.appendleft(num_list.pop())\n",
    "    #num_list.append(num_list.pop(0)) #왼쪽1칸\n",
    "    #num_list.insert(0,num_list.pop()) #오른쪽1칸\n",
    "    \n",
    "print(min_total_move_cnt)"
   ]
  },
  {
   "cell_type": "code",
   "execution_count": 22,
   "id": "d6bfd243-bfcd-4dc1-8d12-53a05117e4a8",
   "metadata": {},
   "outputs": [
    {
     "name": "stdin",
     "output_type": "stream",
     "text": [
      " 4\n"
     ]
    },
    {
     "name": "stdout",
     "output_type": "stream",
     "text": [
      "어느 한 컴퓨터공학과 학생이 유명한 교수님을 찾아가 물었다.\n",
      "\"재귀함수가 뭔가요?\"\n",
      "\"잘 들어보게. 옛날옛날 한 산 꼭대기에 이세상 모든 지식을 통달한 선인이 있었어.\n",
      "마을 사람들은 모두 그 선인에게 수많은 질문을 했고, 모두 지혜롭게 대답해 주었지.\n",
      "그의 답은 대부분 옳았다고 하네. 그런데 어느 날, 그 선인에게 한 선비가 찾아와서 물었어.\"\n",
      "____\"재귀함수가 뭔가요?\"\n",
      "____\"잘 들어보게. 옛날옛날 한 산 꼭대기에 이세상 모든 지식을 통달한 선인이 있었어.\n",
      "____마을 사람들은 모두 그 선인에게 수많은 질문을 했고, 모두 지혜롭게 대답해 주었지.\n",
      "____그의 답은 대부분 옳았다고 하네. 그런데 어느 날, 그 선인에게 한 선비가 찾아와서 물었어.\"\n",
      "________\"재귀함수가 뭔가요?\"\n",
      "________\"잘 들어보게. 옛날옛날 한 산 꼭대기에 이세상 모든 지식을 통달한 선인이 있었어.\n",
      "________마을 사람들은 모두 그 선인에게 수많은 질문을 했고, 모두 지혜롭게 대답해 주었지.\n",
      "________그의 답은 대부분 옳았다고 하네. 그런데 어느 날, 그 선인에게 한 선비가 찾아와서 물었어.\"\n",
      "____________\"재귀함수가 뭔가요?\"\n",
      "____________\"잘 들어보게. 옛날옛날 한 산 꼭대기에 이세상 모든 지식을 통달한 선인이 있었어.\n",
      "____________마을 사람들은 모두 그 선인에게 수많은 질문을 했고, 모두 지혜롭게 대답해 주었지.\n",
      "____________그의 답은 대부분 옳았다고 하네. 그런데 어느 날, 그 선인에게 한 선비가 찾아와서 물었어.\"\n",
      "________________\"재귀함수가 뭔가요?\"\n",
      "________________\"재귀함수는 자기 자신을 호출하는 함수라네\"\n",
      "________________라고 답변하였지.\n",
      "____________라고 답변하였지.\n",
      "________라고 답변하였지.\n",
      "____라고 답변하였지.\n",
      "라고 답변하였지.\n"
     ]
    }
   ],
   "source": [
    "N = int(input())\n",
    "x = N\n",
    "print(\"어느 한 컴퓨터공학과 학생이 유명한 교수님을 찾아가 물었다.\")\n",
    "def recursion(n):\n",
    "    def answer(n):\n",
    "        if n==x:\n",
    "            return final()\n",
    "        print('____'*(x-n),c,sep='')\n",
    "        return answer(n+1)\n",
    "    def final():\n",
    "        print(c)\n",
    "    a = '\"재귀함수가 뭔가요?\"'\n",
    "    b = '\"잘 들어보게. 옛날옛날 한 산 꼭대기에 이세상 모든 지식을 통달한 선인이 있었어.'\n",
    "    b_1 = '마을 사람들은 모두 그 선인에게 수많은 질문을 했고, 모두 지혜롭게 대답해 주었지.'\n",
    "    b_2 = '그의 답은 대부분 옳았다고 하네. 그런데 어느 날, 그 선인에게 한 선비가 찾아와서 물었어.\"'\n",
    "    c = \"라고 답변하였지.\"\n",
    "    d = '\"재귀함수는 자기 자신을 호출하는 함수라네\"'\n",
    "    print('____'*(x-n),a,sep='')\n",
    "    if n == 0:      \n",
    "        print('____'*x,d,sep='')\n",
    "        return answer(n)\n",
    "    print('____'*(x-n),b,sep='')\n",
    "    print('____'*(x-n),b_1,sep='')\n",
    "    print('____'*(x-n),b_2,sep='')\n",
    "    return recursion(n-1)\n",
    "    \n",
    "recursion(N)\n",
    "    "
   ]
  },
  {
   "cell_type": "code",
   "execution_count": null,
   "id": "f5b1927c-b5b9-4ed7-a8c9-6a823a663f89",
   "metadata": {},
   "outputs": [],
   "source": []
  }
 ],
 "metadata": {
  "kernelspec": {
   "display_name": "Python 3",
   "language": "python",
   "name": "python3"
  },
  "language_info": {
   "codemirror_mode": {
    "name": "ipython",
    "version": 3
   },
   "file_extension": ".py",
   "mimetype": "text/x-python",
   "name": "python",
   "nbconvert_exporter": "python",
   "pygments_lexer": "ipython3",
   "version": "3.8.10"
  }
 },
 "nbformat": 4,
 "nbformat_minor": 5
}
