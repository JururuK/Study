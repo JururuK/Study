{
 "cells": [
  {
   "cell_type": "code",
   "execution_count": 1,
   "id": "897e8237-63ad-417b-85b2-ce9e83123066",
   "metadata": {},
   "outputs": [],
   "source": [
    "##연속확률분포\n",
    "\n",
    "import scipy.stats as st"
   ]
  },
  {
   "cell_type": "code",
   "execution_count": 17,
   "id": "bfeced30-4be0-49d9-afe8-e79613284a0d",
   "metadata": {},
   "outputs": [],
   "source": [
    "import matplotlib.pyplot as plt\n",
    "import numpy as np\n",
    "%matplotlib inline"
   ]
  },
  {
   "cell_type": "code",
   "execution_count": 5,
   "id": "d9f3f62d-0eab-4b7a-bee6-ff2023d71d34",
   "metadata": {},
   "outputs": [
    {
     "data": {
      "text/plain": [
       "0.0003333333333333333"
      ]
     },
     "execution_count": 5,
     "metadata": {},
     "output_type": "execute_result"
    }
   ],
   "source": [
    "#연속\n",
    "a=2000\n",
    "b=5000\n",
    "base = b-a\n",
    "x=4000\n",
    "st.uniform.pdf(x,a,base)"
   ]
  },
  {
   "cell_type": "code",
   "execution_count": 11,
   "id": "a6908d24-5a95-4c2a-920e-2ebf4e6bb4d9",
   "metadata": {},
   "outputs": [
    {
     "data": {
      "text/plain": [
       "4100.0"
      ]
     },
     "execution_count": 11,
     "metadata": {},
     "output_type": "execute_result"
    }
   ],
   "source": [
    "#분위수\n",
    "\n",
    "st.uniform.ppf(0.7, a, base)"
   ]
  },
  {
   "cell_type": "code",
   "execution_count": 7,
   "id": "0a82829e-525f-4da9-bfbd-910cae0ce6fd",
   "metadata": {},
   "outputs": [
    {
     "data": {
      "text/plain": [
       "2000.0"
      ]
     },
     "execution_count": 7,
     "metadata": {},
     "output_type": "execute_result"
    }
   ],
   "source": [
    "st.uniform.ppf(0, a, base)"
   ]
  },
  {
   "cell_type": "code",
   "execution_count": 10,
   "id": "3909f4a6-700f-46fa-b64e-66f3e413f45e",
   "metadata": {},
   "outputs": [
    {
     "data": {
      "text/plain": [
       "0.7"
      ]
     },
     "execution_count": 10,
     "metadata": {},
     "output_type": "execute_result"
    }
   ],
   "source": [
    "#누적확률(P<x<2500), 역함수관계\n",
    "st.uniform.cdf(4100,a,base)"
   ]
  },
  {
   "cell_type": "code",
   "execution_count": 12,
   "id": "108d26c8-af2d-4438-8cae-b28f9999d566",
   "metadata": {},
   "outputs": [
    {
     "data": {
      "text/plain": [
       "0.16666666666666666"
      ]
     },
     "execution_count": 12,
     "metadata": {},
     "output_type": "execute_result"
    }
   ],
   "source": [
    "#P(2500<x<3000) = cdf(3000)-(2500)\n",
    "st.uniform.cdf(3000,a,base)-st.uniform.cdf(2500,a,base)"
   ]
  },
  {
   "cell_type": "code",
   "execution_count": 15,
   "id": "46357740-05e6-4499-b877-9bdd73452995",
   "metadata": {},
   "outputs": [],
   "source": [
    "#확률밀도 시각화\n",
    "x = np.linspace(1000,6000,1000)"
   ]
  },
  {
   "cell_type": "code",
   "execution_count": 16,
   "id": "45a58c66-1117-4598-8fe6-5f9c4dfad487",
   "metadata": {},
   "outputs": [
    {
     "data": {
      "text/plain": [
       "[<matplotlib.lines.Line2D at 0x1aa29bcefa0>]"
      ]
     },
     "execution_count": 16,
     "metadata": {},
     "output_type": "execute_result"
    },
    {
     "data": {
      "image/png": "[encoded data removed]",
      "text/plain": [
       "<Figure size 432x288 with 1 Axes>"
      ]
     },
     "metadata": {
      "needs_background": "light"
     },
     "output_type": "display_data"
    }
   ],
   "source": [
    "plt.plot(x,st.uniform.pdf(x,a,base),color=\"red\")"
   ]
  },
  {
   "cell_type": "code",
   "execution_count": 19,
   "id": "549a147a-ffc2-4b35-ab66-008c1b91d2ba",
   "metadata": {},
   "outputs": [
    {
     "data": {
      "text/plain": [
       "0.00876415024678427"
      ]
     },
     "execution_count": 19,
     "metadata": {},
     "output_type": "execute_result"
    }
   ],
   "source": [
    "#정규분포함수\n",
    "#확률밀도\n",
    "mu = 5\n",
    "sigma = 2\n",
    "x = 0\n",
    "st.norm.pdf(x,loc = mu,scale = sigma) #loc,scale 생략가능\n"
   ]
  },
  {
   "cell_type": "code",
   "execution_count": 24,
   "id": "4d8cf035-e6e8-419f-b85a-b9a27e3c17dc",
   "metadata": {},
   "outputs": [
    {
     "data": {
      "text/plain": [
       "6.048801025416081"
      ]
     },
     "execution_count": 24,
     "metadata": {},
     "output_type": "execute_result"
    }
   ],
   "source": [
    "#분위수\n",
    "\n",
    "st.norm.ppf(0.7,mu,sigma)"
   ]
  },
  {
   "cell_type": "code",
   "execution_count": 22,
   "id": "492e21a0-1bd8-4147-935c-e494f9d7a20d",
   "metadata": {},
   "outputs": [
    {
     "data": {
      "text/plain": [
       "inf"
      ]
     },
     "execution_count": 22,
     "metadata": {},
     "output_type": "execute_result"
    }
   ],
   "source": [
    "st.norm.ppf(1,mu,sigma)"
   ]
  },
  {
   "cell_type": "code",
   "execution_count": 25,
   "id": "673695ad-b004-4762-9666-74603fd7343c",
   "metadata": {},
   "outputs": [
    {
     "data": {
      "text/plain": [
       "0.7"
      ]
     },
     "execution_count": 25,
     "metadata": {},
     "output_type": "execute_result"
    }
   ],
   "source": [
    "#P(x<5)\n",
    "st.norm.cdf(6.048801025416081,mu,sigma)"
   ]
  },
  {
   "cell_type": "code",
   "execution_count": 26,
   "id": "94322871-ff66-4cf4-b0d0-7428d2059a9e",
   "metadata": {},
   "outputs": [
    {
     "data": {
      "text/plain": [
       "0.6826894921370859"
      ]
     },
     "execution_count": 26,
     "metadata": {},
     "output_type": "execute_result"
    }
   ],
   "source": [
    "#P(3<x<7)\n",
    "st.norm.cdf(7,mu,sigma)-st.norm.cdf(3,mu,sigma)"
   ]
  },
  {
   "cell_type": "code",
   "execution_count": 27,
   "id": "d15c05e7-2cd0-48c0-8fd3-03a21db66396",
   "metadata": {},
   "outputs": [],
   "source": [
    "#시각화\n",
    "\n",
    "x=np.linspace(-10,10,1000)"
   ]
  },
  {
   "cell_type": "code",
   "execution_count": 29,
   "id": "f9078c7e-d944-40c9-bfb1-1f4964a9a889",
   "metadata": {},
   "outputs": [
    {
     "data": {
      "text/plain": [
       "[<matplotlib.lines.Line2D at 0x1aa29d31130>]"
      ]
     },
     "execution_count": 29,
     "metadata": {},
     "output_type": "execute_result"
    },
    {
     "data": {
      "image/png": "[encoded data removed]",
      "text/plain": [
       "<Figure size 432x288 with 1 Axes>"
      ]
     },
     "metadata": {
      "needs_background": "light"
     },
     "output_type": "display_data"
    }
   ],
   "source": [
    "mu = 2\n",
    "sigma=1\n",
    "plt.plot(x,st.norm.pdf(x,mu,sigma),color='green')"
   ]
  },
  {
   "cell_type": "code",
   "execution_count": 30,
   "id": "c701fae2-6950-42d2-8cee-49ce0be477e3",
   "metadata": {},
   "outputs": [
    {
     "data": {
      "text/plain": [
       "[<matplotlib.lines.Line2D at 0x1aa29d99b20>]"
      ]
     },
     "execution_count": 30,
     "metadata": {},
     "output_type": "execute_result"
    },
    {
     "data": {
      "image/png": "[encoded data removed]",
      "text/plain": [
       "<Figure size 432x288 with 1 Axes>"
      ]
     },
     "metadata": {
      "needs_background": "light"
     },
     "output_type": "display_data"
    }
   ],
   "source": [
    "x=np.linspace(-10,10,1000)\n",
    "sigma=1\n",
    "mu_1=-1\n",
    "mu_2=0\n",
    "mu_3=1\n",
    "plt.plot(x,st.norm.pdf(x,loc=mu_1,scale=sigma),color='red')\n",
    "plt.plot(x,st.norm.pdf(x,loc=mu_2,scale=sigma),color='green')\n",
    "plt.plot(x,st.norm.pdf(x,loc=mu_3,scale=sigma),color='blue')\n"
   ]
  },
  {
   "cell_type": "code",
   "execution_count": 31,
   "id": "947da8c2-0291-49b5-9a1f-5960a49cba54",
   "metadata": {},
   "outputs": [
    {
     "data": {
      "text/plain": [
       "0.0806569081730478"
      ]
     },
     "execution_count": 31,
     "metadata": {},
     "output_type": "execute_result"
    }
   ],
   "source": [
    "#카이제곱분포\n",
    "#확률밀도\n",
    "df = 5 #자유도. degree freedom, k or nu\n",
    "x=1\n",
    "st.chi2.pdf(x,df)"
   ]
  },
  {
   "cell_type": "code",
   "execution_count": 32,
   "id": "1e978675-19a8-44e6-86b5-80046935e855",
   "metadata": {},
   "outputs": [
    {
     "data": {
      "text/plain": [
       "4.351460191095526"
      ]
     },
     "execution_count": 32,
     "metadata": {},
     "output_type": "execute_result"
    }
   ],
   "source": [
    "#분위수\n",
    "\n",
    "st.chi2.ppf(0.5,df)"
   ]
  },
  {
   "cell_type": "code",
   "execution_count": 36,
   "id": "e0614a49-5a03-4c21-9363-343ed52d6713",
   "metadata": {},
   "outputs": [
    {
     "data": {
      "text/plain": [
       "inf"
      ]
     },
     "execution_count": 36,
     "metadata": {},
     "output_type": "execute_result"
    }
   ],
   "source": [
    "st.chi2.ppf(1,df)"
   ]
  },
  {
   "cell_type": "code",
   "execution_count": 37,
   "id": "816458bb-0708-455c-b4aa-8dbbe9b119cd",
   "metadata": {},
   "outputs": [
    {
     "data": {
      "text/plain": [
       "0.10882198108584877"
      ]
     },
     "execution_count": 37,
     "metadata": {},
     "output_type": "execute_result"
    }
   ],
   "source": [
    "#누적(x<5, df=10)\n",
    "st.chi2.cdf(5,df=10)"
   ]
  },
  {
   "cell_type": "code",
   "execution_count": 38,
   "id": "f5741c11-e1f1-48af-86ef-c41787702a95",
   "metadata": {},
   "outputs": [
    {
     "data": {
      "text/plain": [
       "0.4506847338489391"
      ]
     },
     "execution_count": 38,
     "metadata": {},
     "output_type": "execute_result"
    }
   ],
   "source": [
    "st.chi2.cdf(10,df=10)-st.chi2.cdf(5,df=10)"
   ]
  },
  {
   "cell_type": "code",
   "execution_count": 40,
   "id": "5e8f9162-3711-4528-bec4-72dcf0234b80",
   "metadata": {},
   "outputs": [
    {
     "data": {
      "image/png": "[encoded data removed]",
      "text/plain": [
       "<Figure size 432x288 with 1 Axes>"
      ]
     },
     "metadata": {
      "needs_background": "light"
     },
     "output_type": "display_data"
    }
   ],
   "source": [
    "#시각화\n",
    "x=np.linspace(0,+15,1000)\n",
    "plt.plot(x, st.chi2.pdf(x,df=1),color='red')         # 자유도 = 1\n",
    "plt.plot(x, st.chi2.pdf(x,df=5),color='green')       # 자유도 = 5\n",
    "plt.plot(x, st.chi2.pdf(x,df=10),color='blue')       # 자유도 = 10\n",
    "plt.ylim([0,1])\n",
    "plt.xlim([0,8])\n",
    "plt.show()\n"
   ]
  },
  {
   "cell_type": "code",
   "execution_count": 42,
   "id": "28d2ee69-4492-49ca-a825-9cedb0503431",
   "metadata": {},
   "outputs": [],
   "source": [
    "#확률실험\n",
    "\n",
    "#표준정규 확률변수관찰하여 히스토그램\n",
    "my_list= []\n",
    "for _ in range(100000) :\n",
    "    z = np.random.randn()\n",
    "    my_list.append(z)"
   ]
  },
  {
   "cell_type": "code",
   "execution_count": 43,
   "id": "3858df04-d1b6-406f-a96e-da3c704f4f1f",
   "metadata": {},
   "outputs": [
    {
     "data": {
      "image/png": "[encoded data removed]",
      "text/plain": [
       "<Figure size 432x288 with 1 Axes>"
      ]
     },
     "metadata": {
      "needs_background": "light"
     },
     "output_type": "display_data"
    }
   ],
   "source": [
    "plt.hist(my_list, bins=100, color='green', alpha=0.3, density=True)\n",
    "plt.show()"
   ]
  },
  {
   "cell_type": "code",
   "execution_count": 45,
   "id": "3de608c9-06f8-4410-9239-70ed992bbe1c",
   "metadata": {},
   "outputs": [],
   "source": [
    "#numpy\n",
    "Z=np.array(my_list)"
   ]
  },
  {
   "cell_type": "code",
   "execution_count": 46,
   "id": "e27806f1-20ee-4ff7-9d29-bf1c8712204c",
   "metadata": {},
   "outputs": [
    {
     "data": {
      "text/plain": [
       "-0.0"
      ]
     },
     "execution_count": 46,
     "metadata": {},
     "output_type": "execute_result"
    }
   ],
   "source": [
    "np.round(Z.mean(),2)"
   ]
  },
  {
   "cell_type": "code",
   "execution_count": 47,
   "id": "ac4224b3-73fb-4427-8a44-7e784630e549",
   "metadata": {},
   "outputs": [
    {
     "data": {
      "text/plain": [
       "0.99"
      ]
     },
     "execution_count": 47,
     "metadata": {},
     "output_type": "execute_result"
    }
   ],
   "source": [
    "np.round(Z.std(),2)"
   ]
  },
  {
   "cell_type": "code",
   "execution_count": 48,
   "id": "72af6fb3-8e75-4d37-9ff3-dfcfd97985d9",
   "metadata": {},
   "outputs": [],
   "source": [
    "#표준정규확률벼수를 임의의 정규확률변수로 변환, 시각화\n",
    "mu=10\n",
    "sigma=3\n",
    "X=sigma*Z+mu"
   ]
  },
  {
   "cell_type": "code",
   "execution_count": 49,
   "id": "6890134f-225a-43f2-8d9c-f5519296296c",
   "metadata": {},
   "outputs": [
    {
     "data": {
      "image/png": "[encoded data removed]",
      "text/plain": [
       "<Figure size 432x288 with 1 Axes>"
      ]
     },
     "metadata": {
      "needs_background": "light"
     },
     "output_type": "display_data"
    }
   ],
   "source": [
    "plt.hist(Z, bins=100, color='green', alpha=0.3, density=True)\n",
    "plt.hist(X, bins=100, color='red', alpha=0.3, density=True)\n",
    "plt.show()"
   ]
  },
  {
   "cell_type": "code",
   "execution_count": 51,
   "id": "8968ca34-b770-4441-b0d5-72dcb9d17234",
   "metadata": {},
   "outputs": [],
   "source": [
    "#카이제곱 샘플링,시각화\n",
    "\n",
    "my_list= []\n",
    "for _ in range(100000) :\n",
    "    z1 = np.random.randn()\n",
    "    z2 = np.random.randn()\n",
    "    z3 = np.random.randn()\n",
    "    z4 = np.random.randn()\n",
    "    z5 = np.random.randn()\n",
    "    Q5 = z1**2+z2**2+z3**2+z4**2+z5**2\n",
    "    my_list.append(Q5) #자유도가 5인 카이제곱\n",
    "\n"
   ]
  },
  {
   "cell_type": "code",
   "execution_count": 52,
   "id": "784ec92a-9032-409d-9fa7-33307cd88627",
   "metadata": {},
   "outputs": [
    {
     "data": {
      "image/png": "[encoded data removed]",
      "text/plain": [
       "<Figure size 432x288 with 1 Axes>"
      ]
     },
     "metadata": {
      "needs_background": "light"
     },
     "output_type": "display_data"
    }
   ],
   "source": [
    "plt.hist(my_list, bins=100, color='red', alpha=0.3, density=True)\n",
    "plt.xlim([0,8])\n",
    "plt.ylim([0,2.5])\n",
    "plt.show()"
   ]
  },
  {
   "cell_type": "code",
   "execution_count": 53,
   "id": "f1ad6446-7294-4757-a810-7f43640c0f37",
   "metadata": {},
   "outputs": [],
   "source": [
    "#볼트문제\n",
    "\n",
    "p=0.02\n",
    "n=100"
   ]
  },
  {
   "cell_type": "code",
   "execution_count": 54,
   "id": "5f736896-0482-4a66-ac86-88ee9e64c539",
   "metadata": {},
   "outputs": [
    {
     "data": {
      "text/plain": [
       "0.133"
      ]
     },
     "execution_count": 54,
     "metadata": {},
     "output_type": "execute_result"
    }
   ],
   "source": [
    "np.round(st.binom.pmf(0,n,p),3)"
   ]
  },
  {
   "cell_type": "code",
   "execution_count": 55,
   "id": "7b64f0bd-84d7-4c27-9b1f-6ecdcee26584",
   "metadata": {},
   "outputs": [
    {
     "data": {
      "text/plain": [
       "0.271"
      ]
     },
     "execution_count": 55,
     "metadata": {},
     "output_type": "execute_result"
    }
   ],
   "source": [
    "np.round(st.binom.pmf(1,n,p),3)"
   ]
  },
  {
   "cell_type": "code",
   "execution_count": 56,
   "id": "1f97cb3f-871a-48fa-8ad5-b65e655d3761",
   "metadata": {},
   "outputs": [
    {
     "data": {
      "text/plain": [
       "0.27"
      ]
     },
     "execution_count": 56,
     "metadata": {},
     "output_type": "execute_result"
    }
   ],
   "source": [
    "np.round(st.binom.cdf(1,n,p),3)-np.round(st.binom.cdf(0,n,p),3)"
   ]
  },
  {
   "cell_type": "code",
   "execution_count": 60,
   "id": "86a6f17d-0bb2-46f4-a2d9-e3cc9e1861bb",
   "metadata": {},
   "outputs": [
    {
     "data": {
      "text/plain": [
       "0.597"
      ]
     },
     "execution_count": 60,
     "metadata": {},
     "output_type": "execute_result"
    }
   ],
   "source": [
    "np.round(1-st.binom.cdf(1,n,p),3)"
   ]
  },
  {
   "cell_type": "code",
   "execution_count": 63,
   "id": "c9451ec4-cb46-4962-8dc8-a5423e62e948",
   "metadata": {},
   "outputs": [
    {
     "data": {
      "text/plain": [
       "0.672"
      ]
     },
     "execution_count": 63,
     "metadata": {},
     "output_type": "execute_result"
    }
   ],
   "source": [
    "p=0.2\n",
    "n=5\n",
    "np.round(1-st.binom.cdf(0,n,p),3)"
   ]
  },
  {
   "cell_type": "code",
   "execution_count": 68,
   "id": "e8a68c4c-ec49-413b-b0eb-b17b4201f70f",
   "metadata": {},
   "outputs": [
    {
     "data": {
      "text/plain": [
       "(6.0, 2.191)"
      ]
     },
     "execution_count": 68,
     "metadata": {},
     "output_type": "execute_result"
    }
   ],
   "source": [
    "mean = 30*p\n",
    "std = round((30*p*(1-p))**0.5,3)\n",
    "mean,std"
   ]
  },
  {
   "cell_type": "code",
   "execution_count": 69,
   "id": "de3ca713-2b6e-43f6-9da7-20a645c4a110",
   "metadata": {},
   "outputs": [
    {
     "data": {
      "text/plain": [
       "172.15517417557976"
      ]
     },
     "execution_count": 69,
     "metadata": {},
     "output_type": "execute_result"
    }
   ],
   "source": [
    "n = 500\n",
    "mu = 72\n",
    "sigma = 7\n",
    "\n",
    "n*(st.norm.cdf(70,mu,sigma)-st.norm.cdf(60,mu,sigma))"
   ]
  },
  {
   "cell_type": "code",
   "execution_count": 70,
   "id": "fd430799-bb90-4f19-b66b-4a448e3f7fd9",
   "metadata": {},
   "outputs": [
    {
     "data": {
      "text/plain": [
       "15.8227080583363"
      ]
     },
     "execution_count": 70,
     "metadata": {},
     "output_type": "execute_result"
    }
   ],
   "source": [
    "n*(1-st.norm.cdf(85,mu,sigma))"
   ]
  },
  {
   "cell_type": "code",
   "execution_count": 74,
   "id": "9c0f9d59-a918-4be8-8ec5-9cfdc962dcfe",
   "metadata": {},
   "outputs": [
    {
     "data": {
      "text/plain": [
       "80.97086095881221"
      ]
     },
     "execution_count": 74,
     "metadata": {},
     "output_type": "execute_result"
    }
   ],
   "source": [
    "st.norm.ppf(0.9,mu,sigma)"
   ]
  },
  {
   "cell_type": "code",
   "execution_count": 85,
   "id": "5ca4045a-185e-48e8-8fbd-487dbb583b99",
   "metadata": {},
   "outputs": [
    {
     "data": {
      "text/plain": [
       "0.24197072451914337"
      ]
     },
     "execution_count": 85,
     "metadata": {},
     "output_type": "execute_result"
    }
   ],
   "source": [
    "st.norm.pdf(1,0,1)"
   ]
  },
  {
   "cell_type": "code",
   "execution_count": 77,
   "id": "1b6d816e-9e28-45b0-8c7f-c6f6879f4d8c",
   "metadata": {},
   "outputs": [
    {
     "data": {
      "text/plain": [
       "(3.325112843066815, 16.918977604620448)"
      ]
     },
     "execution_count": 77,
     "metadata": {},
     "output_type": "execute_result"
    }
   ],
   "source": [
    "st.chi2.ppf(0.05,9),st.chi2.ppf(0.95,9)"
   ]
  },
  {
   "cell_type": "code",
   "execution_count": 78,
   "id": "b205c4ff-a379-4aac-b0ce-91fe29c0d975",
   "metadata": {},
   "outputs": [
    {
     "data": {
      "text/plain": [
       "(2.7003894999803584, 19.02276779864163)"
      ]
     },
     "execution_count": 78,
     "metadata": {},
     "output_type": "execute_result"
    }
   ],
   "source": [
    "st.chi2.ppf(0.025,9),st.chi2.ppf(0.975,9)"
   ]
  },
  {
   "cell_type": "code",
   "execution_count": 80,
   "id": "374fc068-092c-4c7f-a3a4-3b385601f0fa",
   "metadata": {},
   "outputs": [
    {
     "name": "stdout",
     "output_type": "stream",
     "text": [
      "9\n",
      "8.343\n",
      "자유도 :  9 None\n"
     ]
    }
   ],
   "source": [
    "def median(k):\n",
    "    mean = k\n",
    "    median = np.round(st.chi2.ppf(0.5,k),3)\n",
    "    print(\"자유도 :\",k)\n",
    "    print(mean)\n",
    "    print(median)\n",
    "    \n",
    "median(9)\n",
    "median(28)\n",
    "median(40)"
   ]
  },
  {
   "cell_type": "code",
   "execution_count": null,
   "id": "9e8392fb-c293-4b6b-9a30-729081536ace",
   "metadata": {},
   "outputs": [],
   "source": []
  }
 ],
 "metadata": {
  "kernelspec": {
   "display_name": "Python 3",
   "language": "python",
   "name": "python3"
  },
  "language_info": {
   "codemirror_mode": {
    "name": "ipython",
    "version": 3
   },
   "file_extension": ".py",
   "mimetype": "text/x-python",
   "name": "python",
   "nbconvert_exporter": "python",
   "pygments_lexer": "ipython3",
   "version": "3.8.10"
  }
 },
 "nbformat": 4,
 "nbformat_minor": 5
}
