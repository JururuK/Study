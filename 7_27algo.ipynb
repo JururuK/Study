{
 "cells": [
  {
   "cell_type": "code",
   "execution_count": 8,
   "id": "30769050-a937-455d-aaf0-a16c557c1171",
   "metadata": {},
   "outputs": [
    {
     "name": "stdin",
     "output_type": "stream",
     "text": [
      " 6\n",
      " 3\n",
      " 6\n",
      " 2\n",
      " 5\n",
      " 1\n",
      " 4\n"
     ]
    },
    {
     "name": "stdout",
     "output_type": "stream",
     "text": [
      "0번째 : [3, 6, 2, 5, 1, 4]\n",
      "1번째 : [3, 6, 2, 5, 1, 4]\n",
      "2번째 : [3, 6, 2, 5, 1, 4]\n",
      "3번째 : [2, 3, 6, 5, 1, 4]\n",
      "4번째 : [2, 3, 5, 6, 1, 4]\n",
      "5번째 : [1, 2, 3, 5, 6, 4]\n",
      "\n"
     ]
    }
   ],
   "source": [
    "def insertion_sort(num_list):\n",
    "    bef_n_list = num_list.copy()\n",
    "    \n",
    "    for idx in range(len(bef_n_list)) :\n",
    "        print(\"{}번째 : {}\".format(idx,bef_n_list))\n",
    "        #1\n",
    "        now_idx=idx\n",
    "        while now_idx>0 and bef_n_list[now_idx-1]>bef_n_list[now_idx]:\n",
    "            if bef_n_list[now_idx-1]>bef_n_list[now_idx]:\n",
    "                #t = bef_n_list[idx-1]\n",
    "                #bef_n_list[idx-1]=bef_n_list[idx]\n",
    "                #bef_n_list[idx]=t\n",
    "\n",
    "                bef_n_list[now_idx],bef_n_list[now_idx-1]=bef_n_list[now_idx-1],bef_n_list[now_idx]\n",
    "                idx -= 1\n",
    "                \n",
    "        #2        \n",
    "        for now_idx in range(idx,0,-1):\n",
    "            if bef_n_list[now_idx-1] <= bef_n_list[now_idx]:\n",
    "                break\n",
    "                \n",
    "            bef_n_list[now_idx],bef_n_list[now_idx-1]=bef_n_list[now_idx-1],bef_n_list[now_idx]\n",
    "            print(bef_n_list)\n",
    "    return bef_n_list\n",
    "\n",
    "def selection_sort():\n",
    "\n",
    "    bef_n_list = num_list.copy()\n",
    "    min_val = bef_n_list[0]\n",
    "    min_idx = 0\n",
    "    #1\n",
    "    for i in range(len(bef_n_list)):\n",
    "        min_idx = i\n",
    "        \n",
    "        for idx in range(i, len(bef_n_list)):\n",
    "            if bef_n_list[min_idx] > bef_n_list[idx]:\n",
    "                min_idx=idx\n",
    "    #2            \n",
    "    min_val = min(bef_n_list)\n",
    "    min_idx = bef_n_list.index(min_val)\n",
    "\n",
    "    bef_n_list[0],bef_n_list[min_idx]=bef_n_list[min_idx],bef_n_list[0]\n",
    "\n",
    "    return []\n",
    "\n",
    "def bubble_sort():\n",
    "\n",
    "    return []\n",
    "\n",
    "n = int(input())\n",
    "num_list = []\n",
    "\n",
    "for _ in range(n):\n",
    "    num = int(input())\n",
    "    num_list.append(num)\n",
    "\n",
    "insertion_sorted_list = insertion_sort(num_list)\n",
    "print(\" \".join(map(str, insertion_sorted_list)))\n",
    "\n",
    "#selection_sorted_list = selection_sort()\n",
    "#print(\" \".join(map(str, selection_sorted_list)))\n",
    "\n",
    "#bubble_sorted_list = bubble_sort()\n",
    "#print(\" \".join(map(str, bubble_sorted_list)))"
   ]
  },
  {
   "cell_type": "code",
   "execution_count": null,
   "id": "8333cc73-2a19-40e1-8158-f56c4086cc90",
   "metadata": {},
   "outputs": [],
   "source": []
  }
 ],
 "metadata": {
  "kernelspec": {
   "display_name": "Python 3",
   "language": "python",
   "name": "python3"
  },
  "language_info": {
   "codemirror_mode": {
    "name": "ipython",
    "version": 3
   },
   "file_extension": ".py",
   "mimetype": "text/x-python",
   "name": "python",
   "nbconvert_exporter": "python",
   "pygments_lexer": "ipython3",
   "version": "3.8.10"
  }
 },
 "nbformat": 4,
 "nbformat_minor": 5
}
