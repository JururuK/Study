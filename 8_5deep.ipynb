{
 "cells": [
  {
   "cell_type": "code",
   "execution_count": 1,
   "id": "c011e2b7-d8d9-47f8-802d-bae95489d26e",
   "metadata": {},
   "outputs": [],
   "source": [
    "import csv\n",
    "import pandas as pd\n",
    "import numpy as np\n",
    "import tensorflow as tf"
   ]
  },
  {
   "cell_type": "code",
   "execution_count": 4,
   "id": "075c09f6-6d69-4008-94f8-3b7ac4aae069",
   "metadata": {},
   "outputs": [
    {
     "name": "stdout",
     "output_type": "stream",
     "text": [
      "<class 'pandas.core.frame.DataFrame'>\n",
      "RangeIndex: 17898 entries, 0 to 17897\n",
      "Data columns (total 9 columns):\n",
      " #   Column                                         Non-Null Count  Dtype  \n",
      "---  ------                                         --------------  -----  \n",
      " 0    Mean of the integrated profile                17898 non-null  float64\n",
      " 1    Standard deviation of the integrated profile  17898 non-null  float64\n",
      " 2    Excess kurtosis of the integrated profile     17898 non-null  float64\n",
      " 3    Skewness of the integrated profile            17898 non-null  float64\n",
      " 4    Mean of the DM-SNR curve                      17898 non-null  float64\n",
      " 5    Standard deviation of the DM-SNR curve        17898 non-null  float64\n",
      " 6    Excess kurtosis of the DM-SNR curve           17898 non-null  float64\n",
      " 7    Skewness of the DM-SNR curve                  17898 non-null  float64\n",
      " 8   target_class                                   17898 non-null  int64  \n",
      "dtypes: float64(8), int64(1)\n",
      "memory usage: 1.2 MB\n"
     ]
    }
   ],
   "source": [
    "df=pd.read_csv('dataset/pulsar_stars.csv')\n",
    "df.info()"
   ]
  },
  {
   "cell_type": "code",
   "execution_count": 5,
   "id": "afc1e34e-6c09-4bd0-890e-c520cc24bc38",
   "metadata": {},
   "outputs": [
    {
     "data": {
      "text/html": [
       "<div>\n",
       "<style scoped>\n",
       "    .dataframe tbody tr th:only-of-type {\n",
       "        vertical-align: middle;\n",
       "    }\n",
       "\n",
       "    .dataframe tbody tr th {\n",
       "        vertical-align: top;\n",
       "    }\n",
       "\n",
       "    .dataframe thead th {\n",
       "        text-align: right;\n",
       "    }\n",
       "</style>\n",
       "<table border=\"1\" class=\"dataframe\">\n",
       "  <thead>\n",
       "    <tr style=\"text-align: right;\">\n",
       "      <th></th>\n",
       "      <th>Mean of the integrated profile</th>\n",
       "      <th>Standard deviation of the integrated profile</th>\n",
       "      <th>Excess kurtosis of the integrated profile</th>\n",
       "      <th>Skewness of the integrated profile</th>\n",
       "      <th>Mean of the DM-SNR curve</th>\n",
       "      <th>Standard deviation of the DM-SNR curve</th>\n",
       "      <th>Excess kurtosis of the DM-SNR curve</th>\n",
       "      <th>Skewness of the DM-SNR curve</th>\n",
       "      <th>target_class</th>\n",
       "    </tr>\n",
       "  </thead>\n",
       "  <tbody>\n",
       "    <tr>\n",
       "      <th>count</th>\n",
       "      <td>17898.000000</td>\n",
       "      <td>17898.000000</td>\n",
       "      <td>17898.000000</td>\n",
       "      <td>17898.000000</td>\n",
       "      <td>17898.000000</td>\n",
       "      <td>17898.000000</td>\n",
       "      <td>17898.000000</td>\n",
       "      <td>17898.000000</td>\n",
       "      <td>17898.000000</td>\n",
       "    </tr>\n",
       "    <tr>\n",
       "      <th>mean</th>\n",
       "      <td>111.079968</td>\n",
       "      <td>46.549532</td>\n",
       "      <td>0.477857</td>\n",
       "      <td>1.770279</td>\n",
       "      <td>12.614400</td>\n",
       "      <td>26.326515</td>\n",
       "      <td>8.303556</td>\n",
       "      <td>104.857709</td>\n",
       "      <td>0.091574</td>\n",
       "    </tr>\n",
       "    <tr>\n",
       "      <th>std</th>\n",
       "      <td>25.652935</td>\n",
       "      <td>6.843189</td>\n",
       "      <td>1.064040</td>\n",
       "      <td>6.167913</td>\n",
       "      <td>29.472897</td>\n",
       "      <td>19.470572</td>\n",
       "      <td>4.506092</td>\n",
       "      <td>106.514540</td>\n",
       "      <td>0.288432</td>\n",
       "    </tr>\n",
       "    <tr>\n",
       "      <th>min</th>\n",
       "      <td>5.812500</td>\n",
       "      <td>24.772042</td>\n",
       "      <td>-1.876011</td>\n",
       "      <td>-1.791886</td>\n",
       "      <td>0.213211</td>\n",
       "      <td>7.370432</td>\n",
       "      <td>-3.139270</td>\n",
       "      <td>-1.976976</td>\n",
       "      <td>0.000000</td>\n",
       "    </tr>\n",
       "    <tr>\n",
       "      <th>25%</th>\n",
       "      <td>100.929688</td>\n",
       "      <td>42.376018</td>\n",
       "      <td>0.027098</td>\n",
       "      <td>-0.188572</td>\n",
       "      <td>1.923077</td>\n",
       "      <td>14.437332</td>\n",
       "      <td>5.781506</td>\n",
       "      <td>34.960504</td>\n",
       "      <td>0.000000</td>\n",
       "    </tr>\n",
       "    <tr>\n",
       "      <th>50%</th>\n",
       "      <td>115.078125</td>\n",
       "      <td>46.947479</td>\n",
       "      <td>0.223240</td>\n",
       "      <td>0.198710</td>\n",
       "      <td>2.801839</td>\n",
       "      <td>18.461316</td>\n",
       "      <td>8.433515</td>\n",
       "      <td>83.064556</td>\n",
       "      <td>0.000000</td>\n",
       "    </tr>\n",
       "    <tr>\n",
       "      <th>75%</th>\n",
       "      <td>127.085938</td>\n",
       "      <td>51.023202</td>\n",
       "      <td>0.473325</td>\n",
       "      <td>0.927783</td>\n",
       "      <td>5.464256</td>\n",
       "      <td>28.428104</td>\n",
       "      <td>10.702959</td>\n",
       "      <td>139.309330</td>\n",
       "      <td>0.000000</td>\n",
       "    </tr>\n",
       "    <tr>\n",
       "      <th>max</th>\n",
       "      <td>192.617188</td>\n",
       "      <td>98.778911</td>\n",
       "      <td>8.069522</td>\n",
       "      <td>68.101622</td>\n",
       "      <td>223.392141</td>\n",
       "      <td>110.642211</td>\n",
       "      <td>34.539844</td>\n",
       "      <td>1191.000837</td>\n",
       "      <td>1.000000</td>\n",
       "    </tr>\n",
       "  </tbody>\n",
       "</table>\n",
       "</div>"
      ],
      "text/plain": [
       "        Mean of the integrated profile  \\\n",
       "count                     17898.000000   \n",
       "mean                        111.079968   \n",
       "std                          25.652935   \n",
       "min                           5.812500   \n",
       "25%                         100.929688   \n",
       "50%                         115.078125   \n",
       "75%                         127.085938   \n",
       "max                         192.617188   \n",
       "\n",
       "        Standard deviation of the integrated profile  \\\n",
       "count                                   17898.000000   \n",
       "mean                                       46.549532   \n",
       "std                                         6.843189   \n",
       "min                                        24.772042   \n",
       "25%                                        42.376018   \n",
       "50%                                        46.947479   \n",
       "75%                                        51.023202   \n",
       "max                                        98.778911   \n",
       "\n",
       "        Excess kurtosis of the integrated profile  \\\n",
       "count                                17898.000000   \n",
       "mean                                     0.477857   \n",
       "std                                      1.064040   \n",
       "min                                     -1.876011   \n",
       "25%                                      0.027098   \n",
       "50%                                      0.223240   \n",
       "75%                                      0.473325   \n",
       "max                                      8.069522   \n",
       "\n",
       "        Skewness of the integrated profile   Mean of the DM-SNR curve  \\\n",
       "count                         17898.000000               17898.000000   \n",
       "mean                              1.770279                  12.614400   \n",
       "std                               6.167913                  29.472897   \n",
       "min                              -1.791886                   0.213211   \n",
       "25%                              -0.188572                   1.923077   \n",
       "50%                               0.198710                   2.801839   \n",
       "75%                               0.927783                   5.464256   \n",
       "max                              68.101622                 223.392141   \n",
       "\n",
       "        Standard deviation of the DM-SNR curve  \\\n",
       "count                             17898.000000   \n",
       "mean                                 26.326515   \n",
       "std                                  19.470572   \n",
       "min                                   7.370432   \n",
       "25%                                  14.437332   \n",
       "50%                                  18.461316   \n",
       "75%                                  28.428104   \n",
       "max                                 110.642211   \n",
       "\n",
       "        Excess kurtosis of the DM-SNR curve   Skewness of the DM-SNR curve  \\\n",
       "count                          17898.000000                   17898.000000   \n",
       "mean                               8.303556                     104.857709   \n",
       "std                                4.506092                     106.514540   \n",
       "min                               -3.139270                      -1.976976   \n",
       "25%                                5.781506                      34.960504   \n",
       "50%                                8.433515                      83.064556   \n",
       "75%                               10.702959                     139.309330   \n",
       "max                               34.539844                    1191.000837   \n",
       "\n",
       "       target_class  \n",
       "count  17898.000000  \n",
       "mean       0.091574  \n",
       "std        0.288432  \n",
       "min        0.000000  \n",
       "25%        0.000000  \n",
       "50%        0.000000  \n",
       "75%        0.000000  \n",
       "max        1.000000  "
      ]
     },
     "execution_count": 5,
     "metadata": {},
     "output_type": "execute_result"
    }
   ],
   "source": [
    "df.describe()"
   ]
  },
  {
   "cell_type": "code",
   "execution_count": 9,
   "id": "7c6bd5ca-bdb1-4763-9804-42a187b757d4",
   "metadata": {},
   "outputs": [
    {
     "name": "stdout",
     "output_type": "stream",
     "text": [
      "target_class: {0, 1}\n"
     ]
    }
   ],
   "source": [
    "print('target_class:',set(df['target_class']))"
   ]
  },
  {
   "cell_type": "code",
   "execution_count": 13,
   "id": "d6fd5c81-09a0-475d-89c8-7e6c5cc2f70d",
   "metadata": {},
   "outputs": [],
   "source": [
    "with open('dataset/pulsar_stars.csv') as csvfile :\n",
    "    csvreader = csv.reader(csvfile)\n",
    "    next(csvreader)\n",
    "    rows = []\n",
    "    for row in csvreader :\n",
    "        rows.append(row)\n",
    "        \n",
    "data = np.asarray(rows, dtype = 'float32')\n",
    "input_cnt,output_cnt=8,1"
   ]
  },
  {
   "cell_type": "code",
   "execution_count": 14,
   "id": "a4516147-0264-465f-975a-1088bea477a2",
   "metadata": {},
   "outputs": [
    {
     "data": {
      "text/plain": [
       "array([140.5625    ,  55.68378   ,  -0.23457141,  -0.6996484 ,\n",
       "         3.1998327 ,  19.110426  ,   7.9755316 ,  74.242226  ,\n",
       "         0.        ], dtype=float32)"
      ]
     },
     "execution_count": 14,
     "metadata": {},
     "output_type": "execute_result"
    }
   ],
   "source": [
    "data[:][0]"
   ]
  },
  {
   "cell_type": "code",
   "execution_count": 16,
   "id": "8d391a4b-a982-4236-872f-c931dc4c0ac0",
   "metadata": {},
   "outputs": [
    {
     "name": "stdout",
     "output_type": "stream",
     "text": [
      "17898\n",
      "test_begin_index :  14318\n"
     ]
    }
   ],
   "source": [
    "train_ratio = 0.8\n",
    "mb_size = 32\n",
    "\n",
    "test_begin_idx = int(data.shape[0]*train_ratio)\n",
    "\n",
    "print(data.shape[0])\n",
    "print('test_begin_index : ',test_begin_idx)"
   ]
  },
  {
   "cell_type": "code",
   "execution_count": 18,
   "id": "3fe2ef8e-7583-46a7-8201-29a9685da06e",
   "metadata": {},
   "outputs": [
    {
     "name": "stdout",
     "output_type": "stream",
     "text": [
      "[ 9375  1570 15443 14077  6079]\n"
     ]
    }
   ],
   "source": [
    "shuffle_map = np.arange(data.shape[0])\n",
    "\n",
    "np.random.seed(1234) #같은 랜덤값이 나오게.\n",
    "np.random.shuffle(shuffle_map)\n",
    "print(shuffle_map[:5])"
   ]
  },
  {
   "cell_type": "code",
   "execution_count": 20,
   "id": "49d4be6f-f0ef-4896-bbc7-f73b7f92d531",
   "metadata": {},
   "outputs": [
    {
     "name": "stdout",
     "output_type": "stream",
     "text": [
      "(14318, 9)\n",
      "(3580, 9)\n"
     ]
    }
   ],
   "source": [
    "train_data = data[shuffle_map[:test_begin_idx]]\n",
    "test_data = data[shuffle_map[test_begin_idx:]]\n",
    "print(train_data.shape)\n",
    "print(test_data.shape)"
   ]
  },
  {
   "cell_type": "code",
   "execution_count": 21,
   "id": "e915f9c7-3cce-4eb8-a58b-d04d356cb803",
   "metadata": {},
   "outputs": [
    {
     "name": "stdout",
     "output_type": "stream",
     "text": [
      "(14318, 8)\n",
      "(14318, 1)\n",
      "(3580, 8)\n",
      "(3580, 1)\n"
     ]
    }
   ],
   "source": [
    "train_x,train_y=train_data[:,:-output_cnt], train_data[:,-output_cnt:]\n",
    "test_x,test_y=test_data[:,:-output_cnt], test_data[:,-output_cnt:]\n",
    "\n",
    "print(train_x.shape)\n",
    "print(train_y.shape)\n",
    "print(test_x.shape)\n",
    "print(test_y.shape)"
   ]
  },
  {
   "cell_type": "code",
   "execution_count": 24,
   "id": "dc57ddb9-4b23-4b13-b548-bf5103c39cfa",
   "metadata": {},
   "outputs": [],
   "source": [
    "pulsar_DNN_drop_sigmoid = tf.keras.Sequential([\n",
    "    tf.keras.layers.Dense(units=128,activation='relu', input_shape=(8,)),\n",
    "    tf.keras.layers.Dense(units=64,activation='relu'),\n",
    "    tf.keras.layers.Dropout(rate=0.5),\n",
    "    tf.keras.layers.Dense(units=32,activation='relu'),\n",
    "    tf.keras.layers.Dense(units=1,activation='sigmoid')\n",
    "])"
   ]
  },
  {
   "cell_type": "code",
   "execution_count": 25,
   "id": "11e38bea-268f-47ea-8092-8e316a27f635",
   "metadata": {},
   "outputs": [
    {
     "name": "stdout",
     "output_type": "stream",
     "text": [
      "Model: \"sequential\"\n",
      "_________________________________________________________________\n",
      "Layer (type)                 Output Shape              Param #   \n",
      "=================================================================\n",
      "dense (Dense)                (None, 128)               1152      \n",
      "_________________________________________________________________\n",
      "dense_1 (Dense)              (None, 64)                8256      \n",
      "_________________________________________________________________\n",
      "dropout (Dropout)            (None, 64)                0         \n",
      "_________________________________________________________________\n",
      "dense_2 (Dense)              (None, 32)                2080      \n",
      "_________________________________________________________________\n",
      "dense_3 (Dense)              (None, 1)                 33        \n",
      "=================================================================\n",
      "Total params: 11,521\n",
      "Trainable params: 11,521\n",
      "Non-trainable params: 0\n",
      "_________________________________________________________________\n"
     ]
    }
   ],
   "source": [
    "pulsar_DNN_drop_sigmoid.summary()"
   ]
  },
  {
   "cell_type": "code",
   "execution_count": 30,
   "id": "0394af3c-8515-427f-8be9-bff8adaff415",
   "metadata": {},
   "outputs": [],
   "source": [
    "pulsar_DNN_drop_sigmoid.compile(optimizer=tf.keras.optimizers.Adam(),\n",
    "                                loss = 'binary_crossentropy',\n",
    "                                metrics = ['accuracy'])"
   ]
  },
  {
   "cell_type": "code",
   "execution_count": 31,
   "id": "1720b26e-b8ed-45c6-9f04-c69e17eb38c8",
   "metadata": {},
   "outputs": [
    {
     "name": "stdout",
     "output_type": "stream",
     "text": [
      "Epoch 1/25\n",
      "358/358 [==============================] - 2s 3ms/step - loss: 0.2224 - accuracy: 0.9509 - val_loss: 0.0869 - val_accuracy: 0.9787\n",
      "Epoch 2/25\n",
      "358/358 [==============================] - 1s 2ms/step - loss: 0.1260 - accuracy: 0.9682 - val_loss: 0.0799 - val_accuracy: 0.9780\n",
      "Epoch 3/25\n",
      "358/358 [==============================] - 1s 2ms/step - loss: 0.1125 - accuracy: 0.9689 - val_loss: 0.0926 - val_accuracy: 0.9745\n",
      "Epoch 4/25\n",
      "358/358 [==============================] - 1s 2ms/step - loss: 0.1087 - accuracy: 0.9693 - val_loss: 0.1398 - val_accuracy: 0.9787\n",
      "Epoch 5/25\n",
      "358/358 [==============================] - 1s 2ms/step - loss: 0.1050 - accuracy: 0.9701 - val_loss: 0.1129 - val_accuracy: 0.9797\n"
     ]
    }
   ],
   "source": [
    "history = pulsar_DNN_drop_sigmoid.fit(train_x, train_y,\n",
    "                                      batch_size = 32,\n",
    "                                      epochs     = 25,\n",
    "                                      validation_split = 0.2,\n",
    "                                      callbacks = [tf.keras.callbacks.EarlyStopping(patience=3)])"
   ]
  },
  {
   "cell_type": "code",
   "execution_count": 38,
   "id": "7f2d020d-6e2e-4ff1-abdd-80cd21e6335e",
   "metadata": {},
   "outputs": [],
   "source": [
    "pulsar_DNN_drop_sigmoid.save('pulsar_DNN_drop_sigmoid.h5')"
   ]
  },
  {
   "cell_type": "code",
   "execution_count": 32,
   "id": "386b4df2-0552-4dbb-9daa-cb4339a3c022",
   "metadata": {},
   "outputs": [],
   "source": [
    "import matplotlib.pyplot as plt\n"
   ]
  },
  {
   "cell_type": "code",
   "execution_count": 33,
   "id": "a5c4a75f-4517-46c3-a32f-058ee3652558",
   "metadata": {},
   "outputs": [
    {
     "data": {
      "image/png": "[encoded data removed]",
      "text/plain": [
       "<Figure size 864x288 with 2 Axes>"
      ]
     },
     "metadata": {
      "needs_background": "light"
     },
     "output_type": "display_data"
    }
   ],
   "source": [
    "val_accuracy = history.history['val_accuracy']\n",
    "accuracy     = history.history['accuracy']\n",
    "\n",
    "val_loss = history.history['val_loss']\n",
    "loss     = history.history['loss']\n",
    "\n",
    "plt.figure(figsize=(12,4))\n",
    "plt.subplot(1,2,1)\n",
    "\n",
    "plt.plot(history.history['loss'], 'b-',      label = 'Train_loss')\n",
    "plt.plot(history.history['val_loss'], 'r--', label = 'Val_loss')\n",
    "\n",
    "plt.xlabel('Epochs')\n",
    "\n",
    "plt.title(\"Train_Loss : {:.3f} \\nVal_Loss : {:.3f}\".format(loss[-1], val_loss[-1]),\n",
    "          fontsize = 15)\n",
    "\n",
    "plt.legend()\n",
    "plt.grid()\n",
    "\n",
    "plt.subplot(1,2,2)\n",
    "\n",
    "plt.plot(history.history['accuracy'], 'g-',      label = 'Train_ACC')\n",
    "plt.plot(history.history['val_accuracy'], 'k--', label = 'Val_ACC')\n",
    "plt.xlabel('Epochs')\n",
    "\n",
    "plt.title(\"Train_ACC : {:.3f} \\nVal_ACC : {:.3f}\".format(accuracy[-1], val_accuracy[-1]),\n",
    "          fontsize = 15)\n",
    "\n",
    "plt.legend()\n",
    "plt.grid()\n",
    "plt.show()"
   ]
  },
  {
   "cell_type": "code",
   "execution_count": null,
   "id": "d8098fd6-f4e5-4e7a-a0b8-2a07dc7a4fa0",
   "metadata": {},
   "outputs": [],
   "source": [
    "pred_Y = pulsar_DNN_drop_sigmoid.predict(test_x)\n",
    "pred_Y = np.round(pred_Y)\n",
    "print(pred_Y[:20])"
   ]
  },
  {
   "cell_type": "code",
   "execution_count": 36,
   "id": "6c122042-586f-4a7f-acd0-f43066431828",
   "metadata": {},
   "outputs": [
    {
     "name": "stdout",
     "output_type": "stream",
     "text": [
      "0.0    3297\n",
      "1.0     283\n",
      "dtype: int64\n",
      "0.0    3258\n",
      "1.0     322\n",
      "dtype: int64\n"
     ]
    }
   ],
   "source": [
    "print(pd.DataFrame(pred_Y).value_counts())\n",
    "print(pd.DataFrame(test_y).value_counts())"
   ]
  },
  {
   "cell_type": "code",
   "execution_count": null,
   "id": "c57d540e-778f-459b-8df8-17ca7b8b0d86",
   "metadata": {},
   "outputs": [],
   "source": [
    "#혼동행렬(Confusion Matrix) ****\n",
    "#TP FN\n",
    "#FP TN"
   ]
  },
  {
   "cell_type": "code",
   "execution_count": 44,
   "id": "4a398460-375d-4354-957a-7b7e410ead5a",
   "metadata": {},
   "outputs": [
    {
     "name": "stdout",
     "output_type": "stream",
     "text": [
      "est_yes[:5] : \n",
      " [[False]\n",
      " [False]\n",
      " [False]\n",
      " [False]\n",
      " [False]]\n",
      "ans_yes : \n",
      " [[False]\n",
      " [False]\n",
      " [False]\n",
      " [False]\n",
      " [False]]\n"
     ]
    }
   ],
   "source": [
    "est_yes = np.greater(pred_Y,0.5) #0.5보다 크면 참 반환\n",
    "print('est_yes[:5] : \\n',est_yes[:5])\n",
    "\n",
    "ans_yes = np.greater(test_y, 0.5)\n",
    "print(\"ans_yes : \\n\", ans_yes[:5])"
   ]
  },
  {
   "cell_type": "code",
   "execution_count": 45,
   "id": "17dec5f1-6aeb-4088-a41f-0ee028de9f27",
   "metadata": {},
   "outputs": [
    {
     "name": "stdout",
     "output_type": "stream",
     "text": [
      "[[ True]\n",
      " [ True]\n",
      " [ True]\n",
      " [ True]\n",
      " [ True]]\n",
      "[[ True]\n",
      " [ True]\n",
      " [ True]\n",
      " [ True]\n",
      " [ True]]\n"
     ]
    }
   ],
   "source": [
    "#참 거짓을 반대로 반환\n",
    "est_no = np.logical_not(est_yes)\n",
    "print(est_no[:5])\n",
    "ans_no = np.logical_not(ans_yes)\n",
    "print(ans_no[:5])"
   ]
  },
  {
   "cell_type": "code",
   "execution_count": 46,
   "id": "f2dac3e8-329c-46c1-8c78-0a182356cb01",
   "metadata": {},
   "outputs": [
    {
     "name": "stdout",
     "output_type": "stream",
     "text": [
      "TP : 261\n",
      "TN : 3236\n",
      "FP : 22\n",
      "FN : 61\n"
     ]
    }
   ],
   "source": [
    "tp = np.sum(np.logical_and(est_yes,ans_yes))\n",
    "print('TP :',tp)\n",
    "tn = np.sum(np.logical_and(est_no,ans_no))\n",
    "print('TN :',tn)\n",
    "fp = np.sum(np.logical_and(est_yes,ans_no))\n",
    "print('FP :',fp)\n",
    "fn = np.sum(np.logical_and(est_no,ans_yes))\n",
    "print('FN :',fn)"
   ]
  },
  {
   "cell_type": "code",
   "execution_count": 49,
   "id": "3621942f-d899-45f1-a881-a28f14b2f775",
   "metadata": {},
   "outputs": [],
   "source": [
    "#안전한 나눗셈함수 만들기\n",
    "\n",
    "def safe_div(p,q):\n",
    "    p,q=float(p),float(q)\n",
    "    \n",
    "    if np.abs(q)<1.0e-20:\n",
    "        return np.sign(p) #작은수라도 부호에따라 -,+,0 반환\n",
    "    \n",
    "    return p/q"
   ]
  },
  {
   "cell_type": "code",
   "execution_count": 50,
   "id": "399be0ed-7796-4a1c-8744-031ea47d36b5",
   "metadata": {},
   "outputs": [
    {
     "name": "stdout",
     "output_type": "stream",
     "text": [
      "precision : 0.9222614840989399\n",
      "recall : 0.8105590062111802\n",
      "accuracy : 0.9768156424581006\n",
      "F1-score : 0.8628099173553719\n"
     ]
    }
   ],
   "source": [
    "precision = safe_div(tp,(tp+fp))\n",
    "print('precision :',precision)\n",
    "\n",
    "recall = safe_div(tp , (tp+fn))\n",
    "print('recall :',recall)\n",
    "\n",
    "accuracy = safe_div(tp+tn,(tp+tn+fp+fn))\n",
    "print(\"accuracy :\",accuracy)\n",
    "\n",
    "f1 = 2*safe_div((recall*precision),(recall+precision))\n",
    "print(\"F1-score :\",f1)"
   ]
  },
  {
   "cell_type": "code",
   "execution_count": 54,
   "id": "0e2a4284-e110-435d-b866-61d83922cada",
   "metadata": {},
   "outputs": [],
   "source": [
    "from sklearn.metrics import confusion_matrix\n",
    "from sklearn.metrics import accuracy_score\n",
    "from sklearn.metrics import recall_score\n",
    "from sklearn.metrics import precision_score\n",
    "from sklearn.metrics import f1_score"
   ]
  },
  {
   "cell_type": "code",
   "execution_count": 55,
   "id": "3e5ff6c1-61c9-4cb1-b165-2f54cc1c09b2",
   "metadata": {},
   "outputs": [
    {
     "name": "stdout",
     "output_type": "stream",
     "text": [
      "[[3236   22]\n",
      " [  61  261]]\n",
      "accuracy_score : 0.9768156424581006\n",
      "precision_score : 0.9222614840989399\n",
      "recall_score : 0.8105590062111802\n",
      "f1_score : 0.8628099173553719\n"
     ]
    }
   ],
   "source": [
    "print(confusion_matrix(test_y[:,0],pred_Y[:,0]))\n",
    "print(\"accuracy_score :\",accuracy_score(test_y[:,0],pred_Y[:,0]))\n",
    "print(\"precision_score :\",precision_score(test_y[:,0],pred_Y[:,0]))\n",
    "print(\"recall_score :\",recall_score(test_y[:,0],pred_Y[:,0]))\n",
    "print(\"f1_score :\",f1_score(test_y[:,0],pred_Y[:,0]))"
   ]
  },
  {
   "cell_type": "code",
   "execution_count": 56,
   "id": "132bb129-a0b3-40b8-ad84-7fdd668f6143",
   "metadata": {},
   "outputs": [],
   "source": [
    "import numpy as np\n",
    "import matplotlib.pyplot as plt"
   ]
  },
  {
   "cell_type": "code",
   "execution_count": 57,
   "id": "ea7109e4-3993-4631-95ee-fe2c57e8e15d",
   "metadata": {},
   "outputs": [
    {
     "name": "stdout",
     "output_type": "stream",
     "text": [
      "A_real : 1.649\n",
      "A_fake : 1.0\n"
     ]
    }
   ],
   "source": [
    "def func_exp(x):\n",
    "    return np.round(np.exp(x),3)\n",
    "\n",
    "A_real = func_exp(0.5)\n",
    "A_fake = func_exp(0)\n",
    "\n",
    "print(\"A_real :\",A_real)\n",
    "print(\"A_fake :\",A_fake)"
   ]
  },
  {
   "cell_type": "code",
   "execution_count": 62,
   "id": "535faf4b-b832-4afe-9fbf-365787116fa0",
   "metadata": {},
   "outputs": [
    {
     "name": "stdout",
     "output_type": "stream",
     "text": [
      "A real 확률 : 0.622\n",
      "A fake 확률 : 0.378\n"
     ]
    }
   ],
   "source": [
    "k = 1/(A_real+A_fake)\n",
    "print(\"A real 확률 :\",np.round(A_real * k,3))\n",
    "print(\"A fake 확률 :\",np.round(A_fake * k,3))"
   ]
  },
  {
   "cell_type": "code",
   "execution_count": 60,
   "id": "2a547f68-b7b6-449e-8ad1-5024516acd97",
   "metadata": {},
   "outputs": [
    {
     "data": {
      "text/plain": [
       "0.6224990562476406"
      ]
     },
     "execution_count": 60,
     "metadata": {},
     "output_type": "execute_result"
    }
   ],
   "source": [
    "A_real*k"
   ]
  },
  {
   "cell_type": "code",
   "execution_count": 63,
   "id": "53387df9-b8e7-4040-8d9e-22c0057527b9",
   "metadata": {},
   "outputs": [
    {
     "name": "stdout",
     "output_type": "stream",
     "text": [
      "B_real : 0.368\n",
      "B_fake : 1.0\n"
     ]
    }
   ],
   "source": [
    "B_real = func_exp(-1)\n",
    "B_fake = func_exp(0)\n",
    "\n",
    "print(\"B_real :\",B_real)\n",
    "print(\"B_fake :\",B_fake)"
   ]
  },
  {
   "cell_type": "code",
   "execution_count": 64,
   "id": "bb70789d-8a9c-4375-83aa-41d97ddaca98",
   "metadata": {},
   "outputs": [
    {
     "name": "stdout",
     "output_type": "stream",
     "text": [
      "B real 확률 : 0.269\n",
      "B fake 확률 : 0.731\n"
     ]
    }
   ],
   "source": [
    "k = 1/(B_real+B_fake)\n",
    "print(\"B real 확률 :\",np.round(B_real * k,3))\n",
    "print(\"B fake 확률 :\",np.round(B_fake * k,3))"
   ]
  },
  {
   "cell_type": "code",
   "execution_count": 67,
   "id": "a314f627-1358-48f2-acca-1c7dc59b012b",
   "metadata": {},
   "outputs": [
    {
     "name": "stdout",
     "output_type": "stream",
     "text": [
      "x value : -6 -> 0.247%\n",
      "x value : -5 -> 0.669%\n",
      "x value : -4 -> 1.799%\n",
      "x value : -3 -> 4.743%\n",
      "x value : -2 -> 11.92%\n",
      "x value : -1 -> 26.894%\n",
      "x value : 0 -> 50.0%\n",
      "x value : 1 -> 73.106%\n",
      "x value : 2 -> 88.08%\n",
      "x value : 3 -> 95.257%\n",
      "x value : 4 -> 98.201%\n",
      "x value : 5 -> 99.331%\n"
     ]
    }
   ],
   "source": [
    "def sigmoid(x):\n",
    "    pred_Y = 1/(1+np.exp(-x))\n",
    "    return np.round(pred_Y*100,3)\n",
    "\n",
    "for x in range(-6,6,1):\n",
    "    P_T = sigmoid(x)\n",
    "    print(\"x value : {} -> {}%\".format(x,P_T))"
   ]
  },
  {
   "cell_type": "code",
   "execution_count": 68,
   "id": "38d0c4d1-2805-4319-a8ab-b8ae68e8968e",
   "metadata": {},
   "outputs": [],
   "source": [
    "rain_prob=0.01\n",
    "no_rain_prob=0.99\n",
    "\n",
    "def amount_of_info(prob):\n",
    "    amount_of_info = -np.log(prob)\n",
    "    return np.round(amount_of_info,3)"
   ]
  },
  {
   "cell_type": "code",
   "execution_count": 69,
   "id": "a4a3ded2-93cf-4e5d-95d0-3710b3bfa93c",
   "metadata": {},
   "outputs": [
    {
     "name": "stdout",
     "output_type": "stream",
     "text": [
      "rain prob of amount of info : 4.605\n",
      "no rain prob of amount of info : 0.01\n"
     ]
    }
   ],
   "source": [
    "H_1 = amount_of_info(rain_prob)\n",
    "H_2 = amount_of_info(no_rain_prob)\n",
    "\n",
    "print(\"rain prob of amount of info :\",H_1)\n",
    "print(\"no rain prob of amount of info :\",H_2)"
   ]
  },
  {
   "cell_type": "code",
   "execution_count": 72,
   "id": "4dd486ae-a698-4131-8361-5c86164246b5",
   "metadata": {},
   "outputs": [],
   "source": [
    "import numpy as np\n",
    "real_prob = np.array([0.526,0.295,0.179])\n",
    "human_Q = np.array([0.6,0.2,0.2])\n",
    "AI_Q = np.array([0.4,0.3,0.3])"
   ]
  },
  {
   "cell_type": "code",
   "execution_count": 73,
   "id": "58dead88-6961-4c75-8041-2d28cf5affef",
   "metadata": {},
   "outputs": [],
   "source": [
    "class Entropy():\n",
    "    def __init__(self, Prob, Q):\n",
    "        self.Prob = Prob\n",
    "        self.Q = Q"
   ]
  },
  {
   "cell_type": "code",
   "execution_count": 74,
   "id": "95b3ad76-0713-4c24-8930-1fbd506141b2",
   "metadata": {},
   "outputs": [],
   "source": [
    "def out_entropy(self, H_Q = True):\n",
    "    global cross_entropy, info_entropy\n",
    "    amount_of_info_row = []\n",
    "    if H_Q == True : #cross 엔트로피\n",
    "        for i in range(len(self.Q)):\n",
    "            amount_of_info = -self.Prob[i]*np.log(self.Q[i])\n",
    "            amount_of_info_row.append(amount_of_info)\n",
    "                \n",
    "        cross_entropy = np.sum(amount_of_info_row)\n",
    "        print(\"--- cross entropy ---\")\n",
    "        \n",
    "        return np.round(cross_entropy, 3)\n",
    "    else : #정보 엔트로피 \n",
    "        for p in self.Prob:\n",
    "            amount_of_info = -p*np.log(p)\n",
    "            amount_of_info_row.append(amount_of_info)\n",
    "            \n",
    "        info_entropy = np.sum(amount_of_info_row)\n",
    "        print(\"---information entropy ---\")\n",
    "        \n",
    "        return np.round(info_entropy,3)\n",
    "    \n",
    "Entropy.entropy = out_entropy"
   ]
  },
  {
   "cell_type": "code",
   "execution_count": 78,
   "id": "d7aea126-c584-403d-a0ec-64117396242c",
   "metadata": {},
   "outputs": [],
   "source": [
    "class_entropy_1 =Entropy(real_prob,human_Q)"
   ]
  },
  {
   "cell_type": "code",
   "execution_count": 80,
   "id": "0fa741f9-2bd7-4256-af78-855ebc613043",
   "metadata": {},
   "outputs": [
    {
     "name": "stdout",
     "output_type": "stream",
     "text": [
      "---information entropy ---\n",
      "1.006\n",
      "--- cross entropy ---\n",
      "1.032\n"
     ]
    }
   ],
   "source": [
    "Human_info_entropy = class_entropy_1.entropy(H_Q=False)\n",
    "print(Human_info_entropy)\n",
    "Human_cross_entropy = class_entropy_1.entropy(H_Q=True)\n",
    "print(Human_cross_entropy)"
   ]
  },
  {
   "cell_type": "code",
   "execution_count": 83,
   "id": "d131c135-c969-4631-ad10-300475a308a3",
   "metadata": {},
   "outputs": [
    {
     "name": "stdout",
     "output_type": "stream",
     "text": [
      "---information entropy ---\n",
      "1.006\n",
      "--- cross entropy ---\n",
      "1.053\n"
     ]
    }
   ],
   "source": [
    "class_entropy_2 = Entropy(real_prob, AI_Q)\n",
    "AI_info_entropy = class_entropy_2.entropy(H_Q=False)\n",
    "print(AI_info_entropy)\n",
    "\n",
    "AI_cross_entropy = class_entropy_2.entropy(H_Q=True)\n",
    "print(AI_cross_entropy)"
   ]
  },
  {
   "cell_type": "code",
   "execution_count": 84,
   "id": "66ed90c3-d07f-4ce3-9b82-ad24e05810ed",
   "metadata": {},
   "outputs": [],
   "source": [
    "def sigmoid_A(x):\n",
    "    y = 1/(1+np.exp(-x))\n",
    "    \n",
    "    print(y)\n"
   ]
  },
  {
   "cell_type": "code",
   "execution_count": 92,
   "id": "030c8daf-32cd-4868-ba45-fe1523a19b10",
   "metadata": {},
   "outputs": [
    {
     "name": "stdout",
     "output_type": "stream",
     "text": [
      "1.0\n"
     ]
    }
   ],
   "source": [
    "sigmoid_A(10000)"
   ]
  },
  {
   "cell_type": "code",
   "execution_count": 87,
   "id": "278cc464-effe-4c8a-8b06-4e70439c70de",
   "metadata": {},
   "outputs": [],
   "source": [
    "def sigmoid_B(x):\n",
    "    y = np.exp(x)/(1+np.exp(x))\n",
    "    print(y)"
   ]
  },
  {
   "cell_type": "code",
   "execution_count": 91,
   "id": "b89bc306-3c49-4b3e-a4ec-c9658cc337ca",
   "metadata": {},
   "outputs": [
    {
     "name": "stdout",
     "output_type": "stream",
     "text": [
      "1.0\n",
      "4.5397868702434395e-05\n"
     ]
    }
   ],
   "source": [
    "sigmoid_B(100)\n",
    "sigmoid_B(-10)"
   ]
  },
  {
   "cell_type": "code",
   "execution_count": 93,
   "id": "4b4c3a93-6ae2-4f71-a918-1be8623a2e4e",
   "metadata": {},
   "outputs": [],
   "source": [
    "# 양수일때는 A, 음수일때는 b로 구축.\n",
    "\n",
    "def relu(x):\n",
    "    return np.maximum(x,0)"
   ]
  },
  {
   "cell_type": "code",
   "execution_count": 97,
   "id": "94785fd2-a670-4e28-aea0-ecbd2b043ff9",
   "metadata": {},
   "outputs": [],
   "source": [
    "def sigmoid_C(x):\n",
    "    result = np.exp(-relu(-x)) / (1+np.exp(-np.abs(x)))\n",
    "    print(result)"
   ]
  },
  {
   "cell_type": "code",
   "execution_count": 98,
   "id": "b34dd337-fe2f-40f8-a65e-57cffe8f27b2",
   "metadata": {},
   "outputs": [
    {
     "name": "stdout",
     "output_type": "stream",
     "text": [
      "1.0\n",
      "0.0\n",
      "0.5\n"
     ]
    }
   ],
   "source": [
    "x_list = [1000,-1000,0]\n",
    "for i in x_list :\n",
    "    sigmoid_C(i)"
   ]
  },
  {
   "cell_type": "code",
   "execution_count": null,
   "id": "478a1f7d-01da-446f-9316-647272a9d6cb",
   "metadata": {},
   "outputs": [],
   "source": []
  }
 ],
 "metadata": {
  "kernelspec": {
   "display_name": "Python 3",
   "language": "python",
   "name": "python3"
  },
  "language_info": {
   "codemirror_mode": {
    "name": "ipython",
    "version": 3
   },
   "file_extension": ".py",
   "mimetype": "text/x-python",
   "name": "python",
   "nbconvert_exporter": "python",
   "pygments_lexer": "ipython3",
   "version": "3.8.10"
  }
 },
 "nbformat": 4,
 "nbformat_minor": 5
}
