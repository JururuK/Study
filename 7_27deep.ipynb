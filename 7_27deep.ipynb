{
 "cells": [
  {
   "cell_type": "code",
   "execution_count": 31,
   "id": "41a5681d-2d30-44cf-a8bc-49eb88a0b5a0",
   "metadata": {},
   "outputs": [],
   "source": [
    "import tensorflow as tf\n",
    "import numpy as np\n",
    "import pandas as pd\n",
    "import seaborn as sns\n",
    "import matplotlib.pyplot as plt"
   ]
  },
  {
   "cell_type": "code",
   "execution_count": 32,
   "id": "a97019f9-0288-4324-9dbb-21337dcb4506",
   "metadata": {},
   "outputs": [
    {
     "name": "stdout",
     "output_type": "stream",
     "text": [
      "   fixed acidity  volatile acidity  citric acid  residual sugar  chlorides  \\\n",
      "0            7.4              0.70         0.00             1.9      0.076   \n",
      "1            7.8              0.88         0.00             2.6      0.098   \n",
      "2            7.8              0.76         0.04             2.3      0.092   \n",
      "3           11.2              0.28         0.56             1.9      0.075   \n",
      "4            7.4              0.70         0.00             1.9      0.076   \n",
      "\n",
      "   free sulfur dioxide  total sulfur dioxide  density    pH  sulphates  \\\n",
      "0                 11.0                  34.0   0.9978  3.51       0.56   \n",
      "1                 25.0                  67.0   0.9968  3.20       0.68   \n",
      "2                 15.0                  54.0   0.9970  3.26       0.65   \n",
      "3                 17.0                  60.0   0.9980  3.16       0.58   \n",
      "4                 11.0                  34.0   0.9978  3.51       0.56   \n",
      "\n",
      "   alcohol  quality  \n",
      "0      9.4        5  \n",
      "1      9.8        5  \n",
      "2      9.8        5  \n",
      "3      9.8        6  \n",
      "4      9.4        5  \n",
      "   fixed acidity  volatile acidity  citric acid  residual sugar  chlorides  \\\n",
      "0            7.0              0.27         0.36            20.7      0.045   \n",
      "1            6.3              0.30         0.34             1.6      0.049   \n",
      "2            8.1              0.28         0.40             6.9      0.050   \n",
      "3            7.2              0.23         0.32             8.5      0.058   \n",
      "4            7.2              0.23         0.32             8.5      0.058   \n",
      "\n",
      "   free sulfur dioxide  total sulfur dioxide  density    pH  sulphates  \\\n",
      "0                 45.0                 170.0   1.0010  3.00       0.45   \n",
      "1                 14.0                 132.0   0.9940  3.30       0.49   \n",
      "2                 30.0                  97.0   0.9951  3.26       0.44   \n",
      "3                 47.0                 186.0   0.9956  3.19       0.40   \n",
      "4                 47.0                 186.0   0.9956  3.19       0.40   \n",
      "\n",
      "   alcohol  quality  \n",
      "0      8.8        6  \n",
      "1      9.5        6  \n",
      "2     10.1        6  \n",
      "3      9.9        6  \n",
      "4      9.9        6  \n"
     ]
    }
   ],
   "source": [
    "red = pd.read_csv('dataset/winequality-red.csv',sep=';')\n",
    "white = pd.read_csv('dataset/winequality-white.csv',sep=';')\n",
    "\n",
    "print(red.head())\n",
    "print(white.head())"
   ]
  },
  {
   "cell_type": "code",
   "execution_count": 33,
   "id": "d0b0a7e5-474b-4416-9d07-8302238c279e",
   "metadata": {},
   "outputs": [
    {
     "data": {
      "text/html": [
       "<div>\n",
       "<style scoped>\n",
       "    .dataframe tbody tr th:only-of-type {\n",
       "        vertical-align: middle;\n",
       "    }\n",
       "\n",
       "    .dataframe tbody tr th {\n",
       "        vertical-align: top;\n",
       "    }\n",
       "\n",
       "    .dataframe thead th {\n",
       "        text-align: right;\n",
       "    }\n",
       "</style>\n",
       "<table border=\"1\" class=\"dataframe\">\n",
       "  <thead>\n",
       "    <tr style=\"text-align: right;\">\n",
       "      <th></th>\n",
       "      <th>fixed acidity</th>\n",
       "      <th>volatile acidity</th>\n",
       "      <th>citric acid</th>\n",
       "      <th>residual sugar</th>\n",
       "      <th>chlorides</th>\n",
       "      <th>free sulfur dioxide</th>\n",
       "      <th>total sulfur dioxide</th>\n",
       "      <th>density</th>\n",
       "      <th>pH</th>\n",
       "      <th>sulphates</th>\n",
       "      <th>alcohol</th>\n",
       "      <th>quality</th>\n",
       "    </tr>\n",
       "  </thead>\n",
       "  <tbody>\n",
       "    <tr>\n",
       "      <th>0</th>\n",
       "      <td>7.0</td>\n",
       "      <td>0.27</td>\n",
       "      <td>0.36</td>\n",
       "      <td>20.7</td>\n",
       "      <td>0.045</td>\n",
       "      <td>45.0</td>\n",
       "      <td>170.0</td>\n",
       "      <td>1.00100</td>\n",
       "      <td>3.00</td>\n",
       "      <td>0.45</td>\n",
       "      <td>8.8</td>\n",
       "      <td>6</td>\n",
       "    </tr>\n",
       "    <tr>\n",
       "      <th>1</th>\n",
       "      <td>6.3</td>\n",
       "      <td>0.30</td>\n",
       "      <td>0.34</td>\n",
       "      <td>1.6</td>\n",
       "      <td>0.049</td>\n",
       "      <td>14.0</td>\n",
       "      <td>132.0</td>\n",
       "      <td>0.99400</td>\n",
       "      <td>3.30</td>\n",
       "      <td>0.49</td>\n",
       "      <td>9.5</td>\n",
       "      <td>6</td>\n",
       "    </tr>\n",
       "    <tr>\n",
       "      <th>2</th>\n",
       "      <td>8.1</td>\n",
       "      <td>0.28</td>\n",
       "      <td>0.40</td>\n",
       "      <td>6.9</td>\n",
       "      <td>0.050</td>\n",
       "      <td>30.0</td>\n",
       "      <td>97.0</td>\n",
       "      <td>0.99510</td>\n",
       "      <td>3.26</td>\n",
       "      <td>0.44</td>\n",
       "      <td>10.1</td>\n",
       "      <td>6</td>\n",
       "    </tr>\n",
       "    <tr>\n",
       "      <th>3</th>\n",
       "      <td>7.2</td>\n",
       "      <td>0.23</td>\n",
       "      <td>0.32</td>\n",
       "      <td>8.5</td>\n",
       "      <td>0.058</td>\n",
       "      <td>47.0</td>\n",
       "      <td>186.0</td>\n",
       "      <td>0.99560</td>\n",
       "      <td>3.19</td>\n",
       "      <td>0.40</td>\n",
       "      <td>9.9</td>\n",
       "      <td>6</td>\n",
       "    </tr>\n",
       "    <tr>\n",
       "      <th>4</th>\n",
       "      <td>7.2</td>\n",
       "      <td>0.23</td>\n",
       "      <td>0.32</td>\n",
       "      <td>8.5</td>\n",
       "      <td>0.058</td>\n",
       "      <td>47.0</td>\n",
       "      <td>186.0</td>\n",
       "      <td>0.99560</td>\n",
       "      <td>3.19</td>\n",
       "      <td>0.40</td>\n",
       "      <td>9.9</td>\n",
       "      <td>6</td>\n",
       "    </tr>\n",
       "    <tr>\n",
       "      <th>...</th>\n",
       "      <td>...</td>\n",
       "      <td>...</td>\n",
       "      <td>...</td>\n",
       "      <td>...</td>\n",
       "      <td>...</td>\n",
       "      <td>...</td>\n",
       "      <td>...</td>\n",
       "      <td>...</td>\n",
       "      <td>...</td>\n",
       "      <td>...</td>\n",
       "      <td>...</td>\n",
       "      <td>...</td>\n",
       "    </tr>\n",
       "    <tr>\n",
       "      <th>4893</th>\n",
       "      <td>6.2</td>\n",
       "      <td>0.21</td>\n",
       "      <td>0.29</td>\n",
       "      <td>1.6</td>\n",
       "      <td>0.039</td>\n",
       "      <td>24.0</td>\n",
       "      <td>92.0</td>\n",
       "      <td>0.99114</td>\n",
       "      <td>3.27</td>\n",
       "      <td>0.50</td>\n",
       "      <td>11.2</td>\n",
       "      <td>6</td>\n",
       "    </tr>\n",
       "    <tr>\n",
       "      <th>4894</th>\n",
       "      <td>6.6</td>\n",
       "      <td>0.32</td>\n",
       "      <td>0.36</td>\n",
       "      <td>8.0</td>\n",
       "      <td>0.047</td>\n",
       "      <td>57.0</td>\n",
       "      <td>168.0</td>\n",
       "      <td>0.99490</td>\n",
       "      <td>3.15</td>\n",
       "      <td>0.46</td>\n",
       "      <td>9.6</td>\n",
       "      <td>5</td>\n",
       "    </tr>\n",
       "    <tr>\n",
       "      <th>4895</th>\n",
       "      <td>6.5</td>\n",
       "      <td>0.24</td>\n",
       "      <td>0.19</td>\n",
       "      <td>1.2</td>\n",
       "      <td>0.041</td>\n",
       "      <td>30.0</td>\n",
       "      <td>111.0</td>\n",
       "      <td>0.99254</td>\n",
       "      <td>2.99</td>\n",
       "      <td>0.46</td>\n",
       "      <td>9.4</td>\n",
       "      <td>6</td>\n",
       "    </tr>\n",
       "    <tr>\n",
       "      <th>4896</th>\n",
       "      <td>5.5</td>\n",
       "      <td>0.29</td>\n",
       "      <td>0.30</td>\n",
       "      <td>1.1</td>\n",
       "      <td>0.022</td>\n",
       "      <td>20.0</td>\n",
       "      <td>110.0</td>\n",
       "      <td>0.98869</td>\n",
       "      <td>3.34</td>\n",
       "      <td>0.38</td>\n",
       "      <td>12.8</td>\n",
       "      <td>7</td>\n",
       "    </tr>\n",
       "    <tr>\n",
       "      <th>4897</th>\n",
       "      <td>6.0</td>\n",
       "      <td>0.21</td>\n",
       "      <td>0.38</td>\n",
       "      <td>0.8</td>\n",
       "      <td>0.020</td>\n",
       "      <td>22.0</td>\n",
       "      <td>98.0</td>\n",
       "      <td>0.98941</td>\n",
       "      <td>3.26</td>\n",
       "      <td>0.32</td>\n",
       "      <td>11.8</td>\n",
       "      <td>6</td>\n",
       "    </tr>\n",
       "  </tbody>\n",
       "</table>\n",
       "<p>4898 rows × 12 columns</p>\n",
       "</div>"
      ],
      "text/plain": [
       "      fixed acidity  volatile acidity  citric acid  residual sugar  chlorides  \\\n",
       "0               7.0              0.27         0.36            20.7      0.045   \n",
       "1               6.3              0.30         0.34             1.6      0.049   \n",
       "2               8.1              0.28         0.40             6.9      0.050   \n",
       "3               7.2              0.23         0.32             8.5      0.058   \n",
       "4               7.2              0.23         0.32             8.5      0.058   \n",
       "...             ...               ...          ...             ...        ...   \n",
       "4893            6.2              0.21         0.29             1.6      0.039   \n",
       "4894            6.6              0.32         0.36             8.0      0.047   \n",
       "4895            6.5              0.24         0.19             1.2      0.041   \n",
       "4896            5.5              0.29         0.30             1.1      0.022   \n",
       "4897            6.0              0.21         0.38             0.8      0.020   \n",
       "\n",
       "      free sulfur dioxide  total sulfur dioxide  density    pH  sulphates  \\\n",
       "0                    45.0                 170.0  1.00100  3.00       0.45   \n",
       "1                    14.0                 132.0  0.99400  3.30       0.49   \n",
       "2                    30.0                  97.0  0.99510  3.26       0.44   \n",
       "3                    47.0                 186.0  0.99560  3.19       0.40   \n",
       "4                    47.0                 186.0  0.99560  3.19       0.40   \n",
       "...                   ...                   ...      ...   ...        ...   \n",
       "4893                 24.0                  92.0  0.99114  3.27       0.50   \n",
       "4894                 57.0                 168.0  0.99490  3.15       0.46   \n",
       "4895                 30.0                 111.0  0.99254  2.99       0.46   \n",
       "4896                 20.0                 110.0  0.98869  3.34       0.38   \n",
       "4897                 22.0                  98.0  0.98941  3.26       0.32   \n",
       "\n",
       "      alcohol  quality  \n",
       "0         8.8        6  \n",
       "1         9.5        6  \n",
       "2        10.1        6  \n",
       "3         9.9        6  \n",
       "4         9.9        6  \n",
       "...       ...      ...  \n",
       "4893     11.2        6  \n",
       "4894      9.6        5  \n",
       "4895      9.4        6  \n",
       "4896     12.8        7  \n",
       "4897     11.8        6  \n",
       "\n",
       "[4898 rows x 12 columns]"
      ]
     },
     "metadata": {},
     "output_type": "display_data"
    }
   ],
   "source": [
    "display(white)"
   ]
  },
  {
   "cell_type": "code",
   "execution_count": 34,
   "id": "b41bd341-06d1-45ce-84fd-b606ed136d16",
   "metadata": {},
   "outputs": [],
   "source": [
    "red['type']=0\n",
    "white['type']=1"
   ]
  },
  {
   "cell_type": "code",
   "execution_count": 35,
   "id": "6f1a7d3a-cfb3-44fd-941a-d894d900ab57",
   "metadata": {},
   "outputs": [
    {
     "name": "stdout",
     "output_type": "stream",
     "text": [
      "       fixed acidity  volatile acidity  citric acid  residual sugar  \\\n",
      "count    6497.000000       6497.000000  6497.000000     6497.000000   \n",
      "mean        7.215307          0.339666     0.318633        5.443235   \n",
      "std         1.296434          0.164636     0.145318        4.757804   \n",
      "min         3.800000          0.080000     0.000000        0.600000   \n",
      "25%         6.400000          0.230000     0.250000        1.800000   \n",
      "50%         7.000000          0.290000     0.310000        3.000000   \n",
      "75%         7.700000          0.400000     0.390000        8.100000   \n",
      "max        15.900000          1.580000     1.660000       65.800000   \n",
      "\n",
      "         chlorides  free sulfur dioxide  total sulfur dioxide      density  \\\n",
      "count  6497.000000          6497.000000           6497.000000  6497.000000   \n",
      "mean      0.056034            30.525319            115.744574     0.994697   \n",
      "std       0.035034            17.749400             56.521855     0.002999   \n",
      "min       0.009000             1.000000              6.000000     0.987110   \n",
      "25%       0.038000            17.000000             77.000000     0.992340   \n",
      "50%       0.047000            29.000000            118.000000     0.994890   \n",
      "75%       0.065000            41.000000            156.000000     0.996990   \n",
      "max       0.611000           289.000000            440.000000     1.038980   \n",
      "\n",
      "                pH    sulphates      alcohol      quality         type  \n",
      "count  6497.000000  6497.000000  6497.000000  6497.000000  6497.000000  \n",
      "mean      3.218501     0.531268    10.491801     5.818378     0.753886  \n",
      "std       0.160787     0.148806     1.192712     0.873255     0.430779  \n",
      "min       2.720000     0.220000     8.000000     3.000000     0.000000  \n",
      "25%       3.110000     0.430000     9.500000     5.000000     1.000000  \n",
      "50%       3.210000     0.510000    10.300000     6.000000     1.000000  \n",
      "75%       3.320000     0.600000    11.300000     6.000000     1.000000  \n",
      "max       4.010000     2.000000    14.900000     9.000000     1.000000  \n"
     ]
    }
   ],
   "source": [
    "wine = pd.concat([red,white])\n",
    "print(wine.describe())"
   ]
  },
  {
   "cell_type": "code",
   "execution_count": 36,
   "id": "7c7d5b06-8be9-4b34-8d51-fbb9d0da778e",
   "metadata": {},
   "outputs": [
    {
     "data": {
      "image/png": "[encoded data removed]",
      "text/plain": [
       "<Figure size 432x288 with 1 Axes>"
      ]
     },
     "metadata": {
      "needs_background": "light"
     },
     "output_type": "display_data"
    }
   ],
   "source": [
    "sns.histplot(wine['type'],color='green')\n",
    "plt.title(\"{}\".format(wine['type'].value_counts()))\n",
    "plt.grid()\n",
    "plt.show()"
   ]
  },
  {
   "cell_type": "code",
   "execution_count": 37,
   "id": "4a8f9307-9bd5-4ab5-8109-1b450c7bc077",
   "metadata": {},
   "outputs": [
    {
     "name": "stdout",
     "output_type": "stream",
     "text": [
      "      fixed acidity  volatile acidity  citric acid  residual sugar  chlorides  \\\n",
      "2350            7.9              0.31         0.22            13.3      0.048   \n",
      "1275            6.2              0.22         0.27             1.5      0.064   \n",
      "904             6.8              0.59         0.06             6.0      0.060   \n",
      "2129            6.8              0.28         0.39             1.4      0.036   \n",
      "1072            7.2              0.35         0.26             1.8      0.083   \n",
      "\n",
      "      free sulfur dioxide  total sulfur dioxide  density    pH  sulphates  \\\n",
      "2350                 46.0                 212.0  0.99942  3.47       0.59   \n",
      "1275                 20.0                 132.0  0.99380  3.22       0.46   \n",
      "904                  11.0                  18.0  0.99620  3.41       0.59   \n",
      "2129                 15.0                 115.0  0.99180  3.27       0.72   \n",
      "1072                 33.0                  75.0  0.99680  3.40       0.58   \n",
      "\n",
      "      alcohol  quality  type  \n",
      "2350     10.0        5     1  \n",
      "1275      9.2        6     1  \n",
      "904      10.8        7     0  \n",
      "2129     11.7        5     1  \n",
      "1072      9.5        6     0  \n"
     ]
    }
   ],
   "source": [
    "wine_shuffle=wine.sample(frac=1)\n",
    "print(wine_shuffle.head())"
   ]
  },
  {
   "cell_type": "code",
   "execution_count": 38,
   "id": "e40f4dbb-045c-4b24-853c-a2f53c7bdc8c",
   "metadata": {},
   "outputs": [
    {
     "name": "stdout",
     "output_type": "stream",
     "text": [
      "<class 'numpy.ndarray'>\n"
     ]
    }
   ],
   "source": [
    "wine_np = wine_shuffle.to_numpy()\n",
    "print(type(wine_np))"
   ]
  },
  {
   "cell_type": "code",
   "execution_count": 39,
   "id": "d7c153f9-4be2-435d-adac-8a15a8eb6b26",
   "metadata": {},
   "outputs": [
    {
     "name": "stdout",
     "output_type": "stream",
     "text": [
      "Total dataset Index :  6497\n",
      "train_idx : 5197\n"
     ]
    }
   ],
   "source": [
    "print(\"Total dataset Index : \",len(wine_np))\n",
    "train_idx = int(len(wine_np)*0.8)\n",
    "print(\"train_idx :\",train_idx)"
   ]
  },
  {
   "cell_type": "code",
   "execution_count": 40,
   "id": "acd0a15f-f08a-41d8-b3a3-09bcefdb05ed",
   "metadata": {},
   "outputs": [
    {
     "name": "stdout",
     "output_type": "stream",
     "text": [
      "(5197, 12)\n",
      "(5197,)\n",
      "(1300, 12)\n",
      "(1300,)\n"
     ]
    }
   ],
   "source": [
    "train_X,train_Y = wine_np[:train_idx,:-1],wine_np[:train_idx,-1]\n",
    "test_X,test_Y = wine_np[train_idx:,:-1],wine_np[train_idx:,-1]\n",
    "print(train_X.shape)\n",
    "print(train_Y.shape)\n",
    "print(test_X.shape)\n",
    "print(test_Y.shape)"
   ]
  },
  {
   "cell_type": "code",
   "execution_count": 41,
   "id": "ee0f70ec-9e22-49bb-a936-015369861c15",
   "metadata": {
    "tags": []
   },
   "outputs": [
    {
     "name": "stdout",
     "output_type": "stream",
     "text": [
      "1.0\n",
      "1.0\n",
      "0.0\n",
      "after to categorical\n",
      "1.0\n",
      "1.0\n",
      "0.0\n"
     ]
    }
   ],
   "source": [
    "print(train_Y[0])\n",
    "print(train_Y[1])\n",
    "print(train_Y[2])\n",
    "train_Y_to_categorical = tf.keras.utils.to_categorical(train_Y,num_classes=2)\n",
    "test_Y_to_categorical = tf.keras.utils.to_categorical(test_Y,num_classes=2)\n",
    "print(\"after to categorical\")\n",
    "print(train_Y[0])\n",
    "print(train_Y[1])\n",
    "print(train_Y[2])"
   ]
  },
  {
   "cell_type": "code",
   "execution_count": 42,
   "id": "08283077-d734-4393-8162-c309f99eac97",
   "metadata": {},
   "outputs": [
    {
     "name": "stdout",
     "output_type": "stream",
     "text": [
      "(5197,)\n",
      "(1300,)\n"
     ]
    }
   ],
   "source": [
    "print(train_Y.shape)\n",
    "print(test_Y.shape)"
   ]
  },
  {
   "cell_type": "code",
   "execution_count": 43,
   "id": "57fdddd0-9ee2-473b-a924-57f9a3281485",
   "metadata": {},
   "outputs": [],
   "source": [
    "model_swish_sigmoid = tf.keras.Sequential([\n",
    "                                           tf.keras.layers.Dense(units = 48, activation = 'swish', \n",
    "                                                                 input_shape = (12,)),\n",
    "                                           tf.keras.layers.Dense(units = 24, activation = 'swish'),\n",
    "                                           tf.keras.layers.Dense(units = 12, activation = 'swish'),\n",
    "                                           tf.keras.layers.Dense(units = 2,  activation = 'sigmoid')\n",
    "]) "
   ]
  },
  {
   "cell_type": "code",
   "execution_count": 44,
   "id": "441be49f-3f66-4b4f-a76c-46889cacc62c",
   "metadata": {},
   "outputs": [],
   "source": [
    "model_swish_sigmoid.compile(optimizer=tf.keras.optimizers.Adam(learning_rate=0.07),\n",
    "                           loss='binary_crossentropy',\n",
    "                           metrics=['accuracy'])"
   ]
  },
  {
   "cell_type": "code",
   "execution_count": 45,
   "id": "23065435-13c6-40d5-9126-427f774f00f3",
   "metadata": {},
   "outputs": [
    {
     "name": "stdout",
     "output_type": "stream",
     "text": [
      "Epoch 1/50\n",
      "130/130 [==============================] - 1s 3ms/step - loss: 1.0302 - accuracy: 0.8956 - val_loss: 0.2034 - val_accuracy: 0.9288\n",
      "Epoch 2/50\n",
      "130/130 [==============================] - 0s 1ms/step - loss: 0.1892 - accuracy: 0.9367 - val_loss: 0.1409 - val_accuracy: 0.9510\n",
      "Epoch 3/50\n",
      "130/130 [==============================] - 0s 1ms/step - loss: 0.1614 - accuracy: 0.9447 - val_loss: 0.1722 - val_accuracy: 0.9692\n",
      "Epoch 4/50\n",
      "130/130 [==============================] - 0s 1ms/step - loss: 0.1929 - accuracy: 0.9382 - val_loss: 0.1166 - val_accuracy: 0.9654\n",
      "Epoch 5/50\n",
      "130/130 [==============================] - 0s 2ms/step - loss: 0.1314 - accuracy: 0.9572 - val_loss: 0.0871 - val_accuracy: 0.9615\n",
      "Epoch 6/50\n",
      "130/130 [==============================] - 0s 1ms/step - loss: 0.1273 - accuracy: 0.9567 - val_loss: 0.0754 - val_accuracy: 0.9740\n",
      "Epoch 7/50\n",
      "130/130 [==============================] - 0s 1ms/step - loss: 0.1348 - accuracy: 0.9603 - val_loss: 0.1337 - val_accuracy: 0.9490\n",
      "Epoch 8/50\n",
      "130/130 [==============================] - 0s 2ms/step - loss: 0.1059 - accuracy: 0.9666 - val_loss: 0.0625 - val_accuracy: 0.9808\n",
      "Epoch 9/50\n",
      "130/130 [==============================] - 0s 1ms/step - loss: 0.1041 - accuracy: 0.9668 - val_loss: 0.0626 - val_accuracy: 0.9817\n",
      "Epoch 10/50\n",
      "130/130 [==============================] - 0s 1ms/step - loss: 0.1218 - accuracy: 0.9649 - val_loss: 0.1180 - val_accuracy: 0.9510\n",
      "Epoch 11/50\n",
      "130/130 [==============================] - 0s 1ms/step - loss: 0.0999 - accuracy: 0.9687 - val_loss: 0.0891 - val_accuracy: 0.9663\n",
      "Epoch 12/50\n",
      "130/130 [==============================] - 0s 1ms/step - loss: 0.1094 - accuracy: 0.9649 - val_loss: 0.1454 - val_accuracy: 0.9375\n",
      "Epoch 13/50\n",
      "130/130 [==============================] - 0s 1ms/step - loss: 0.1100 - accuracy: 0.9649 - val_loss: 0.0747 - val_accuracy: 0.9779\n"
     ]
    }
   ],
   "source": [
    "tf.random.set_seed(9876)\n",
    "\n",
    "history = model_swish_sigmoid.fit(train_X, train_Y_to_categorical, epochs = 50, batch_size = 32, \n",
    "                                  validation_split = 0.2,\n",
    "                                  callbacks = [tf.keras.callbacks.EarlyStopping(patience = 5, \n",
    "                                                                                monitor='val_loss')])"
   ]
  },
  {
   "cell_type": "code",
   "execution_count": 48,
   "id": "e8e16fa1-7183-4220-b521-de11ff86be78",
   "metadata": {},
   "outputs": [
    {
     "data": {
      "image/png": "[encoded data removed]",
      "text/plain": [
       "<Figure size 720x288 with 2 Axes>"
      ]
     },
     "metadata": {
      "needs_background": "light"
     },
     "output_type": "display_data"
    }
   ],
   "source": [
    "val_accuracy = history.history['val_accuracy']\n",
    "accuracy     = history.history['accuracy']\n",
    "\n",
    "val_loss = history.history['val_loss']\n",
    "loss     = history.history['loss']\n",
    "\n",
    "plt.figure(figsize=(10,4))\n",
    "plt.subplot(1,2,1)\n",
    "\n",
    "plt.plot(history.history['loss'],'b-',label='train_loss')\n",
    "plt.plot(history.history['val_loss'],'r--',label='val_loss')\n",
    "\n",
    "plt.xlabel(\"Epochs\")\n",
    "\n",
    "plt.title(\"Train_Loss : {:.3f} \\nVal_Loss : {:.3f}\".format(loss[-1],val_loss[-1]))\n",
    "plt.legend()\n",
    "plt.grid()\n",
    "\n",
    "plt.subplot(1,2,2)\n",
    "plt.plot(history.history['accuracy'],'g-',label='train_ACC')\n",
    "plt.plot(history.history['val_accuracy'],'k--',label='val_ACC')\n",
    "\n",
    "plt.xlabel(\"Epochs\")\n",
    "\n",
    "plt.title(\"Train_ACC : {:.3f} \\nVal_ACC : {:.3f}\".format(accuracy[-1],val_accuracy[-1]))\n",
    "plt.legend()\n",
    "plt.grid()"
   ]
  },
  {
   "cell_type": "code",
   "execution_count": 49,
   "id": "6ce6b58d-539d-4419-9677-57cc1b4b08ed",
   "metadata": {},
   "outputs": [
    {
     "name": "stdout",
     "output_type": "stream",
     "text": [
      "41/41 [==============================] - 0s 1ms/step - loss: 0.1005 - accuracy: 0.9677\n"
     ]
    },
    {
     "data": {
      "text/plain": [
       "[0.10054293274879456, 0.9676923155784607]"
      ]
     },
     "execution_count": 49,
     "metadata": {},
     "output_type": "execute_result"
    }
   ],
   "source": [
    "model_swish_sigmoid.evaluate(test_X,test_Y_to_categorical)"
   ]
  },
  {
   "cell_type": "code",
   "execution_count": 51,
   "id": "639b8275-4ade-4a8b-a701-373ebd2d05f7",
   "metadata": {},
   "outputs": [
    {
     "name": "stdout",
     "output_type": "stream",
     "text": [
      "[[0.   1.  ]\n",
      " [0.01 0.98]\n",
      " [0.   1.  ]\n",
      " [0.99 0.01]\n",
      " [0.03 0.97]\n",
      " [0.03 0.96]\n",
      " [0.   1.  ]\n",
      " [0.1  0.9 ]\n",
      " [0.   0.99]\n",
      " [0.03 0.97]\n",
      " [1.   0.01]\n",
      " [1.   0.01]\n",
      " [1.   0.01]\n",
      " [0.   1.  ]\n",
      " [0.   1.  ]\n",
      " [0.01 0.98]\n",
      " [0.95 0.05]\n",
      " [0.03 0.97]\n",
      " [0.14 0.86]\n",
      " [0.   1.  ]]\n"
     ]
    }
   ],
   "source": [
    "pred_Y = model_swish_sigmoid.predict(test_X)\n",
    "print(np.round(pred_Y[:20],2))"
   ]
  },
  {
   "cell_type": "code",
   "execution_count": null,
   "id": "b93a58e2-f871-485a-a4aa-4552febc1b89",
   "metadata": {},
   "outputs": [],
   "source": []
  }
 ],
 "metadata": {
  "kernelspec": {
   "display_name": "Python 3",
   "language": "python",
   "name": "python3"
  },
  "language_info": {
   "codemirror_mode": {
    "name": "ipython",
    "version": 3
   },
   "file_extension": ".py",
   "mimetype": "text/x-python",
   "name": "python",
   "nbconvert_exporter": "python",
   "pygments_lexer": "ipython3",
   "version": "3.8.10"
  }
 },
 "nbformat": 4,
 "nbformat_minor": 5
}
