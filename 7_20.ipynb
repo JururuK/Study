{
 "cells": [
  {
   "cell_type": "code",
   "execution_count": 10,
   "id": "2f279894-a9cf-4fdf-a334-47152e2775bd",
   "metadata": {},
   "outputs": [
    {
     "name": "stdin",
     "output_type": "stream",
     "text": [
      " 1\n"
     ]
    },
    {
     "name": "stdout",
     "output_type": "stream",
     "text": [
      "1\n"
     ]
    },
    {
     "name": "stdin",
     "output_type": "stream",
     "text": [
      " 2\n"
     ]
    },
    {
     "name": "stdout",
     "output_type": "stream",
     "text": [
      "0\n"
     ]
    },
    {
     "name": "stdin",
     "output_type": "stream",
     "text": [
      " 3\n"
     ]
    },
    {
     "name": "stdout",
     "output_type": "stream",
     "text": [
      "0\n"
     ]
    },
    {
     "name": "stdin",
     "output_type": "stream",
     "text": [
      " 4\n"
     ]
    },
    {
     "name": "stdout",
     "output_type": "stream",
     "text": [
      "0\n"
     ]
    },
    {
     "name": "stdin",
     "output_type": "stream",
     "text": [
      " 0\n"
     ]
    }
   ],
   "source": [
    "def prime(num) :\n",
    "    if num == 1 :\n",
    "        return False\n",
    "    else :\n",
    "        for i in range(2, int(num**(1/2))+1) :\n",
    "            if num % i == 0 :\n",
    "                return False\n",
    "        return True\n",
    "p_list = []\n",
    "\n",
    "while True :\n",
    "    N = int(input())\n",
    "    if N == 1 :\n",
    "        p_list.append(1)\n",
    "    for i in range(N+1,2*N):\n",
    "        if prime(i) == True :\n",
    "            p_list.append(i)\n",
    "    if N == 0 :\n",
    "        break\n",
    "    print(len(p_list))   \n",
    "    p_list=[]"
   ]
  },
  {
   "cell_type": "code",
   "execution_count": 32,
   "id": "b97cceef-fbc7-4a4d-a8e9-fbe213e47b1b",
   "metadata": {},
   "outputs": [
    {
     "data": {
      "text/plain": [
       "[11]"
      ]
     },
     "execution_count": 32,
     "metadata": {},
     "output_type": "execute_result"
    }
   ],
   "source": [
    "prime = []\n",
    "def prime(num) :\n",
    "    prime = []\n",
    "    if num == 1 :\n",
    "        return False\n",
    "    else :\n",
    "        for i in range(2, int(num**(1/2))+1) :\n",
    "            if num % i == 0 :\n",
    "                return False\n",
    "\n",
    "        prime.append(num)\n",
    "        return prime\n",
    "    \n",
    "p_list = []\n",
    "prime(11)\n"
   ]
  },
  {
   "cell_type": "code",
   "execution_count": 27,
   "id": "5f469b72-7ad4-4dae-b31a-9b4136d4cb7d",
   "metadata": {},
   "outputs": [
    {
     "ename": "SyntaxError",
     "evalue": "invalid syntax (<ipython-input-27-3d397b95b90a>, line 20)",
     "output_type": "error",
     "traceback": [
      "\u001b[1;36m  File \u001b[1;32m\"<ipython-input-27-3d397b95b90a>\"\u001b[1;36m, line \u001b[1;32m20\u001b[0m\n\u001b[1;33m    print(net[if i == True])\u001b[0m\n\u001b[1;37m              ^\u001b[0m\n\u001b[1;31mSyntaxError\u001b[0m\u001b[1;31m:\u001b[0m invalid syntax\n"
     ]
    }
   ],
   "source": [
    "def prime(num) :\n",
    "    if num == 1 :\n",
    "        return False\n",
    "    else :\n",
    "        for i in range(2, int(num**(1/2))+1) :\n",
    "            if num % i == 0 :\n",
    "                return False\n",
    "        return True\n",
    "T = int(input())\n",
    "for _ in range(T):\n",
    "    N = int(input())\n",
    "    prime = []\n",
    "    for i in range(2,N+1):\n",
    "        if prime(i) == True :\n",
    "            prime.append(i)"
   ]
  },
  {
   "cell_type": "code",
   "execution_count": null,
   "id": "d3a17c16-b6c1-4bc4-85b1-0120dc58cb97",
   "metadata": {},
   "outputs": [],
   "source": [
    "class Queue :\n",
    "    def __init__(self,n):\n",
    "        #self.array=[None]*n\n",
    "        self.array=[None for _ in range(n)]\n",
    "        self.f_idx=0\n",
    "        self.b_idx=0\n",
    "    def is_empty(self):\n",
    "        return self.size()==0\n",
    "    \n",
    "    def push(self):\n",
    "        self.array[self.b_idx]=num\n",
    "        self.b_idx += 1 #리스트 사이즈가 아닌 인덱스 숫자(위치)만 변함\n",
    "        \n",
    "    def pop(self):\n",
    "        if self.b_idx = self.f_idx :\n",
    "        #if self.size() == 0 :\n",
    "        #if self.is_empty():\n",
    "            return -1\n",
    "        pop_val = self.array[self.f_idx]\n",
    "        self.f_idx += 1\n",
    "        return pop_val\n",
    "        #return self.array[self.f_idx-1]\n",
    "    def size(self):\n",
    "        return self.b_idx - self.f_idx\n",
    "    \n",
    "    def empty(self):\n",
    "        return int(self.is_empty())\n",
    "    \n",
    "    def front(self):\n",
    "        if self.is_empty():\n",
    "            return -1\n",
    "        front_val = self.array[self.f_idx]\n",
    "        return front_val\n",
    "    def back(self):\n",
    "        if self.is_empty():\n",
    "            return -1\n",
    "        back_val = self.array[self.b_idx]\n",
    "        return back_val\n",
    "def run_cmd_with_queue(command, queue_obj):\n",
    "    cmd_type = command[0]\n",
    "\n",
    "    if cmd_type == \"push\":\n",
    "        _, num = command\n",
    "        queue_obj.push(int(num))\n",
    "    elif cmd_type == \"pop\":\n",
    "        print(queue_obj.pop())\n",
    "\n",
    "    elif cmd_type == \"size\":\n",
    "        print(queue_obj.size())\n",
    "\n",
    "    elif cmd_type == \"empty\":\n",
    "        print(queue_obj.empty())\n",
    "\n",
    "    elif cmd_type == \"front\":\n",
    "        print(queue_obj.front())\n",
    "\n",
    "    elif cmd_type == \"back\":\n",
    "        print(queue_obj.back())\n",
    "    \n",
    "\n",
    "n = int(input())\n",
    "queue_obj = Queue(n)\n",
    "\n",
    "for _ in range(n):\n",
    "    run_cmd_with_queue(input().split(), queue_obj)"
   ]
  },
  {
   "cell_type": "code",
   "execution_count": 23,
   "id": "93e278dd-ff4b-4b18-b522-629426967ebc",
   "metadata": {},
   "outputs": [
    {
     "name": "stdin",
     "output_type": "stream",
     "text": [
      " 3\n",
      " push 3\n",
      " push 2\n",
      " pop\n"
     ]
    },
    {
     "name": "stdout",
     "output_type": "stream",
     "text": [
      "3\n"
     ]
    }
   ],
   "source": [
    "from collections import deque\n",
    "class Queue:\n",
    "    def __init__(self, n):\n",
    "        # self.array = [None] * n\n",
    "        self.array = deque([None for _ in range(n)])\n",
    "        self.f_idx = 0\n",
    "        self.b_idx = 0\n",
    "\n",
    "    def push(self, num):\n",
    "        self.array[self.b_idx] = num\n",
    "        self.b_idx += 1\n",
    "\n",
    "    def pop(self):\n",
    "        # if self.b_idx == self.f_idx:\n",
    "        # if self.b_idx - self.f_idx == 0:\n",
    "        # if self.size() == 0:\n",
    "        if self.is_empty():\n",
    "            return -1        \n",
    "        return self.array.popleft()\n",
    "\n",
    "        # self.f_idx += 1\n",
    "        # return self.array[self.f_idx-1]\n",
    "    def size(self):\n",
    "        return self.b_idx - self.f_idx\n",
    "\n",
    "    def empty(self):\n",
    "        return int(self.is_empty())\n",
    "\n",
    "    def is_empty(self):\n",
    "        return self.size() == 0\n",
    "\n",
    "    def front(self):\n",
    "        if self.is_empty():\n",
    "            return -1\n",
    "\n",
    "        return self.array[self.f_idx]\n",
    "\n",
    "    def back(self):\n",
    "        if self.is_empty():\n",
    "            return -1\n",
    "        \n",
    "        return self.array[self.b_idx-1]\n",
    "\n",
    "def run_cmd_with_queue(command, queue_obj):\n",
    "    cmd_type = command[0]\n",
    "\n",
    "    if cmd_type == \"push\":\n",
    "        _, num = command\n",
    "        queue_obj.push(int(num))\n",
    "    elif cmd_type == \"pop\":\n",
    "        print(queue_obj.pop())\n",
    "\n",
    "    elif cmd_type == \"size\":\n",
    "        print(queue_obj.size())\n",
    "\n",
    "    elif cmd_type == \"empty\":\n",
    "        print(queue_obj.empty())\n",
    "\n",
    "    elif cmd_type == \"front\":\n",
    "        print(queue_obj.front())\n",
    "\n",
    "    elif cmd_type == \"back\":\n",
    "        print(queue_obj.back())\n",
    "    \n",
    "\n",
    "n = int(input())\n",
    "queue_obj = Queue(n)\n",
    "\n",
    "for _ in range(n):\n",
    "    run_cmd_with_queue(input().split(), queue_obj)"
   ]
  },
  {
   "cell_type": "code",
   "execution_count": 17,
   "id": "8f5ba57b-49c7-4284-b754-70d923490113",
   "metadata": {},
   "outputs": [
    {
     "name": "stdout",
     "output_type": "stream",
     "text": [
      "deque([1, 10, 100])\n"
     ]
    }
   ],
   "source": [
    "from collections import deque\n",
    "\n",
    "deque_obj = deque([1,10,100])\n",
    "deque_obj.appendleft(3)\n",
    "deque_obj.popleft()\n",
    "print(deque_obj)"
   ]
  },
  {
   "cell_type": "code",
   "execution_count": null,
   "id": "d0716928-50f3-416f-a9e2-259d0e44df13",
   "metadata": {},
   "outputs": [],
   "source": []
  }
 ],
 "metadata": {
  "kernelspec": {
   "display_name": "Python 3",
   "language": "python",
   "name": "python3"
  },
  "language_info": {
   "codemirror_mode": {
    "name": "ipython",
    "version": 3
   },
   "file_extension": ".py",
   "mimetype": "text/x-python",
   "name": "python",
   "nbconvert_exporter": "python",
   "pygments_lexer": "ipython3",
   "version": "3.8.10"
  }
 },
 "nbformat": 4,
 "nbformat_minor": 5
}
