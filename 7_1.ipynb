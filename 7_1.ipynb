{
 "cells": [
  {
   "cell_type": "markdown",
   "id": "e6a959bf-1b2a-431c-bac6-df126806f4c5",
   "metadata": {},
   "source": [
    "# While"
   ]
  },
  {
   "cell_type": "code",
   "execution_count": null,
   "id": "0745bfc9-069e-4f1f-b4a2-4ffa07f0ca6f",
   "metadata": {},
   "outputs": [],
   "source": [
    "N = int(input())\n",
    "nums = list(map(int,input().split()))\n",
    "\n",
    "a = max(nums)\n",
    "b = min(nums)\n",
    "\n",
    "print(b,a,sep=' ')"
   ]
  },
  {
   "cell_type": "code",
   "execution_count": null,
   "id": "1321bb56-e6e9-4f05-97a7-8e08bfdbd9af",
   "metadata": {},
   "outputs": [],
   "source": [
    "nums = []\n",
    "for i in range(9) :\n",
    "    N = int(input())\n",
    "    nums.append(N)\n",
    "\n",
    "max_num = max(nums)\n",
    "for i in range(len(nums)) :\n",
    "    if max_num == nums[i] :\n",
    "        order = i+1\n",
    "\n",
    "print(max_num)\n",
    "print(order)"
   ]
  },
  {
   "cell_type": "code",
   "execution_count": null,
   "id": "9a5aa72a-9012-4bc5-b15e-b8927c13af7b",
   "metadata": {},
   "outputs": [],
   "source": [
    "a = 1233112"
   ]
  },
  {
   "cell_type": "code",
   "execution_count": null,
   "id": "67530822-4705-4319-9a29-fedb40f83f8b",
   "metadata": {},
   "outputs": [],
   "source": [
    "mul_list = []\n",
    "for i in range(3):\n",
    "    x = int(input())\n",
    "    mul_list.append(x)\n",
    "    \n",
    "mul = mul_list[0]*mul_list[1]*mul_list[2]\n",
    "\n",
    "num_list = []\n",
    "\n",
    "for i in range(10) :\n",
    "    num = (mul // (10**i)) % 10 \n",
    "    num_list.append(num)\n",
    "    if mul < (10**(i+1)) :\n",
    "        break\n",
    "    \n",
    "for i in range(10) :\n",
    "    print(num_list.count(i))"
   ]
  },
  {
   "cell_type": "code",
   "execution_count": null,
   "id": "966a236d-e797-40bb-ad73-4ce5834b4d7d",
   "metadata": {},
   "outputs": [],
   "source": [
    "diff = [1,2,3]\n"
   ]
  },
  {
   "cell_type": "code",
   "execution_count": null,
   "id": "50266014-bfd3-4640-96c6-5944a7e5fc61",
   "metadata": {},
   "outputs": [],
   "source": [
    "num_list = []\n",
    "div_list = []\n",
    "for i in range(10):\n",
    "    x = int(input())\n",
    "    num_list.append(x)\n",
    "    y = num_list[i] % 42\n",
    "    div_list.append(y)\n",
    "\n",
    "diff = list(set(div_list))\n",
    "print(len(diff))"
   ]
  },
  {
   "cell_type": "code",
   "execution_count": null,
   "id": "a87ccf90-1f41-4b97-b634-d1a7688fe059",
   "metadata": {},
   "outputs": [],
   "source": [
    "N = int(input())\n",
    "scores = list(map(int,input().split()))\n",
    "\n",
    "max_score = max(scores)\n",
    "new_scores = []\n",
    "for score in scores :\n",
    "    new_scores.append((score*100/max_score))\n",
    "sum(new_scores)/len(new_scores)"
   ]
  },
  {
   "cell_type": "code",
   "execution_count": null,
   "id": "14944d3c-d35d-4115-a8f0-5c0145758b21",
   "metadata": {},
   "outputs": [],
   "source": [
    "N = int(input())\n",
    "O_count = 0\n",
    "O_score = 0\n",
    "for i in range(N) :\n",
    "    OX = list(map(str,input().split('X')))\n",
    "    for j in range(len(OX)) :\n",
    "        O_count = OX[j].count('O')\n",
    "        O_score += int(O_count*(O_count+1)/2)\n",
    "        \n",
    "    print(O_score)\n",
    "    O_score = 0\n"
   ]
  },
  {
   "cell_type": "code",
   "execution_count": null,
   "id": "21841b55-ccc7-4016-abaa-7a6caffee92d",
   "metadata": {},
   "outputs": [],
   "source": [
    "C = int(input())\n",
    "\n",
    "for i in range(C) :\n",
    "    N = list(map(int,input().split()))\n",
    "    for j in range(len(N)) :\n",
    "        avg = (sum(N)-N[0])/N[0]\n",
    "        count = 0\n",
    "        for h in range(1,len(N)) :\n",
    "            if N[h] > avg :\n",
    "                count += 1\n",
    "        prob = round((count*100/(len(N)-1)),3)\n",
    "    print(\"{:.3f}%\".format(prob))\n",
    "    count = 0"
   ]
  },
  {
   "cell_type": "code",
   "execution_count": null,
   "id": "194cffdd-a132-4870-806b-81f9a5fe9a50",
   "metadata": {},
   "outputs": [],
   "source": []
  },
  {
   "cell_type": "code",
   "execution_count": null,
   "id": "2b9348a0-ea67-4d0c-9d0a-1898b3bd4a9a",
   "metadata": {},
   "outputs": [],
   "source": [
    "import pandas as pd\n",
    "reg_df = pd.read_csv('dataset/Regular_Season_Batter.csv')"
   ]
  },
  {
   "cell_type": "code",
   "execution_count": null,
   "id": "fba989f0-693c-4bd0-9263-71848d90d53f",
   "metadata": {},
   "outputs": [],
   "source": [
    "reg_df.shape"
   ]
  },
  {
   "cell_type": "code",
   "execution_count": null,
   "id": "d7fe0363-5ae7-4a68-8598-bc3426222767",
   "metadata": {},
   "outputs": [],
   "source": [
    "reg_df['new_idx'] = reg_df['batter_name']+reg_df['year'].apply(str)"
   ]
  },
  {
   "cell_type": "code",
   "execution_count": null,
   "id": "8a411f84-2746-4866-b67c-36349a24c7bf",
   "metadata": {},
   "outputs": [],
   "source": [
    "reg_df['new_idx']"
   ]
  },
  {
   "cell_type": "code",
   "execution_count": null,
   "id": "4f8e3654-b6bd-42b2-9097-ed091efeb7d2",
   "metadata": {},
   "outputs": [],
   "source": [
    "inter_idx = list(set(reg_df['new_idx']))"
   ]
  },
  {
   "cell_type": "code",
   "execution_count": null,
   "id": "77804baa-4fc4-403f-b318-2925f359f775",
   "metadata": {},
   "outputs": [],
   "source": [
    "reg_new = reg_df.loc[reg_df['new_idx'].\n",
    "                    apply(lambda x : x in inter_idx)]"
   ]
  },
  {
   "cell_type": "code",
   "execution_count": null,
   "id": "e72b57f2-55a9-4168-a6ae-671f290b97f0",
   "metadata": {},
   "outputs": [],
   "source": [
    "reg_new[10:20]"
   ]
  },
  {
   "cell_type": "code",
   "execution_count": null,
   "id": "93ce6305-2df0-45e6-8590-b878726cda17",
   "metadata": {},
   "outputs": [],
   "source": [
    "reg_new = reg_new.sort_values(by='new_idx').reset_index(drop = True)"
   ]
  },
  {
   "cell_type": "code",
   "execution_count": null,
   "id": "ca343d6e-9054-40dc-bfbb-e85c666c7767",
   "metadata": {},
   "outputs": [],
   "source": [
    "reg_new[10:20]"
   ]
  },
  {
   "cell_type": "code",
   "execution_count": null,
   "id": "82e4f144-cc9d-4d0a-8aaf-10698f5e9479",
   "metadata": {},
   "outputs": [],
   "source": [
    "print(reg_new.shape)"
   ]
  },
  {
   "cell_type": "code",
   "execution_count": null,
   "id": "bdcee08e-ea8a-40c3-9d4c-738a2ffc88b8",
   "metadata": {},
   "outputs": [],
   "source": [
    "reg_df.info()"
   ]
  },
  {
   "cell_type": "code",
   "execution_count": null,
   "id": "ba5df231-5e9a-4a5f-8609-0acd089e35b8",
   "metadata": {},
   "outputs": [],
   "source": [
    "reg_df['starting_salary'][10:20]"
   ]
  },
  {
   "cell_type": "code",
   "execution_count": null,
   "id": "4f65edb0-af28-43d5-89b2-b7af0042f10e",
   "metadata": {},
   "outputs": [],
   "source": [
    "reg_salary_OPS=reg_df[['starting_salary','OPS']]\n"
   ]
  },
  {
   "cell_type": "code",
   "execution_count": null,
   "id": "57fe1d67-76db-41bc-a315-a58476c84b3e",
   "metadata": {},
   "outputs": [],
   "source": [
    "reg_salary_OPS.info()"
   ]
  },
  {
   "cell_type": "code",
   "execution_count": null,
   "id": "f55ffd07-bceb-498b-b273-1eea17bc2d04",
   "metadata": {},
   "outputs": [],
   "source": [
    "reg_salary_OPS = reg_salary_OPS.dropna(axis=0)\n",
    "idx_ = reg_salary_OPS[(reg_salary_OPS.OPS==0.000)].index\n",
    "reg_salary_OPS = reg_salary_OPS.drop(idx_)\n"
   ]
  },
  {
   "cell_type": "code",
   "execution_count": null,
   "id": "8ecec762-0300-43ee-a477-d39771384853",
   "metadata": {},
   "outputs": [],
   "source": [
    "reg_salary_OPS.info()"
   ]
  },
  {
   "cell_type": "code",
   "execution_count": null,
   "id": "92da0979-a32d-4e43-adf7-1ef9f3780789",
   "metadata": {},
   "outputs": [],
   "source": [
    "reg_salary_OPS[10:20]\n",
    "reg_salary_OPS['starting_salary']\n",
    "salary = []\n",
    "for i in range(len(reg_salary_OPS)):\n",
    "    salary.append(reg_salary_OPS['starting_salary'][i].replace(\"만원\",\"\"))\n"
   ]
  },
  {
   "cell_type": "code",
   "execution_count": null,
   "id": "ecc42ae2-662d-457a-a213-b63581ba38b8",
   "metadata": {},
   "outputs": [],
   "source": [
    "reg_salary_OPS['salary']=df_salary"
   ]
  },
  {
   "cell_type": "code",
   "execution_count": null,
   "id": "fe196974-7c85-43e9-b71d-9bca4de753cb",
   "metadata": {},
   "outputs": [],
   "source": [
    "reg_salary_OPS[1:10]"
   ]
  },
  {
   "cell_type": "code",
   "execution_count": null,
   "id": "5954970b-c6f3-450b-89df-622e49b4dca6",
   "metadata": {},
   "outputs": [],
   "source": [
    "reg_salary_OPS = reg_salary_OPS.reset_index(drop=True)\n",
    "reg_salary_OPS['starting_salary']=reg_salary_OPS['starting_salary'].apply(float)"
   ]
  },
  {
   "cell_type": "code",
   "execution_count": null,
   "id": "dc8f1d3e-88fd-4197-ad3b-ba33c80e6e45",
   "metadata": {},
   "outputs": [],
   "source": [
    "reg_salary_OPS[10:20]"
   ]
  },
  {
   "cell_type": "code",
   "execution_count": null,
   "id": "8fcefb88-1e14-4e26-bd2a-53d49348ef36",
   "metadata": {},
   "outputs": [],
   "source": [
    "corr = reg_salary_OPS['starting_salary'].corr(reg_salary_OPS['OPS'])\n",
    "\n",
    "sns.scatterplot(reg_salary_OPS['starting_salary'],\n",
    "                reg_salary_OPS['OPS'],\n",
    "                color = 'yellow')\n",
    "plt.title(\"Corr between Salary and OPS : {}\".format(corr))\n",
    "plt.xlabel(\"Salary\", fontsize = 20)\n",
    "plt.ylabel(\"OPS\", fontsize = 20)\n",
    "plt.grid()\n",
    "plt.show()"
   ]
  },
  {
   "cell_type": "code",
   "execution_count": null,
   "id": "7814a8d1-4183-4d2d-ab27-5f4702bf2603",
   "metadata": {},
   "outputs": [],
   "source": []
  },
  {
   "cell_type": "code",
   "execution_count": null,
   "id": "2822435e-fa1c-436a-a8e8-874d39755384",
   "metadata": {},
   "outputs": [],
   "source": []
  }
 ],
 "metadata": {
  "kernelspec": {
   "display_name": "Python 3",
   "language": "python",
   "name": "python3"
  },
  "language_info": {
   "codemirror_mode": {
    "name": "ipython",
    "version": 3
   },
   "file_extension": ".py",
   "mimetype": "text/x-python",
   "name": "python",
   "nbconvert_exporter": "python",
   "pygments_lexer": "ipython3",
   "version": "3.8.10"
  }
 },
 "nbformat": 4,
 "nbformat_minor": 5
}
