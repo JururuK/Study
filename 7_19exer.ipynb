{
 "cells": [
  {
   "cell_type": "code",
   "execution_count": 86,
   "id": "65458b6e-0325-4d7f-8d71-4e789442f27d",
   "metadata": {
    "tags": []
   },
   "outputs": [],
   "source": [
    "import tensorflow as tf\n",
    "import pandas as pd\n",
    "mlb = pd.read_csv('dataset/major_full.csv')"
   ]
  },
  {
   "cell_type": "code",
   "execution_count": 87,
   "id": "b8ca96c0-391a-464a-ad14-5f2e59a0ae51",
   "metadata": {},
   "outputs": [],
   "source": [
    "mlb_test = pd.read_csv('dataset/test.csv')"
   ]
  },
  {
   "cell_type": "code",
   "execution_count": 88,
   "id": "9011ac88-645c-4c13-bddf-ae9c9210bdf3",
   "metadata": {},
   "outputs": [
    {
     "data": {
      "text/html": [
       "<div>\n",
       "<style scoped>\n",
       "    .dataframe tbody tr th:only-of-type {\n",
       "        vertical-align: middle;\n",
       "    }\n",
       "\n",
       "    .dataframe tbody tr th {\n",
       "        vertical-align: top;\n",
       "    }\n",
       "\n",
       "    .dataframe thead th {\n",
       "        text-align: right;\n",
       "    }\n",
       "</style>\n",
       "<table border=\"1\" class=\"dataframe\">\n",
       "  <thead>\n",
       "    <tr style=\"text-align: right;\">\n",
       "      <th></th>\n",
       "      <th>TEAM</th>\n",
       "      <th>2021PAYROLL</th>\n",
       "      <th>BA</th>\n",
       "      <th>ERA</th>\n",
       "      <th>OPS</th>\n",
       "    </tr>\n",
       "  </thead>\n",
       "  <tbody>\n",
       "    <tr>\n",
       "      <th>0</th>\n",
       "      <td>Dbacks</td>\n",
       "      <td>92556955</td>\n",
       "      <td>0.230</td>\n",
       "      <td>5.37</td>\n",
       "      <td>0.674</td>\n",
       "    </tr>\n",
       "    <tr>\n",
       "      <th>1</th>\n",
       "      <td>Braves</td>\n",
       "      <td>144340546</td>\n",
       "      <td>0.240</td>\n",
       "      <td>4.21</td>\n",
       "      <td>0.750</td>\n",
       "    </tr>\n",
       "    <tr>\n",
       "      <th>2</th>\n",
       "      <td>Orioles</td>\n",
       "      <td>58132982</td>\n",
       "      <td>0.237</td>\n",
       "      <td>5.62</td>\n",
       "      <td>0.695</td>\n",
       "    </tr>\n",
       "    <tr>\n",
       "      <th>3</th>\n",
       "      <td>Red Sox</td>\n",
       "      <td>178056241</td>\n",
       "      <td>0.257</td>\n",
       "      <td>4.05</td>\n",
       "      <td>0.758</td>\n",
       "    </tr>\n",
       "    <tr>\n",
       "      <th>4</th>\n",
       "      <td>Cubs</td>\n",
       "      <td>153722288</td>\n",
       "      <td>0.227</td>\n",
       "      <td>4.07</td>\n",
       "      <td>0.702</td>\n",
       "    </tr>\n",
       "    <tr>\n",
       "      <th>5</th>\n",
       "      <td>White Sox</td>\n",
       "      <td>134477707</td>\n",
       "      <td>0.257</td>\n",
       "      <td>3.59</td>\n",
       "      <td>0.760</td>\n",
       "    </tr>\n",
       "    <tr>\n",
       "      <th>6</th>\n",
       "      <td>Reds</td>\n",
       "      <td>123831289</td>\n",
       "      <td>0.247</td>\n",
       "      <td>4.44</td>\n",
       "      <td>0.743</td>\n",
       "    </tr>\n",
       "    <tr>\n",
       "      <th>7</th>\n",
       "      <td>Indians</td>\n",
       "      <td>52808087</td>\n",
       "      <td>0.230</td>\n",
       "      <td>4.40</td>\n",
       "      <td>0.697</td>\n",
       "    </tr>\n",
       "    <tr>\n",
       "      <th>8</th>\n",
       "      <td>Rockies</td>\n",
       "      <td>116077231</td>\n",
       "      <td>0.244</td>\n",
       "      <td>4.71</td>\n",
       "      <td>0.703</td>\n",
       "    </tr>\n",
       "    <tr>\n",
       "      <th>9</th>\n",
       "      <td>Tigers</td>\n",
       "      <td>86517740</td>\n",
       "      <td>0.235</td>\n",
       "      <td>4.68</td>\n",
       "      <td>0.692</td>\n",
       "    </tr>\n",
       "    <tr>\n",
       "      <th>10</th>\n",
       "      <td>Astros</td>\n",
       "      <td>191032043</td>\n",
       "      <td>0.267</td>\n",
       "      <td>3.64</td>\n",
       "      <td>0.779</td>\n",
       "    </tr>\n",
       "    <tr>\n",
       "      <th>11</th>\n",
       "      <td>Royals</td>\n",
       "      <td>92808903</td>\n",
       "      <td>0.245</td>\n",
       "      <td>5.15</td>\n",
       "      <td>0.695</td>\n",
       "    </tr>\n",
       "    <tr>\n",
       "      <th>12</th>\n",
       "      <td>Angels</td>\n",
       "      <td>182806818</td>\n",
       "      <td>0.259</td>\n",
       "      <td>4.90</td>\n",
       "      <td>0.763</td>\n",
       "    </tr>\n",
       "    <tr>\n",
       "      <th>13</th>\n",
       "      <td>Dodgers</td>\n",
       "      <td>250335094</td>\n",
       "      <td>0.246</td>\n",
       "      <td>3.13</td>\n",
       "      <td>0.764</td>\n",
       "    </tr>\n",
       "    <tr>\n",
       "      <th>14</th>\n",
       "      <td>Marlins</td>\n",
       "      <td>58510681</td>\n",
       "      <td>0.234</td>\n",
       "      <td>3.37</td>\n",
       "      <td>0.676</td>\n",
       "    </tr>\n",
       "    <tr>\n",
       "      <th>15</th>\n",
       "      <td>Brewers</td>\n",
       "      <td>93383590</td>\n",
       "      <td>0.223</td>\n",
       "      <td>3.44</td>\n",
       "      <td>0.696</td>\n",
       "    </tr>\n",
       "    <tr>\n",
       "      <th>16</th>\n",
       "      <td>Twins</td>\n",
       "      <td>128079477</td>\n",
       "      <td>0.244</td>\n",
       "      <td>4.95</td>\n",
       "      <td>0.746</td>\n",
       "    </tr>\n",
       "    <tr>\n",
       "      <th>17</th>\n",
       "      <td>Mets</td>\n",
       "      <td>196583349</td>\n",
       "      <td>0.230</td>\n",
       "      <td>3.51</td>\n",
       "      <td>0.686</td>\n",
       "    </tr>\n",
       "    <tr>\n",
       "      <th>18</th>\n",
       "      <td>Yankees</td>\n",
       "      <td>203401377</td>\n",
       "      <td>0.235</td>\n",
       "      <td>3.81</td>\n",
       "      <td>0.715</td>\n",
       "    </tr>\n",
       "    <tr>\n",
       "      <th>19</th>\n",
       "      <td>Athletics</td>\n",
       "      <td>85760089</td>\n",
       "      <td>0.233</td>\n",
       "      <td>3.79</td>\n",
       "      <td>0.718</td>\n",
       "    </tr>\n",
       "    <tr>\n",
       "      <th>20</th>\n",
       "      <td>Phillies</td>\n",
       "      <td>184061995</td>\n",
       "      <td>0.239</td>\n",
       "      <td>4.37</td>\n",
       "      <td>0.711</td>\n",
       "    </tr>\n",
       "    <tr>\n",
       "      <th>21</th>\n",
       "      <td>Pirates</td>\n",
       "      <td>55955012</td>\n",
       "      <td>0.236</td>\n",
       "      <td>4.83</td>\n",
       "      <td>0.675</td>\n",
       "    </tr>\n",
       "    <tr>\n",
       "      <th>22</th>\n",
       "      <td>Padres</td>\n",
       "      <td>174045529</td>\n",
       "      <td>0.247</td>\n",
       "      <td>3.48</td>\n",
       "      <td>0.743</td>\n",
       "    </tr>\n",
       "    <tr>\n",
       "      <th>23</th>\n",
       "      <td>Giants</td>\n",
       "      <td>153969898</td>\n",
       "      <td>0.219</td>\n",
       "      <td>4.44</td>\n",
       "      <td>0.674</td>\n",
       "    </tr>\n",
       "    <tr>\n",
       "      <th>24</th>\n",
       "      <td>Mariners</td>\n",
       "      <td>80961605</td>\n",
       "      <td>0.245</td>\n",
       "      <td>3.25</td>\n",
       "      <td>0.762</td>\n",
       "    </tr>\n",
       "    <tr>\n",
       "      <th>25</th>\n",
       "      <td>Cardinals</td>\n",
       "      <td>165766279</td>\n",
       "      <td>0.230</td>\n",
       "      <td>4.23</td>\n",
       "      <td>0.682</td>\n",
       "    </tr>\n",
       "    <tr>\n",
       "      <th>26</th>\n",
       "      <td>Rays</td>\n",
       "      <td>69335827</td>\n",
       "      <td>0.230</td>\n",
       "      <td>3.59</td>\n",
       "      <td>0.710</td>\n",
       "    </tr>\n",
       "    <tr>\n",
       "      <th>27</th>\n",
       "      <td>Rangers</td>\n",
       "      <td>93439289</td>\n",
       "      <td>0.232</td>\n",
       "      <td>4.52</td>\n",
       "      <td>0.686</td>\n",
       "    </tr>\n",
       "    <tr>\n",
       "      <th>28</th>\n",
       "      <td>Blue Jays</td>\n",
       "      <td>109274999</td>\n",
       "      <td>0.264</td>\n",
       "      <td>3.96</td>\n",
       "      <td>0.780</td>\n",
       "    </tr>\n",
       "    <tr>\n",
       "      <th>29</th>\n",
       "      <td>Nationals</td>\n",
       "      <td>171759641</td>\n",
       "      <td>0.255</td>\n",
       "      <td>4.38</td>\n",
       "      <td>0.737</td>\n",
       "    </tr>\n",
       "  </tbody>\n",
       "</table>\n",
       "</div>"
      ],
      "text/plain": [
       "         TEAM  2021PAYROLL     BA   ERA    OPS\n",
       "0      Dbacks     92556955  0.230  5.37  0.674\n",
       "1      Braves    144340546  0.240  4.21  0.750\n",
       "2     Orioles     58132982  0.237  5.62  0.695\n",
       "3     Red Sox    178056241  0.257  4.05  0.758\n",
       "4        Cubs    153722288  0.227  4.07  0.702\n",
       "5   White Sox    134477707  0.257  3.59  0.760\n",
       "6        Reds    123831289  0.247  4.44  0.743\n",
       "7     Indians     52808087  0.230  4.40  0.697\n",
       "8     Rockies    116077231  0.244  4.71  0.703\n",
       "9      Tigers     86517740  0.235  4.68  0.692\n",
       "10     Astros    191032043  0.267  3.64  0.779\n",
       "11     Royals     92808903  0.245  5.15  0.695\n",
       "12     Angels    182806818  0.259  4.90  0.763\n",
       "13    Dodgers    250335094  0.246  3.13  0.764\n",
       "14    Marlins     58510681  0.234  3.37  0.676\n",
       "15    Brewers     93383590  0.223  3.44  0.696\n",
       "16      Twins    128079477  0.244  4.95  0.746\n",
       "17       Mets    196583349  0.230  3.51  0.686\n",
       "18    Yankees    203401377  0.235  3.81  0.715\n",
       "19  Athletics     85760089  0.233  3.79  0.718\n",
       "20   Phillies    184061995  0.239  4.37  0.711\n",
       "21    Pirates     55955012  0.236  4.83  0.675\n",
       "22     Padres    174045529  0.247  3.48  0.743\n",
       "23     Giants    153969898  0.219  4.44  0.674\n",
       "24   Mariners     80961605  0.245  3.25  0.762\n",
       "25  Cardinals    165766279  0.230  4.23  0.682\n",
       "26       Rays     69335827  0.230  3.59  0.710\n",
       "27    Rangers     93439289  0.232  4.52  0.686\n",
       "28  Blue Jays    109274999  0.264  3.96  0.780\n",
       "29  Nationals    171759641  0.255  4.38  0.737"
      ]
     },
     "execution_count": 88,
     "metadata": {},
     "output_type": "execute_result"
    }
   ],
   "source": [
    "mlb_test"
   ]
  },
  {
   "cell_type": "code",
   "execution_count": 89,
   "id": "647cd709-3435-4e8b-a180-acd625e838c1",
   "metadata": {},
   "outputs": [
    {
     "data": {
      "text/html": [
       "<div>\n",
       "<style scoped>\n",
       "    .dataframe tbody tr th:only-of-type {\n",
       "        vertical-align: middle;\n",
       "    }\n",
       "\n",
       "    .dataframe tbody tr th {\n",
       "        vertical-align: top;\n",
       "    }\n",
       "\n",
       "    .dataframe thead th {\n",
       "        text-align: right;\n",
       "    }\n",
       "</style>\n",
       "<table border=\"1\" class=\"dataframe\">\n",
       "  <thead>\n",
       "    <tr style=\"text-align: right;\">\n",
       "      <th></th>\n",
       "      <th>TEAM</th>\n",
       "      <th>PAYROLL</th>\n",
       "      <th>AVG</th>\n",
       "      <th>ERA</th>\n",
       "      <th>OPS</th>\n",
       "      <th>RANK</th>\n",
       "    </tr>\n",
       "  </thead>\n",
       "  <tbody>\n",
       "    <tr>\n",
       "      <th>0</th>\n",
       "      <td>20Dodgers</td>\n",
       "      <td>108,417,397</td>\n",
       "      <td>0.256</td>\n",
       "      <td>3.11</td>\n",
       "      <td>0.821</td>\n",
       "      <td>1</td>\n",
       "    </tr>\n",
       "    <tr>\n",
       "      <th>1</th>\n",
       "      <td>20Rays</td>\n",
       "      <td>28,290,689</td>\n",
       "      <td>0.231</td>\n",
       "      <td>3.67</td>\n",
       "      <td>0.753</td>\n",
       "      <td>2</td>\n",
       "    </tr>\n",
       "    <tr>\n",
       "      <th>2</th>\n",
       "      <td>20Padres</td>\n",
       "      <td>73,097,954</td>\n",
       "      <td>0.255</td>\n",
       "      <td>4.09</td>\n",
       "      <td>0.798</td>\n",
       "      <td>3</td>\n",
       "    </tr>\n",
       "    <tr>\n",
       "      <th>3</th>\n",
       "      <td>20Twins</td>\n",
       "      <td>55,679,689</td>\n",
       "      <td>0.238</td>\n",
       "      <td>3.52</td>\n",
       "      <td>0.743</td>\n",
       "      <td>4</td>\n",
       "    </tr>\n",
       "    <tr>\n",
       "      <th>4</th>\n",
       "      <td>20Athletics</td>\n",
       "      <td>36,720,178</td>\n",
       "      <td>0.227</td>\n",
       "      <td>3.99</td>\n",
       "      <td>0.718</td>\n",
       "      <td>5</td>\n",
       "    </tr>\n",
       "    <tr>\n",
       "      <th>...</th>\n",
       "      <td>...</td>\n",
       "      <td>...</td>\n",
       "      <td>...</td>\n",
       "      <td>...</td>\n",
       "      <td>...</td>\n",
       "      <td>...</td>\n",
       "    </tr>\n",
       "    <tr>\n",
       "      <th>85</th>\n",
       "      <td>18Cardinals</td>\n",
       "      <td>161,005,146</td>\n",
       "      <td>0.249</td>\n",
       "      <td>3.85</td>\n",
       "      <td>0.730</td>\n",
       "      <td>13</td>\n",
       "    </tr>\n",
       "    <tr>\n",
       "      <th>86</th>\n",
       "      <td>18Rays</td>\n",
       "      <td>78,231,049</td>\n",
       "      <td>0.258</td>\n",
       "      <td>3.74</td>\n",
       "      <td>0.740</td>\n",
       "      <td>10</td>\n",
       "    </tr>\n",
       "    <tr>\n",
       "      <th>87</th>\n",
       "      <td>18Rangers</td>\n",
       "      <td>144,498,078</td>\n",
       "      <td>0.240</td>\n",
       "      <td>4.92</td>\n",
       "      <td>0.722</td>\n",
       "      <td>23</td>\n",
       "    </tr>\n",
       "    <tr>\n",
       "      <th>88</th>\n",
       "      <td>18Jays</td>\n",
       "      <td>162,664,502</td>\n",
       "      <td>0.244</td>\n",
       "      <td>4.85</td>\n",
       "      <td>0.739</td>\n",
       "      <td>22</td>\n",
       "    </tr>\n",
       "    <tr>\n",
       "      <th>89</th>\n",
       "      <td>18Nationals</td>\n",
       "      <td>181,586,759</td>\n",
       "      <td>0.254</td>\n",
       "      <td>4.04</td>\n",
       "      <td>0.753</td>\n",
       "      <td>16</td>\n",
       "    </tr>\n",
       "  </tbody>\n",
       "</table>\n",
       "<p>90 rows × 6 columns</p>\n",
       "</div>"
      ],
      "text/plain": [
       "           TEAM      PAYROLL    AVG   ERA    OPS  RANK\n",
       "0     20Dodgers  108,417,397  0.256  3.11  0.821     1\n",
       "1        20Rays   28,290,689  0.231  3.67  0.753     2\n",
       "2      20Padres   73,097,954  0.255  4.09  0.798     3\n",
       "3       20Twins   55,679,689  0.238  3.52  0.743     4\n",
       "4   20Athletics   36,720,178  0.227  3.99  0.718     5\n",
       "..          ...          ...    ...   ...    ...   ...\n",
       "85  18Cardinals  161,005,146  0.249  3.85  0.730    13\n",
       "86       18Rays   78,231,049  0.258  3.74  0.740    10\n",
       "87    18Rangers  144,498,078  0.240  4.92  0.722    23\n",
       "88       18Jays  162,664,502  0.244  4.85  0.739    22\n",
       "89  18Nationals  181,586,759  0.254  4.04  0.753    16\n",
       "\n",
       "[90 rows x 6 columns]"
      ]
     },
     "execution_count": 89,
     "metadata": {},
     "output_type": "execute_result"
    }
   ],
   "source": [
    "mlb"
   ]
  },
  {
   "cell_type": "code",
   "execution_count": 90,
   "id": "856a1083-2216-4b25-8ef3-8d0845e205a6",
   "metadata": {},
   "outputs": [
    {
     "name": "stderr",
     "output_type": "stream",
     "text": [
      "<ipython-input-90-e472b4f66b64>:2: SettingWithCopyWarning: \n",
      "A value is trying to be set on a copy of a slice from a DataFrame\n",
      "\n",
      "See the caveats in the documentation: https://pandas.pydata.org/pandas-docs/stable/user_guide/indexing.html#returning-a-view-versus-a-copy\n",
      "  mlb['PAYROLL'][i]=mlb['PAYROLL'][i].replace(',',\"\")\n"
     ]
    }
   ],
   "source": [
    "for i in range(len(mlb)):\n",
    "    mlb['PAYROLL'][i]=mlb['PAYROLL'][i].replace(',',\"\")\n"
   ]
  },
  {
   "cell_type": "code",
   "execution_count": 91,
   "id": "3fdd5229-5561-4a5a-bf65-c5d6b307490c",
   "metadata": {},
   "outputs": [
    {
     "data": {
      "text/plain": [
       "0     108417397\n",
       "1      28290689\n",
       "2      73097954\n",
       "3      55679689\n",
       "4      36720178\n",
       "        ...    \n",
       "85    161005146\n",
       "86     78231049\n",
       "87    144498078\n",
       "88    162664502\n",
       "89    181586759\n",
       "Name: PAYROLL, Length: 90, dtype: object"
      ]
     },
     "execution_count": 91,
     "metadata": {},
     "output_type": "execute_result"
    }
   ],
   "source": [
    "mlb['PAYROLL']"
   ]
  },
  {
   "cell_type": "code",
   "execution_count": 92,
   "id": "6ba041d8-ab43-4d13-8a86-d1711647f184",
   "metadata": {},
   "outputs": [],
   "source": [
    "mlb['PAYROLL']=pd.to_numeric(mlb['PAYROLL'])"
   ]
  },
  {
   "cell_type": "code",
   "execution_count": 93,
   "id": "39d14bab-41d7-4005-8928-265f1a4d3eac",
   "metadata": {},
   "outputs": [],
   "source": [
    "mlb_test['2021PAYROLL']=pd.to_numeric(mlb_test['2021PAYROLL'])"
   ]
  },
  {
   "cell_type": "code",
   "execution_count": 94,
   "id": "0990e490-d694-461c-8856-f680e68dbf45",
   "metadata": {},
   "outputs": [
    {
     "name": "stdout",
     "output_type": "stream",
     "text": [
      "<class 'pandas.core.frame.DataFrame'>\n",
      "RangeIndex: 90 entries, 0 to 89\n",
      "Data columns (total 6 columns):\n",
      " #   Column   Non-Null Count  Dtype  \n",
      "---  ------   --------------  -----  \n",
      " 0   TEAM     90 non-null     object \n",
      " 1   PAYROLL  90 non-null     int64  \n",
      " 2   AVG      90 non-null     float64\n",
      " 3   ERA      90 non-null     float64\n",
      " 4   OPS      90 non-null     float64\n",
      " 5   RANK     90 non-null     int64  \n",
      "dtypes: float64(3), int64(2), object(1)\n",
      "memory usage: 4.3+ KB\n"
     ]
    }
   ],
   "source": [
    "mlb.info()"
   ]
  },
  {
   "cell_type": "code",
   "execution_count": 95,
   "id": "0aea5105-7c22-4a06-b5e9-7facfe652f95",
   "metadata": {},
   "outputs": [
    {
     "name": "stdout",
     "output_type": "stream",
     "text": [
      "<class 'pandas.core.frame.DataFrame'>\n",
      "RangeIndex: 30 entries, 0 to 29\n",
      "Data columns (total 5 columns):\n",
      " #   Column       Non-Null Count  Dtype  \n",
      "---  ------       --------------  -----  \n",
      " 0   TEAM         30 non-null     object \n",
      " 1   2021PAYROLL  30 non-null     int64  \n",
      " 2   BA           30 non-null     float64\n",
      " 3   ERA          30 non-null     float64\n",
      " 4   OPS          30 non-null     float64\n",
      "dtypes: float64(3), int64(1), object(1)\n",
      "memory usage: 1.3+ KB\n"
     ]
    }
   ],
   "source": [
    "mlb_test.info()"
   ]
  },
  {
   "cell_type": "code",
   "execution_count": 96,
   "id": "c4a3c343-7da5-4061-bca8-7f61aa61642f",
   "metadata": {},
   "outputs": [
    {
     "data": {
      "text/html": [
       "<div>\n",
       "<style scoped>\n",
       "    .dataframe tbody tr th:only-of-type {\n",
       "        vertical-align: middle;\n",
       "    }\n",
       "\n",
       "    .dataframe tbody tr th {\n",
       "        vertical-align: top;\n",
       "    }\n",
       "\n",
       "    .dataframe thead th {\n",
       "        text-align: right;\n",
       "    }\n",
       "</style>\n",
       "<table border=\"1\" class=\"dataframe\">\n",
       "  <thead>\n",
       "    <tr style=\"text-align: right;\">\n",
       "      <th></th>\n",
       "      <th>PAYROLL</th>\n",
       "      <th>AVG</th>\n",
       "      <th>ERA</th>\n",
       "      <th>OPS</th>\n",
       "      <th>RANK</th>\n",
       "    </tr>\n",
       "  </thead>\n",
       "  <tbody>\n",
       "    <tr>\n",
       "      <th>count</th>\n",
       "      <td>9.000000e+01</td>\n",
       "      <td>90.000000</td>\n",
       "      <td>90.000000</td>\n",
       "      <td>90.000000</td>\n",
       "      <td>90.000000</td>\n",
       "    </tr>\n",
       "    <tr>\n",
       "      <th>mean</th>\n",
       "      <td>1.125018e+08</td>\n",
       "      <td>0.248011</td>\n",
       "      <td>4.371444</td>\n",
       "      <td>0.740989</td>\n",
       "      <td>15.500000</td>\n",
       "    </tr>\n",
       "    <tr>\n",
       "      <th>std</th>\n",
       "      <td>5.260002e+07</td>\n",
       "      <td>0.013137</td>\n",
       "      <td>0.601266</td>\n",
       "      <td>0.043822</td>\n",
       "      <td>8.703932</td>\n",
       "    </tr>\n",
       "    <tr>\n",
       "      <th>min</th>\n",
       "      <td>2.347864e+07</td>\n",
       "      <td>0.209000</td>\n",
       "      <td>3.110000</td>\n",
       "      <td>0.641000</td>\n",
       "      <td>1.000000</td>\n",
       "    </tr>\n",
       "    <tr>\n",
       "      <th>25%</th>\n",
       "      <td>7.282309e+07</td>\n",
       "      <td>0.240000</td>\n",
       "      <td>3.882500</td>\n",
       "      <td>0.707750</td>\n",
       "      <td>8.000000</td>\n",
       "    </tr>\n",
       "    <tr>\n",
       "      <th>50%</th>\n",
       "      <td>1.062334e+08</td>\n",
       "      <td>0.249000</td>\n",
       "      <td>4.285000</td>\n",
       "      <td>0.740500</td>\n",
       "      <td>15.500000</td>\n",
       "    </tr>\n",
       "    <tr>\n",
       "      <th>75%</th>\n",
       "      <td>1.539585e+08</td>\n",
       "      <td>0.257000</td>\n",
       "      <td>4.845000</td>\n",
       "      <td>0.769750</td>\n",
       "      <td>23.000000</td>\n",
       "    </tr>\n",
       "    <tr>\n",
       "      <th>max</th>\n",
       "      <td>2.356494e+08</td>\n",
       "      <td>0.274000</td>\n",
       "      <td>5.630000</td>\n",
       "      <td>0.848000</td>\n",
       "      <td>30.000000</td>\n",
       "    </tr>\n",
       "  </tbody>\n",
       "</table>\n",
       "</div>"
      ],
      "text/plain": [
       "            PAYROLL        AVG        ERA        OPS       RANK\n",
       "count  9.000000e+01  90.000000  90.000000  90.000000  90.000000\n",
       "mean   1.125018e+08   0.248011   4.371444   0.740989  15.500000\n",
       "std    5.260002e+07   0.013137   0.601266   0.043822   8.703932\n",
       "min    2.347864e+07   0.209000   3.110000   0.641000   1.000000\n",
       "25%    7.282309e+07   0.240000   3.882500   0.707750   8.000000\n",
       "50%    1.062334e+08   0.249000   4.285000   0.740500  15.500000\n",
       "75%    1.539585e+08   0.257000   4.845000   0.769750  23.000000\n",
       "max    2.356494e+08   0.274000   5.630000   0.848000  30.000000"
      ]
     },
     "metadata": {},
     "output_type": "display_data"
    }
   ],
   "source": [
    "display(mlb.describe())"
   ]
  },
  {
   "cell_type": "code",
   "execution_count": 97,
   "id": "f29f9c52-9ddb-4a2a-986b-49efbf830117",
   "metadata": {},
   "outputs": [],
   "source": [
    "import numpy as np"
   ]
  },
  {
   "cell_type": "code",
   "execution_count": 98,
   "id": "782ac980-84a4-4fb5-bd0c-928804579e46",
   "metadata": {},
   "outputs": [],
   "source": [
    "mlb.index = mlb['TEAM']\n",
    "mlb_test.index = mlb_test['TEAM']"
   ]
  },
  {
   "cell_type": "code",
   "execution_count": 99,
   "id": "799b3689-f018-470e-802a-248655d27f9d",
   "metadata": {},
   "outputs": [
    {
     "data": {
      "text/html": [
       "<div>\n",
       "<style scoped>\n",
       "    .dataframe tbody tr th:only-of-type {\n",
       "        vertical-align: middle;\n",
       "    }\n",
       "\n",
       "    .dataframe tbody tr th {\n",
       "        vertical-align: top;\n",
       "    }\n",
       "\n",
       "    .dataframe thead th {\n",
       "        text-align: right;\n",
       "    }\n",
       "</style>\n",
       "<table border=\"1\" class=\"dataframe\">\n",
       "  <thead>\n",
       "    <tr style=\"text-align: right;\">\n",
       "      <th></th>\n",
       "      <th>PAYROLL</th>\n",
       "      <th>AVG</th>\n",
       "      <th>ERA</th>\n",
       "      <th>OPS</th>\n",
       "      <th>RANK</th>\n",
       "    </tr>\n",
       "    <tr>\n",
       "      <th>TEAM</th>\n",
       "      <th></th>\n",
       "      <th></th>\n",
       "      <th></th>\n",
       "      <th></th>\n",
       "      <th></th>\n",
       "    </tr>\n",
       "  </thead>\n",
       "  <tbody>\n",
       "    <tr>\n",
       "      <th>20Dodgers</th>\n",
       "      <td>108417397</td>\n",
       "      <td>0.256</td>\n",
       "      <td>3.11</td>\n",
       "      <td>0.821</td>\n",
       "      <td>1</td>\n",
       "    </tr>\n",
       "    <tr>\n",
       "      <th>20Rays</th>\n",
       "      <td>28290689</td>\n",
       "      <td>0.231</td>\n",
       "      <td>3.67</td>\n",
       "      <td>0.753</td>\n",
       "      <td>2</td>\n",
       "    </tr>\n",
       "    <tr>\n",
       "      <th>20Padres</th>\n",
       "      <td>73097954</td>\n",
       "      <td>0.255</td>\n",
       "      <td>4.09</td>\n",
       "      <td>0.798</td>\n",
       "      <td>3</td>\n",
       "    </tr>\n",
       "    <tr>\n",
       "      <th>20Twins</th>\n",
       "      <td>55679689</td>\n",
       "      <td>0.238</td>\n",
       "      <td>3.52</td>\n",
       "      <td>0.743</td>\n",
       "      <td>4</td>\n",
       "    </tr>\n",
       "    <tr>\n",
       "      <th>20Athletics</th>\n",
       "      <td>36720178</td>\n",
       "      <td>0.227</td>\n",
       "      <td>3.99</td>\n",
       "      <td>0.718</td>\n",
       "      <td>5</td>\n",
       "    </tr>\n",
       "    <tr>\n",
       "      <th>...</th>\n",
       "      <td>...</td>\n",
       "      <td>...</td>\n",
       "      <td>...</td>\n",
       "      <td>...</td>\n",
       "      <td>...</td>\n",
       "    </tr>\n",
       "    <tr>\n",
       "      <th>18Cardinals</th>\n",
       "      <td>161005146</td>\n",
       "      <td>0.249</td>\n",
       "      <td>3.85</td>\n",
       "      <td>0.730</td>\n",
       "      <td>13</td>\n",
       "    </tr>\n",
       "    <tr>\n",
       "      <th>18Rays</th>\n",
       "      <td>78231049</td>\n",
       "      <td>0.258</td>\n",
       "      <td>3.74</td>\n",
       "      <td>0.740</td>\n",
       "      <td>10</td>\n",
       "    </tr>\n",
       "    <tr>\n",
       "      <th>18Rangers</th>\n",
       "      <td>144498078</td>\n",
       "      <td>0.240</td>\n",
       "      <td>4.92</td>\n",
       "      <td>0.722</td>\n",
       "      <td>23</td>\n",
       "    </tr>\n",
       "    <tr>\n",
       "      <th>18Jays</th>\n",
       "      <td>162664502</td>\n",
       "      <td>0.244</td>\n",
       "      <td>4.85</td>\n",
       "      <td>0.739</td>\n",
       "      <td>22</td>\n",
       "    </tr>\n",
       "    <tr>\n",
       "      <th>18Nationals</th>\n",
       "      <td>181586759</td>\n",
       "      <td>0.254</td>\n",
       "      <td>4.04</td>\n",
       "      <td>0.753</td>\n",
       "      <td>16</td>\n",
       "    </tr>\n",
       "  </tbody>\n",
       "</table>\n",
       "<p>90 rows × 5 columns</p>\n",
       "</div>"
      ],
      "text/plain": [
       "               PAYROLL    AVG   ERA    OPS  RANK\n",
       "TEAM                                            \n",
       "20Dodgers    108417397  0.256  3.11  0.821     1\n",
       "20Rays        28290689  0.231  3.67  0.753     2\n",
       "20Padres      73097954  0.255  4.09  0.798     3\n",
       "20Twins       55679689  0.238  3.52  0.743     4\n",
       "20Athletics   36720178  0.227  3.99  0.718     5\n",
       "...                ...    ...   ...    ...   ...\n",
       "18Cardinals  161005146  0.249  3.85  0.730    13\n",
       "18Rays        78231049  0.258  3.74  0.740    10\n",
       "18Rangers    144498078  0.240  4.92  0.722    23\n",
       "18Jays       162664502  0.244  4.85  0.739    22\n",
       "18Nationals  181586759  0.254  4.04  0.753    16\n",
       "\n",
       "[90 rows x 5 columns]"
      ]
     },
     "execution_count": 99,
     "metadata": {},
     "output_type": "execute_result"
    }
   ],
   "source": [
    "mlb_data=mlb.drop('TEAM',axis=1)\n",
    "mlb_data"
   ]
  },
  {
   "cell_type": "code",
   "execution_count": 100,
   "id": "59cd1863-b11b-4d0a-b6a9-dfafda9dcb4c",
   "metadata": {},
   "outputs": [],
   "source": [
    "mlb_test_data = mlb_test.drop('TEAM',axis=1)"
   ]
  },
  {
   "cell_type": "code",
   "execution_count": 101,
   "id": "654e594e-206a-4cc6-9b29-a6921381e0e9",
   "metadata": {
    "tags": []
   },
   "outputs": [
    {
     "name": "stdout",
     "output_type": "stream",
     "text": [
      "               PAYROLL    AVG   ERA    OPS  RANK\n",
      "TEAM                                            \n",
      "20Dodgers    108417397  0.256  3.11  0.821     1\n",
      "20Rays        28290689  0.231  3.67  0.753     2\n",
      "20Padres      73097954  0.255  4.09  0.798     3\n",
      "20Twins       55679689  0.238  3.52  0.743     4\n",
      "20Athletics   36720178  0.227  3.99  0.718     5\n",
      "...                ...    ...   ...    ...   ...\n",
      "18Cardinals  161005146  0.249  3.85  0.730    13\n",
      "18Rays        78231049  0.258  3.74  0.740    10\n",
      "18Rangers    144498078  0.240  4.92  0.722    23\n",
      "18Jays       162664502  0.244  4.85  0.739    22\n",
      "18Nationals  181586759  0.254  4.04  0.753    16\n",
      "\n",
      "[90 rows x 5 columns]\n",
      "           2021PAYROLL     BA   ERA    OPS\n",
      "TEAM                                      \n",
      "Dbacks        92556955  0.230  5.37  0.674\n",
      "Braves       144340546  0.240  4.21  0.750\n",
      "Orioles       58132982  0.237  5.62  0.695\n",
      "Red Sox      178056241  0.257  4.05  0.758\n",
      "Cubs         153722288  0.227  4.07  0.702\n",
      "White Sox    134477707  0.257  3.59  0.760\n",
      "Reds         123831289  0.247  4.44  0.743\n",
      "Indians       52808087  0.230  4.40  0.697\n",
      "Rockies      116077231  0.244  4.71  0.703\n",
      "Tigers        86517740  0.235  4.68  0.692\n",
      "Astros       191032043  0.267  3.64  0.779\n",
      "Royals        92808903  0.245  5.15  0.695\n",
      "Angels       182806818  0.259  4.90  0.763\n",
      "Dodgers      250335094  0.246  3.13  0.764\n",
      "Marlins       58510681  0.234  3.37  0.676\n",
      "Brewers       93383590  0.223  3.44  0.696\n",
      "Twins        128079477  0.244  4.95  0.746\n",
      "Mets         196583349  0.230  3.51  0.686\n",
      "Yankees      203401377  0.235  3.81  0.715\n",
      "Athletics     85760089  0.233  3.79  0.718\n",
      "Phillies     184061995  0.239  4.37  0.711\n",
      "Pirates       55955012  0.236  4.83  0.675\n",
      "Padres       174045529  0.247  3.48  0.743\n",
      "Giants       153969898  0.219  4.44  0.674\n",
      "Mariners      80961605  0.245  3.25  0.762\n",
      "Cardinals    165766279  0.230  4.23  0.682\n",
      "Rays          69335827  0.230  3.59  0.710\n",
      "Rangers       93439289  0.232  4.52  0.686\n",
      "Blue Jays    109274999  0.264  3.96  0.780\n",
      "Nationals    171759641  0.255  4.38  0.737\n"
     ]
    }
   ],
   "source": [
    "print(mlb_data)\n",
    "print(mlb_test_data)"
   ]
  },
  {
   "cell_type": "code",
   "execution_count": 102,
   "id": "b39afd9d-581d-49f3-bf18-86fb20348f69",
   "metadata": {},
   "outputs": [],
   "source": [
    "mlb_shuffle = mlb_data.sample(frac = 1)"
   ]
  },
  {
   "cell_type": "code",
   "execution_count": 103,
   "id": "8929f016-f99a-4586-935a-537c0b6773ee",
   "metadata": {},
   "outputs": [],
   "source": [
    "mlb_np = mlb_shuffle.to_numpy()"
   ]
  },
  {
   "cell_type": "code",
   "execution_count": 104,
   "id": "99e0634a-2ecf-49d1-a60f-41af0afc6a03",
   "metadata": {},
   "outputs": [],
   "source": [
    "mlb_test_np = mlb_test_data.to_numpy()"
   ]
  },
  {
   "cell_type": "code",
   "execution_count": 105,
   "id": "5cacd0ce-6420-492d-9dad-8ace195ebb06",
   "metadata": {},
   "outputs": [],
   "source": [
    "test_2021 = mlb_test_np[:,:]"
   ]
  },
  {
   "cell_type": "code",
   "execution_count": 106,
   "id": "6613f5e2-8778-439d-91c0-64df78117f72",
   "metadata": {},
   "outputs": [
    {
     "data": {
      "text/plain": [
       "(30, 4)"
      ]
     },
     "execution_count": 106,
     "metadata": {},
     "output_type": "execute_result"
    }
   ],
   "source": [
    "test_2021.shape"
   ]
  },
  {
   "cell_type": "code",
   "execution_count": 107,
   "id": "f7030322-f33f-43f2-a922-e2298c80e982",
   "metadata": {
    "tags": []
   },
   "outputs": [
    {
     "name": "stdout",
     "output_type": "stream",
     "text": [
      "train_idx :  90\n",
      "test_idx :  0\n"
     ]
    }
   ],
   "source": [
    "train_ratio = 1\n",
    "input_cnt = 4\n",
    "output_cnt = 1\n",
    "\n",
    "train_idx = int(len(mlb_np)*train_ratio)\n",
    "print(\"train_idx : \",train_idx)\n",
    "print(\"test_idx : \", len(mlb_np)-train_idx)"
   ]
  },
  {
   "cell_type": "code",
   "execution_count": 108,
   "id": "dd0aaad1-d7bd-4860-a8cd-68dc981749be",
   "metadata": {},
   "outputs": [],
   "source": [
    "train_X,train_Y = mlb_np[:train_idx,:-output_cnt],mlb_np[:train_idx,-output_cnt:]\n"
   ]
  },
  {
   "cell_type": "code",
   "execution_count": 109,
   "id": "d0d0c426-02c8-4a93-9a84-c64760ef9a1d",
   "metadata": {},
   "outputs": [
    {
     "name": "stdout",
     "output_type": "stream",
     "text": [
      "(90, 4)\n",
      "(90, 1)\n"
     ]
    }
   ],
   "source": [
    "print(train_X.shape)\n",
    "print(train_Y.shape)\n"
   ]
  },
  {
   "cell_type": "code",
   "execution_count": 110,
   "id": "4ca7b2e0-e3f0-41c6-94bb-07268242b2d6",
   "metadata": {},
   "outputs": [],
   "source": [
    "train_x_mean = np.mean(train_X, axis = 0)\n",
    "train_x_std  = train_X.std(axis = 0)"
   ]
  },
  {
   "cell_type": "code",
   "execution_count": 111,
   "id": "c63a74eb-2498-4679-99b5-1f6f46eda0b2",
   "metadata": {},
   "outputs": [],
   "source": [
    "train_X -= train_x_mean\n",
    "train_X /= train_x_std"
   ]
  },
  {
   "cell_type": "code",
   "execution_count": 112,
   "id": "ed20c1ab-214f-475b-98d1-c80650c38d02",
   "metadata": {},
   "outputs": [],
   "source": [
    "test_2021 -= train_x_mean\n",
    "test_2021 /= train_x_std"
   ]
  },
  {
   "cell_type": "code",
   "execution_count": 113,
   "id": "38cc25e9-17f0-45e5-9aab-645d51f81004",
   "metadata": {},
   "outputs": [
    {
     "data": {
      "text/html": [
       "<div>\n",
       "<style scoped>\n",
       "    .dataframe tbody tr th:only-of-type {\n",
       "        vertical-align: middle;\n",
       "    }\n",
       "\n",
       "    .dataframe tbody tr th {\n",
       "        vertical-align: top;\n",
       "    }\n",
       "\n",
       "    .dataframe thead th {\n",
       "        text-align: right;\n",
       "    }\n",
       "</style>\n",
       "<table border=\"1\" class=\"dataframe\">\n",
       "  <thead>\n",
       "    <tr style=\"text-align: right;\">\n",
       "      <th></th>\n",
       "      <th>0</th>\n",
       "      <th>1</th>\n",
       "      <th>2</th>\n",
       "      <th>3</th>\n",
       "    </tr>\n",
       "  </thead>\n",
       "  <tbody>\n",
       "    <tr>\n",
       "      <th>count</th>\n",
       "      <td>30.000000</td>\n",
       "      <td>30.000000</td>\n",
       "      <td>30.000000</td>\n",
       "      <td>30.000000</td>\n",
       "    </tr>\n",
       "    <tr>\n",
       "      <th>mean</th>\n",
       "      <td>0.322926</td>\n",
       "      <td>-0.569865</td>\n",
       "      <td>-0.293427</td>\n",
       "      <td>-0.503064</td>\n",
       "    </tr>\n",
       "    <tr>\n",
       "      <th>std</th>\n",
       "      <td>1.004997</td>\n",
       "      <td>0.932059</td>\n",
       "      <td>1.090565</td>\n",
       "      <td>0.791289</td>\n",
       "    </tr>\n",
       "    <tr>\n",
       "      <th>min</th>\n",
       "      <td>-1.141219</td>\n",
       "      <td>-2.220774</td>\n",
       "      <td>-2.076286</td>\n",
       "      <td>-1.537240</td>\n",
       "    </tr>\n",
       "    <tr>\n",
       "      <th>25%</th>\n",
       "      <td>-0.467897</td>\n",
       "      <td>-1.340459</td>\n",
       "      <td>-1.286041</td>\n",
       "      <td>-1.106971</td>\n",
       "    </tr>\n",
       "    <tr>\n",
       "      <th>50%</th>\n",
       "      <td>0.257204</td>\n",
       "      <td>-0.766341</td>\n",
       "      <td>-0.253287</td>\n",
       "      <td>-0.699649</td>\n",
       "    </tr>\n",
       "    <tr>\n",
       "      <th>75%</th>\n",
       "      <td>1.165662</td>\n",
       "      <td>-0.096537</td>\n",
       "      <td>0.449153</td>\n",
       "      <td>0.183836</td>\n",
       "    </tr>\n",
       "    <tr>\n",
       "      <th>max</th>\n",
       "      <td>2.635084</td>\n",
       "      <td>1.453582</td>\n",
       "      <td>2.088179</td>\n",
       "      <td>0.895215</td>\n",
       "    </tr>\n",
       "  </tbody>\n",
       "</table>\n",
       "</div>"
      ],
      "text/plain": [
       "               0          1          2          3\n",
       "count  30.000000  30.000000  30.000000  30.000000\n",
       "mean    0.322926  -0.569865  -0.293427  -0.503064\n",
       "std     1.004997   0.932059   1.090565   0.791289\n",
       "min    -1.141219  -2.220774  -2.076286  -1.537240\n",
       "25%    -0.467897  -1.340459  -1.286041  -1.106971\n",
       "50%     0.257204  -0.766341  -0.253287  -0.699649\n",
       "75%     1.165662  -0.096537   0.449153   0.183836\n",
       "max     2.635084   1.453582   2.088179   0.895215"
      ]
     },
     "execution_count": 113,
     "metadata": {},
     "output_type": "execute_result"
    }
   ],
   "source": [
    "df_test_2021 = pd.DataFrame(test_2021)\n",
    "df_test_2021.describe()"
   ]
  },
  {
   "cell_type": "code",
   "execution_count": 114,
   "id": "be5fe706-65b4-4f1d-b619-b4fbfd3582c4",
   "metadata": {},
   "outputs": [],
   "source": [
    "import tensorflow as tf\n",
    "LAYER_MODEL = tf.keras.Sequential([\n",
    "                                    tf.keras.layers.Dense(units=4, \n",
    "                                                          activation='elu', \n",
    "                                                          input_shape = (4,)),\n",
    "                                    tf.keras.layers.Dense(units=12,\n",
    "                                                          activation = 'elu'),\n",
    "                                    tf.keras.layers.Dense(units=24,\n",
    "                                                          activation = 'elu'),\n",
    "                                    tf.keras.layers.Dense(units=1)       \n",
    "])"
   ]
  },
  {
   "cell_type": "code",
   "execution_count": 115,
   "id": "96bd1fc6-8ae1-43b4-a590-db03a9c3294d",
   "metadata": {},
   "outputs": [],
   "source": [
    "LAYER_MODEL.compile(optimizer=tf.keras.optimizers.Adam(learning_rate=0.01),\n",
    "                     loss = 'mse') #분류였을떄는 crossentropy 썼음"
   ]
  },
  {
   "cell_type": "code",
   "execution_count": null,
   "id": "5ad61022-cccc-4e94-99f1-12ddb50f2693",
   "metadata": {},
   "outputs": [],
   "source": [
    "history_2 = LAYER_MODEL.fit(train_X,train_Y,epochs=200,batch_size=3)"
   ]
  },
  {
   "cell_type": "code",
   "execution_count": 119,
   "id": "75e9982f-2735-47eb-b499-2c401d66eae5",
   "metadata": {},
   "outputs": [
    {
     "data": {
      "image/png": "[encoded data removed]",
      "text/plain": [
       "<Figure size 432x288 with 1 Axes>"
      ]
     },
     "metadata": {
      "needs_background": "light"
     },
     "output_type": "display_data"
    }
   ],
   "source": [
    "import matplotlib.pyplot as plt\n",
    "plt.plot(history_2.history['loss'],'--o',color='blue',label='train_loss')\n",
    "#plt.plot(history_2.history['val_loss'],'--s',color='green',label='val_loss') val 값 없음\n",
    "\n",
    "plt.xlabel('Epochs')\n",
    "plt.ylabel('Loss')\n",
    "plt.legend()\n",
    "plt.grid()\n",
    "plt.show()"
   ]
  },
  {
   "cell_type": "code",
   "execution_count": 120,
   "id": "2160268d-dd68-4ffc-b91e-4da8475c0a3f",
   "metadata": {},
   "outputs": [],
   "source": [
    "pred_2021 = LAYER_MODEL.predict(test_2021)"
   ]
  },
  {
   "cell_type": "code",
   "execution_count": 121,
   "id": "6be48411-be53-4ee9-a228-7a62b1cef230",
   "metadata": {},
   "outputs": [
    {
     "data": {
      "image/png": "[encoded data removed]",
      "text/plain": [
       "<Figure size 1080x360 with 1 Axes>"
      ]
     },
     "metadata": {
      "needs_background": "light"
     },
     "output_type": "display_data"
    }
   ],
   "source": [
    "plt.figure(figsize = (15, 5))\n",
    "plt.plot(mlb_test.index, pred_2021[:],'d',color='green',label='2021 Team Rank')\n",
    "plt.rc('axes', labelsize=20)   # x,y축 label 폰트 크기\n",
    "plt.xticks(rotation = 300)\n",
    "plt.legend()\n",
    "plt.grid()\n",
    "plt.show()"
   ]
  },
  {
   "cell_type": "code",
   "execution_count": null,
   "id": "4528eaeb-342f-4dc1-a25b-4eab404f3890",
   "metadata": {},
   "outputs": [],
   "source": [
    "history_1 = NEW_MODEL.fit(train_X,train_Y,epochs=300,batch_size=3)"
   ]
  },
  {
   "cell_type": "code",
   "execution_count": null,
   "id": "94f12ee6-4eef-4244-884c-a56c343ed49a",
   "metadata": {},
   "outputs": [],
   "source": [
    "import matplotlib.pyplot as plt\n",
    "plt.plot(history_1.history['loss'],'--o',color='red',label='train_loss')\n",
    "#plt.plot(history_2.history['val_loss'],'--s',color='green',label='val_loss') val 값 없음\n",
    "\n",
    "plt.xlabel('Epochs')\n",
    "plt.ylabel('Loss')\n",
    "plt.legend()\n",
    "plt.grid()\n",
    "plt.show()"
   ]
  },
  {
   "cell_type": "code",
   "execution_count": null,
   "id": "e9edb555-78ce-45bb-b93a-56d03baf1c3e",
   "metadata": {},
   "outputs": [],
   "source": [
    "pred_2021 = NEW_MODEL.predict(test_2021)"
   ]
  },
  {
   "cell_type": "code",
   "execution_count": null,
   "id": "42a57400-58cd-40cf-987d-c31b43e82670",
   "metadata": {},
   "outputs": [],
   "source": [
    "plt.figure(figsize=(10,5))\n",
    "plt.plot(mlb_test.index, pred_2021[:],'d',color='green',label='2021 Team Rank')\n",
    "plt.rc('axes', labelsize=20)\n",
    "plt.xticks(rotation=90)\n",
    "plt.legend()\n",
    "plt.grid()\n",
    "plt.show()"
   ]
  },
  {
   "cell_type": "code",
   "execution_count": null,
   "id": "69f686a5-ad0e-4baa-a696-a7e58950a297",
   "metadata": {},
   "outputs": [],
   "source": [
    "### "
   ]
  },
  {
   "cell_type": "code",
   "execution_count": 60,
   "id": "a6ef331d-c0f9-4f62-b7f2-124af0c7ae47",
   "metadata": {},
   "outputs": [],
   "source": [
    "import scipy.stats as st\n",
    "import matplotlib.pyplot as plt\n",
    "import numpy as np\n",
    "%matplotlib inline"
   ]
  },
  {
   "cell_type": "code",
   "execution_count": 83,
   "id": "3ae2e714-2d6a-4c04-a29d-1de963fb83db",
   "metadata": {},
   "outputs": [
    {
     "data": {
      "text/plain": [
       "0.11718750000000014"
      ]
     },
     "execution_count": 83,
     "metadata": {},
     "output_type": "execute_result"
    }
   ],
   "source": [
    "n = 10\n",
    "p = 0.5\n",
    "x = 3\n",
    "st.binom.pmf(x,n,p)"
   ]
  },
  {
   "cell_type": "code",
   "execution_count": 68,
   "id": "6b84d3e9-5356-4f74-9840-a87d981de923",
   "metadata": {},
   "outputs": [
    {
     "data": {
      "text/plain": [
       "0.6230468749999999"
      ]
     },
     "execution_count": 68,
     "metadata": {},
     "output_type": "execute_result"
    }
   ],
   "source": [
    "st.binom.cdf(5,n,p)"
   ]
  },
  {
   "cell_type": "code",
   "execution_count": 85,
   "id": "59cfe7df-d41e-4808-abf5-65c6514bead4",
   "metadata": {},
   "outputs": [
    {
     "data": {
      "text/plain": [
       "0.1171875"
      ]
     },
     "execution_count": 85,
     "metadata": {},
     "output_type": "execute_result"
    }
   ],
   "source": [
    "0.5**7*0.125*120"
   ]
  },
  {
   "cell_type": "code",
   "execution_count": 75,
   "id": "21452a90-62be-4042-bb10-0550a3653562",
   "metadata": {},
   "outputs": [
    {
     "data": {
      "text/plain": [
       "0.890625"
      ]
     },
     "execution_count": 75,
     "metadata": {},
     "output_type": "execute_result"
    }
   ],
   "source": [
    "# 구간의 확률.\n",
    "# P(3 <= x <=7)\n",
    "st.binom.cdf(7,n,p)-st.binom.cdf(2,n,p)   "
   ]
  },
  {
   "cell_type": "code",
   "execution_count": 80,
   "id": "8002fa63-d4bc-4851-aea9-2c959a9cb92e",
   "metadata": {},
   "outputs": [
    {
     "data": {
      "image/png": "[encoded data removed]",
      "text/plain": [
       "<Figure size 432x288 with 1 Axes>"
      ]
     },
     "metadata": {
      "needs_background": "light"
     },
     "output_type": "display_data"
    }
   ],
   "source": [
    "n = 10\n",
    "p = 0.5\n",
    "x = np.arange(0,11)\n",
    "y = st.binom.pmf(x,n,p)\n",
    "plt.scatter(x,y,color='blue', alpha=0.5)\n",
    "plt.show()"
   ]
  },
  {
   "cell_type": "code",
   "execution_count": null,
   "id": "bec0955a-43b3-4fd3-a7c3-be040d72425d",
   "metadata": {},
   "outputs": [],
   "source": []
  }
 ],
 "metadata": {
  "kernelspec": {
   "display_name": "Python 3",
   "language": "python",
   "name": "python3"
  },
  "language_info": {
   "codemirror_mode": {
    "name": "ipython",
    "version": 3
   },
   "file_extension": ".py",
   "mimetype": "text/x-python",
   "name": "python",
   "nbconvert_exporter": "python",
   "pygments_lexer": "ipython3",
   "version": "3.8.8"
  }
 },
 "nbformat": 4,
 "nbformat_minor": 5
}
