{
 "cells": [
  {
   "cell_type": "code",
   "execution_count": 4,
   "id": "3543ca62-809b-41d1-8ed6-672fd45a9f53",
   "metadata": {},
   "outputs": [
    {
     "name": "stdin",
     "output_type": "stream",
     "text": [
      " The Curios Case of Benjamin Button\n"
     ]
    },
    {
     "name": "stdout",
     "output_type": "stream",
     "text": [
      "6\n"
     ]
    }
   ],
   "source": [
    "E_list = list(map(str,input().split()))\n",
    "\n",
    "print(len(E_list))"
   ]
  },
  {
   "cell_type": "code",
   "execution_count": null,
   "id": "b10e2fd9-0386-41b5-a9da-d5bd3054a84e",
   "metadata": {},
   "outputs": [],
   "source": [
    "S = int(input())\n",
    "a = 0\n",
    "for i in range(S):\n",
    "    R,S = map(str,input().split())\n",
    "    R = int(R)\n",
    "    while i < len(S) :\n",
    "        print(S[i]*R,end='')\n",
    "        i += 1"
   ]
  },
  {
   "cell_type": "code",
   "execution_count": null,
   "id": "855370c3-86e9-47f5-9a9d-80fa080f5326",
   "metadata": {},
   "outputs": [],
   "source": [
    "sen = input()\n",
    "sen = sen.upper()\n",
    "list_sen = list(set(sen))\n",
    "count_list = []\n",
    "for i in range(len(list_sen)) :\n",
    "  sen.count(list_sen[i])\n",
    "  count_list.append(sen.count(list_sen[i]))\n",
    "if count_list.count(max(count_list)) > 1 :\n",
    "  print(\"?\")\n",
    "else :\n",
    "  for j in range(len(list_sen)) :\n",
    "    if max(count_list) == count_list[j] :\n",
    "     print(list_sen[j])"
   ]
  },
  {
   "cell_type": "code",
   "execution_count": 58,
   "id": "9e19d109-7a9a-469e-b870-45d09755c256",
   "metadata": {},
   "outputs": [
    {
     "name": "stdin",
     "output_type": "stream",
     "text": [
      " 839 237\n"
     ]
    },
    {
     "name": "stdout",
     "output_type": "stream",
     "text": [
      "938\n"
     ]
    }
   ],
   "source": [
    "a,b = map(str,input().split())\n",
    "new_a = []\n",
    "new_b = []\n",
    "for i in range(len(a)) :\n",
    "    new_a.append(a[2-i])\n",
    "    new_b.append(b[2-i])\n",
    "\n",
    "A = int(new_a[0]+new_a[1]+new_a[2])\n",
    "B = int(new_b[0]+new_b[1]+new_b[2])\n",
    "print(max(A,B))"
   ]
  },
  {
   "cell_type": "code",
   "execution_count": 86,
   "id": "355bf36d-0472-4b82-96c1-300b6b114189",
   "metadata": {},
   "outputs": [
    {
     "name": "stdin",
     "output_type": "stream",
     "text": [
      " UNUCIC\n"
     ]
    },
    {
     "name": "stdout",
     "output_type": "stream",
     "text": [
      "36\n"
     ]
    }
   ],
   "source": [
    "ENG = {'ABC':3,'DEF':4,'GHI':5,'JKL':6,'MNO':7,'PQRS':8,'TUV':9,'WXYZ':10}\n",
    "N = input()\n",
    "N = N.upper()\n",
    "num = []\n",
    "for i in N :\n",
    "    for j in range(len(ENG)):\n",
    "        if i in list(ENG.keys())[j] :\n",
    "            num.append(ENG[list(ENG.keys())[j]])\n",
    "total = 0\n",
    "for a in num:\n",
    "    total += a\n",
    "print(total)"
   ]
  },
  {
   "cell_type": "code",
   "execution_count": 75,
   "id": "ba2fa1c7-9a80-4d44-98ae-4e9a51306ea7",
   "metadata": {},
   "outputs": [
    {
     "data": {
      "text/plain": [
       "3"
      ]
     },
     "execution_count": 75,
     "metadata": {},
     "output_type": "execute_result"
    }
   ],
   "source": [
    "ENG = {'ABC':3,'DEF':4,'GHI':5,'JKL':6,'MNO':7,'PQRS':8,'TUV':9,'WXYZ':10}\n",
    "\n",
    "ENG[list(ENG.keys())[0]]"
   ]
  },
  {
   "cell_type": "code",
   "execution_count": 61,
   "id": "1c33a5c0-c7cf-4ed4-a735-53a41edd3979",
   "metadata": {},
   "outputs": [
    {
     "data": {
      "text/plain": [
       "'A'"
      ]
     },
     "execution_count": 61,
     "metadata": {},
     "output_type": "execute_result"
    }
   ],
   "source": [
    "A=B=C=3\n",
    "D=E=F=4\n",
    "G=H=I=5\n",
    "J=K=L=6\n",
    "M=N=O=7\n",
    "P=Q=R=S=8\n",
    "T=U=V=9\n",
    "W=X=Y=Z=10\n",
    "ENG = 'ABCDEFGHIJKLMNOPQRSTUVWXYZ'\n",
    "ENG[0]"
   ]
  },
  {
   "cell_type": "code",
   "execution_count": 96,
   "id": "30a02fb1-1cfd-4041-a7f1-db4295adadd0",
   "metadata": {},
   "outputs": [
    {
     "name": "stdin",
     "output_type": "stream",
     "text": [
      " dz=ak\n"
     ]
    },
    {
     "name": "stdout",
     "output_type": "stream",
     "text": [
      "2\n"
     ]
    }
   ],
   "source": [
    "croa = ['c=','c-','d-','lj','nj','s=','z=']\n",
    "\n",
    "word = input()\n",
    "total = len(word)\n",
    "for i in croa :\n",
    "    if i in word :\n",
    "        total = total - 1\n",
    "if 'dz=' in word :\n",
    "    total = total - 2\n",
    "print(total)"
   ]
  },
  {
   "cell_type": "code",
   "execution_count": 10,
   "id": "430b6ec4-fd48-4756-ab21-3c06820d587e",
   "metadata": {},
   "outputs": [
    {
     "name": "stdin",
     "output_type": "stream",
     "text": [
      " dz=ak\n"
     ]
    },
    {
     "name": "stdout",
     "output_type": "stream",
     "text": [
      ".ak\n",
      "3\n"
     ]
    }
   ],
   "source": [
    "croa = ['c=','c-','d-','lj','nj','s=','z=']\n",
    "\n",
    "word = input()\n",
    "\n",
    "if 'dz=' in word :\n",
    "    word = word.replace('dz=','.')\n",
    "\n",
    "for i in croa :\n",
    "    if i in word :\n",
    "        word = word.replace(i,'.')\n",
    "\n",
    "print(len(word))"
   ]
  },
  {
   "cell_type": "code",
   "execution_count": 86,
   "id": "fd3a0e47-26fc-4fcb-ad5b-9a20cbee86ec",
   "metadata": {},
   "outputs": [
    {
     "name": "stdin",
     "output_type": "stream",
     "text": [
      " 1\n",
      " aba\n"
     ]
    },
    {
     "name": "stdout",
     "output_type": "stream",
     "text": [
      "0\n"
     ]
    }
   ],
   "source": [
    "N = int(input())\n",
    "final = 0\n",
    "for a in range(N):\n",
    "    word = input()\n",
    "    group = []\n",
    "    for i in range(len(word)) :\n",
    "        for j in range(2,len(word)) :\n",
    "            x = word.count(word[i])\n",
    "            if j > x+i-1 and word[i] == word[j] :\n",
    "                result = '그룹x'\n",
    "                group.append(result)\n",
    "            else :\n",
    "                result = '그룹'\n",
    "                group.append(result)\n",
    "    if '그룹x' not in group :\n",
    "        final += 1\n",
    "        \n",
    "print(final)"
   ]
  },
  {
   "cell_type": "code",
   "execution_count": 117,
   "id": "58100c6c-a21c-4c0b-a2ef-66683b57ec61",
   "metadata": {},
   "outputs": [
    {
     "name": "stdin",
     "output_type": "stream",
     "text": [
      " 300 30 30\n"
     ]
    },
    {
     "name": "stdout",
     "output_type": "stream",
     "text": [
      "-1\n"
     ]
    }
   ],
   "source": [
    "fix,var,price = map(int,input().split())\n",
    "if price-var <= 0 :\n",
    "    bep = -1\n",
    "else : bep = (fix // (price-var)) + 1\n",
    "\n",
    "    \n",
    "print(bep)"
   ]
  },
  {
   "cell_type": "code",
   "execution_count": 26,
   "id": "4aa41103-ac30-457e-b90c-28d2a2c16b43",
   "metadata": {},
   "outputs": [
    {
     "name": "stdin",
     "output_type": "stream",
     "text": [
      " 8\n"
     ]
    },
    {
     "name": "stdout",
     "output_type": "stream",
     "text": [
      "3\n"
     ]
    }
   ],
   "source": [
    "N = int(input())\n",
    "i = 0\n",
    "a = 1\n",
    "if N == 1 :\n",
    "    i = 1\n",
    "else :\n",
    "    while i < 1000000000 :\n",
    "        if N > a :\n",
    "            a += 6*i\n",
    "            i += 1\n",
    "        else :\n",
    "            break\n",
    "print(i)"
   ]
  },
  {
   "cell_type": "markdown",
   "id": "debee0b9-576d-4ea5-a20c-e6d15759b3ea",
   "metadata": {},
   "source": [
    "# "
   ]
  }
 ],
 "metadata": {
  "kernelspec": {
   "display_name": "Python 3",
   "language": "python",
   "name": "python3"
  },
  "language_info": {
   "codemirror_mode": {
    "name": "ipython",
    "version": 3
   },
   "file_extension": ".py",
   "mimetype": "text/x-python",
   "name": "python",
   "nbconvert_exporter": "python",
   "pygments_lexer": "ipython3",
   "version": "3.8.10"
  }
 },
 "nbformat": 4,
 "nbformat_minor": 5
}
