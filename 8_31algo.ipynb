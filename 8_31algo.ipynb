{
 "cells": [
  {
   "cell_type": "code",
   "execution_count": 5,
   "id": "b1c290b1-aa44-4cf6-bc43-2f1734b83b7f",
   "metadata": {},
   "outputs": [
    {
     "name": "stdin",
     "output_type": "stream",
     "text": [
      " 5\n",
      " 1 2 3 4 5\n",
      " 5\n",
      " 3 2 5 6 4\n"
     ]
    },
    {
     "name": "stdout",
     "output_type": "stream",
     "text": [
      "1\n",
      "1\n",
      "1\n",
      "0\n",
      "1\n"
     ]
    }
   ],
   "source": [
    "def search_num(n_list, target_n):\n",
    "    start_idx = 0\n",
    "    end_idx = len(n_list)-1\n",
    "    \n",
    "    while start_idx <= end_idx:\n",
    "        mid_idx = (start_idx + end_idx) // 2\n",
    "\n",
    "        if target_n < n_list[mid_idx]:\n",
    "            end_idx = mid_idx-1\n",
    "        elif target_n > n_list[mid_idx]:\n",
    "            start_idx = mid_idx+1\n",
    "        else:\n",
    "            return mid_idx\n",
    "    \n",
    "    return -1\n",
    "\n",
    "def find_num_by_recursion(target_n,n_list,start_idx,end_idx):\n",
    "    if start_idx > end_idx :\n",
    "        return -1\n",
    "    \n",
    "    mid_idx = (start_idx + end_idx) // 2\n",
    "\n",
    "    if target_n < n_list[mid_idx]:\n",
    "        return find_num_by_recursion(target_n,n_list,start_idx,mid_idx-1)\n",
    "    elif target_n > n_list[mid_idx]:\n",
    "        return find_num_by_recursion(target_n,n_list,mid_idx+1,end_idx)\n",
    "\n",
    "    \n",
    "    return find_num_by_recursion(target_n,n_list,start_idx,end_idx)\n",
    "\n",
    "\n",
    "n = int(input())\n",
    "num_list = list(map(int, input().split()))\n",
    "num_list.sort()\n",
    "\n",
    "m = int(input())\n",
    "for target_num in map(int, input().split()):\n",
    "    if search_num(num_list, target_num) >= 0:\n",
    "    #if search_num_recursion(num_list, target_num, 0, n-1) >= 0:\n",
    "        print(\"1\")\n",
    "    else:\n",
    "        print(\"0\")"
   ]
  },
  {
   "cell_type": "code",
   "execution_count": 9,
   "id": "9eaee2bc-7e78-4290-9a96-edce7572a4b9",
   "metadata": {},
   "outputs": [
    {
     "name": "stdin",
     "output_type": "stream",
     "text": [
      " 5\n",
      " 5\n",
      " 4\n",
      " 3\n",
      " 2\n",
      " 1\n"
     ]
    },
    {
     "data": {
      "text/plain": [
       "[1]"
      ]
     },
     "execution_count": 9,
     "metadata": {},
     "output_type": "execute_result"
    }
   ],
   "source": [
    "def divide(num_list):\n",
    "\n",
    "    if len(num_list) <= 1 :\n",
    "        return num_list\n",
    "    \n",
    "    mid_idx = len(num_list)//2\n",
    "    \n",
    "    l_list = num_list[:mid_idx]\n",
    "    l_list = divide(l_list)\n",
    "    r_list = num_list[mid_idx:]\n",
    "    r_list = divide(r_list)\n",
    "    \n",
    "    return plus(l_list,r_list)\n",
    "\n",
    "def plus(l_list,r_list):\n",
    "    global f_list\n",
    "    f_list = []\n",
    "#   while len(l_list) > 0 or len(r_list) > 0 :\n",
    "    if len(l_list) > 0 and len(r_list) > 0 :\n",
    "        if l_list[0] <= r_list[0] :\n",
    "            f_list.append(l_list[0])\n",
    "            l_list = l_list[1:]\n",
    "        else :\n",
    "            f_list.append(r_list[0])\n",
    "            r_list = r_list[1:]\n",
    "    elif len(l_list) > 0 :\n",
    "        f_list.append(l_list[0])\n",
    "        l_list = l_list[1:]\n",
    "    elif len(r_list) > 0 :\n",
    "        f_list.append(r_list[0])\n",
    "        r_list = r_list[1:]\n",
    "            \n",
    "    return f_list\n",
    "    \n",
    "\n",
    "n = int(input())\n",
    "num_list = []\n",
    "for _ in range(n):\n",
    "    x = int(input())\n",
    "    num_list.append(x)\n",
    "divide(num_list)\n"
   ]
  },
  {
   "cell_type": "code",
   "execution_count": 10,
   "id": "f39063db-034d-4f9f-8fa8-a62fbdcd44c0",
   "metadata": {},
   "outputs": [
    {
     "name": "stdin",
     "output_type": "stream",
     "text": [
      " 5\n",
      " 5\n",
      " 4\n",
      " 3\n",
      " 2\n",
      " 1\n"
     ]
    },
    {
     "data": {
      "text/plain": [
       "[1, 2, 3, 4, 5]"
      ]
     },
     "execution_count": 10,
     "metadata": {},
     "output_type": "execute_result"
    }
   ],
   "source": [
    "def merge_sort(list):\n",
    "    if len(list) <= 1:\n",
    "        return list\n",
    "    mid = len(list) // 2\n",
    "    leftList = list[:mid]\n",
    "    rightList = list[mid:]\n",
    "    leftList = merge_sort(leftList)\n",
    "    rightList = merge_sort(rightList)\n",
    "    return merge(leftList, rightList)\n",
    "\n",
    "def merge(left, right):\n",
    "    global result\n",
    "    result = []\n",
    "    while len(left) > 0 or len(right) > 0:\n",
    "        if len(left) > 0 and len(right) > 0:\n",
    "            if left[0] <= right[0]:\n",
    "                result.append(left[0])\n",
    "                left = left[1:]\n",
    "            else:\n",
    "                result.append(right[0])\n",
    "                right = right[1:]\n",
    "        elif len(left) > 0:\n",
    "            result.append(left[0])\n",
    "            left = left[1:]\n",
    "        elif len(right) > 0:\n",
    "            result.append(right[0])\n",
    "            right = right[1:]\n",
    "    return result\n",
    "\n",
    "# def exec():\n",
    "    \n",
    "#     n = int(input())\n",
    "#     num_list = list(map(int,input().split()))\n",
    "#     merge_sort(num_list)\n",
    "#     print(result)\n",
    "n = int(input())\n",
    "num_list = []\n",
    "for _ in range(n):\n",
    "    x = int(input())\n",
    "    num_list.append(x)\n",
    "merge_sort(num_list)    \n"
   ]
  },
  {
   "cell_type": "code",
   "execution_count": null,
   "id": "2dc18337-3fca-4980-acc0-4efbb4c5bf45",
   "metadata": {},
   "outputs": [],
   "source": []
  }
 ],
 "metadata": {
  "kernelspec": {
   "display_name": "Python 3",
   "language": "python",
   "name": "python3"
  },
  "language_info": {
   "codemirror_mode": {
    "name": "ipython",
    "version": 3
   },
   "file_extension": ".py",
   "mimetype": "text/x-python",
   "name": "python",
   "nbconvert_exporter": "python",
   "pygments_lexer": "ipython3",
   "version": "3.8.10"
  }
 },
 "nbformat": 4,
 "nbformat_minor": 5
}
